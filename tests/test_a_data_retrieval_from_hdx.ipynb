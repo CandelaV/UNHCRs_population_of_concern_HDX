{
 "cells": [
  {
   "cell_type": "markdown",
   "metadata": {},
   "source": [
    "# Tests for Data retrieval from HDX and data preprocessing"
   ]
  },
  {
   "cell_type": "code",
   "execution_count": 1,
   "metadata": {},
   "outputs": [],
   "source": [
    "import importlib\n",
    "import pytest"
   ]
  },
  {
   "cell_type": "raw",
   "metadata": {},
   "source": [
    "from hypothesis import given\n",
    "from hypothesis.strategies import integers"
   ]
  },
  {
   "cell_type": "markdown",
   "metadata": {},
   "source": [
    "@pytest.fixture(scope=\"module\")\n",
    "def notebook_module():\n",
    "    '''\n",
    "    Import the module as a fixture to avoid executing the notebook statements once and again on each test case\n",
    "    return: the loaded module\n",
    "    '''\n",
    "    yield importlib.import_module(\"a_data_retrieval_from_hdx\")                       "
   ]
  },
  {
   "cell_type": "code",
   "execution_count": null,
   "metadata": {},
   "outputs": [],
   "source": []
  },
  {
   "cell_type": "markdown",
   "metadata": {},
   "source": [
    "def test_nominal_execution(notebook_module):\n",
    "\n",
    "    # GIVEN\n",
    "    \n",
    "    #WHEN\n",
    "    print_output = None\n",
    "    with patch('sys.stdout', new_callable=StringIO) as mock_io:\n",
    "        importlib.import_module(\"DF_transformation_python\")\n",
    "        print_output = mock_io.getvalue()\n",
    "\n",
    "    # THEN\n",
    "    assert print_output is not None\n",
    "    "
   ]
  },
  {
   "cell_type": "markdown",
   "metadata": {},
   "source": [
    "def test_download_data_from_HDX(s ):\n",
    "    assert True"
   ]
  },
  {
   "cell_type": "markdown",
   "metadata": {},
   "source": [
    "def test_download(self, configuration, read):\n",
    "    resource = Resource.read_from_hdx('74b74ae1-df0c-4716-829f-4f939a046811')\n",
    "    resource2 = Resource.read_from_hdx('74b74ae1-df0c-4716-829f-4f939a046814')\n",
    "    url, path = resource.download()\n",
    "    remove(path)\n",
    "    assert url == 'https://raw.githubusercontent.com/OCHA-DAP/hdx-python-api/master/tests/fixtures/test_data.csv'\n",
    "    assert basename(path) == 'MyResource1.csv'\n",
    "    resource['url'] = ''\n",
    "    with pytest.raises(HDXError):\n",
    "        resource.download()\n",
    "    with pytest.raises(DownloadError):\n",
    "        resource2.download()"
   ]
  },
  {
   "cell_type": "markdown",
   "metadata": {},
   "source": [
    "import pytest\n",
    "\n",
    "def substitute_func(output_path, dataset_list):\n",
    "    return \"Monkeypatch\"\n",
    "\n",
    "@pytest.fixture\n",
    "def dr_patched(notebook_module, monkeypatch):\n",
    "    monkeypatch.setattr(notebook_module, 'download_data_from_HDX', substitute_func)\n",
    "\n",
    "def test_data_retrieval_HDX(dr_patched, notebook_module):\n",
    "\n",
    "    assert 'Monkeypatch' in download_data_from_HDX('path','list')"
   ]
  },
  {
   "cell_type": "code",
   "execution_count": null,
   "metadata": {},
   "outputs": [],
   "source": [
    "import pytest\n",
    "\n",
    "def substitute_func(output_path, dataset_list):\n",
    "    return \"Monkeypatch\"\n",
    "\n",
    "@pytest.fixture\n",
    "def dr_patched(monkeypatch):\n",
    "    import a_data_retrieval_from_hdx\n",
    "    monkeypatch.setattr(a_data_retrieval_from_hdx, 'download_data_from_HDX', substitute_func)\n",
    "\n",
    "def test_data_retrieval_HDX(dr_patched):\n",
    "    import a_data_retrieval_from_hdx\n",
    "    assert 'Monkeypatch' in a_data_retrieval_from_hdx.download_data_from_HDX('path','list')"
   ]
  }
 ],
 "metadata": {
  "kernelspec": {
   "display_name": "Python 3",
   "language": "python",
   "name": "python3"
  },
  "language_info": {
   "codemirror_mode": {
    "name": "ipython",
    "version": 3
   },
   "file_extension": ".py",
   "mimetype": "text/x-python",
   "name": "python",
   "nbconvert_exporter": "python",
   "pygments_lexer": "ipython3",
   "version": "3.7.3"
  }
 },
 "nbformat": 4,
 "nbformat_minor": 2
}
