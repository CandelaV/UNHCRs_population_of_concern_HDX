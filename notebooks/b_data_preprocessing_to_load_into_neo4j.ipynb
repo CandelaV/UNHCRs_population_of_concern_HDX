{
 "cells": [
  {
   "cell_type": "markdown",
   "metadata": {},
   "source": [
    "# Data preprocessing to load into Neo4j"
   ]
  },
  {
   "cell_type": "code",
   "execution_count": 1,
   "metadata": {},
   "outputs": [],
   "source": [
    "import pandas as pd\n",
    "import os\n",
    "import csv"
   ]
  },
  {
   "cell_type": "markdown",
   "metadata": {},
   "source": [
    "## Custom Functions"
   ]
  },
  {
   "cell_type": "code",
   "execution_count": 2,
   "metadata": {},
   "outputs": [],
   "source": [
    "def get_clean_list_of_files(paht):\n",
    "    \n",
    "    '''\n",
    "    \n",
    "    '''\n",
    "    \n",
    "    file_list = [file for file in os.listdir(paht) if not file.startswith(\".\")]\n",
    "    file_list = [file for file in file_list if file.endswith(\".csv\")]\n",
    "    return file_list"
   ]
  },
  {
   "cell_type": "code",
   "execution_count": 3,
   "metadata": {},
   "outputs": [],
   "source": [
    "def countries_nodes(path_file_out, countries):\n",
    "    \n",
    "    '''\n",
    "    \n",
    "    '''\n",
    "    \n",
    "    with open(path_file_out, 'w') as f:\n",
    "        \n",
    "        csv.writer(f).writerow([\"countryId:ID(Country-ID)\",\":LABEL\"])\n",
    "\n",
    "        for item in countries:\n",
    "            csv.writer(f).writerow([item , \"Country\"])"
   ]
  },
  {
   "cell_type": "code",
   "execution_count": 4,
   "metadata": {},
   "outputs": [],
   "source": [
    "def countries_relationships(path_file_out, countries_years):\n",
    "    \n",
    "    '''\n",
    "    \n",
    "    '''\n",
    "    \n",
    "    with open(path_file_out, 'w') as f:\n",
    "        \n",
    "        csv.writer(f).writerow([\":START_ID(Country-ID)\",\":END_ID(CountryYear-ID)\",\":TYPE\"])\n",
    "        \n",
    "        for item in countries_years:\n",
    "            csv.writer(f).writerow([item[0:-4], item, item[-4:]])\n"
   ]
  },
  {
   "cell_type": "code",
   "execution_count": 5,
   "metadata": {},
   "outputs": [],
   "source": [
    "def process_relationships_neo4j(file_list, column_list, path_in, path_file_out, type_relationship, WRITE_DATA = False):\n",
    "    \n",
    "    '''\n",
    "    \n",
    "    '''\n",
    "    \n",
    "    countries_years = set()\n",
    "    countries = set()\n",
    "    \n",
    "    if os.path.exists(path_file_out) and WRITE_DATA:\n",
    "        os.remove(path_file_out)\n",
    "    \n",
    "    with open(path_file_out, 'a') as f:\n",
    "        \n",
    "        if WRITE_DATA:\n",
    "            \n",
    "            first_line_file = [\":START_ID(CountryYear-ID)\",\":END_ID(CountryYear-ID)\",\"affected_number:int\",\":TYPE\"]\n",
    "            csv.writer(f).writerow(first_line_file)\n",
    "    \n",
    "        for file_in in file_list:\n",
    "        \n",
    "            df = pd.read_csv(path_in + file_in, skiprows=1, na_values=[\"*\",\"0.0\",\"Various/Unknown\",\"Stateless\"])\n",
    "            df = df[['#country+residence', '#country+origin', '#date+year', \"#affected+total\"]]\n",
    "            df = df.dropna(axis=0, how='any') # remove rows with missing data            \n",
    "            df['#affected+total'] = df['#affected+total'].astype(int)    \n",
    "            df[\"CountryYear+origin\"] = df[\"#country+origin\"] + df['#date+year'].astype(str)\n",
    "            df[\"CountryYear+residence\"] = df[\"#country+residence\"] + df['#date+year'].astype(str)\n",
    "            \n",
    "            \n",
    "            countries.update(df['#country+residence'].unique())\n",
    "            countries.update(df['#country+origin'].unique())\n",
    "            \n",
    "            countries_years.update(df[\"CountryYear+origin\"].unique())\n",
    "            countries_years.update(df[\"CountryYear+residence\"].unique())\n",
    "                        \n",
    "            df = df[column_list]\n",
    "            \n",
    "            df[\"label\"] = type_relationship\n",
    "            \n",
    "            if WRITE_DATA:\n",
    "                df.to_csv(f, header=False, index=False)\n",
    "        \n",
    "    return countries, countries_years"
   ]
  },
  {
   "cell_type": "code",
   "execution_count": 6,
   "metadata": {},
   "outputs": [],
   "source": [
    "def process_nodes_neo4j(file_list, path_in, path_file_out, countries_set, countries_years_set, first_line, index_list, WRITE_DATA = False):\n",
    "    \n",
    "    '''\n",
    "    \n",
    "    '''\n",
    "    \n",
    "    countries_years = set()\n",
    "\n",
    "    \n",
    "    if os.path.exists(path_file_out) and WRITE_DATA:\n",
    "        os.remove(path_file_out)\n",
    "    \n",
    "    with open(path_file_out, 'a') as f:\n",
    "        \n",
    "        if WRITE_DATA:\n",
    "\n",
    "            csv.writer(f).writerow(first_line)\n",
    "        \n",
    "        for file_in in file_list:\n",
    "        \n",
    "            df = pd.read_csv(path_in + file_in, skiprows=1, na_values=[\"\"])\n",
    "            \n",
    "            country = df['#country+name'].unique()[0]\n",
    "            \n",
    "            if country in countries_set:\n",
    "                                \n",
    "                df = df.dropna(axis=0, how='any') # remove rows with missing data\n",
    "                                \n",
    "                df = df.pivot_table('#indicator+num', ['#country+name','#date+year'], '#indicator+name')\n",
    "                df.reset_index(inplace=True)\n",
    "                \n",
    "                df[\"CountryYear\"] = df[\"#country+name\"] + df['#date+year'].astype(str)\n",
    "                \n",
    "                df = df[index_list]\n",
    "                \n",
    "                df_final = df[df[\"CountryYear\"].isin(countries_years_set)]\n",
    "                \n",
    "                countries_years.update(df[\"CountryYear\"].unique())\n",
    "                \n",
    "                df[\"label\"] = \"CountryYear\"\n",
    "\n",
    "                if WRITE_DATA:\n",
    "                    df_final.to_csv(f, header=False, index=False)\n",
    "                    \n",
    "        nodes_only_in_relationships_file = countries_years_set - countries_years\n",
    "        \n",
    "        for node in nodes_only_in_relationships_file:\n",
    "            \n",
    "            csv.writer(f).writerow([node, node[0:-4], node[-4:], \"\", \"\", \"\", \"\", \"CountryYear\"])"
   ]
  },
  {
   "cell_type": "markdown",
   "metadata": {},
   "source": [
    "## Common Variables"
   ]
  },
  {
   "cell_type": "code",
   "execution_count": 7,
   "metadata": {},
   "outputs": [],
   "source": [
    "path_out = \"../data/processed/neo4j/\"\n",
    "WRITE_DATA_FLAG = True"
   ]
  },
  {
   "cell_type": "markdown",
   "metadata": {},
   "source": [
    "## People of concern. Residing\n",
    "#### Relationship : **RESIDE_IN**"
   ]
  },
  {
   "cell_type": "markdown",
   "metadata": {},
   "source": [
    "Define variables"
   ]
  },
  {
   "cell_type": "code",
   "execution_count": 8,
   "metadata": {},
   "outputs": [],
   "source": [
    "path_in_residing = \"../data/raw/residing/\"\n",
    "file_out_residing_relationships = path_out + 'relationships_residing.csv'\n",
    "file_out_residing_countries = path_out + 'countries_residing.csv'"
   ]
  },
  {
   "cell_type": "code",
   "execution_count": 9,
   "metadata": {},
   "outputs": [],
   "source": [
    "column_list_residing = [\"CountryYear+origin\", \"CountryYear+residence\", \"#affected+total\"]"
   ]
  },
  {
   "cell_type": "markdown",
   "metadata": {},
   "source": [
    "Define a list with all files located in the residing folder:"
   ]
  },
  {
   "cell_type": "code",
   "execution_count": 10,
   "metadata": {},
   "outputs": [
    {
     "data": {
      "text/plain": [
       "['refugees-residing-lie.csv',\n",
       " 'refugees-residing-png.csv',\n",
       " 'refugees-residing-fin.csv',\n",
       " 'refugees-residing-cyp.csv']"
      ]
     },
     "execution_count": 10,
     "metadata": {},
     "output_type": "execute_result"
    }
   ],
   "source": [
    "residing_list = get_clean_list_of_files(path_in_residing)\n",
    "residing_list[0:4]"
   ]
  },
  {
   "cell_type": "markdown",
   "metadata": {},
   "source": [
    "Call function to process raw data and generate the required csv file to load into neo4j:"
   ]
  },
  {
   "cell_type": "code",
   "execution_count": 11,
   "metadata": {},
   "outputs": [],
   "source": [
    "countries_residing, countries_years_residing = process_relationships_neo4j(residing_list, \n",
    "                                                                           column_list_residing, \n",
    "                                                                           path_in_residing, \n",
    "                                                                           file_out_residing_relationships,\n",
    "                                                                           \"RESIDE_IN\",\n",
    "                                                                           WRITE_DATA_FLAG)"
   ]
  },
  {
   "cell_type": "code",
   "execution_count": 12,
   "metadata": {},
   "outputs": [
    {
     "data": {
      "text/plain": [
       "222"
      ]
     },
     "execution_count": 12,
     "metadata": {},
     "output_type": "execute_result"
    }
   ],
   "source": [
    "len(countries_residing)"
   ]
  },
  {
   "cell_type": "code",
   "execution_count": 13,
   "metadata": {},
   "outputs": [
    {
     "data": {
      "text/plain": [
       "7154"
      ]
     },
     "execution_count": 13,
     "metadata": {},
     "output_type": "execute_result"
    }
   ],
   "source": [
    "len(countries_years_residing)"
   ]
  },
  {
   "cell_type": "code",
   "execution_count": 14,
   "metadata": {},
   "outputs": [],
   "source": [
    "if WRITE_DATA_FLAG:\n",
    "    countries_nodes(file_out_residing_countries, countries_residing)"
   ]
  },
  {
   "cell_type": "code",
   "execution_count": 15,
   "metadata": {},
   "outputs": [],
   "source": [
    "if WRITE_DATA_FLAG:\n",
    "    countries_relationships(path_out + 'countries_years_relationship_residing.csv', countries_years_residing)"
   ]
  },
  {
   "cell_type": "markdown",
   "metadata": {},
   "source": [
    "## People of concern. Originating\n",
    "#### Relationship : **ORIGINATE_FROM**"
   ]
  },
  {
   "cell_type": "markdown",
   "metadata": {},
   "source": [
    "Define variables"
   ]
  },
  {
   "cell_type": "code",
   "execution_count": 16,
   "metadata": {},
   "outputs": [],
   "source": [
    "path_in_originating = \"../data/raw/originating/\"\n",
    "file_out_originating_relationships = path_out + 'relationships_originating.csv'\n",
    "file_out_originating_countries = path_out + 'countries_originating.csv'"
   ]
  },
  {
   "cell_type": "code",
   "execution_count": 17,
   "metadata": {},
   "outputs": [],
   "source": [
    "column_list_originating = [\"CountryYear+residence\", \"CountryYear+origin\",  \"#affected+total\"]"
   ]
  },
  {
   "cell_type": "markdown",
   "metadata": {},
   "source": [
    "Define a list with all files located in the originating folder:"
   ]
  },
  {
   "cell_type": "code",
   "execution_count": 18,
   "metadata": {},
   "outputs": [
    {
     "data": {
      "text/plain": [
       "['refugees-originating-prt.csv',\n",
       " 'refugees-originating-nzl.csv',\n",
       " 'refugees-originating-khm.csv',\n",
       " 'refugees-originating-isr.csv']"
      ]
     },
     "execution_count": 18,
     "metadata": {},
     "output_type": "execute_result"
    }
   ],
   "source": [
    "originating_list = get_clean_list_of_files(path_in_originating)\n",
    "originating_list[0:4]"
   ]
  },
  {
   "cell_type": "markdown",
   "metadata": {},
   "source": [
    "Call function to process raw data and generate the required csv file to load into neo4j:"
   ]
  },
  {
   "cell_type": "code",
   "execution_count": 19,
   "metadata": {},
   "outputs": [],
   "source": [
    "countries_originating, countries_years_originating = process_relationships_neo4j(originating_list, \n",
    "                                                                                 column_list_originating, \n",
    "                                                                                 path_in_originating, \n",
    "                                                                                 file_out_originating_relationships,\n",
    "                                                                                 \"ORIGINATE_FROM\",\n",
    "                                                                                 WRITE_DATA_FLAG)"
   ]
  },
  {
   "cell_type": "code",
   "execution_count": 20,
   "metadata": {},
   "outputs": [
    {
     "data": {
      "text/plain": [
       "198"
      ]
     },
     "execution_count": 20,
     "metadata": {},
     "output_type": "execute_result"
    }
   ],
   "source": [
    "len(countries_originating)"
   ]
  },
  {
   "cell_type": "code",
   "execution_count": 21,
   "metadata": {},
   "outputs": [
    {
     "data": {
      "text/plain": [
       "6689"
      ]
     },
     "execution_count": 21,
     "metadata": {},
     "output_type": "execute_result"
    }
   ],
   "source": [
    "len(countries_years_originating)"
   ]
  },
  {
   "cell_type": "code",
   "execution_count": 22,
   "metadata": {},
   "outputs": [],
   "source": [
    "if WRITE_DATA_FLAG:\n",
    "    countries_nodes(file_out_originating_countries, countries_originating)"
   ]
  },
  {
   "cell_type": "code",
   "execution_count": 23,
   "metadata": {},
   "outputs": [],
   "source": [
    "if WRITE_DATA_FLAG:\n",
    "    countries_relationships(path_out + 'countries_years_relationship_originating.csv', countries_years_originating)"
   ]
  },
  {
   "cell_type": "markdown",
   "metadata": {},
   "source": [
    "## World Bank Indicators. Nodes properties"
   ]
  },
  {
   "cell_type": "markdown",
   "metadata": {},
   "source": [
    "Define variables"
   ]
  },
  {
   "cell_type": "code",
   "execution_count": 24,
   "metadata": {},
   "outputs": [],
   "source": [
    "path_in_indicators = \"../data/raw/indicators/\"\n",
    "file_out_indicators_residing = path_out + 'countries_nodes_residing.csv'\n",
    "file_out_indicators_originating = path_out + 'countries_nodes_originating.csv'"
   ]
  },
  {
   "cell_type": "markdown",
   "metadata": {},
   "source": [
    "Define a list with all files located in the indicators folder:"
   ]
  },
  {
   "cell_type": "code",
   "execution_count": 25,
   "metadata": {},
   "outputs": [
    {
     "data": {
      "text/plain": [
       "['world-bank-indicators-for-netherlands.csv',\n",
       " 'world-bank-indicators-for-korea-rep.csv',\n",
       " 'world-bank-indicators-for-antigua-and-barbuda.csv',\n",
       " 'world-bank-indicators-for-gambia-the.csv']"
      ]
     },
     "execution_count": 25,
     "metadata": {},
     "output_type": "execute_result"
    }
   ],
   "source": [
    "indicators_list = get_clean_list_of_files(path_in_indicators)\n",
    "indicators_list[0:4]"
   ]
  },
  {
   "cell_type": "markdown",
   "metadata": {},
   "source": [
    "Define a list with the indicators to use:"
   ]
  },
  {
   "cell_type": "code",
   "execution_count": 26,
   "metadata": {},
   "outputs": [],
   "source": [
    "index_list = [\"CountryYear\",\n",
    "              '#country+name',\n",
    "              '#date+year',\n",
    "              \"Population, total\", \n",
    "              \"International migrant stock (% of population)\", \n",
    "              \"Population growth (annual %)\",\n",
    "              \"Urban population (% of total)\"]"
   ]
  },
  {
   "cell_type": "code",
   "execution_count": 27,
   "metadata": {},
   "outputs": [],
   "source": [
    "first_line_file = [\"countryearId:ID(CountryYear-ID)\",\n",
    "                   \"country\",\n",
    "                   \"year:int\",\n",
    "                   \"population:float\", \n",
    "                   \"int_migrant_stock:float\", \n",
    "                   \"pop_growth_percentage:float\",\n",
    "                   \"urban_pop_percentage:float\",\n",
    "                   \":LABEL\"]"
   ]
  },
  {
   "cell_type": "markdown",
   "metadata": {},
   "source": [
    "Call function to process raw data and generate the required csv file to load into neo4j:"
   ]
  },
  {
   "cell_type": "markdown",
   "metadata": {},
   "source": [
    "### Residing"
   ]
  },
  {
   "cell_type": "code",
   "execution_count": 28,
   "metadata": {},
   "outputs": [],
   "source": [
    "process_nodes_neo4j(indicators_list, \n",
    "                    path_in_indicators, \n",
    "                    file_out_indicators_residing, \n",
    "                    countries_residing,\n",
    "                    countries_years_residing,\n",
    "                    first_line_file,\n",
    "                    index_list,\n",
    "                    WRITE_DATA_FLAG)"
   ]
  },
  {
   "cell_type": "markdown",
   "metadata": {},
   "source": [
    "### Originating"
   ]
  },
  {
   "cell_type": "code",
   "execution_count": 29,
   "metadata": {},
   "outputs": [],
   "source": [
    "process_nodes_neo4j(indicators_list, \n",
    "                    path_in_indicators, \n",
    "                    file_out_indicators_originating, \n",
    "                    countries_originating,\n",
    "                    countries_years_originating,\n",
    "                    first_line_file,\n",
    "                    index_list,\n",
    "                    WRITE_DATA_FLAG)"
   ]
  },
  {
   "cell_type": "code",
   "execution_count": null,
   "metadata": {},
   "outputs": [],
   "source": []
  }
 ],
 "metadata": {
  "kernelspec": {
   "display_name": "Python 3",
   "language": "python",
   "name": "python3"
  },
  "language_info": {
   "codemirror_mode": {
    "name": "ipython",
    "version": 3
   },
   "file_extension": ".py",
   "mimetype": "text/x-python",
   "name": "python",
   "nbconvert_exporter": "python",
   "pygments_lexer": "ipython3",
   "version": "3.7.3"
  }
 },
 "nbformat": 4,
 "nbformat_minor": 2
}
