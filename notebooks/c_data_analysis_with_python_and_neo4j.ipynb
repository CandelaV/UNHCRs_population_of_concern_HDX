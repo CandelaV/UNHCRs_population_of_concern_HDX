{
 "cells": [
  {
   "cell_type": "markdown",
   "metadata": {},
   "source": [
    "# Data analysis with Neo4j and python"
   ]
  },
  {
   "cell_type": "code",
   "execution_count": 1,
   "metadata": {},
   "outputs": [],
   "source": [
    "from py2neo import Graph, Node, Relationship, Database , NodeMatcher"
   ]
  },
  {
   "cell_type": "code",
   "execution_count": 2,
   "metadata": {},
   "outputs": [],
   "source": [
    "default_db = Database('bolt://neo4j-hdx:7687', auth=(\"neo4j\", \"test\"))"
   ]
  },
  {
   "cell_type": "code",
   "execution_count": 3,
   "metadata": {},
   "outputs": [
    {
     "data": {
      "text/plain": [
       "<Database uri='bolt://neo4j-hdx:7687' secure=False user_agent='py2neo/4.3.0 neobolt/1.7.13 Python/3.7.3-final-0 (linux)'>"
      ]
     },
     "execution_count": 3,
     "metadata": {},
     "output_type": "execute_result"
    }
   ],
   "source": [
    "default_db"
   ]
  },
  {
   "cell_type": "code",
   "execution_count": 4,
   "metadata": {},
   "outputs": [
    {
     "data": {
      "text/plain": [
       "'graphHDX.db'"
      ]
     },
     "execution_count": 4,
     "metadata": {},
     "output_type": "execute_result"
    }
   ],
   "source": [
    "default_db.name"
   ]
  },
  {
   "cell_type": "code",
   "execution_count": 5,
   "metadata": {},
   "outputs": [
    {
     "data": {
      "text/plain": [
       "6887"
      ]
     },
     "execution_count": 5,
     "metadata": {},
     "output_type": "execute_result"
    }
   ],
   "source": [
    "len(default_db.default_graph.nodes)"
   ]
  },
  {
   "cell_type": "code",
   "execution_count": 6,
   "metadata": {},
   "outputs": [
    {
     "data": {
      "text/plain": [
       "<py2neo.database.Schema at 0x7fdd9bc813c8>"
      ]
     },
     "execution_count": 6,
     "metadata": {},
     "output_type": "execute_result"
    }
   ],
   "source": [
    "default_db.default_graph.schema"
   ]
  },
  {
   "cell_type": "code",
   "execution_count": 10,
   "metadata": {},
   "outputs": [
    {
     "data": {
      "text/plain": [
       "[(_17:CountryYear {country: 'Netherlands', countryearId: 'Netherlands2009', pop_growth_percentage: 0.5142845511436462, population: 16530388.0, urban_pop_percentage: 86.28800201416016, year: 2009}),\n",
       " (_38:CountryYear {country: 'Antigua and Barbuda', countryearId: 'Antigua and Barbuda2009', pop_growth_percentage: 1.1856592893600464, population: 93581.0, urban_pop_percentage: 26.81800079345703, year: 2009}),\n",
       " (_69:CountryYear {country: 'Cabo Verde', countryearId: 'Cabo Verde2009', pop_growth_percentage: 1.0600026845932007, population: 496963.0, urban_pop_percentage: 61.01599884033203, year: 2009}),\n",
       " (_93:CountryYear {country: 'Mauritius', countryearId: 'Mauritius2009', pop_growth_percentage: 0.26553767919540405, population: 1247429.0, urban_pop_percentage: 41.66600036621094, year: 2009}),\n",
       " (_144:CountryYear {country: 'Ethiopia', countryearId: 'Ethiopia2009', pop_growth_percentage: 2.6470654010772705, population: 85416256.0, urban_pop_percentage: 16.90999984741211, year: 2009}),\n",
       " (_187:CountryYear {country: 'Algeria', countryearId: 'Algeria2009', pop_growth_percentage: 1.7207173109054565, population: 35465760.0, urban_pop_percentage: 66.82599639892578, year: 2009}),\n",
       " (_244:CountryYear {country: 'Rwanda', countryearId: 'Rwanda2009', pop_growth_percentage: 2.735944986343384, population: 9977446.0, urban_pop_percentage: 16.93000030517578, year: 2009}),\n",
       " (_276:CountryYear {country: 'Mali', countryearId: 'Mali2009', pop_growth_percentage: 3.25917911529541, population: 14606597.0, urban_pop_percentage: 35.20000076293945, year: 2009}),\n",
       " (_319:CountryYear {country: 'Philippines', countryearId: 'Philippines2009', pop_growth_percentage: 1.6057544946670532, population: 92220880.0, urban_pop_percentage: 45.37099838256836, year: 2009}),\n",
       " (_356:CountryYear {country: 'India', countryearId: 'India2009', pop_growth_percentage: 1.420203447341919, population: 1214270080.0, urban_pop_percentage: 30.586999893188477, year: 2009}),\n",
       " (_403:CountryYear {country: 'Armenia', countryearId: 'Armenia2009', pop_growth_percentage: -0.6774793267250061, population: 2888584.0, urban_pop_percentage: 63.540000915527344, year: 2009}),\n",
       " (_427:CountryYear {country: 'Barbados', countryearId: 'Barbados2009', pop_growth_percentage: 0.4141865372657776, population: 278470.0, urban_pop_percentage: 32.0629997253418, year: 2009}),\n",
       " (_453:CountryYear {country: 'Ukraine', countryearId: 'Ukraine2009', pop_growth_percentage: -0.4439324140548706, population: 46053300.0, urban_pop_percentage: 68.50199890136719, year: 2009}),\n",
       " (_492:CountryYear {country: 'Tunisia', countryearId: 'Tunisia2009', pop_growth_percentage: 1.094158411026001, population: 10521834.0, urban_pop_percentage: 66.3759994506836, year: 2009}),\n",
       " (_509:CountryYear {country: 'Palau', countryearId: 'Palau2009', pop_growth_percentage: 0.5619931221008301, population: 20342.0, urban_pop_percentage: 74.10900115966797, year: 2009}),\n",
       " (_535:CountryYear {country: 'Estonia', countryearId: 'Estonia2009', pop_growth_percentage: -0.19276808202266693, population: 1334515.0, urban_pop_percentage: 68.2229995727539, year: 2009}),\n",
       " (_1119:CountryYear {country: 'Guinea', countryearId: 'Guinea2009', pop_growth_percentage: 2.235588550567627, population: 10556524.0, urban_pop_percentage: 33.39099884033203, year: 2009}),\n",
       " (_1157:CountryYear {country: 'Italy', countryearId: 'Italy2009', pop_growth_percentage: 0.45561346411705017, population: 59095364.0, urban_pop_percentage: 68.20899963378906, year: 2009}),\n",
       " (_1197:CountryYear {country: 'Nicaragua', countryearId: 'Nicaragua2009', pop_growth_percentage: 1.280089259147644, population: 5666581.0, urban_pop_percentage: 56.72100067138672, year: 2009}),\n",
       " (_1240:CountryYear {country: 'Zimbabwe', countryearId: 'Zimbabwe2009', pop_growth_percentage: 1.8424969911575317, population: 13810599.0, urban_pop_percentage: 33.37799835205078, year: 2009}),\n",
       " (_1264:CountryYear {country: 'New Zealand', countryearId: 'New Zealand2009', pop_growth_percentage: 0.9997280240058899, population: 4302600.0, urban_pop_percentage: 86.22000122070312, year: 2009}),\n",
       " (_1308:CountryYear {country: 'Togo', countryearId: 'Togo2009', pop_growth_percentage: 2.700650453567505, population: 6330472.0, urban_pop_percentage: 37.05799865722656, year: 2009}),\n",
       " (_1366:CountryYear {country: 'Angola', countryearId: 'Angola2009', pop_growth_percentage: 3.5668210983276367, population: 22549548.0, urban_pop_percentage: 59.034000396728516, year: 2009}),\n",
       " (_1414:CountryYear {country: 'Botswana', countryearId: 'Botswana2009', pop_growth_percentage: 1.708090901374817, population: 1979882.0, urban_pop_percentage: 60.9370002746582, year: 2009}),\n",
       " (_1466:CountryYear {country: 'Namibia', countryearId: 'Namibia2009', pop_growth_percentage: 1.4453233480453491, population: 2137040.0, urban_pop_percentage: 40.60100173950195, year: 2009}),\n",
       " (_1529:CountryYear {country: 'Chile', countryearId: 'Chile2009', pop_growth_percentage: 1.0002655982971191, population: 16829442.0, urban_pop_percentage: 87.01699829101562, year: 2009}),\n",
       " (_1555:CountryYear {country: 'Slovenia', countryearId: 'Slovenia2009', pop_growth_percentage: 0.9038755297660828, population: 2039669.0, urban_pop_percentage: 52.43299865722656, year: 2009}),\n",
       " (_1581:CountryYear {country: 'Jamaica', countryearId: 'Jamaica2009', pop_growth_percentage: 0.4990890324115753, population: 2804082.0, urban_pop_percentage: 53.55699920654297, year: 2009}),\n",
       " (_1620:CountryYear {country: 'El Salvador', countryearId: 'El Salvador2009', pop_growth_percentage: 0.4404959976673126, population: 6137276.0, urban_pop_percentage: 64.56999969482422, year: 2009}),\n",
       " (_1673:CountryYear {country: 'Zambia', countryearId: 'Zambia2009', pop_growth_percentage: 2.8179333209991455, population: 13456417.0, urban_pop_percentage: 38.861000061035156, year: 2009}),\n",
       " (_1698:CountryYear {country: 'Turkmenistan', countryearId: 'Turkmenistan2009', pop_growth_percentage: 1.451958179473877, population: 5007950.0, urban_pop_percentage: 48.172000885009766, year: 2009}),\n",
       " (_1728:CountryYear {country: 'Malta', countryearId: 'Malta2009', pop_growth_percentage: 0.7539069056510925, population: 412477.0, urban_pop_percentage: 94.0009994506836, year: 2009}),\n",
       " (_1769:CountryYear {country: 'Japan', countryearId: 'Japan2009', pop_growth_percentage: -0.012494631111621857, population: 128047000.0, urban_pop_percentage: 89.98899841308594, year: 2009}),\n",
       " (_1817:CountryYear {country: 'Lesotho', countryearId: 'Lesotho2009', pop_growth_percentage: 0.959367036819458, population: 2019209.0, urban_pop_percentage: 24.292999267578125, year: 2009}),\n",
       " (_1869:CountryYear {country: 'South Africa', countryearId: 'South Africa2009', pop_growth_percentage: 1.1021472215652466, population: 50970816.0, urban_pop_percentage: 61.6870002746582, year: 2009}),\n",
       " (_1903:CountryYear {country: 'United Arab Emirates', countryearId: 'United Arab Emirates2009', pop_growth_percentage: 10.61544418334961, population: 7666393.0, urban_pop_percentage: 83.74199676513672, year: 2009}),\n",
       " (_1932:CountryYear {country: 'Niger', countryearId: 'Niger2009', pop_growth_percentage: 3.7719807624816895, population: 15813913.0, urban_pop_percentage: 16.225000381469727, year: 2009}),\n",
       " (_1978:CountryYear {country: 'Poland', countryearId: 'Poland2009', pop_growth_percentage: 0.06776322424411774, population: 38151604.0, urban_pop_percentage: 61.00400161743164, year: 2009}),\n",
       " (_2029:CountryYear {country: 'Hungary', countryearId: 'Hungary2009', pop_growth_percentage: -0.15490882098674774, population: 10022650.0, urban_pop_percentage: 68.45999908447266, year: 2009}),\n",
       " (_2054:CountryYear {country: 'Uzbekistan', countryearId: 'Uzbekistan2009', pop_growth_percentage: 1.6873409748077393, population: 27767400.0, urban_pop_percentage: 50.47200012207031, year: 2009}),\n",
       " (_2077:CountryYear {country: 'Iceland', countryearId: 'Iceland2009', pop_growth_percentage: 0.3412419855594635, population: 318499.0, urban_pop_percentage: 93.51100158691406, year: 2009}),\n",
       " (_2112:CountryYear {country: 'Liberia', countryearId: 'Liberia2009', pop_growth_percentage: 3.974958658218384, population: 3811528.0, urban_pop_percentage: 47.44499969482422, year: 2009}),\n",
       " (_2141:CountryYear {country: 'Comoros', countryearId: 'Comoros2009', pop_growth_percentage: 2.408719062805176, population: 673252.0, urban_pop_percentage: 27.92099952697754, year: 2009}),\n",
       " (_2196:CountryYear {country: 'Senegal', countryearId: 'Senegal2009', pop_growth_percentage: 2.8033487796783447, population: 12550917.0, urban_pop_percentage: 43.35900115966797, year: 2009}),\n",
       " (_2226:CountryYear {country: 'Qatar', countryearId: 'Qatar2009', pop_growth_percentage: 13.539421081542969, population: 1590780.0, urban_pop_percentage: 98.33599853515625, year: 2009}),\n",
       " (_2272:CountryYear {country: 'Bulgaria', countryearId: 'Bulgaria2009', pop_growth_percentage: -0.6442813873291016, population: 7444443.0, urban_pop_percentage: 71.96299743652344, year: 2009}),\n",
       " (_2313:CountryYear {country: 'Panama', countryearId: 'Panama2009', pop_growth_percentage: 1.779079794883728, population: 3579385.0, urban_pop_percentage: 64.85099792480469, year: 2009}),\n",
       " (_2353:CountryYear {country: 'Pakistan', countryearId: 'Pakistan2009', pop_growth_percentage: 2.05936336517334, population: 167049584.0, urban_pop_percentage: 34.792999267578125, year: 2009}),\n",
       " (_2397:CountryYear {country: 'Nigeria', countryearId: 'Nigeria2009', pop_growth_percentage: 2.6612212657928467, population: 154402176.0, urban_pop_percentage: 42.5880012512207, year: 2009}),\n",
       " (_2406:CountryYear {country: 'British Virgin Islands', countryearId: 'British Virgin Islands2009', pop_growth_percentage: 3.2394142150878906, population: 26447.0, urban_pop_percentage: 44.479000091552734, year: 2009}),\n",
       " (_2443:CountryYear {country: 'Indonesia', countryearId: 'Indonesia2009', pop_growth_percentage: 1.3380656242370605, population: 239340480.0, urban_pop_percentage: 49.13399887084961, year: 2009}),\n",
       " (_2477:CountryYear {country: 'Lithuania', countryearId: 'Lithuania2009', pop_growth_percentage: -1.110345721244812, population: 3162916.0, urban_pop_percentage: 66.84200286865234, year: 2009}),\n",
       " (_2513:CountryYear {country: 'Ecuador', countryearId: 'Ecuador2009', pop_growth_percentage: 1.6728099584579468, population: 14691275.0, urban_pop_percentage: 62.494998931884766, year: 2009}),\n",
       " (_2546:CountryYear {country: 'Sri Lanka', countryearId: 'Sri Lanka2009', pop_growth_percentage: 0.6459344625473022, population: 20075086.0, urban_pop_percentage: 18.242000579833984, year: 2009}),\n",
       " (_2562:CountryYear {country: 'Turks and Caicos Islands', countryearId: 'Turks and Caicos Islands2009', pop_growth_percentage: 2.5584893226623535, population: 30245.0, urban_pop_percentage: 89.7699966430664, year: 2009}),\n",
       " (_2588:CountryYear {country: 'Azerbaijan', countryearId: 'Azerbaijan2009', pop_growth_percentage: 2.076148271560669, population: 8947243.0, urban_pop_percentage: 53.189998626708984, year: 2009}),\n",
       " (_2616:CountryYear {country: 'Fiji', countryearId: 'Fiji2009', pop_growth_percentage: 1.0177595615386963, population: 851967.0, urban_pop_percentage: 51.65800094604492, year: 2009}),\n",
       " (_2650:CountryYear {country: 'Mauritania', countryearId: 'Mauritania2009', pop_growth_percentage: 2.856701135635376, population: 3506288.0, urban_pop_percentage: 45.68600082397461, year: 2009}),\n",
       " (_2679:CountryYear {country: 'Grenada', countryearId: 'Grenada2009', pop_growth_percentage: 0.3515414893627167, population: 104296.0, urban_pop_percentage: 35.87099838256836, year: 2009}),\n",
       " (_2715:CountryYear {country: 'Cyprus', countryearId: 'Cyprus2009', pop_growth_percentage: 1.5152339935302734, population: 1098076.0, urban_pop_percentage: 67.69499969482422, year: 2009}),\n",
       " (_2766:CountryYear {country: 'Thailand', countryearId: 'Thailand2009', pop_growth_percentage: 0.5038052797317505, population: 66881868.0, urban_pop_percentage: 42.542999267578125, year: 2009}),\n",
       " (_2823:CountryYear {country: 'Burundi', countryearId: 'Burundi2009', pop_growth_percentage: 3.3146212100982666, population: 8489031.0, urban_pop_percentage: 10.37600040435791, year: 2009}),\n",
       " (_2876:CountryYear {country: 'Greece', countryearId: 'Greece2009', pop_growth_percentage: 0.2630263864994049, population: 11107017.0, urban_pop_percentage: 75.93199920654297, year: 2009}),\n",
       " (_2925:CountryYear {country: 'Russian Federation', countryearId: 'Russian Federation2009', pop_growth_percentage: 0.03011406771838665, population: 142785344.0, urban_pop_percentage: 73.64199829101562, year: 2009}),\n",
       " (_2960:CountryYear {country: 'Singapore', countryearId: 'Singapore2009', pop_growth_percentage: 3.0159499645233154, population: 4987573.0, urban_pop_percentage: 100.0, year: 2009}),\n",
       " (_2989:CountryYear {country: 'Suriname', countryearId: 'Suriname2009', pop_growth_percentage: 1.0564249753952026, population: 520619.0, urban_pop_percentage: 66.41200256347656, year: 2009}),\n",
       " (_3032:CountryYear {country: 'Peru', countryearId: 'Peru2009', pop_growth_percentage: 1.247431993484497, population: 29001508.0, urban_pop_percentage: 76.24099731445312, year: 2009}),\n",
       " (_3057:CountryYear {country: 'Belgium', countryearId: 'Belgium2009', pop_growth_percentage: 0.8045995831489563, population: 10796493.0, urban_pop_percentage: 97.60299682617188, year: 2009}),\n",
       " (_3097:CountryYear {country: 'Brazil', countryearId: 'Brazil2009', pop_growth_percentage: 0.98845374584198, population: 194896000.0, urban_pop_percentage: 84.04399871826172, year: 2009}),\n",
       " (_3139:CountryYear {country: 'Spain', countryearId: 'Spain2009', pop_growth_percentage: 0.8857359886169434, population: 46362944.0, urban_pop_percentage: 78.20999908447266, year: 2009}),\n",
       " (_3169:CountryYear {country: 'Paraguay', countryearId: 'Paraguay2009', pop_growth_percentage: 1.326020359992981, population: 6127837.0, urban_pop_percentage: 58.9370002746582, year: 2009}),\n",
       " (_3197:CountryYear {country: 'Mongolia', countryearId: 'Mongolia2009', pop_growth_percentage: 1.5164495706558228, population: 2668289.0, urban_pop_percentage: 66.58000183105469, year: 2009}),\n",
       " (_3239:CountryYear {country: 'Iraq', countryearId: 'Iraq2009', pop_growth_percentage: 2.654916763305664, population: 29894652.0, urban_pop_percentage: 68.9800033569336, year: 2009}),\n",
       " (_3263:CountryYear {country: 'Portugal', countryearId: 'Portugal2009', pop_growth_percentage: 0.0953308567404747, population: 10568247.0, urban_pop_percentage: 59.9640007019043, year: 2009}),\n",
       " (_3291:CountryYear {country: 'Sweden', countryearId: 'Sweden2009', pop_growth_percentage: 0.8519043922424316, population: 9298515.0, urban_pop_percentage: 84.9020004272461, year: 2009}),\n",
       " (_3332:CountryYear {country: 'Haiti', countryearId: 'Haiti2009', pop_growth_percentage: 1.5118578672409058, population: 9852870.0, urban_pop_percentage: 46.52799987792969, year: 2009}),\n",
       " (_3371:CountryYear {country: 'Equatorial Guinea', countryearId: 'Equatorial Guinea2009', pop_growth_percentage: 4.579403400421143, population: 909111.0, urban_pop_percentage: 64.35800170898438, year: 2009}),\n",
       " (_3405:CountryYear {country: 'Bangladesh', countryearId: 'Bangladesh2009', pop_growth_percentage: 1.1019901037216187, population: 150454704.0, urban_pop_percentage: 29.708999633789062, year: 2009}),\n",
       " (_3443:CountryYear {country: \"Cote d'Ivoire\", countryearId: \"Cote d'Ivoire2009\", pop_growth_percentage: 2.2234323024749756, population: 19936366.0, urban_pop_percentage: 46.90999984741211, year: 2009}),\n",
       " (_3462:CountryYear {country: 'Monaco', countryearId: 'Monaco2009', pop_growth_percentage: 1.8816088438034058, population: 36534.0, urban_pop_percentage: 100.0, year: 2009}),\n",
       " (_3508:CountryYear {country: 'Turkey', countryearId: 'Turkey2009', pop_growth_percentage: 1.2684017419815063, population: 71339184.0, urban_pop_percentage: 70.24099731445312, year: 2009}),\n",
       " (_3551:CountryYear {country: 'Chad', countryearId: 'Chad2009', pop_growth_percentage: 3.259826183319092, population: 11502786.0, urban_pop_percentage: 21.93400001525879, year: 2009}),\n",
       " (_3569:CountryYear {country: 'Luxembourg', countryearId: 'Luxembourg2009', pop_growth_percentage: 1.8517752885818481, population: 497783.0, urban_pop_percentage: 88.1780014038086, year: 2009}),\n",
       " (_3624:CountryYear {country: 'Sudan', countryearId: 'Sudan2009', pop_growth_percentage: 2.0873405933380127, population: 33650620.0, urban_pop_percentage: 32.99300003051758, year: 2009}),\n",
       " (_3653:CountryYear {country: 'France', countryearId: 'France2009', pop_growth_percentage: 0.5144879221916199, population: 64707044.0, urban_pop_percentage: 78.11699676513672, year: 2009}),\n",
       " (_3691:CountryYear {country: 'Benin', countryearId: 'Benin2009', pop_growth_percentage: 2.8093369007110596, population: 8944706.0, urban_pop_percentage: 42.58000183105469, year: 2009}),\n",
       " (_3727:CountryYear {country: 'Kuwait', countryearId: 'Kuwait2009', pop_growth_percentage: 6.091830253601074, population: 2818939.0, urban_pop_percentage: 100.0, year: 2009}),\n",
       " (_3759:CountryYear {country: 'Bahrain', countryearId: 'Bahrain2009', pop_growth_percentage: 6.1280622482299805, population: 1185029.0, urban_pop_percentage: 88.5790023803711, year: 2009}),\n",
       " (_3777:CountryYear {country: 'Brunei Darussalam', countryearId: 'Brunei Darussalam2009', pop_growth_percentage: 1.1847734451293945, population: 383772.0, urban_pop_percentage: 74.60800170898438, year: 2009}),\n",
       " (_3817:CountryYear {country: 'Papua New Guinea', countryearId: 'Papua New Guinea2009', pop_growth_percentage: 2.333768367767334, population: 6947447.0, urban_pop_percentage: 13.036999702453613, year: 2009}),\n",
       " (_3840:CountryYear {country: 'Solomon Islands', countryearId: 'Solomon Islands2009', pop_growth_percentage: 2.2737605571746826, population: 516079.0, urban_pop_percentage: 19.589000701904297, year: 2009}),\n",
       " (_3883:CountryYear {country: 'Somalia', countryearId: 'Somalia2009', pop_growth_percentage: 2.9356884956359863, population: 11707990.0, urban_pop_percentage: 37.64500045776367, year: 2009}),\n",
       " (_3913:CountryYear {country: 'Nepal', countryearId: 'Nepal2009', pop_growth_percentage: 0.9968483448028564, population: 26741104.0, urban_pop_percentage: 16.43400001525879, year: 2009}),\n",
       " (_3939:CountryYear {country: 'Austria', countryearId: 'Austria2009', pop_growth_percentage: 0.2619531750679016, population: 8343323.0, urban_pop_percentage: 57.68299865722656, year: 2009}),\n",
       " (_3993:CountryYear {country: 'Mozambique', countryearId: 'Mozambique2009', pop_growth_percentage: 2.9214630126953125, population: 23524064.0, urban_pop_percentage: 31.327999114990234, year: 2009}),\n",
       " (_4050:CountryYear {country: 'Uganda', countryearId: 'Uganda2009', pop_growth_percentage: 3.439418315887451, population: 32771896.0, urban_pop_percentage: 18.878000259399414, year: 2009}),\n",
       " (_4093:CountryYear {country: 'Cameroon', countryearId: 'Cameroon2009', pop_growth_percentage: 2.741638422012329, population: 19432540.0, urban_pop_percentage: 50.95399856567383, year: 2009}),\n",
       " (_4128:CountryYear {country: 'Saudi Arabia', countryearId: 'Saudi Arabia2009', pop_growth_percentage: 2.7404415607452393, population: 26661492.0, urban_pop_percentage: 81.86699676513672, year: 2009}),\n",
       " (_4158:CountryYear {country: 'Israel', countryearId: 'Israel2009', pop_growth_percentage: 2.390207290649414, population: 7485600.0, urban_pop_percentage: 91.76300048828125, year: 2009}),\n",
       " (_4184:CountryYear {country: 'Latvia', countryearId: 'Latvia2009', pop_growth_percentage: -1.6510249376296997, population: 2141669.0, urban_pop_percentage: 67.81400299072266, year: 2009}),\n",
       " (_4229:CountryYear {country: 'Cuba', countryearId: 'Cuba2009', pop_growth_percentage: 0.07820276916027069, population: 11318602.0, urban_pop_percentage: 76.50499725341797, year: 2009}),\n",
       " (_4262:CountryYear {country: 'Myanmar', countryearId: 'Myanmar2009', pop_growth_percentage: 0.6465303897857666, population: 49800688.0, urban_pop_percentage: 28.69499969482422, year: 2009}),\n",
       " (_4281:CountryYear {country: 'Timor-Leste', countryearId: 'Timor-Leste2009', pop_growth_percentage: 1.2820600271224976, population: 1092021.0, urban_pop_percentage: 27.388999938964844, year: 2009}),\n",
       " (_4300:CountryYear {country: 'Liechtenstein', countryearId: 'Liechtenstein2009', pop_growth_percentage: 0.6310761570930481, population: 35766.0, urban_pop_percentage: 14.519000053405762, year: 2009}),\n",
       " (_4312:CountryYear {country: 'Montenegro', countryearId: 'Montenegro2009', pop_growth_percentage: 0.21452929079532623, population: 618294.0, urban_pop_percentage: 63.80799865722656, year: 2009}),\n",
       " (_4340:CountryYear {country: 'Bhutan', countryearId: 'Bhutan2009', pop_growth_percentage: 1.9087655544281006, population: 714458.0, urban_pop_percentage: 34.0099983215332, year: 2009}),\n",
       " (_4367:CountryYear {country: 'Madagascar', countryearId: 'Madagascar2009', pop_growth_percentage: 2.823526382446289, population: 20569120.0, urban_pop_percentage: 31.301000595092773, year: 2009}),\n",
       " (_4408:CountryYear {country: 'Malaysia', countryearId: 'Malaysia2009', pop_growth_percentage: 1.8068695068359375, population: 27605384.0, urban_pop_percentage: 70.07499694824219, year: 2009}),\n",
       " (_4435:CountryYear {country: 'Germany', countryearId: 'Germany2009', pop_growth_percentage: -0.2533833980560303, population: 81902304.0, urban_pop_percentage: 76.77100372314453, year: 2009}),\n",
       " (_4462:CountryYear {country: 'Switzerland', countryearId: 'Switzerland2009', pop_growth_percentage: 1.249484658241272, population: 7743831.0, urban_pop_percentage: 73.58100128173828, year: 2009}),\n",
       " (_4484:CountryYear {country: 'Tonga', countryearId: 'Tonga2009', pop_growth_percentage: 0.5798408389091492, population: 103604.0, urban_pop_percentage: 23.334999084472656, year: 2009}),\n",
       " (_4523:CountryYear {country: 'Guatemala', countryearId: 'Guatemala2009', pop_growth_percentage: 2.1880381107330322, population: 14316208.0, urban_pop_percentage: 48.104000091552734, year: 2009}),\n",
       " (_4550:CountryYear {country: 'Canada', countryearId: 'Canada2009', pop_growth_percentage: 1.1448402404785156, population: 33628572.0, urban_pop_percentage: 80.75800323486328, year: 2009}),\n",
       " (_4582:CountryYear {country: 'Guyana', countryearId: 'Guyana2009', pop_growth_percentage: -0.08324357867240906, population: 745693.0, urban_pop_percentage: 26.868999481201172, year: 2009}),\n",
       " (_4618:CountryYear {country: 'Gabon', countryearId: 'Gabon2009', pop_growth_percentage: 3.2241241931915283, population: 1586754.0, urban_pop_percentage: 84.95500183105469, year: 2009}),\n",
       " (_4660:CountryYear {country: 'Costa Rica', countryearId: 'Costa Rica2009', pop_growth_percentage: 1.3177250623703003, population: 4488263.0, urban_pop_percentage: 70.57499694824219, year: 2009}),\n",
       " (_4703:CountryYear {country: 'Argentina', countryearId: 'Argentina2009', pop_growth_percentage: 1.0273772478103638, population: 40799408.0, urban_pop_percentage: 90.69100189208984, year: 2009}),\n",
       " (_4741:CountryYear {country: 'Libya', countryearId: 'Libya2009', pop_growth_percentage: 1.1167237758636475, population: 6121053.0, urban_pop_percentage: 77.83699798583984, year: 2009}),\n",
       " (_4766:CountryYear {country: 'Norway', countryearId: 'Norway2009', pop_growth_percentage: 1.261127233505249, population: 4828726.0, urban_pop_percentage: 78.81500244140625, year: 2009}),\n",
       " (_4808:CountryYear {country: 'Mexico', countryearId: 'Mexico2009', pop_growth_percentage: 1.608834147453308, population: 115505232.0, urban_pop_percentage: 77.5199966430664, year: 2009}),\n",
       " (_4849:CountryYear {country: 'Uruguay', countryearId: 'Uruguay2009', pop_growth_percentage: 0.3554292619228363, population: 3362755.0, urban_pop_percentage: 94.20899963378906, year: 2009}),\n",
       " (_4873:CountryYear {country: 'Oman', countryearId: 'Oman2009', pop_growth_percentage: 4.393793106079102, population: 2882942.0, urban_pop_percentage: 74.6240005493164, year: 2009}),\n",
       " (_4926:CountryYear {country: 'Cambodia', countryearId: 'Cambodia2009', pop_growth_percentage: 1.4994462728500366, population: 14090208.0, urban_pop_percentage: 19.93000030517578, year: 2009}),\n",
       " (_4967:CountryYear {country: 'Djibouti', countryearId: 'Djibouti2009', pop_growth_percentage: 1.6756889820098877, population: 836840.0, urban_pop_percentage: 76.94400024414062, year: 2009}),\n",
       " (_5005:CountryYear {country: 'Belize', countryearId: 'Belize2009', pop_growth_percentage: 2.504267454147339, population: 313929.0, urban_pop_percentage: 45.244998931884766, year: 2009}),\n",
       " (_5060:CountryYear {country: 'Guinea-Bissau', countryearId: 'Guinea-Bissau2009', pop_growth_percentage: 2.4419806003570557, population: 1517448.0, urban_pop_percentage: 39.715999603271484, year: 2009}),\n",
       " (_5083:CountryYear {country: 'Finland', countryearId: 'Finland2009', pop_growth_percentage: 0.47824639081954956, population: 5338871.0, urban_pop_percentage: 83.42900085449219, year: 2009}),\n",
       " (_5120:CountryYear {country: 'Sierra Leone', countryearId: 'Sierra Leone2009', pop_growth_percentage: 2.322840452194214, population: 6310260.0, urban_pop_percentage: 38.465999603271484, year: 2009}),\n",
       " (_5146:CountryYear {country: 'Ireland', countryearId: 'Ireland2009', pop_growth_percentage: 1.0156632661819458, population: 4535375.0, urban_pop_percentage: 61.34199905395508, year: 2009}),\n",
       " (_5172:CountryYear {country: 'Kazakhstan', countryearId: 'Kazakhstan2009', pop_growth_percentage: 2.6370046138763428, population: 16092822.0, urban_pop_percentage: 56.755001068115234, year: 2009}),\n",
       " (_5219:CountryYear {country: 'Romania', countryearId: 'Romania2009', pop_growth_percentage: -0.833088755607605, population: 20367488.0, urban_pop_percentage: 53.698001861572266, year: 2009}),\n",
       " (_5264:CountryYear {country: 'Morocco', countryearId: 'Morocco2009', pop_growth_percentage: 1.236254334449768, population: 31989896.0, urban_pop_percentage: 57.45199966430664, year: 2009}),\n",
       " (_5301:CountryYear {country: 'Colombia', countryearId: 'Colombia2009', pop_growth_percentage: 1.1396269798278809, population: 45416180.0, urban_pop_percentage: 77.58699798583984, year: 2009}),\n",
       " (_5349:CountryYear {country: 'China', countryearId: 'China2009', pop_growth_percentage: 0.49738138914108276, population: 1331260032.0, urban_pop_percentage: 47.880001068115234, year: 2009}),\n",
       " (_5408:CountryYear {country: 'Malawi', countryearId: 'Malawi2009', pop_growth_percentage: 3.059443235397339, population: 14714602.0, urban_pop_percentage: 15.428999900817871, year: 2009}),\n",
       " (_5421:CountryYear {country: 'Vanuatu', countryearId: 'Vanuatu2009', pop_growth_percentage: 2.3876168727874756, population: 230785.0, urban_pop_percentage: 24.285999298095703, year: 2009}),\n",
       " (_5463:CountryYear {country: 'Jordan', countryearId: 'Jordan2009', pop_growth_percentage: 4.978799343109131, population: 6821116.0, urban_pop_percentage: 84.9280014038086, year: 2009}),\n",
       " (_5511:CountryYear {country: 'Kenya', countryearId: 'Kenya2009', pop_growth_percentage: 2.7432079315185547, population: 40237204.0, urban_pop_percentage: 23.183000564575195, year: 2009}),\n",
       " (_5550:CountryYear {country: 'Afghanistan', countryearId: 'Afghanistan2009', pop_growth_percentage: 2.5691142082214355, population: 28004332.0, urban_pop_percentage: 23.527999877929688, year: 2009}),\n",
       " (_5578:CountryYear {country: 'Croatia', countryearId: 'Croatia2009', pop_growth_percentage: -0.12252379208803177, population: 4429078.0, urban_pop_percentage: 54.98699951171875, year: 2009}),\n",
       " (_5625:CountryYear {country: 'Ghana', countryearId: 'Ghana2009', pop_growth_percentage: 2.5643749237060547, population: 23903832.0, urban_pop_percentage: 50.03099822998047, year: 2009}),\n",
       " (_5653:CountryYear {country: 'Trinidad and Tobago', countryearId: 'Trinidad and Tobago2009', pop_growth_percentage: 0.47372281551361084, population: 1321618.0, urban_pop_percentage: 54.2130012512207, year: 2009}),\n",
       " (_5706:CountryYear {country: 'Albania', countryearId: 'Albania2009', pop_growth_percentage: -0.6738940477371216, population: 2927519.0, urban_pop_percentage: 51.07600021362305, year: 2009}),\n",
       " (_5746:CountryYear {country: 'Honduras', countryearId: 'Honduras2009', pop_growth_percentage: 2.041386842727661, population: 8035021.0, urban_pop_percentage: 51.224998474121094, year: 2009}),\n",
       " (_5772:CountryYear {country: 'Tajikistan', countryearId: 'Tajikistan2009', pop_growth_percentage: 2.2066240310668945, population: 7472819.0, urban_pop_percentage: 26.51799964904785, year: 2009}),\n",
       " (_5802:CountryYear {country: 'United Kingdom', countryearId: 'United Kingdom2009', pop_growth_percentage: 0.7563908696174622, population: 62276272.0, urban_pop_percentage: 81.03099822998047, year: 2009}),\n",
       " (_5816:CountryYear {country: 'Cayman Islands', countryearId: 'Cayman Islands2009', pop_growth_percentage: 2.5242700576782227, population: 54279.0, urban_pop_percentage: 100.0, year: 2009}),\n",
       " (_5858:CountryYear {country: 'Lebanon', countryearId: 'Lebanon2009', pop_growth_percentage: 1.738824486732483, population: 4183156.0, urban_pop_percentage: 87.18699645996094, year: 2009}),\n",
       " (_5892:CountryYear {country: 'Burkina Faso', countryearId: 'Burkina Faso2009', pop_growth_percentage: 3.026449680328369, population: 15141099.0, urban_pop_percentage: 24.07900047302246, year: 2009}),\n",
       " (_5917:CountryYear {country: 'Georgia', countryearId: 'Georgia2009', pop_growth_percentage: -1.2987195253372192, population: 3978000.0, urban_pop_percentage: 55.150001525878906, year: 2009}),\n",
       " (_5951:CountryYear {country: 'Australia', countryearId: 'Australia2009', pop_growth_percentage: 2.0610451698303223, population: 21691700.0, urban_pop_percentage: 85.06300354003906, year: 2009}),\n",
       " (_5977:CountryYear {country: 'Bosnia and Herzegovina', countryearId: 'Bosnia and Herzegovina2009', pop_growth_percentage: -0.45373278856277466, population: 3746561.0, urban_pop_percentage: 45.23899841308594, year: 2009}),\n",
       " (_6016:CountryYear {country: 'Eritrea', countryearId: 'Eritrea2009', pop_growth_percentage: 1.8190428018569946, population: 4310334.0, urban_pop_percentage: 34.584999084472656, year: 2009}),\n",
       " (_6041:CountryYear {country: 'Belarus', countryearId: 'Belarus2009', pop_growth_percentage: -0.2229607254266739, population: 9506765.0, urban_pop_percentage: 74.1719970703125, year: 2009}),\n",
       " (_6070:CountryYear {country: 'Denmark', countryearId: 'Denmark2009', pop_growth_percentage: 0.5350790619850159, population: 5523095.0, urban_pop_percentage: 86.65399932861328, year: 2009}),\n",
       " (_6105:CountryYear {country: 'Rep. of Moldova', countryearId: 'Rep. of Moldova2009', year: 2009}),\n",
       " (_6115:CountryYear {country: 'China, Hong Kong SAR', countryearId: 'China, Hong Kong SAR2009', year: 2009}),\n",
       " (_6127:CountryYear {country: 'Czech Rep.', countryearId: 'Czech Rep.2009', year: 2009}),\n",
       " (_6169:CountryYear {country: 'Syrian Arab Rep.', countryearId: 'Syrian Arab Rep.2009', year: 2009}),\n",
       " (_6245:CountryYear {country: 'United Rep. of Tanzania', countryearId: 'United Rep. of Tanzania2009', year: 2009}),\n",
       " (_6278:CountryYear {country: 'The former Yugoslav Republic of Macedonia', countryearId: 'The former Yugoslav Republic of Macedonia2009', year: 2009}),\n",
       " (_6319:CountryYear {country: 'Saint Vincent and the Grenadines', countryearId: 'Saint Vincent and the Grenadines2009', year: 2009}),\n",
       " (_6360:CountryYear {country: 'Swaziland', countryearId: 'Swaziland2009', year: 2009}),\n",
       " (_6394:CountryYear {country: 'Slovakia', countryearId: 'Slovakia2009', year: 2009}),\n",
       " (_6417:CountryYear {country: 'Viet Nam', countryearId: 'Viet Nam2009', year: 2009}),\n",
       " (_6494:CountryYear {country: 'Rep. of Korea', countryearId: 'Rep. of Korea2009', year: 2009}),\n",
       " (_6510:CountryYear {country: 'Serbia and Kosovo (S/RES/1244 (1999))', countryearId: 'Serbia and Kosovo (S/RES/1244 (1999))2009', year: 2009}),\n",
       " (_6513:CountryYear {country: 'China, Macao SAR', countryearId: 'China, Macao SAR2009', year: 2009}),\n",
       " (_6536:CountryYear {country: 'United States of America', countryearId: 'United States of America2009', year: 2009}),\n",
       " (_6617:CountryYear {country: 'Saint Kitts and Nevis', countryearId: 'Saint Kitts and Nevis2009', year: 2009}),\n",
       " (_6641:CountryYear {country: 'Egypt', countryearId: 'Egypt2009', year: 2009}),\n",
       " (_6664:CountryYear {country: 'French Guiana', countryearId: 'French Guiana2009', year: 2009}),\n",
       " (_6682:CountryYear {country: 'Gambia', countryearId: 'Gambia2009', year: 2009}),\n",
       " (_6711:CountryYear {country: 'Central African Rep.', countryearId: 'Central African Rep.2009', year: 2009}),\n",
       " (_6735:CountryYear {country: 'Bahamas', countryearId: 'Bahamas2009', year: 2009}),\n",
       " (_6746:CountryYear {country: 'Saint Lucia', countryearId: 'Saint Lucia2009', year: 2009}),\n",
       " (_6751:CountryYear {country: 'Iran (Islamic Rep. of)', countryearId: 'Iran (Islamic Rep. of)2009', year: 2009}),\n",
       " (_6816:CountryYear {country: 'Yemen', countryearId: 'Yemen2009', year: 2009}),\n",
       " (_6882:CountryYear {country: 'Dem. Rep. of the Congo', countryearId: 'Dem. Rep. of the Congo2009', year: 2009}),\n",
       " (_7034:CountryYear {country: 'Kyrgyzstan', countryearId: 'Kyrgyzstan2009', year: 2009}),\n",
       " (_7076:CountryYear {country: 'Venezuela (Bolivarian Republic of)', countryearId: 'Venezuela (Bolivarian Republic of)2009', year: 2009}),\n",
       " (_7115:CountryYear {country: \"Lao People's Dem. Rep.\", countryearId: \"Lao People's Dem. Rep.2009\", year: 2009}),\n",
       " (_7144:CountryYear {country: 'Bolivia (Plurinational State of)', countryearId: 'Bolivia (Plurinational State of)2009', year: 2009}),\n",
       " (_7157:CountryYear {country: 'Congo', countryearId: 'Congo2009', year: 2009}),\n",
       " (_7158:CountryYear {country: 'Dominican Rep.', countryearId: 'Dominican Rep.2009', year: 2009}),\n",
       " (_7230:CountryYear {country: 'Micronesia (Federated States of)', countryearId: 'Micronesia (Federated States of)2009', year: 2009})]"
      ]
     },
     "execution_count": 10,
     "metadata": {},
     "output_type": "execute_result"
    }
   ],
   "source": [
    "list(default_db.default_graph.nodes.match(\"CountryYear\", year=2009))"
   ]
  },
  {
   "cell_type": "code",
   "execution_count": null,
   "metadata": {},
   "outputs": [],
   "source": [
    "a = Node(\"Person\", name=\"Candela\", born=1989)"
   ]
  },
  {
   "cell_type": "code",
   "execution_count": null,
   "metadata": {},
   "outputs": [],
   "source": [
    "c = Node(\"Movie\", title=\"Top Gun\")"
   ]
  },
  {
   "cell_type": "code",
   "execution_count": null,
   "metadata": {},
   "outputs": [],
   "source": [
    "c.__primarylabel__ = \"Movie\"\n",
    "c.__primarykey__ = \"title\""
   ]
  },
  {
   "cell_type": "code",
   "execution_count": null,
   "metadata": {},
   "outputs": [],
   "source": [
    "a.__primarylabel__ = \"Person\"\n",
    "a.__primarykey__ = \"name\""
   ]
  },
  {
   "cell_type": "code",
   "execution_count": null,
   "metadata": {},
   "outputs": [],
   "source": [
    "ACTED_IN = Relationship.type(\"ACTED_IN\")"
   ]
  },
  {
   "cell_type": "code",
   "execution_count": null,
   "metadata": {},
   "outputs": [],
   "source": [
    "default_db.default_graph.merge(ACTED_IN(a, c))"
   ]
  },
  {
   "cell_type": "code",
   "execution_count": null,
   "metadata": {},
   "outputs": [],
   "source": [
    "matcher = NodeMatcher(default_db.default_graph)"
   ]
  },
  {
   "cell_type": "code",
   "execution_count": null,
   "metadata": {},
   "outputs": [],
   "source": [
    "matcher.match(\"Person\", name=\"Candela\").first()"
   ]
  },
  {
   "cell_type": "code",
   "execution_count": null,
   "metadata": {},
   "outputs": [],
   "source": [
    "from pygments.lexers import get_lexer_by_name"
   ]
  },
  {
   "cell_type": "code",
   "execution_count": null,
   "metadata": {},
   "outputs": [],
   "source": [
    "lexer = get_lexer_by_name(\"py2neo.cypher\")"
   ]
  },
  {
   "cell_type": "code",
   "execution_count": null,
   "metadata": {},
   "outputs": [],
   "source": [
    "list(lexer.get_statements(\"MATCH p=()-[r:ACTED_IN]->() RETURN p LIMIT 25\"))"
   ]
  },
  {
   "cell_type": "code",
   "execution_count": null,
   "metadata": {},
   "outputs": [],
   "source": [
    "CALL algo.list()"
   ]
  }
 ],
 "metadata": {
  "kernelspec": {
   "display_name": "Python 3",
   "language": "python",
   "name": "python3"
  },
  "language_info": {
   "codemirror_mode": {
    "name": "ipython",
    "version": 3
   },
   "file_extension": ".py",
   "mimetype": "text/x-python",
   "name": "python",
   "nbconvert_exporter": "python",
   "pygments_lexer": "ipython3",
   "version": "3.7.3"
  }
 },
 "nbformat": 4,
 "nbformat_minor": 2
}
