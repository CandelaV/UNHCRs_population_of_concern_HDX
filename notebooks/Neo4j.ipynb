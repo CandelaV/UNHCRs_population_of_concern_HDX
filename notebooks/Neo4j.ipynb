{
 "cells": [
  {
   "cell_type": "code",
   "execution_count": 41,
   "metadata": {
    "collapsed": true
   },
   "outputs": [],
   "source": [
    "import os, json\n",
    "import unicodecsv as csv"
   ]
  },
  {
   "cell_type": "code",
   "execution_count": 26,
   "metadata": {
    "collapsed": true
   },
   "outputs": [],
   "source": [
    "incollection_folder = './json_incollection_v2/'\n",
    "inproceedings_folder ='./json_inproceedings_v2/'\n",
    "article_folder = './json_article_v2/'"
   ]
  },
  {
   "cell_type": "code",
   "execution_count": 27,
   "metadata": {},
   "outputs": [],
   "source": [
    "incollection_file = [file for file in os.listdir(incollection_folder) if file.endswith(\".json\")][0]\n",
    "inproceedings_file = [file for file in os.listdir(inproceedings_folder) if file.endswith(\".json\")][0]\n",
    "article_file = [file for file in os.listdir(article_folder) if file.endswith(\".json\")][0]"
   ]
  },
  {
   "cell_type": "code",
   "execution_count": 29,
   "metadata": {},
   "outputs": [],
   "source": [
    "data = []\n",
    "\n",
    "incollection_f = open(incollection_folder+incollection_file, 'r')\n",
    "for line in incollection_f:\n",
    "    data.append(json.loads(line))\n",
    "incollection_f.close()\n",
    "\n",
    "inproceedings_f = open(inproceedings_folder+inproceedings_file, 'r')\n",
    "for line in inproceedings_f:\n",
    "    data.append(json.loads(line))\n",
    "inproceedings_f.close()\n",
    "\n",
    "article_f = open(article_folder+article_file, 'r')\n",
    "for line in article_f :\n",
    "    data.append(json.loads(line))\n",
    "article_f.close()"
   ]
  },
  {
   "cell_type": "code",
   "execution_count": 30,
   "metadata": {},
   "outputs": [
    {
     "data": {
      "text/plain": [
       "{'_key': 'journals/lncs/CabibboM93',\n",
       " '_mdate': '2017-05-20',\n",
       " 'author': ['Luca Cabibbo', 'Giansalvatore Mecca'],\n",
       " 'booktitle': 'LOGIDATA+: Deductive Databases with Complex Objects',\n",
       " 'pages': '42-59',\n",
       " 'title': 'Travel Agency: A LOGIDATA+ Application.',\n",
       " 'type': 'incollection',\n",
       " 'year': '1993'}"
      ]
     },
     "execution_count": 30,
     "metadata": {},
     "output_type": "execute_result"
    }
   ],
   "source": [
    "data[0]"
   ]
  },
  {
   "cell_type": "code",
   "execution_count": 42,
   "metadata": {},
   "outputs": [],
   "source": [
    "keys = data[0].keys()\n",
    "with open('writefile.csv', 'wb') as output_file:    \n",
    "    dict_writer = csv.DictWriter(output_file, keys)\n",
    "    dict_writer.writeheader()\n",
    "    dict_writer.writerows(data)"
   ]
  },
  {
   "cell_type": "code",
   "execution_count": null,
   "metadata": {
    "collapsed": true
   },
   "outputs": [],
   "source": [
    "3360314"
   ]
  },
  {
   "cell_type": "code",
   "execution_count": 43,
   "metadata": {},
   "outputs": [
    {
     "data": {
      "text/plain": [
       "3656363"
      ]
     },
     "execution_count": 43,
     "metadata": {},
     "output_type": "execute_result"
    }
   ],
   "source": [
    "1807480 + 1848883"
   ]
  }
 ],
 "metadata": {
  "kernelspec": {
   "display_name": "Python 3",
   "language": "python",
   "name": "python3"
  },
  "language_info": {
   "codemirror_mode": {
    "name": "ipython",
    "version": 3
   },
   "file_extension": ".py",
   "mimetype": "text/x-python",
   "name": "python",
   "nbconvert_exporter": "python",
   "pygments_lexer": "ipython3",
   "version": "3.7.3"
  }
 },
 "nbformat": 4,
 "nbformat_minor": 2
}
