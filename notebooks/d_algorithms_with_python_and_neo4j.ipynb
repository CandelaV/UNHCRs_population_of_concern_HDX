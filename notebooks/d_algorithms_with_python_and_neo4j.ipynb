{
 "cells": [
  {
   "cell_type": "markdown",
   "metadata": {},
   "source": [
    "# Graph Theory Algorithms with Neo4j and python"
   ]
  },
  {
   "cell_type": "markdown",
   "metadata": {},
   "source": [
    "## Imports"
   ]
  },
  {
   "cell_type": "code",
   "execution_count": 1,
   "metadata": {
    "scrolled": true
   },
   "outputs": [],
   "source": [
    "from py2neo import Graph"
   ]
  },
  {
   "cell_type": "code",
   "execution_count": 2,
   "metadata": {
    "scrolled": true
   },
   "outputs": [],
   "source": [
    "from neo4j import GraphDatabase"
   ]
  },
  {
   "cell_type": "code",
   "execution_count": 3,
   "metadata": {
    "scrolled": true
   },
   "outputs": [],
   "source": [
    "import matplotlib.pyplot as plt\n",
    "import matplotlib.ticker as ticker"
   ]
  },
  {
   "cell_type": "code",
   "execution_count": 4,
   "metadata": {},
   "outputs": [],
   "source": [
    "import seaborn as sns\n",
    "sns.set();\n",
    "sns.color_palette(\"colorblind\");"
   ]
  },
  {
   "cell_type": "code",
   "execution_count": 5,
   "metadata": {
    "scrolled": true
   },
   "outputs": [],
   "source": [
    "%matplotlib inline"
   ]
  },
  {
   "cell_type": "code",
   "execution_count": 6,
   "metadata": {
    "scrolled": true
   },
   "outputs": [],
   "source": [
    "from scipy import stats"
   ]
  },
  {
   "cell_type": "markdown",
   "metadata": {},
   "source": [
    "## Conect to Neo4j"
   ]
  },
  {
   "cell_type": "code",
   "execution_count": 7,
   "metadata": {
    "scrolled": true
   },
   "outputs": [],
   "source": [
    "uri = 'bolt://neo4j-hdx:7687'"
   ]
  },
  {
   "cell_type": "code",
   "execution_count": 8,
   "metadata": {
    "scrolled": true
   },
   "outputs": [],
   "source": [
    "driver = GraphDatabase.driver(uri, auth=(\"neo4j\", \"test\"))"
   ]
  },
  {
   "cell_type": "code",
   "execution_count": 9,
   "metadata": {
    "scrolled": true
   },
   "outputs": [],
   "source": [
    "graph = Graph(uri, auth=(\"neo4j\", \"test\"))"
   ]
  },
  {
   "cell_type": "markdown",
   "metadata": {},
   "source": [
    "Obtain list of all years with data available:"
   ]
  },
  {
   "cell_type": "code",
   "execution_count": 10,
   "metadata": {
    "scrolled": true
   },
   "outputs": [],
   "source": [
    "years_list = [rel for rel in graph.schema.relationship_types if rel.isdigit()]\n",
    "years_list.sort()"
   ]
  },
  {
   "cell_type": "markdown",
   "metadata": {},
   "source": [
    "## Centrality Algorithms"
   ]
  },
  {
   "cell_type": "markdown",
   "metadata": {},
   "source": [
    "### Degree of centrality using a cypher query"
   ]
  },
  {
   "cell_type": "markdown",
   "metadata": {},
   "source": [
    "This algorithm is often used as part of a global analysis where to calculate the minimum degree, maximum degree, mean degree and standard deviation across the whole graph.\n",
    "\n",
    "https://neo4j.com/blog/graph-algorithms-neo4j-degree-centrality/"
   ]
  },
  {
   "cell_type": "code",
   "execution_count": 11,
   "metadata": {},
   "outputs": [],
   "source": [
    "def degree_centrality_given_year(tx,year):\n",
    "    return tx.run(\"MATCH (a:CountryYear) \"\n",
    "                  \"WHERE a.year={0} \"\n",
    "                  \"RETURN a.country as name, \"\n",
    "                  \"size((a)-[:RESIDE_IN]->()) AS originates_from, \"\n",
    "                  \"size((a)<-[:RESIDE_IN]-()) AS resides_in \".format(year))"
   ]
  },
  {
   "cell_type": "code",
   "execution_count": 12,
   "metadata": {
    "scrolled": true
   },
   "outputs": [],
   "source": [
    "year_D1 = 2017"
   ]
  },
  {
   "cell_type": "code",
   "execution_count": 13,
   "metadata": {
    "scrolled": true
   },
   "outputs": [],
   "source": [
    "with driver.session() as session:\n",
    "    centrality_year = session.read_transaction(degree_centrality_given_year, year_D1).data()"
   ]
  },
  {
   "cell_type": "code",
   "execution_count": 14,
   "metadata": {},
   "outputs": [],
   "source": [
    "def plot_centrality_given_year(centrality_year_list, year):\n",
    "    \n",
    "    f, axes = plt.subplots(2, 2, figsize=(15, 11), sharex=True);\n",
    "\n",
    "    p1 = sns.distplot([data['originates_from'] for data in centrality_year_list], \n",
    "                 kde=False, color=\"darkturquoise\", bins = 70, ax=axes[0,0])\n",
    "    p1.set_title(\"Originates from:\\n Histogram of Outbound relationships for CountryYear nodes in {0}\".format(year));\n",
    "\n",
    "    p2 = sns.distplot([data['resides_in'] for data in centrality_year_list], \n",
    "                 kde=False, color=\"royalblue\", bins = 90, ax=axes[1,0])\n",
    "    p2.set_title(\"Resides in:\\n Histogram Inbound relationships for CountryYear nodes in {0}\".format(year));\n",
    "\n",
    "    p3 = sns.boxplot(x=[data['originates_from'] for data in centrality_year_list],\n",
    "                     color=\"darkturquoise\", ax=axes[0,1])\n",
    "    p3.set_title(\"Originates from:\\n Boxplot of Outbound relationships for CountryYear nodes in {0}\".format(year));\n",
    "\n",
    "    p4 = sns.boxplot(x=[data['resides_in'] for data in centrality_year_list], \n",
    "                     color=\"royalblue\", ax=axes[1,1])\n",
    "    p4.set_title(\"Resides in:\\n Boxplot Inbound relationships for CountryYear nodes in {0}\".format(year));"
   ]
  },
  {
   "cell_type": "code",
   "execution_count": 15,
   "metadata": {},
   "outputs": [
    {
     "data": {
      "image/png": "[encoded data removed]",
      "text/plain": [
       "<Figure size 1080x792 with 4 Axes>"
      ]
     },
     "metadata": {
      "needs_background": "light"
     },
     "output_type": "display_data"
    }
   ],
   "source": [
    "plot_centrality_given_year(centrality_year, year_D1)"
   ]
  },
  {
   "cell_type": "code",
   "execution_count": 16,
   "metadata": {},
   "outputs": [
    {
     "data": {
      "text/plain": [
       "DescribeResult(nobs=199, minmax=(0, 114), mean=23.954773869346734, variance=635.6191563880005, skewness=1.3383048262981492, kurtosis=1.1780254015796912)"
      ]
     },
     "execution_count": 16,
     "metadata": {},
     "output_type": "execute_result"
    }
   ],
   "source": [
    "stats.describe([data['originates_from'] for data in centrality_year])"
   ]
  },
  {
   "cell_type": "code",
   "execution_count": 17,
   "metadata": {},
   "outputs": [
    {
     "data": {
      "text/plain": [
       "DescribeResult(nobs=199, minmax=(0, 179), mean=23.954773869346734, variance=1070.6797624486067, skewness=2.3602372151210917, kurtosis=5.855756996958778)"
      ]
     },
     "execution_count": 17,
     "metadata": {},
     "output_type": "execute_result"
    }
   ],
   "source": [
    "stats.describe([data['resides_in'] for data in centrality_year])"
   ]
  },
  {
   "cell_type": "markdown",
   "metadata": {},
   "source": [
    "Get the mean of centrality for all years in years_list:"
   ]
  },
  {
   "cell_type": "code",
   "execution_count": 18,
   "metadata": {},
   "outputs": [],
   "source": [
    "with driver.session() as session:\n",
    "    centrality_all_years = {}\n",
    "    for year in years_list:\n",
    "        centrality_all_years[year] = session.read_transaction(degree_centrality_given_year, year).data()"
   ]
  },
  {
   "cell_type": "code",
   "execution_count": 19,
   "metadata": {},
   "outputs": [],
   "source": [
    "mean_centrality_all_years_originate ={}\n",
    "mean_centrality_all_years_reside ={}\n",
    "\n",
    "for key in centrality_all_years.keys():\n",
    "    mean_centrality_all_years_originate[key] = stats.describe([data['resides_in'] for data in centrality_all_years[key]]).mean\n",
    "    mean_centrality_all_years_reside[key] = stats.describe([data['originates_from'] for data in centrality_all_years[key]]).mean"
   ]
  },
  {
   "cell_type": "code",
   "execution_count": 20,
   "metadata": {},
   "outputs": [],
   "source": [
    "def plot_mean_centrality_all_years(mean_centrality_all_years_list):\n",
    "    plt.figure(figsize=(16,4))\n",
    "    ax = sns.barplot(x=list(mean_centrality_all_years_list.keys()), \n",
    "                     y=list(mean_centrality_all_years_list.values()),\n",
    "                     color=\"darkturquoise\")\n",
    "    ax.yaxis.set_major_formatter(ticker.EngFormatter())\n",
    "    plt.xticks(rotation=45, ha='right')\n",
    "    plt.title(\"Calculated Mean of Degree of Centrality for all years with data available\");"
   ]
  },
  {
   "cell_type": "code",
   "execution_count": 21,
   "metadata": {},
   "outputs": [
    {
     "data": {
      "image/png": "[encoded data removed]",
      "text/plain": [
       "<Figure size 1152x288 with 1 Axes>"
      ]
     },
     "metadata": {
      "needs_background": "light"
     },
     "output_type": "display_data"
    }
   ],
   "source": [
    "plot_mean_centrality_all_years(mean_centrality_all_years_originate)"
   ]
  },
  {
   "cell_type": "markdown",
   "metadata": {},
   "source": [
    "### Degree Centrality Algorithm with \"algo\" package"
   ]
  },
  {
   "cell_type": "markdown",
   "metadata": {},
   "source": [
    "Use Degree Centrality when attempting to analyze influence by looking at the number of incoming and outgoing relationships, or find the “popularity” of individ‐ ual nodes.\n",
    "\n",
    "https://neo4j.com/docs/graph-algorithms/current/algorithms/degree-centrality/"
   ]
  },
  {
   "cell_type": "code",
   "execution_count": 22,
   "metadata": {},
   "outputs": [],
   "source": [
    "def algo_degree_given_year(tx,year):\n",
    "    return tx.run(\"CALL algo.degree( \"\n",
    "                  \"'MATCH (n:CountryYear) WHERE n.year={0} RETURN id(n) AS id', \"\n",
    "                  \"'MATCH (n)-[r:RESIDE_IN]->(m) RETURN id(n) AS source, id(m) AS target', \"\n",
    "                  \"{{graph:'cypher', write: true, writeProperty: 'centrality'}})\"\n",
    "                  \"YIELD nodes, loadMillis, computeMillis, writeMillis, write, writeProperty\".format(year))"
   ]
  },
  {
   "cell_type": "markdown",
   "metadata": {},
   "source": [
    "Include degree of centrality as property in nodes for all queried subgraphs (one per year):"
   ]
  },
  {
   "cell_type": "code",
   "execution_count": 23,
   "metadata": {},
   "outputs": [],
   "source": [
    "with driver.session() as session:\n",
    "    result_algo_degree = {}\n",
    "    for year in years_list:\n",
    "        result_algo_degree[year] = session.read_transaction(algo_degree_given_year, year).data()"
   ]
  },
  {
   "cell_type": "markdown",
   "metadata": {},
   "source": [
    "### Betweenness Centrality Algorithm with \"algo\" package"
   ]
  },
  {
   "cell_type": "markdown",
   "metadata": {},
   "source": [
    "Use it to find bottlenecks, control points, and vulnerabilities.\n",
    "\n",
    "https://neo4j.com/docs/graph-algorithms/current/algorithms/betweenness-centrality/"
   ]
  },
  {
   "cell_type": "code",
   "execution_count": 24,
   "metadata": {},
   "outputs": [],
   "source": [
    "def algo_betweenness_given_year(tx,year):\n",
    "    return tx.run(\"CALL algo.betweenness( \"\n",
    "                  \"'MATCH (n:CountryYear) WHERE n.year={0} RETURN id(n) AS id', \"\n",
    "                  \"'MATCH (n)-[r:RESIDE_IN]->(m) RETURN id(n) AS source, id(m) AS target', \"\n",
    "                  \"{{graph:'cypher', write: true, writeProperty: 'betweenness'}}) \"\n",
    "                  \"YIELD nodes, minCentrality, maxCentrality, sumCentrality, loadMillis, computeMillis, writeMillis\".format(year))"
   ]
  },
  {
   "cell_type": "markdown",
   "metadata": {},
   "source": [
    "Include betweenness as property in nodes for all queried subgraphs (one per year):"
   ]
  },
  {
   "cell_type": "code",
   "execution_count": 25,
   "metadata": {},
   "outputs": [],
   "source": [
    "with driver.session() as session:\n",
    "    result_algo_betweenness = {}\n",
    "    for year in years_list:\n",
    "        result_algo_betweenness[year] = session.read_transaction(algo_betweenness_given_year, year).data()"
   ]
  },
  {
   "cell_type": "code",
   "execution_count": 26,
   "metadata": {},
   "outputs": [
    {
     "data": {
      "text/plain": [
       "{'1960': [{'nodes': 2,\n",
       "   'minCentrality': -1.0,\n",
       "   'maxCentrality': -1.0,\n",
       "   'sumCentrality': -1.0,\n",
       "   'loadMillis': 275,\n",
       "   'computeMillis': 13,\n",
       "   'writeMillis': 10}],\n",
       " '1961': [{'nodes': 8,\n",
       "   'minCentrality': -1.0,\n",
       "   'maxCentrality': -1.0,\n",
       "   'sumCentrality': -1.0,\n",
       "   'loadMillis': 269,\n",
       "   'computeMillis': 17,\n",
       "   'writeMillis': 0}],\n",
       " '1962': [{'nodes': 8,\n",
       "   'minCentrality': -1.0,\n",
       "   'maxCentrality': -1.0,\n",
       "   'sumCentrality': -1.0,\n",
       "   'loadMillis': 273,\n",
       "   'computeMillis': 10,\n",
       "   'writeMillis': 0}],\n",
       " '1963': [{'nodes': 11,\n",
       "   'minCentrality': -1.0,\n",
       "   'maxCentrality': -1.0,\n",
       "   'sumCentrality': -1.0,\n",
       "   'loadMillis': 263,\n",
       "   'computeMillis': 15,\n",
       "   'writeMillis': 0}],\n",
       " '1964': [{'nodes': 25,\n",
       "   'minCentrality': -1.0,\n",
       "   'maxCentrality': -1.0,\n",
       "   'sumCentrality': -1.0,\n",
       "   'loadMillis': 253,\n",
       "   'computeMillis': 10,\n",
       "   'writeMillis': 0}],\n",
       " '1965': [{'nodes': 27,\n",
       "   'minCentrality': -1.0,\n",
       "   'maxCentrality': -1.0,\n",
       "   'sumCentrality': -1.0,\n",
       "   'loadMillis': 263,\n",
       "   'computeMillis': 17,\n",
       "   'writeMillis': 0}],\n",
       " '1966': [{'nodes': 33,\n",
       "   'minCentrality': -1.0,\n",
       "   'maxCentrality': -1.0,\n",
       "   'sumCentrality': -1.0,\n",
       "   'loadMillis': 262,\n",
       "   'computeMillis': 2,\n",
       "   'writeMillis': 0}],\n",
       " '1967': [{'nodes': 29,\n",
       "   'minCentrality': -1.0,\n",
       "   'maxCentrality': -1.0,\n",
       "   'sumCentrality': -1.0,\n",
       "   'loadMillis': 264,\n",
       "   'computeMillis': 1,\n",
       "   'writeMillis': 0}],\n",
       " '1968': [{'nodes': 37,\n",
       "   'minCentrality': -1.0,\n",
       "   'maxCentrality': -1.0,\n",
       "   'sumCentrality': -1.0,\n",
       "   'loadMillis': 294,\n",
       "   'computeMillis': 1,\n",
       "   'writeMillis': 1}],\n",
       " '1969': [{'nodes': 43,\n",
       "   'minCentrality': -1.0,\n",
       "   'maxCentrality': -1.0,\n",
       "   'sumCentrality': -1.0,\n",
       "   'loadMillis': 275,\n",
       "   'computeMillis': 1,\n",
       "   'writeMillis': 0}],\n",
       " '1970': [{'nodes': 50,\n",
       "   'minCentrality': -1.0,\n",
       "   'maxCentrality': -1.0,\n",
       "   'sumCentrality': -1.0,\n",
       "   'loadMillis': 268,\n",
       "   'computeMillis': 1,\n",
       "   'writeMillis': 0}],\n",
       " '1971': [{'nodes': 57,\n",
       "   'minCentrality': -1.0,\n",
       "   'maxCentrality': -1.0,\n",
       "   'sumCentrality': -1.0,\n",
       "   'loadMillis': 258,\n",
       "   'computeMillis': 1,\n",
       "   'writeMillis': 0}],\n",
       " '1972': [{'nodes': 58,\n",
       "   'minCentrality': -1.0,\n",
       "   'maxCentrality': -1.0,\n",
       "   'sumCentrality': -1.0,\n",
       "   'loadMillis': 264,\n",
       "   'computeMillis': 1,\n",
       "   'writeMillis': 0}],\n",
       " '1973': [{'nodes': 38,\n",
       "   'minCentrality': -1.0,\n",
       "   'maxCentrality': -1.0,\n",
       "   'sumCentrality': -1.0,\n",
       "   'loadMillis': 266,\n",
       "   'computeMillis': 1,\n",
       "   'writeMillis': 0}],\n",
       " '1974': [{'nodes': 47,\n",
       "   'minCentrality': -1.0,\n",
       "   'maxCentrality': -1.0,\n",
       "   'sumCentrality': -1.0,\n",
       "   'loadMillis': 269,\n",
       "   'computeMillis': 1,\n",
       "   'writeMillis': 0}],\n",
       " '1975': [{'nodes': 53,\n",
       "   'minCentrality': -1.0,\n",
       "   'maxCentrality': -1.0,\n",
       "   'sumCentrality': -1.0,\n",
       "   'loadMillis': 277,\n",
       "   'computeMillis': 1,\n",
       "   'writeMillis': 0}],\n",
       " '1976': [{'nodes': 50,\n",
       "   'minCentrality': -1.0,\n",
       "   'maxCentrality': -1.0,\n",
       "   'sumCentrality': -1.0,\n",
       "   'loadMillis': 263,\n",
       "   'computeMillis': 1,\n",
       "   'writeMillis': 0}],\n",
       " '1977': [{'nodes': 52,\n",
       "   'minCentrality': -1.0,\n",
       "   'maxCentrality': -1.0,\n",
       "   'sumCentrality': -1.0,\n",
       "   'loadMillis': 274,\n",
       "   'computeMillis': 1,\n",
       "   'writeMillis': 0}],\n",
       " '1978': [{'nodes': 71,\n",
       "   'minCentrality': -1.0,\n",
       "   'maxCentrality': -1.0,\n",
       "   'sumCentrality': -1.0,\n",
       "   'loadMillis': 265,\n",
       "   'computeMillis': 1,\n",
       "   'writeMillis': 0}],\n",
       " '1979': [{'nodes': 79,\n",
       "   'minCentrality': -1.0,\n",
       "   'maxCentrality': -1.0,\n",
       "   'sumCentrality': -1.0,\n",
       "   'loadMillis': 264,\n",
       "   'computeMillis': 1,\n",
       "   'writeMillis': 0}],\n",
       " '1980': [{'nodes': 94,\n",
       "   'minCentrality': -1.0,\n",
       "   'maxCentrality': -1.0,\n",
       "   'sumCentrality': -1.0,\n",
       "   'loadMillis': 270,\n",
       "   'computeMillis': 1,\n",
       "   'writeMillis': 0}],\n",
       " '1981': [{'nodes': 96,\n",
       "   'minCentrality': -1.0,\n",
       "   'maxCentrality': -1.0,\n",
       "   'sumCentrality': -1.0,\n",
       "   'loadMillis': 283,\n",
       "   'computeMillis': 1,\n",
       "   'writeMillis': 1}],\n",
       " '1982': [{'nodes': 104,\n",
       "   'minCentrality': -1.0,\n",
       "   'maxCentrality': -1.0,\n",
       "   'sumCentrality': -1.0,\n",
       "   'loadMillis': 288,\n",
       "   'computeMillis': 1,\n",
       "   'writeMillis': 0}],\n",
       " '1983': [{'nodes': 103,\n",
       "   'minCentrality': -1.0,\n",
       "   'maxCentrality': -1.0,\n",
       "   'sumCentrality': -1.0,\n",
       "   'loadMillis': 262,\n",
       "   'computeMillis': 1,\n",
       "   'writeMillis': 0}],\n",
       " '1984': [{'nodes': 108,\n",
       "   'minCentrality': -1.0,\n",
       "   'maxCentrality': -1.0,\n",
       "   'sumCentrality': -1.0,\n",
       "   'loadMillis': 263,\n",
       "   'computeMillis': 1,\n",
       "   'writeMillis': 1}],\n",
       " '1985': [{'nodes': 109,\n",
       "   'minCentrality': -1.0,\n",
       "   'maxCentrality': -1.0,\n",
       "   'sumCentrality': -1.0,\n",
       "   'loadMillis': 257,\n",
       "   'computeMillis': 1,\n",
       "   'writeMillis': 0}],\n",
       " '1986': [{'nodes': 105,\n",
       "   'minCentrality': -1.0,\n",
       "   'maxCentrality': -1.0,\n",
       "   'sumCentrality': -1.0,\n",
       "   'loadMillis': 271,\n",
       "   'computeMillis': 1,\n",
       "   'writeMillis': 1}],\n",
       " '1987': [{'nodes': 105,\n",
       "   'minCentrality': -1.0,\n",
       "   'maxCentrality': -1.0,\n",
       "   'sumCentrality': -1.0,\n",
       "   'loadMillis': 253,\n",
       "   'computeMillis': 1,\n",
       "   'writeMillis': 0}],\n",
       " '1988': [{'nodes': 113,\n",
       "   'minCentrality': -1.0,\n",
       "   'maxCentrality': -1.0,\n",
       "   'sumCentrality': -1.0,\n",
       "   'loadMillis': 279,\n",
       "   'computeMillis': 1,\n",
       "   'writeMillis': 0}],\n",
       " '1989': [{'nodes': 121,\n",
       "   'minCentrality': -1.0,\n",
       "   'maxCentrality': -1.0,\n",
       "   'sumCentrality': -1.0,\n",
       "   'loadMillis': 276,\n",
       "   'computeMillis': 1,\n",
       "   'writeMillis': 0}],\n",
       " '1990': [{'nodes': 131,\n",
       "   'minCentrality': -1.0,\n",
       "   'maxCentrality': -1.0,\n",
       "   'sumCentrality': -1.0,\n",
       "   'loadMillis': 264,\n",
       "   'computeMillis': 1,\n",
       "   'writeMillis': 0}],\n",
       " '1991': [{'nodes': 140,\n",
       "   'minCentrality': -1.0,\n",
       "   'maxCentrality': -1.0,\n",
       "   'sumCentrality': -1.0,\n",
       "   'loadMillis': 277,\n",
       "   'computeMillis': 1,\n",
       "   'writeMillis': 1}],\n",
       " '1992': [{'nodes': 150,\n",
       "   'minCentrality': -1.0,\n",
       "   'maxCentrality': -1.0,\n",
       "   'sumCentrality': -1.0,\n",
       "   'loadMillis': 268,\n",
       "   'computeMillis': 1,\n",
       "   'writeMillis': 1}],\n",
       " '1993': [{'nodes': 164,\n",
       "   'minCentrality': -1.0,\n",
       "   'maxCentrality': -1.0,\n",
       "   'sumCentrality': -1.0,\n",
       "   'loadMillis': 331,\n",
       "   'computeMillis': 2,\n",
       "   'writeMillis': 1}],\n",
       " '1994': [{'nodes': 174,\n",
       "   'minCentrality': -1.0,\n",
       "   'maxCentrality': -1.0,\n",
       "   'sumCentrality': -1.0,\n",
       "   'loadMillis': 268,\n",
       "   'computeMillis': 2,\n",
       "   'writeMillis': 1}],\n",
       " '1995': [{'nodes': 182,\n",
       "   'minCentrality': -1.0,\n",
       "   'maxCentrality': -1.0,\n",
       "   'sumCentrality': -1.0,\n",
       "   'loadMillis': 258,\n",
       "   'computeMillis': 2,\n",
       "   'writeMillis': 1}],\n",
       " '1996': [{'nodes': 186,\n",
       "   'minCentrality': -1.0,\n",
       "   'maxCentrality': -1.0,\n",
       "   'sumCentrality': -1.0,\n",
       "   'loadMillis': 275,\n",
       "   'computeMillis': 2,\n",
       "   'writeMillis': 1}],\n",
       " '1997': [{'nodes': 187,\n",
       "   'minCentrality': -1.0,\n",
       "   'maxCentrality': -1.0,\n",
       "   'sumCentrality': -1.0,\n",
       "   'loadMillis': 264,\n",
       "   'computeMillis': 3,\n",
       "   'writeMillis': 1}],\n",
       " '1998': [{'nodes': 187,\n",
       "   'minCentrality': -1.0,\n",
       "   'maxCentrality': -1.0,\n",
       "   'sumCentrality': -1.0,\n",
       "   'loadMillis': 287,\n",
       "   'computeMillis': 2,\n",
       "   'writeMillis': 1}],\n",
       " '1999': [{'nodes': 190,\n",
       "   'minCentrality': -1.0,\n",
       "   'maxCentrality': -1.0,\n",
       "   'sumCentrality': -1.0,\n",
       "   'loadMillis': 272,\n",
       "   'computeMillis': 2,\n",
       "   'writeMillis': 1}],\n",
       " '2000': [{'nodes': 193,\n",
       "   'minCentrality': -1.0,\n",
       "   'maxCentrality': -1.0,\n",
       "   'sumCentrality': -1.0,\n",
       "   'loadMillis': 282,\n",
       "   'computeMillis': 32,\n",
       "   'writeMillis': 1}],\n",
       " '2001': [{'nodes': 191,\n",
       "   'minCentrality': -1.0,\n",
       "   'maxCentrality': -1.0,\n",
       "   'sumCentrality': -1.0,\n",
       "   'loadMillis': 285,\n",
       "   'computeMillis': 21,\n",
       "   'writeMillis': 1}],\n",
       " '2002': [{'nodes': 198,\n",
       "   'minCentrality': -1.0,\n",
       "   'maxCentrality': -1.0,\n",
       "   'sumCentrality': -1.0,\n",
       "   'loadMillis': 267,\n",
       "   'computeMillis': 81,\n",
       "   'writeMillis': 1}],\n",
       " '2003': [{'nodes': 200,\n",
       "   'minCentrality': -1.0,\n",
       "   'maxCentrality': -1.0,\n",
       "   'sumCentrality': -1.0,\n",
       "   'loadMillis': 284,\n",
       "   'computeMillis': 5,\n",
       "   'writeMillis': 1}],\n",
       " '2004': [{'nodes': 198,\n",
       "   'minCentrality': -1.0,\n",
       "   'maxCentrality': -1.0,\n",
       "   'sumCentrality': -1.0,\n",
       "   'loadMillis': 266,\n",
       "   'computeMillis': 5,\n",
       "   'writeMillis': 1}],\n",
       " '2005': [{'nodes': 198,\n",
       "   'minCentrality': -1.0,\n",
       "   'maxCentrality': -1.0,\n",
       "   'sumCentrality': -1.0,\n",
       "   'loadMillis': 274,\n",
       "   'computeMillis': 6,\n",
       "   'writeMillis': 1}],\n",
       " '2006': [{'nodes': 200,\n",
       "   'minCentrality': -1.0,\n",
       "   'maxCentrality': -1.0,\n",
       "   'sumCentrality': -1.0,\n",
       "   'loadMillis': 283,\n",
       "   'computeMillis': 4,\n",
       "   'writeMillis': 1}],\n",
       " '2007': [{'nodes': 199,\n",
       "   'minCentrality': -1.0,\n",
       "   'maxCentrality': -1.0,\n",
       "   'sumCentrality': -1.0,\n",
       "   'loadMillis': 261,\n",
       "   'computeMillis': 6,\n",
       "   'writeMillis': 1}],\n",
       " '2008': [{'nodes': 200,\n",
       "   'minCentrality': -1.0,\n",
       "   'maxCentrality': -1.0,\n",
       "   'sumCentrality': -1.0,\n",
       "   'loadMillis': 285,\n",
       "   'computeMillis': 5,\n",
       "   'writeMillis': 1}],\n",
       " '2009': [{'nodes': 200,\n",
       "   'minCentrality': -1.0,\n",
       "   'maxCentrality': -1.0,\n",
       "   'sumCentrality': -1.0,\n",
       "   'loadMillis': 355,\n",
       "   'computeMillis': 5,\n",
       "   'writeMillis': 1}],\n",
       " '2010': [{'nodes': 202,\n",
       "   'minCentrality': -1.0,\n",
       "   'maxCentrality': -1.0,\n",
       "   'sumCentrality': -1.0,\n",
       "   'loadMillis': 288,\n",
       "   'computeMillis': 13,\n",
       "   'writeMillis': 1}],\n",
       " '2011': [{'nodes': 205,\n",
       "   'minCentrality': -1.0,\n",
       "   'maxCentrality': -1.0,\n",
       "   'sumCentrality': -1.0,\n",
       "   'loadMillis': 268,\n",
       "   'computeMillis': 7,\n",
       "   'writeMillis': 1}],\n",
       " '2012': [{'nodes': 206,\n",
       "   'minCentrality': -1.0,\n",
       "   'maxCentrality': -1.0,\n",
       "   'sumCentrality': -1.0,\n",
       "   'loadMillis': 264,\n",
       "   'computeMillis': 7,\n",
       "   'writeMillis': 1}],\n",
       " '2013': [{'nodes': 206,\n",
       "   'minCentrality': -1.0,\n",
       "   'maxCentrality': -1.0,\n",
       "   'sumCentrality': -1.0,\n",
       "   'loadMillis': 265,\n",
       "   'computeMillis': 6,\n",
       "   'writeMillis': 1}],\n",
       " '2014': [{'nodes': 209,\n",
       "   'minCentrality': -1.0,\n",
       "   'maxCentrality': -1.0,\n",
       "   'sumCentrality': -1.0,\n",
       "   'loadMillis': 260,\n",
       "   'computeMillis': 9,\n",
       "   'writeMillis': 1}],\n",
       " '2015': [{'nodes': 211,\n",
       "   'minCentrality': -1.0,\n",
       "   'maxCentrality': -1.0,\n",
       "   'sumCentrality': -1.0,\n",
       "   'loadMillis': 275,\n",
       "   'computeMillis': 6,\n",
       "   'writeMillis': 1}],\n",
       " '2016': [{'nodes': 212,\n",
       "   'minCentrality': -1.0,\n",
       "   'maxCentrality': -1.0,\n",
       "   'sumCentrality': -1.0,\n",
       "   'loadMillis': 257,\n",
       "   'computeMillis': 6,\n",
       "   'writeMillis': 1}],\n",
       " '2017': [{'nodes': 199,\n",
       "   'minCentrality': -1.0,\n",
       "   'maxCentrality': -1.0,\n",
       "   'sumCentrality': -1.0,\n",
       "   'loadMillis': 277,\n",
       "   'computeMillis': 5,\n",
       "   'writeMillis': 1}]}"
      ]
     },
     "execution_count": 26,
     "metadata": {},
     "output_type": "execute_result"
    }
   ],
   "source": [
    "result_algo_betweenness"
   ]
  },
  {
   "cell_type": "markdown",
   "metadata": {},
   "source": [
    "## Comunity Detection Algorithms"
   ]
  },
  {
   "cell_type": "markdown",
   "metadata": {},
   "source": [
    "Algorithms to evaluate how a group is clustered or partitioned"
   ]
  },
  {
   "cell_type": "markdown",
   "metadata": {},
   "source": [
    "### Strongly Connected Components algorithm with \"algo\" package"
   ]
  },
  {
   "cell_type": "markdown",
   "metadata": {},
   "source": [
    "Finds sets of connected nodes in a directed graph where each node is reachable in both directions from any other node in the same set. It is often used early in a graph analysis process to help get an idea of how the graph is structured\n",
    "\n",
    "https://neo4j.com/docs/graph-algorithms/current/algorithms/strongly-connected-components/"
   ]
  },
  {
   "cell_type": "code",
   "execution_count": 27,
   "metadata": {},
   "outputs": [],
   "source": [
    "def algo_scc_given_year(tx,year):\n",
    "    return tx.run(\"CALL algo.scc( \"\n",
    "                  \"'MATCH (n:CountryYear) WHERE n.year={0} RETURN id(n) AS id', \"\n",
    "                  \"'MATCH (n)-[r:RESIDE_IN]->(m) RETURN id(n) AS source, id(m) AS target', \"\n",
    "                  \"{{graph:'cypher', write: true, writeProperty:'partition_scc'}}) \"\n",
    "                  \"YIELD loadMillis, computeMillis, writeMillis, setCount, maxSetSize, minSetSize\".format(year))"
   ]
  },
  {
   "cell_type": "markdown",
   "metadata": {},
   "source": [
    "Include partition_scc as property in nodes for all queried subgraphs (one per year):"
   ]
  },
  {
   "cell_type": "code",
   "execution_count": 28,
   "metadata": {},
   "outputs": [],
   "source": [
    "with driver.session() as session:\n",
    "    result_algo_scc = {}\n",
    "    for year in years_list:\n",
    "        result_algo_scc[year] = session.read_transaction(algo_scc_given_year, year).data()"
   ]
  },
  {
   "cell_type": "markdown",
   "metadata": {},
   "source": [
    "### Louvain algorithm with \"algo\" package"
   ]
  },
  {
   "cell_type": "markdown",
   "metadata": {},
   "source": [
    "Algorithm for detecting communities in networks\n",
    "\n",
    "https://neo4j.com/docs/graph-algorithms/current/algorithms/louvain/"
   ]
  },
  {
   "cell_type": "code",
   "execution_count": 29,
   "metadata": {},
   "outputs": [],
   "source": [
    "def algo_louvain_given_year(tx,year):\n",
    "    return tx.run(\"CALL algo.louvain( \"\n",
    "                  \"'MATCH (n:CountryYear) WHERE n.year={0} RETURN id(n) AS id', \"\n",
    "                  \"'MATCH (n)-[r:RESIDE_IN]->(m) RETURN id(n) AS source, id(m) AS target , r.affected_total as weight', \"\n",
    "                  \"{{graph:'cypher', write: true, writeProperty: 'community_louvain', weightProperty:'weight' }})\"\n",
    "                  \"YIELD nodes, communityCount, iterations, loadMillis, computeMillis, writeMillis\".format(year))"
   ]
  },
  {
   "cell_type": "markdown",
   "metadata": {},
   "source": [
    "Include community_louvain as property in nodes for all queried subgraphs (one per year):"
   ]
  },
  {
   "cell_type": "code",
   "execution_count": 30,
   "metadata": {},
   "outputs": [],
   "source": [
    "with driver.session() as session:\n",
    "    result_algo_louvain = {}\n",
    "    for year in years_list:\n",
    "        result_algo_louvain[year] = session.read_transaction(algo_louvain_given_year, year).data()"
   ]
  }
 ],
 "metadata": {
  "kernelspec": {
   "display_name": "Python 3",
   "language": "python",
   "name": "python3"
  },
  "language_info": {
   "codemirror_mode": {
    "name": "ipython",
    "version": 3
   },
   "file_extension": ".py",
   "mimetype": "text/x-python",
   "name": "python",
   "nbconvert_exporter": "python",
   "pygments_lexer": "ipython3",
   "version": "3.7.3"
  }
 },
 "nbformat": 4,
 "nbformat_minor": 2
}
