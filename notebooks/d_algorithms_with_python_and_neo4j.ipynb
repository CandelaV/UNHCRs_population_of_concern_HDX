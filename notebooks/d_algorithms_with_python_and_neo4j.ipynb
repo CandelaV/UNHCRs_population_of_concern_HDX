{
 "cells": [
  {
   "cell_type": "markdown",
   "metadata": {},
   "source": [
    "## Centrality"
   ]
  },
  {
   "cell_type": "markdown",
   "metadata": {},
   "source": [
    "Degree of centrality:\n",
    "https://neo4j.com/blog/graph-algorithms-neo4j-degree-centrality/"
   ]
  },
  {
   "cell_type": "code",
   "execution_count": null,
   "metadata": {},
   "outputs": [],
   "source": [
    "def print_degree_centrality_given_year(tx,year):\n",
    "    for record in tx.run(\"MATCH (a:CountryYear) \"\n",
    "                         \"RETURN a.country as name, a.year as year, size((a)-[:RESIDE_IN]->()) AS originates_from, size((a)<-[:RESIDE_IN]-()) AS resides_in \".format(year)): \n",
    "        \n",
    "        print(\", \".join([record[\"name\"],str(record[\"year\"]),str(record[\"originates_from\"]),str(record[\"resides_in\"])]))"
   ]
  },
  {
   "cell_type": "code",
   "execution_count": null,
   "metadata": {
    "scrolled": true
   },
   "outputs": [],
   "source": [
    "year = 2017\n",
    "\n",
    "with driver.session() as session:\n",
    "    session.read_transaction(print_degree_centrality_given_year,year)"
   ]
  },
  {
   "cell_type": "code",
   "execution_count": null,
   "metadata": {},
   "outputs": [],
   "source": [
    "MATCH (u:User)\n",
    "RETURN u.id AS name,\n",
    "size((u)-[:FOLLOWS]->()) AS follows,\n",
    "size((u)<-[:FOLLOWS]-()) AS followers"
   ]
  },
  {
   "cell_type": "code",
   "execution_count": null,
   "metadata": {},
   "outputs": [],
   "source": []
  },
  {
   "cell_type": "code",
   "execution_count": null,
   "metadata": {},
   "outputs": [],
   "source": []
  },
  {
   "cell_type": "markdown",
   "metadata": {},
   "source": [
    "plot histogram of node degree"
   ]
  },
  {
   "cell_type": "code",
   "execution_count": null,
   "metadata": {},
   "outputs": [],
   "source": []
  },
  {
   "cell_type": "code",
   "execution_count": null,
   "metadata": {},
   "outputs": [],
   "source": []
  },
  {
   "cell_type": "raw",
   "metadata": {},
   "source": [
    "https://neo4j.com/docs/graph-algorithms/current/algorithms/betweenness-centrality/\n",
    "\n",
    "https://neo4j.com/blog/graph-algorithms-neo4j-library/"
   ]
  },
  {
   "cell_type": "raw",
   "metadata": {},
   "source": [
    "CALL algo.betweenness(\n",
    "\"MATCH (n:CountryYear) WHERE n.year=2009 RETURN id(n) AS id\",\n",
    "\"MATCH (n)-[r:RESIDE_IN]->(m) RETURN id(n) AS source, id(m) AS target\",\n",
    "{direction:'out',write:true, writeProperty:'centrality'})\n",
    "YIELD nodes, minCentrality, maxCentrality, sumCentrality, loadMillis, computeMillis, writeMillis;"
   ]
  },
  {
   "cell_type": "raw",
   "metadata": {},
   "source": [
    "CALL algo.betweenness(\n",
    "\"MATCH (n:CountryYear) WHERE n.year=2009 RETURN n,\n",
    "\"RESIDE_IN\",\n",
    "{direction:'out',write:true, writeProperty:'centrality'})\n",
    "YIELD nodes, minCentrality, maxCentrality, sumCentrality, loadMillis, computeMillis, writeMillis;"
   ]
  },
  {
   "cell_type": "raw",
   "metadata": {},
   "source": [
    "https://stackoverflow.com/questions/48773505/neo4j-install-apoc-and-graph-algorithms-neo-clienterror-procedure-procedureregis"
   ]
  },
  {
   "cell_type": "code",
   "execution_count": null,
   "metadata": {},
   "outputs": [],
   "source": []
  },
  {
   "cell_type": "code",
   "execution_count": null,
   "metadata": {},
   "outputs": [],
   "source": [
    "CALL algo.betweenness.stream(\n",
    "'MATCH (n:CountryYear) WHERE n.year=2009 RETURN id(n) AS id',\n",
    "'MATCH (n)-[r:RESIDE_IN]->(m) RETURN id(n) AS source, id(m) AS target',\n",
    "{graph: \"cypher\"})\n",
    "\n",
    "YIELD nodeId, centrality\n",
    "\n",
    "MATCH (CountryYear) WHERE id(CountryYear) = nodeId\n",
    "RETURN CountryYear.countryearId AS countryyear,centrality\n",
    "ORDER BY centrality DESC;"
   ]
  },
  {
   "cell_type": "code",
   "execution_count": null,
   "metadata": {},
   "outputs": [],
   "source": [
    "CALL algo.betweenness.stream(\n",
    "'MATCH (n:CountryYear) WHERE n.year=2009 RETURN id(n) AS id',\n",
    "'MATCH (n)-[r:RESIDE_IN]->(m) WHERE NOT EXISTS(r.affected_idps) RETURN id(n) AS source, id(m) AS target',\n",
    "{graph: \"cypher\"})\n",
    "\n",
    "YIELD nodeId, centrality\n",
    "\n",
    "MATCH (n:CountryYear) WHERE id(n) = nodeId\n",
    "RETURN n.countryearId AS countryyear, centrality\n",
    "ORDER BY centrality DESC"
   ]
  },
  {
   "cell_type": "markdown",
   "metadata": {},
   "source": [
    "## Comunity Detection"
   ]
  },
  {
   "cell_type": "code",
   "execution_count": null,
   "metadata": {},
   "outputs": [],
   "source": []
  }
 ],
 "metadata": {
  "kernelspec": {
   "display_name": "Python 3",
   "language": "python",
   "name": "python3"
  },
  "language_info": {
   "codemirror_mode": {
    "name": "ipython",
    "version": 3
   },
   "file_extension": ".py",
   "mimetype": "text/x-python",
   "name": "python",
   "nbconvert_exporter": "python",
   "pygments_lexer": "ipython3",
   "version": "3.7.3"
  }
 },
 "nbformat": 4,
 "nbformat_minor": 2
}
