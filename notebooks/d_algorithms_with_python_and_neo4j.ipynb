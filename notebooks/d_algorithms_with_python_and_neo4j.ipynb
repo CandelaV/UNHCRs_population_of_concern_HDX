{
 "cells": [
  {
   "cell_type": "markdown",
   "metadata": {},
   "source": [
    "# Graph Theory Algorithms with Neo4j and python"
   ]
  },
  {
   "cell_type": "markdown",
   "metadata": {},
   "source": [
    "## Imports"
   ]
  },
  {
   "cell_type": "code",
   "execution_count": 1,
   "metadata": {
    "scrolled": true
   },
   "outputs": [],
   "source": [
    "from py2neo import Graph"
   ]
  },
  {
   "cell_type": "code",
   "execution_count": 2,
   "metadata": {
    "scrolled": true
   },
   "outputs": [],
   "source": [
    "from neo4j import GraphDatabase"
   ]
  },
  {
   "cell_type": "code",
   "execution_count": 3,
   "metadata": {
    "scrolled": true
   },
   "outputs": [],
   "source": [
    "from tabulate import tabulate"
   ]
  },
  {
   "cell_type": "code",
   "execution_count": 4,
   "metadata": {
    "scrolled": true
   },
   "outputs": [],
   "source": [
    "import matplotlib.pyplot as plt\n",
    "import seaborn as sns\n",
    "import matplotlib.ticker as ticker"
   ]
  },
  {
   "cell_type": "code",
   "execution_count": 5,
   "metadata": {
    "scrolled": true
   },
   "outputs": [],
   "source": [
    "%matplotlib inline"
   ]
  },
  {
   "cell_type": "markdown",
   "metadata": {},
   "source": [
    "## Conect to Neo4j"
   ]
  },
  {
   "cell_type": "code",
   "execution_count": 6,
   "metadata": {
    "scrolled": true
   },
   "outputs": [],
   "source": [
    "uri = 'bolt://neo4j-hdx:7687'"
   ]
  },
  {
   "cell_type": "code",
   "execution_count": 7,
   "metadata": {
    "scrolled": true
   },
   "outputs": [],
   "source": [
    "driver = GraphDatabase.driver(uri, auth=(\"neo4j\", \"test\"))"
   ]
  },
  {
   "cell_type": "code",
   "execution_count": 11,
   "metadata": {
    "scrolled": true
   },
   "outputs": [],
   "source": [
    "graph = Graph(uri, auth=(\"neo4j\", \"test\"))"
   ]
  },
  {
   "cell_type": "markdown",
   "metadata": {},
   "source": [
    "Obtain list of all years with data available:"
   ]
  },
  {
   "cell_type": "code",
   "execution_count": 12,
   "metadata": {
    "scrolled": true
   },
   "outputs": [],
   "source": [
    "years_list = [rel for rel in graph.schema.relationship_types if rel.isdigit()]\n",
    "years_list.sort()"
   ]
  },
  {
   "cell_type": "markdown",
   "metadata": {},
   "source": [
    "## Centrality"
   ]
  },
  {
   "cell_type": "markdown",
   "metadata": {},
   "source": [
    "Degree of centrality:\n",
    "https://neo4j.com/blog/graph-algorithms-neo4j-degree-centrality/"
   ]
  },
  {
   "cell_type": "code",
   "execution_count": 136,
   "metadata": {},
   "outputs": [],
   "source": [
    "def degree_centrality_given_year(tx,year):\n",
    "    return tx.run(\"MATCH (a:CountryYear) \"\n",
    "                  \"RETURN a.country as name, \"\n",
    "                  \"size((a)-[:RESIDE_IN]->()) AS originates_from, \"\n",
    "                  \"size((a)<-[:RESIDE_IN]-()) AS resides_in \".format(year))"
   ]
  },
  {
   "cell_type": "code",
   "execution_count": 158,
   "metadata": {
    "scrolled": true
   },
   "outputs": [
    {
     "data": {
      "text/plain": [
       "Text(0.5, 1.0, 'Resides in')"
      ]
     },
     "execution_count": 158,
     "metadata": {},
     "output_type": "execute_result"
    },
    {
     "data": {
      "image/png": "[encoded data removed]",
      "text/plain": [
       "<Figure size 504x504 with 2 Axes>"
      ]
     },
     "metadata": {
      "needs_background": "light"
     },
     "output_type": "display_data"
    }
   ],
   "source": [
    "year = 2007\n",
    "\n",
    "with driver.session() as session:\n",
    "    centrality_year = session.read_transaction(degree_centrality_given_year, year).data()\n",
    "    \n",
    "f, axes = plt.subplots(2, 1, figsize=(7, 7), sharex=True)\n",
    "sns.distplot([data['originates_from'] for data in centrality_year], kde=False, color=\"b\", ax=axes[0]).set_title(\"Originates from\")\n",
    "sns.distplot([data['resides_in'] for data in centrality_year], kde=False, color=\"g\", ax=axes[1]).set_title(\"Resides in\")"
   ]
  },
  {
   "cell_type": "code",
   "execution_count": null,
   "metadata": {},
   "outputs": [],
   "source": []
  },
  {
   "cell_type": "markdown",
   "metadata": {},
   "source": [
    "Include degree of centrality as property in nodes:"
   ]
  },
  {
   "cell_type": "code",
   "execution_count": null,
   "metadata": {},
   "outputs": [],
   "source": []
  },
  {
   "cell_type": "code",
   "execution_count": null,
   "metadata": {},
   "outputs": [],
   "source": []
  },
  {
   "cell_type": "raw",
   "metadata": {},
   "source": [
    "https://neo4j.com/docs/graph-algorithms/current/algorithms/betweenness-centrality/\n",
    "\n",
    "https://neo4j.com/blog/graph-algorithms-neo4j-library/"
   ]
  },
  {
   "cell_type": "raw",
   "metadata": {},
   "source": [
    "CALL algo.betweenness(\n",
    "\"MATCH (n:CountryYear) WHERE n.year=2009 RETURN id(n) AS id\",\n",
    "\"MATCH (n)-[r:RESIDE_IN]->(m) RETURN id(n) AS source, id(m) AS target\",\n",
    "{direction:'out',write:true, writeProperty:'centrality'})\n",
    "YIELD nodes, minCentrality, maxCentrality, sumCentrality, loadMillis, computeMillis, writeMillis;"
   ]
  },
  {
   "cell_type": "raw",
   "metadata": {},
   "source": [
    "CALL algo.betweenness(\n",
    "\"MATCH (n:CountryYear) WHERE n.year=2009 RETURN n,\n",
    "\"RESIDE_IN\",\n",
    "{direction:'out',write:true, writeProperty:'centrality'})\n",
    "YIELD nodes, minCentrality, maxCentrality, sumCentrality, loadMillis, computeMillis, writeMillis;"
   ]
  },
  {
   "cell_type": "code",
   "execution_count": null,
   "metadata": {},
   "outputs": [],
   "source": []
  },
  {
   "cell_type": "code",
   "execution_count": null,
   "metadata": {},
   "outputs": [],
   "source": [
    "CALL algo.betweenness.stream(\n",
    "'MATCH (n:CountryYear) WHERE n.year=2009 RETURN id(n) AS id',\n",
    "'MATCH (n)-[r:RESIDE_IN]->(m) RETURN id(n) AS source, id(m) AS target',\n",
    "{graph: \"cypher\"})\n",
    "\n",
    "YIELD nodeId, centrality\n",
    "\n",
    "MATCH (CountryYear) WHERE id(CountryYear) = nodeId\n",
    "RETURN CountryYear.countryearId AS countryyear,centrality\n",
    "ORDER BY centrality DESC;"
   ]
  },
  {
   "cell_type": "code",
   "execution_count": null,
   "metadata": {},
   "outputs": [],
   "source": [
    "CALL algo.betweenness.stream(\n",
    "'MATCH (n:CountryYear) WHERE n.year=2009 RETURN id(n) AS id',\n",
    "'MATCH (n)-[r:RESIDE_IN]->(m) WHERE NOT EXISTS(r.affected_idps) RETURN id(n) AS source, id(m) AS target',\n",
    "{graph: \"cypher\"})\n",
    "\n",
    "YIELD nodeId, centrality\n",
    "\n",
    "MATCH (n:CountryYear) WHERE id(n) = nodeId\n",
    "RETURN n.countryearId AS countryyear, centrality\n",
    "ORDER BY centrality DESC"
   ]
  },
  {
   "cell_type": "markdown",
   "metadata": {},
   "source": [
    "## Comunity Detection"
   ]
  },
  {
   "cell_type": "markdown",
   "metadata": {},
   "source": [
    "Include comunity groupping as property in nodes:"
   ]
  },
  {
   "cell_type": "code",
   "execution_count": null,
   "metadata": {},
   "outputs": [],
   "source": []
  }
 ],
 "metadata": {
  "kernelspec": {
   "display_name": "Python 3",
   "language": "python",
   "name": "python3"
  },
  "language_info": {
   "codemirror_mode": {
    "name": "ipython",
    "version": 3
   },
   "file_extension": ".py",
   "mimetype": "text/x-python",
   "name": "python",
   "nbconvert_exporter": "python",
   "pygments_lexer": "ipython3",
   "version": "3.7.3"
  }
 },
 "nbformat": 4,
 "nbformat_minor": 2
}
