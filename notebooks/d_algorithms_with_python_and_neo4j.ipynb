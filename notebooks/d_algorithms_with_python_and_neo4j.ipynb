{
 "cells": [
  {
   "cell_type": "code",
   "execution_count": null,
   "metadata": {},
   "outputs": [],
   "source": []
  },
  {
   "cell_type": "raw",
   "metadata": {},
   "source": [
    "https://neo4j.com/docs/graph-algorithms/current/algorithms/betweenness-centrality/\n",
    "\n",
    "https://neo4j.com/blog/graph-algorithms-neo4j-library/"
   ]
  },
  {
   "cell_type": "raw",
   "metadata": {},
   "source": [
    "CALL algo.betweenness(\n",
    "\"MATCH (n:CountryYear) WHERE n.year=2009 RETURN id(n) AS id\",\n",
    "\"MATCH (n)-[r:RESIDE_IN]->(m) RETURN id(n) AS source, id(m) AS target\",\n",
    "{direction:'out',write:true, writeProperty:'centrality'})\n",
    "YIELD nodes, minCentrality, maxCentrality, sumCentrality, loadMillis, computeMillis, writeMillis;"
   ]
  },
  {
   "cell_type": "raw",
   "metadata": {},
   "source": [
    "CALL algo.betweenness(\n",
    "\"MATCH (n:CountryYear) WHERE n.year=2009 RETURN n,\n",
    "\"RESIDE_IN\",\n",
    "{direction:'out',write:true, writeProperty:'centrality'})\n",
    "YIELD nodes, minCentrality, maxCentrality, sumCentrality, loadMillis, computeMillis, writeMillis;"
   ]
  },
  {
   "cell_type": "raw",
   "metadata": {},
   "source": [
    "https://stackoverflow.com/questions/48773505/neo4j-install-apoc-and-graph-algorithms-neo-clienterror-procedure-procedureregis"
   ]
  },
  {
   "cell_type": "code",
   "execution_count": null,
   "metadata": {},
   "outputs": [],
   "source": []
  },
  {
   "cell_type": "code",
   "execution_count": null,
   "metadata": {},
   "outputs": [],
   "source": [
    "CALL algo.betweenness.stream(\n",
    "'MATCH (n:CountryYear) WHERE n.year=2009 RETURN id(n) AS id',\n",
    "'MATCH (n)-[r:RESIDE_IN]->(m) WHERE n.year=2016 and m.year=2016 RETURN id(n) AS source, id(m) AS target',\n",
    "{graph: \"cypher\"})\n",
    "\n",
    "YIELD nodeId, centrality\n",
    "\n",
    "MATCH (CountryYear) WHERE id(CountryYear) = nodeId\n",
    "RETURN CountryYear.countryearId AS countryyear,centrality\n",
    "ORDER BY centrality DESC;"
   ]
  }
 ],
 "metadata": {
  "kernelspec": {
   "display_name": "Python 3",
   "language": "python",
   "name": "python3"
  },
  "language_info": {
   "codemirror_mode": {
    "name": "ipython",
    "version": 3
   },
   "file_extension": ".py",
   "mimetype": "text/x-python",
   "name": "python",
   "nbconvert_exporter": "python",
   "pygments_lexer": "ipython3",
   "version": "3.7.3"
  }
 },
 "nbformat": 4,
 "nbformat_minor": 2
}
