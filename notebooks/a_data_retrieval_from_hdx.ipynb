{
 "cells": [
  {
   "cell_type": "markdown",
   "metadata": {},
   "source": [
    "# Data retrieval from HDX"
   ]
  },
  {
   "cell_type": "markdown",
   "metadata": {},
   "source": [
    "## Imports"
   ]
  },
  {
   "cell_type": "code",
   "execution_count": 1,
   "metadata": {
    "scrolled": true
   },
   "outputs": [],
   "source": [
    "from hdx.hdx_configuration import Configuration\n",
    "from hdx.data.dataset import Dataset\n",
    "from tqdm import tqdm"
   ]
  },
  {
   "cell_type": "markdown",
   "metadata": {},
   "source": [
    "### HDX API configuration"
   ]
  },
  {
   "cell_type": "code",
   "execution_count": 2,
   "metadata": {},
   "outputs": [
    {
     "data": {
      "text/plain": [
       "'https://data.humdata.org/'"
      ]
     },
     "execution_count": 2,
     "metadata": {},
     "output_type": "execute_result"
    }
   ],
   "source": [
    "Configuration.create(hdx_site='prod', user_agent='A_Quick_Example', hdx_read_only=True)"
   ]
  },
  {
   "cell_type": "markdown",
   "metadata": {},
   "source": [
    "Get a list of all datasets available in HDX:"
   ]
  },
  {
   "cell_type": "code",
   "execution_count": 3,
   "metadata": {
    "scrolled": true
   },
   "outputs": [],
   "source": [
    "list_datasets = Dataset.get_all_dataset_names()"
   ]
  },
  {
   "cell_type": "markdown",
   "metadata": {},
   "source": [
    "There are 12732 datasets"
   ]
  },
  {
   "cell_type": "code",
   "execution_count": 4,
   "metadata": {},
   "outputs": [
    {
     "data": {
      "text/plain": [
       "12141"
      ]
     },
     "execution_count": 4,
     "metadata": {},
     "output_type": "execute_result"
    }
   ],
   "source": [
    "len(list_datasets)"
   ]
  },
  {
   "cell_type": "markdown",
   "metadata": {},
   "source": [
    "Create a fuction that dowloads into a local file path all data files from a given list of dataset names of HDX:"
   ]
  },
  {
   "cell_type": "code",
   "execution_count": 5,
   "metadata": {
    "scrolled": true
   },
   "outputs": [],
   "source": [
    "def download_data_from_HDX(output_path, dataset_list):\n",
    "    \n",
    "    import os\n",
    "    \n",
    "    for element in tqdm(dataset_list):\n",
    "        \n",
    "        dst = Dataset.read_from_hdx(element)\n",
    "        rsc = dst.get_resources()\n",
    "        \n",
    "        file_path_name = output_path + element + '.' + rsc[0][\"format\"].lower()\n",
    "        \n",
    "        if os.path.exists(file_path_name):\n",
    "            print(\"Data from {0} is already in {1}\".format(element, output_path))\n",
    "            \n",
    "        else:\n",
    "            url_downloaded, path_to_downloaded_file = rsc[0].download(output_path)\n",
    "            os.rename(path_to_downloaded_file, file_path_name)\n",
    "            print(\"Data from {0} downloaded into {1}\".format(element, output_path))"
   ]
  },
  {
   "cell_type": "markdown",
   "metadata": {},
   "source": [
    "#### People of concern Resisding in a certain country"
   ]
  },
  {
   "cell_type": "markdown",
   "metadata": {},
   "source": [
    "Define a list with only those datasets that include in their name the string 'refugees-residing':"
   ]
  },
  {
   "cell_type": "code",
   "execution_count": 6,
   "metadata": {
    "scrolled": true
   },
   "outputs": [],
   "source": [
    "residing = [k for k in list_datasets if 'refugees-residing' in k]"
   ]
  },
  {
   "cell_type": "code",
   "execution_count": 7,
   "metadata": {},
   "outputs": [
    {
     "data": {
      "text/plain": [
       "194"
      ]
     },
     "execution_count": 7,
     "metadata": {},
     "output_type": "execute_result"
    }
   ],
   "source": [
    "len(residing)"
   ]
  },
  {
   "cell_type": "code",
   "execution_count": 8,
   "metadata": {},
   "outputs": [
    {
     "data": {
      "text/plain": [
       "['refugees-residing-abw',\n",
       " 'refugees-residing-afg',\n",
       " 'refugees-residing-ago',\n",
       " 'refugees-residing-alb',\n",
       " 'refugees-residing-ant']"
      ]
     },
     "execution_count": 8,
     "metadata": {},
     "output_type": "execute_result"
    }
   ],
   "source": [
    "residing[0:5]"
   ]
  },
  {
   "cell_type": "code",
   "execution_count": 9,
   "metadata": {
    "scrolled": true
   },
   "outputs": [
    {
     "name": "stderr",
     "output_type": "stream",
     "text": [
      "  1%|          | 2/194 [00:00<00:30,  6.25it/s]"
     ]
    },
    {
     "name": "stdout",
     "output_type": "stream",
     "text": [
      "Data from refugees-residing-abw is already in ../data/raw/residing/\n",
      "Data from refugees-residing-afg is already in ../data/raw/residing/\n"
     ]
    },
    {
     "name": "stderr",
     "output_type": "stream",
     "text": [
      "  2%|▏         | 4/194 [00:00<00:30,  6.19it/s]"
     ]
    },
    {
     "name": "stdout",
     "output_type": "stream",
     "text": [
      "Data from refugees-residing-ago is already in ../data/raw/residing/\n",
      "Data from refugees-residing-alb is already in ../data/raw/residing/\n"
     ]
    },
    {
     "name": "stderr",
     "output_type": "stream",
     "text": [
      "  3%|▎         | 6/194 [00:00<00:29,  6.36it/s]"
     ]
    },
    {
     "name": "stdout",
     "output_type": "stream",
     "text": [
      "Data from refugees-residing-ant is already in ../data/raw/residing/\n",
      "Data from refugees-residing-are is already in ../data/raw/residing/\n"
     ]
    },
    {
     "name": "stderr",
     "output_type": "stream",
     "text": [
      "  4%|▍         | 8/194 [00:01<00:29,  6.26it/s]"
     ]
    },
    {
     "name": "stdout",
     "output_type": "stream",
     "text": [
      "Data from refugees-residing-arg is already in ../data/raw/residing/\n",
      "Data from refugees-residing-arm is already in ../data/raw/residing/\n"
     ]
    },
    {
     "name": "stderr",
     "output_type": "stream",
     "text": [
      "  5%|▌         | 10/194 [00:01<00:28,  6.35it/s]"
     ]
    },
    {
     "name": "stdout",
     "output_type": "stream",
     "text": [
      "Data from refugees-residing-atg is already in ../data/raw/residing/\n",
      "Data from refugees-residing-aus is already in ../data/raw/residing/\n"
     ]
    },
    {
     "name": "stderr",
     "output_type": "stream",
     "text": [
      "  6%|▌         | 12/194 [00:02<00:35,  5.14it/s]"
     ]
    },
    {
     "name": "stdout",
     "output_type": "stream",
     "text": [
      "Data from refugees-residing-aut is already in ../data/raw/residing/\n",
      "Data from refugees-residing-aze is already in ../data/raw/residing/\n"
     ]
    },
    {
     "name": "stderr",
     "output_type": "stream",
     "text": [
      "  7%|▋         | 14/194 [00:02<00:31,  5.76it/s]"
     ]
    },
    {
     "name": "stdout",
     "output_type": "stream",
     "text": [
      "Data from refugees-residing-bdi is already in ../data/raw/residing/\n",
      "Data from refugees-residing-bel is already in ../data/raw/residing/\n"
     ]
    },
    {
     "name": "stderr",
     "output_type": "stream",
     "text": [
      "  8%|▊         | 16/194 [00:02<00:31,  5.68it/s]"
     ]
    },
    {
     "name": "stdout",
     "output_type": "stream",
     "text": [
      "Data from refugees-residing-ben is already in ../data/raw/residing/\n",
      "Data from refugees-residing-bes is already in ../data/raw/residing/\n"
     ]
    },
    {
     "name": "stderr",
     "output_type": "stream",
     "text": [
      "  9%|▉         | 18/194 [00:03<00:29,  5.97it/s]"
     ]
    },
    {
     "name": "stdout",
     "output_type": "stream",
     "text": [
      "Data from refugees-residing-bfa is already in ../data/raw/residing/\n",
      "Data from refugees-residing-bgd is already in ../data/raw/residing/\n"
     ]
    },
    {
     "name": "stderr",
     "output_type": "stream",
     "text": [
      " 10%|█         | 20/194 [00:03<00:28,  6.10it/s]"
     ]
    },
    {
     "name": "stdout",
     "output_type": "stream",
     "text": [
      "Data from refugees-residing-bgr is already in ../data/raw/residing/\n",
      "Data from refugees-residing-bhr is already in ../data/raw/residing/\n"
     ]
    },
    {
     "name": "stderr",
     "output_type": "stream",
     "text": [
      " 11%|█▏        | 22/194 [00:03<00:28,  6.10it/s]"
     ]
    },
    {
     "name": "stdout",
     "output_type": "stream",
     "text": [
      "Data from refugees-residing-bhs is already in ../data/raw/residing/\n",
      "Data from refugees-residing-bih is already in ../data/raw/residing/\n"
     ]
    },
    {
     "name": "stderr",
     "output_type": "stream",
     "text": [
      " 12%|█▏        | 24/194 [00:04<00:28,  5.97it/s]"
     ]
    },
    {
     "name": "stdout",
     "output_type": "stream",
     "text": [
      "Data from refugees-residing-blr is already in ../data/raw/residing/\n",
      "Data from refugees-residing-blz is already in ../data/raw/residing/\n"
     ]
    },
    {
     "name": "stderr",
     "output_type": "stream",
     "text": [
      " 13%|█▎        | 26/194 [00:04<00:28,  5.94it/s]"
     ]
    },
    {
     "name": "stdout",
     "output_type": "stream",
     "text": [
      "Data from refugees-residing-bol is already in ../data/raw/residing/\n",
      "Data from refugees-residing-bra is already in ../data/raw/residing/\n"
     ]
    },
    {
     "name": "stderr",
     "output_type": "stream",
     "text": [
      " 14%|█▍        | 28/194 [00:04<00:26,  6.16it/s]"
     ]
    },
    {
     "name": "stdout",
     "output_type": "stream",
     "text": [
      "Data from refugees-residing-brb is already in ../data/raw/residing/\n",
      "Data from refugees-residing-brn is already in ../data/raw/residing/\n"
     ]
    },
    {
     "name": "stderr",
     "output_type": "stream",
     "text": [
      " 15%|█▍        | 29/194 [00:04<00:30,  5.33it/s]"
     ]
    },
    {
     "name": "stdout",
     "output_type": "stream",
     "text": [
      "Data from refugees-residing-btn is already in ../data/raw/residing/\n"
     ]
    },
    {
     "name": "stderr",
     "output_type": "stream",
     "text": [
      " 15%|█▌        | 30/194 [00:05<00:35,  4.68it/s]"
     ]
    },
    {
     "name": "stdout",
     "output_type": "stream",
     "text": [
      "Data from refugees-residing-bwa is already in ../data/raw/residing/\n"
     ]
    },
    {
     "name": "stderr",
     "output_type": "stream",
     "text": [
      " 16%|█▌        | 31/194 [00:05<00:34,  4.70it/s]"
     ]
    },
    {
     "name": "stdout",
     "output_type": "stream",
     "text": [
      "Data from refugees-residing-caf is already in ../data/raw/residing/\n"
     ]
    },
    {
     "name": "stderr",
     "output_type": "stream",
     "text": [
      " 16%|█▋        | 32/194 [00:05<00:36,  4.43it/s]"
     ]
    },
    {
     "name": "stdout",
     "output_type": "stream",
     "text": [
      "Data from refugees-residing-can is already in ../data/raw/residing/\n"
     ]
    },
    {
     "name": "stderr",
     "output_type": "stream",
     "text": [
      " 17%|█▋        | 33/194 [00:05<00:37,  4.27it/s]"
     ]
    },
    {
     "name": "stdout",
     "output_type": "stream",
     "text": [
      "Data from refugees-residing-che is already in ../data/raw/residing/\n"
     ]
    },
    {
     "name": "stderr",
     "output_type": "stream",
     "text": [
      " 18%|█▊        | 34/194 [00:06<00:47,  3.38it/s]"
     ]
    },
    {
     "name": "stdout",
     "output_type": "stream",
     "text": [
      "Data from refugees-residing-chl is already in ../data/raw/residing/\n"
     ]
    },
    {
     "name": "stderr",
     "output_type": "stream",
     "text": [
      " 18%|█▊        | 35/194 [00:06<00:48,  3.26it/s]"
     ]
    },
    {
     "name": "stdout",
     "output_type": "stream",
     "text": [
      "Data from refugees-residing-chn is already in ../data/raw/residing/\n"
     ]
    },
    {
     "name": "stderr",
     "output_type": "stream",
     "text": [
      " 19%|█▉        | 37/194 [00:07<00:44,  3.55it/s]"
     ]
    },
    {
     "name": "stdout",
     "output_type": "stream",
     "text": [
      "Data from refugees-residing-civ is already in ../data/raw/residing/\n",
      "Data from refugees-residing-cmr is already in ../data/raw/residing/\n"
     ]
    },
    {
     "name": "stderr",
     "output_type": "stream",
     "text": [
      " 20%|██        | 39/194 [00:07<00:35,  4.37it/s]"
     ]
    },
    {
     "name": "stdout",
     "output_type": "stream",
     "text": [
      "Data from refugees-residing-cod is already in ../data/raw/residing/\n",
      "Data from refugees-residing-cog is already in ../data/raw/residing/\n"
     ]
    },
    {
     "name": "stderr",
     "output_type": "stream",
     "text": [
      " 21%|██        | 40/194 [00:07<00:33,  4.63it/s]"
     ]
    },
    {
     "name": "stdout",
     "output_type": "stream",
     "text": [
      "Data from refugees-residing-col is already in ../data/raw/residing/\n"
     ]
    },
    {
     "name": "stderr",
     "output_type": "stream",
     "text": [
      " 21%|██        | 41/194 [00:08<01:10,  2.16it/s]"
     ]
    },
    {
     "name": "stdout",
     "output_type": "stream",
     "text": [
      "Data from refugees-residing-com is already in ../data/raw/residing/\n"
     ]
    },
    {
     "name": "stderr",
     "output_type": "stream",
     "text": [
      " 22%|██▏       | 42/194 [00:09<01:03,  2.39it/s]"
     ]
    },
    {
     "name": "stdout",
     "output_type": "stream",
     "text": [
      "Data from refugees-residing-cpv is already in ../data/raw/residing/\n"
     ]
    },
    {
     "name": "stderr",
     "output_type": "stream",
     "text": [
      " 23%|██▎       | 44/194 [00:09<00:57,  2.59it/s]"
     ]
    },
    {
     "name": "stdout",
     "output_type": "stream",
     "text": [
      "Data from refugees-residing-cri is already in ../data/raw/residing/\n",
      "Data from refugees-residing-cub is already in ../data/raw/residing/\n"
     ]
    },
    {
     "name": "stderr",
     "output_type": "stream",
     "text": [
      " 24%|██▎       | 46/194 [00:10<00:47,  3.11it/s]"
     ]
    },
    {
     "name": "stdout",
     "output_type": "stream",
     "text": [
      "Data from refugees-residing-cuw is already in ../data/raw/residing/\n",
      "Data from refugees-residing-cym is already in ../data/raw/residing/\n"
     ]
    },
    {
     "name": "stderr",
     "output_type": "stream",
     "text": [
      " 25%|██▍       | 48/194 [00:10<00:35,  4.16it/s]"
     ]
    },
    {
     "name": "stdout",
     "output_type": "stream",
     "text": [
      "Data from refugees-residing-cyp is already in ../data/raw/residing/\n",
      "Data from refugees-residing-cze is already in ../data/raw/residing/\n"
     ]
    },
    {
     "name": "stderr",
     "output_type": "stream",
     "text": [
      " 26%|██▌       | 50/194 [00:11<00:28,  4.97it/s]"
     ]
    },
    {
     "name": "stdout",
     "output_type": "stream",
     "text": [
      "Data from refugees-residing-deu is already in ../data/raw/residing/\n",
      "Data from refugees-residing-dji is already in ../data/raw/residing/\n"
     ]
    },
    {
     "name": "stderr",
     "output_type": "stream",
     "text": [
      " 27%|██▋       | 52/194 [00:11<00:25,  5.55it/s]"
     ]
    },
    {
     "name": "stdout",
     "output_type": "stream",
     "text": [
      "Data from refugees-residing-dnk is already in ../data/raw/residing/\n",
      "Data from refugees-residing-dom is already in ../data/raw/residing/\n"
     ]
    },
    {
     "name": "stderr",
     "output_type": "stream",
     "text": [
      " 28%|██▊       | 54/194 [00:11<00:24,  5.76it/s]"
     ]
    },
    {
     "name": "stdout",
     "output_type": "stream",
     "text": [
      "Data from refugees-residing-dza is already in ../data/raw/residing/\n",
      "Data from refugees-residing-ecu is already in ../data/raw/residing/\n"
     ]
    },
    {
     "name": "stderr",
     "output_type": "stream",
     "text": [
      " 29%|██▉       | 56/194 [00:12<00:23,  5.88it/s]"
     ]
    },
    {
     "name": "stdout",
     "output_type": "stream",
     "text": [
      "Data from refugees-residing-egy is already in ../data/raw/residing/\n",
      "Data from refugees-residing-eri is already in ../data/raw/residing/\n"
     ]
    },
    {
     "name": "stderr",
     "output_type": "stream",
     "text": [
      " 30%|██▉       | 58/194 [00:12<00:22,  5.92it/s]"
     ]
    },
    {
     "name": "stdout",
     "output_type": "stream",
     "text": [
      "Data from refugees-residing-esp is already in ../data/raw/residing/\n",
      "Data from refugees-residing-est is already in ../data/raw/residing/\n"
     ]
    },
    {
     "name": "stderr",
     "output_type": "stream",
     "text": [
      " 31%|███       | 60/194 [00:12<00:23,  5.77it/s]"
     ]
    },
    {
     "name": "stdout",
     "output_type": "stream",
     "text": [
      "Data from refugees-residing-eth is already in ../data/raw/residing/\n",
      "Data from refugees-residing-fin is already in ../data/raw/residing/\n"
     ]
    },
    {
     "name": "stderr",
     "output_type": "stream",
     "text": [
      " 32%|███▏      | 62/194 [00:13<00:22,  5.89it/s]"
     ]
    },
    {
     "name": "stdout",
     "output_type": "stream",
     "text": [
      "Data from refugees-residing-fji is already in ../data/raw/residing/\n",
      "Data from refugees-residing-fra is already in ../data/raw/residing/\n"
     ]
    },
    {
     "name": "stderr",
     "output_type": "stream",
     "text": [
      " 33%|███▎      | 64/194 [00:13<00:21,  6.04it/s]"
     ]
    },
    {
     "name": "stdout",
     "output_type": "stream",
     "text": [
      "Data from refugees-residing-fsm is already in ../data/raw/residing/\n",
      "Data from refugees-residing-gab is already in ../data/raw/residing/\n"
     ]
    },
    {
     "name": "stderr",
     "output_type": "stream",
     "text": [
      " 34%|███▍      | 66/194 [00:13<00:20,  6.17it/s]"
     ]
    },
    {
     "name": "stdout",
     "output_type": "stream",
     "text": [
      "Data from refugees-residing-gbr is already in ../data/raw/residing/\n",
      "Data from refugees-residing-geo is already in ../data/raw/residing/\n"
     ]
    },
    {
     "name": "stderr",
     "output_type": "stream",
     "text": [
      " 35%|███▌      | 68/194 [00:14<00:21,  6.00it/s]"
     ]
    },
    {
     "name": "stdout",
     "output_type": "stream",
     "text": [
      "Data from refugees-residing-gha is already in ../data/raw/residing/\n",
      "Data from refugees-residing-gin is already in ../data/raw/residing/\n"
     ]
    },
    {
     "name": "stderr",
     "output_type": "stream",
     "text": [
      " 36%|███▌      | 70/194 [00:14<00:22,  5.46it/s]"
     ]
    },
    {
     "name": "stdout",
     "output_type": "stream",
     "text": [
      "Data from refugees-residing-gmb is already in ../data/raw/residing/\n",
      "Data from refugees-residing-gnb is already in ../data/raw/residing/\n"
     ]
    },
    {
     "name": "stderr",
     "output_type": "stream",
     "text": [
      " 37%|███▋      | 72/194 [00:14<00:21,  5.72it/s]"
     ]
    },
    {
     "name": "stdout",
     "output_type": "stream",
     "text": [
      "Data from refugees-residing-gnq is already in ../data/raw/residing/\n",
      "Data from refugees-residing-grc is already in ../data/raw/residing/\n"
     ]
    },
    {
     "name": "stderr",
     "output_type": "stream",
     "text": [
      " 38%|███▊      | 74/194 [00:15<00:20,  5.80it/s]"
     ]
    },
    {
     "name": "stdout",
     "output_type": "stream",
     "text": [
      "Data from refugees-residing-grd is already in ../data/raw/residing/\n",
      "Data from refugees-residing-gtm is already in ../data/raw/residing/\n"
     ]
    },
    {
     "name": "stderr",
     "output_type": "stream",
     "text": [
      " 39%|███▉      | 76/194 [00:15<00:22,  5.35it/s]"
     ]
    },
    {
     "name": "stdout",
     "output_type": "stream",
     "text": [
      "Data from refugees-residing-guf is already in ../data/raw/residing/\n",
      "Data from refugees-residing-guy is already in ../data/raw/residing/\n"
     ]
    },
    {
     "name": "stderr",
     "output_type": "stream",
     "text": [
      " 40%|████      | 78/194 [00:16<00:21,  5.50it/s]"
     ]
    },
    {
     "name": "stdout",
     "output_type": "stream",
     "text": [
      "Data from refugees-residing-hkg is already in ../data/raw/residing/\n",
      "Data from refugees-residing-hnd is already in ../data/raw/residing/\n"
     ]
    },
    {
     "name": "stderr",
     "output_type": "stream",
     "text": [
      " 41%|████      | 80/194 [00:16<00:19,  5.89it/s]"
     ]
    },
    {
     "name": "stdout",
     "output_type": "stream",
     "text": [
      "Data from refugees-residing-hrv is already in ../data/raw/residing/\n",
      "Data from refugees-residing-hti is already in ../data/raw/residing/\n"
     ]
    },
    {
     "name": "stderr",
     "output_type": "stream",
     "text": [
      " 42%|████▏     | 81/194 [00:16<00:19,  5.88it/s]"
     ]
    },
    {
     "name": "stdout",
     "output_type": "stream",
     "text": [
      "Data from refugees-residing-hun is already in ../data/raw/residing/\n"
     ]
    },
    {
     "name": "stderr",
     "output_type": "stream",
     "text": [
      " 43%|████▎     | 83/194 [00:16<00:19,  5.76it/s]"
     ]
    },
    {
     "name": "stdout",
     "output_type": "stream",
     "text": [
      "Data from refugees-residing-idn is already in ../data/raw/residing/\n",
      "Data from refugees-residing-ind is already in ../data/raw/residing/\n"
     ]
    },
    {
     "name": "stderr",
     "output_type": "stream",
     "text": [
      " 44%|████▍     | 85/194 [00:17<00:18,  6.02it/s]"
     ]
    },
    {
     "name": "stdout",
     "output_type": "stream",
     "text": [
      "Data from refugees-residing-irl is already in ../data/raw/residing/\n",
      "Data from refugees-residing-irn is already in ../data/raw/residing/\n"
     ]
    },
    {
     "name": "stderr",
     "output_type": "stream",
     "text": [
      " 45%|████▍     | 87/194 [00:17<00:17,  6.14it/s]"
     ]
    },
    {
     "name": "stdout",
     "output_type": "stream",
     "text": [
      "Data from refugees-residing-irq is already in ../data/raw/residing/\n",
      "Data from refugees-residing-isl is already in ../data/raw/residing/\n"
     ]
    },
    {
     "name": "stderr",
     "output_type": "stream",
     "text": [
      " 46%|████▌     | 89/194 [00:17<00:17,  5.93it/s]"
     ]
    },
    {
     "name": "stdout",
     "output_type": "stream",
     "text": [
      "Data from refugees-residing-isr is already in ../data/raw/residing/\n",
      "Data from refugees-residing-ita is already in ../data/raw/residing/\n"
     ]
    },
    {
     "name": "stderr",
     "output_type": "stream",
     "text": [
      " 47%|████▋     | 91/194 [00:18<00:16,  6.06it/s]"
     ]
    },
    {
     "name": "stdout",
     "output_type": "stream",
     "text": [
      "Data from refugees-residing-jam is already in ../data/raw/residing/\n",
      "Data from refugees-residing-jor is already in ../data/raw/residing/\n"
     ]
    },
    {
     "name": "stderr",
     "output_type": "stream",
     "text": [
      " 47%|████▋     | 92/194 [00:18<00:16,  6.14it/s]"
     ]
    },
    {
     "name": "stdout",
     "output_type": "stream",
     "text": [
      "Data from refugees-residing-jpn is already in ../data/raw/residing/\n"
     ]
    },
    {
     "name": "stderr",
     "output_type": "stream",
     "text": [
      " 48%|████▊     | 94/194 [00:18<00:17,  5.60it/s]"
     ]
    },
    {
     "name": "stdout",
     "output_type": "stream",
     "text": [
      "Data from refugees-residing-kaz is already in ../data/raw/residing/\n",
      "Data from refugees-residing-ken is already in ../data/raw/residing/\n"
     ]
    },
    {
     "name": "stderr",
     "output_type": "stream",
     "text": [
      " 49%|████▉     | 96/194 [00:19<00:16,  5.83it/s]"
     ]
    },
    {
     "name": "stdout",
     "output_type": "stream",
     "text": [
      "Data from refugees-residing-kgz is already in ../data/raw/residing/\n",
      "Data from refugees-residing-khm is already in ../data/raw/residing/\n"
     ]
    },
    {
     "name": "stderr",
     "output_type": "stream",
     "text": [
      " 50%|█████     | 97/194 [00:19<00:16,  5.86it/s]"
     ]
    },
    {
     "name": "stdout",
     "output_type": "stream",
     "text": [
      "Data from refugees-residing-kna is already in ../data/raw/residing/\n"
     ]
    },
    {
     "name": "stderr",
     "output_type": "stream",
     "text": [
      " 51%|█████     | 99/194 [00:19<00:20,  4.68it/s]"
     ]
    },
    {
     "name": "stdout",
     "output_type": "stream",
     "text": [
      "Data from refugees-residing-kor is already in ../data/raw/residing/\n",
      "Data from refugees-residing-kwt is already in ../data/raw/residing/\n"
     ]
    },
    {
     "name": "stderr",
     "output_type": "stream",
     "text": [
      " 52%|█████▏    | 101/194 [00:20<00:17,  5.41it/s]"
     ]
    },
    {
     "name": "stdout",
     "output_type": "stream",
     "text": [
      "Data from refugees-residing-lao is already in ../data/raw/residing/\n",
      "Data from refugees-residing-lbn is already in ../data/raw/residing/\n"
     ]
    },
    {
     "name": "stderr",
     "output_type": "stream",
     "text": [
      " 53%|█████▎    | 103/194 [00:20<00:15,  5.72it/s]"
     ]
    },
    {
     "name": "stdout",
     "output_type": "stream",
     "text": [
      "Data from refugees-residing-lbr is already in ../data/raw/residing/\n",
      "Data from refugees-residing-lby is already in ../data/raw/residing/\n"
     ]
    },
    {
     "name": "stderr",
     "output_type": "stream",
     "text": [
      " 54%|█████▍    | 105/194 [00:20<00:14,  6.04it/s]"
     ]
    },
    {
     "name": "stdout",
     "output_type": "stream",
     "text": [
      "Data from refugees-residing-lca is already in ../data/raw/residing/\n",
      "Data from refugees-residing-lie is already in ../data/raw/residing/\n"
     ]
    },
    {
     "name": "stderr",
     "output_type": "stream",
     "text": [
      " 55%|█████▌    | 107/194 [00:21<00:14,  6.11it/s]"
     ]
    },
    {
     "name": "stdout",
     "output_type": "stream",
     "text": [
      "Data from refugees-residing-lka is already in ../data/raw/residing/\n",
      "Data from refugees-residing-lso is already in ../data/raw/residing/\n"
     ]
    },
    {
     "name": "stderr",
     "output_type": "stream",
     "text": [
      " 56%|█████▌    | 109/194 [00:21<00:13,  6.23it/s]"
     ]
    },
    {
     "name": "stdout",
     "output_type": "stream",
     "text": [
      "Data from refugees-residing-ltu is already in ../data/raw/residing/\n",
      "Data from refugees-residing-lux is already in ../data/raw/residing/\n"
     ]
    },
    {
     "name": "stderr",
     "output_type": "stream",
     "text": [
      " 57%|█████▋    | 111/194 [00:21<00:13,  6.25it/s]"
     ]
    },
    {
     "name": "stdout",
     "output_type": "stream",
     "text": [
      "Data from refugees-residing-lva is already in ../data/raw/residing/\n",
      "Data from refugees-residing-mac is already in ../data/raw/residing/\n"
     ]
    },
    {
     "name": "stderr",
     "output_type": "stream",
     "text": [
      " 58%|█████▊    | 113/194 [00:22<00:12,  6.27it/s]"
     ]
    },
    {
     "name": "stdout",
     "output_type": "stream",
     "text": [
      "Data from refugees-residing-mar is already in ../data/raw/residing/\n",
      "Data from refugees-residing-mco is already in ../data/raw/residing/\n"
     ]
    },
    {
     "name": "stderr",
     "output_type": "stream",
     "text": [
      " 59%|█████▉    | 115/194 [00:22<00:13,  6.06it/s]"
     ]
    },
    {
     "name": "stdout",
     "output_type": "stream",
     "text": [
      "Data from refugees-residing-mda is already in ../data/raw/residing/\n",
      "Data from refugees-residing-mdg is already in ../data/raw/residing/\n"
     ]
    },
    {
     "name": "stderr",
     "output_type": "stream",
     "text": [
      " 60%|██████    | 117/194 [00:22<00:13,  5.71it/s]"
     ]
    },
    {
     "name": "stdout",
     "output_type": "stream",
     "text": [
      "Data from refugees-residing-mex is already in ../data/raw/residing/\n",
      "Data from refugees-residing-mkd is already in ../data/raw/residing/\n"
     ]
    },
    {
     "name": "stderr",
     "output_type": "stream",
     "text": [
      " 61%|██████▏   | 119/194 [00:23<00:12,  5.97it/s]"
     ]
    },
    {
     "name": "stdout",
     "output_type": "stream",
     "text": [
      "Data from refugees-residing-mli is already in ../data/raw/residing/\n",
      "Data from refugees-residing-mlt is already in ../data/raw/residing/\n"
     ]
    },
    {
     "name": "stderr",
     "output_type": "stream",
     "text": [
      " 62%|██████▏   | 120/194 [00:23<00:12,  5.92it/s]"
     ]
    },
    {
     "name": "stdout",
     "output_type": "stream",
     "text": [
      "Data from refugees-residing-mmr is already in ../data/raw/residing/\n",
      "Data from refugees-residing-mne is already in ../data/raw/residing/\n"
     ]
    },
    {
     "name": "stderr",
     "output_type": "stream",
     "text": [
      " 63%|██████▎   | 123/194 [00:23<00:12,  5.59it/s]"
     ]
    },
    {
     "name": "stdout",
     "output_type": "stream",
     "text": [
      "Data from refugees-residing-mng is already in ../data/raw/residing/\n",
      "Data from refugees-residing-moz is already in ../data/raw/residing/\n"
     ]
    },
    {
     "name": "stderr",
     "output_type": "stream",
     "text": [
      " 64%|██████▍   | 125/194 [00:24<00:12,  5.68it/s]"
     ]
    },
    {
     "name": "stdout",
     "output_type": "stream",
     "text": [
      "Data from refugees-residing-mrt is already in ../data/raw/residing/\n",
      "Data from refugees-residing-msr is already in ../data/raw/residing/\n"
     ]
    },
    {
     "name": "stderr",
     "output_type": "stream",
     "text": [
      " 65%|██████▌   | 127/194 [00:24<00:11,  5.83it/s]"
     ]
    },
    {
     "name": "stdout",
     "output_type": "stream",
     "text": [
      "Data from refugees-residing-mus is already in ../data/raw/residing/\n",
      "Data from refugees-residing-mwi is already in ../data/raw/residing/\n"
     ]
    },
    {
     "name": "stderr",
     "output_type": "stream",
     "text": [
      " 66%|██████▋   | 129/194 [00:24<00:11,  5.73it/s]"
     ]
    },
    {
     "name": "stdout",
     "output_type": "stream",
     "text": [
      "Data from refugees-residing-mys is already in ../data/raw/residing/\n",
      "Data from refugees-residing-nam is already in ../data/raw/residing/\n"
     ]
    },
    {
     "name": "stderr",
     "output_type": "stream",
     "text": [
      " 68%|██████▊   | 131/194 [00:25<00:11,  5.53it/s]"
     ]
    },
    {
     "name": "stdout",
     "output_type": "stream",
     "text": [
      "Data from refugees-residing-ner is already in ../data/raw/residing/\n",
      "Data from refugees-residing-nga is already in ../data/raw/residing/\n"
     ]
    },
    {
     "name": "stderr",
     "output_type": "stream",
     "text": [
      " 69%|██████▊   | 133/194 [00:25<00:10,  5.95it/s]"
     ]
    },
    {
     "name": "stdout",
     "output_type": "stream",
     "text": [
      "Data from refugees-residing-nic is already in ../data/raw/residing/\n",
      "Data from refugees-residing-nld is already in ../data/raw/residing/\n"
     ]
    },
    {
     "name": "stderr",
     "output_type": "stream",
     "text": [
      " 70%|██████▉   | 135/194 [00:25<00:09,  6.13it/s]"
     ]
    },
    {
     "name": "stdout",
     "output_type": "stream",
     "text": [
      "Data from refugees-residing-nor is already in ../data/raw/residing/\n",
      "Data from refugees-residing-npl is already in ../data/raw/residing/\n"
     ]
    },
    {
     "name": "stderr",
     "output_type": "stream",
     "text": [
      " 71%|███████   | 137/194 [00:26<00:09,  6.11it/s]"
     ]
    },
    {
     "name": "stdout",
     "output_type": "stream",
     "text": [
      "Data from refugees-residing-nru is already in ../data/raw/residing/\n",
      "Data from refugees-residing-nzl is already in ../data/raw/residing/\n"
     ]
    },
    {
     "name": "stderr",
     "output_type": "stream",
     "text": [
      " 72%|███████▏  | 139/194 [00:26<00:09,  5.90it/s]"
     ]
    },
    {
     "name": "stdout",
     "output_type": "stream",
     "text": [
      "Data from refugees-residing-omn is already in ../data/raw/residing/\n",
      "Data from refugees-residing-pak is already in ../data/raw/residing/\n"
     ]
    },
    {
     "name": "stderr",
     "output_type": "stream",
     "text": [
      " 73%|███████▎  | 141/194 [00:26<00:09,  5.85it/s]"
     ]
    },
    {
     "name": "stdout",
     "output_type": "stream",
     "text": [
      "Data from refugees-residing-pan is already in ../data/raw/residing/\n",
      "Data from refugees-residing-per is already in ../data/raw/residing/\n"
     ]
    },
    {
     "name": "stderr",
     "output_type": "stream",
     "text": [
      " 73%|███████▎  | 142/194 [00:27<00:09,  5.72it/s]"
     ]
    },
    {
     "name": "stdout",
     "output_type": "stream",
     "text": [
      "Data from refugees-residing-phl is already in ../data/raw/residing/\n"
     ]
    },
    {
     "name": "stderr",
     "output_type": "stream",
     "text": [
      " 74%|███████▎  | 143/194 [00:27<00:09,  5.12it/s]"
     ]
    },
    {
     "name": "stdout",
     "output_type": "stream",
     "text": [
      "Data from refugees-residing-plw is already in ../data/raw/residing/\n"
     ]
    },
    {
     "name": "stderr",
     "output_type": "stream",
     "text": [
      " 74%|███████▍  | 144/194 [00:27<00:10,  4.98it/s]"
     ]
    },
    {
     "name": "stdout",
     "output_type": "stream",
     "text": [
      "Data from refugees-residing-png is already in ../data/raw/residing/\n"
     ]
    },
    {
     "name": "stderr",
     "output_type": "stream",
     "text": [
      " 75%|███████▍  | 145/194 [00:27<00:13,  3.61it/s]"
     ]
    },
    {
     "name": "stdout",
     "output_type": "stream",
     "text": [
      "Data from refugees-residing-pol is already in ../data/raw/residing/\n"
     ]
    },
    {
     "name": "stderr",
     "output_type": "stream",
     "text": [
      " 75%|███████▌  | 146/194 [00:29<00:26,  1.83it/s]"
     ]
    },
    {
     "name": "stdout",
     "output_type": "stream",
     "text": [
      "Data from refugees-residing-prt is already in ../data/raw/residing/\n"
     ]
    },
    {
     "name": "stderr",
     "output_type": "stream",
     "text": [
      " 76%|███████▌  | 147/194 [00:29<00:21,  2.19it/s]"
     ]
    },
    {
     "name": "stdout",
     "output_type": "stream",
     "text": [
      "Data from refugees-residing-pry is already in ../data/raw/residing/\n"
     ]
    },
    {
     "name": "stderr",
     "output_type": "stream",
     "text": [
      " 76%|███████▋  | 148/194 [00:29<00:18,  2.43it/s]"
     ]
    },
    {
     "name": "stdout",
     "output_type": "stream",
     "text": [
      "Data from refugees-residing-pse is already in ../data/raw/residing/\n"
     ]
    },
    {
     "name": "stderr",
     "output_type": "stream",
     "text": [
      " 77%|███████▋  | 149/194 [00:30<00:19,  2.36it/s]"
     ]
    },
    {
     "name": "stdout",
     "output_type": "stream",
     "text": [
      "Data from refugees-residing-qat is already in ../data/raw/residing/\n"
     ]
    },
    {
     "name": "stderr",
     "output_type": "stream",
     "text": [
      " 78%|███████▊  | 151/194 [00:30<00:13,  3.24it/s]"
     ]
    },
    {
     "name": "stdout",
     "output_type": "stream",
     "text": [
      "Data from refugees-residing-rou is already in ../data/raw/residing/\n",
      "Data from refugees-residing-rus is already in ../data/raw/residing/\n"
     ]
    },
    {
     "name": "stderr",
     "output_type": "stream",
     "text": [
      " 79%|███████▉  | 153/194 [00:30<00:09,  4.15it/s]"
     ]
    },
    {
     "name": "stdout",
     "output_type": "stream",
     "text": [
      "Data from refugees-residing-rwa is already in ../data/raw/residing/\n",
      "Data from refugees-residing-sau is already in ../data/raw/residing/\n"
     ]
    },
    {
     "name": "stderr",
     "output_type": "stream",
     "text": [
      " 79%|███████▉  | 154/194 [00:31<00:09,  4.31it/s]"
     ]
    },
    {
     "name": "stdout",
     "output_type": "stream",
     "text": [
      "Data from refugees-residing-sdn is already in ../data/raw/residing/\n"
     ]
    },
    {
     "name": "stderr",
     "output_type": "stream",
     "text": [
      " 80%|███████▉  | 155/194 [00:31<00:11,  3.26it/s]"
     ]
    },
    {
     "name": "stdout",
     "output_type": "stream",
     "text": [
      "Data from refugees-residing-sen is already in ../data/raw/residing/\n"
     ]
    },
    {
     "name": "stderr",
     "output_type": "stream",
     "text": [
      " 81%|████████  | 157/194 [00:32<00:09,  3.78it/s]"
     ]
    },
    {
     "name": "stdout",
     "output_type": "stream",
     "text": [
      "Data from refugees-residing-sgp is already in ../data/raw/residing/\n",
      "Data from refugees-residing-slb is already in ../data/raw/residing/\n"
     ]
    },
    {
     "name": "stderr",
     "output_type": "stream",
     "text": [
      " 81%|████████▏ | 158/194 [00:32<00:09,  3.88it/s]"
     ]
    },
    {
     "name": "stdout",
     "output_type": "stream",
     "text": [
      "Data from refugees-residing-sle is already in ../data/raw/residing/\n"
     ]
    },
    {
     "name": "stderr",
     "output_type": "stream",
     "text": [
      " 82%|████████▏ | 159/194 [00:32<00:09,  3.72it/s]"
     ]
    },
    {
     "name": "stdout",
     "output_type": "stream",
     "text": [
      "Data from refugees-residing-slv is already in ../data/raw/residing/\n"
     ]
    },
    {
     "name": "stderr",
     "output_type": "stream",
     "text": [
      " 82%|████████▏ | 160/194 [00:32<00:09,  3.78it/s]"
     ]
    },
    {
     "name": "stdout",
     "output_type": "stream",
     "text": [
      "Data from refugees-residing-som is already in ../data/raw/residing/\n"
     ]
    },
    {
     "name": "stderr",
     "output_type": "stream",
     "text": [
      " 83%|████████▎ | 161/194 [00:33<00:11,  2.79it/s]"
     ]
    },
    {
     "name": "stdout",
     "output_type": "stream",
     "text": [
      "Data from refugees-residing-srb is already in ../data/raw/residing/\n"
     ]
    },
    {
     "name": "stderr",
     "output_type": "stream",
     "text": [
      " 84%|████████▍ | 163/194 [00:34<00:14,  2.11it/s]"
     ]
    },
    {
     "name": "stdout",
     "output_type": "stream",
     "text": [
      "Data from refugees-residing-ssd is already in ../data/raw/residing/\n",
      "Data from refugees-residing-sur is already in ../data/raw/residing/\n"
     ]
    },
    {
     "name": "stderr",
     "output_type": "stream",
     "text": [
      " 85%|████████▌ | 165/194 [00:35<00:09,  3.19it/s]"
     ]
    },
    {
     "name": "stdout",
     "output_type": "stream",
     "text": [
      "Data from refugees-residing-svk is already in ../data/raw/residing/\n",
      "Data from refugees-residing-svn is already in ../data/raw/residing/\n"
     ]
    },
    {
     "name": "stderr",
     "output_type": "stream",
     "text": [
      " 86%|████████▌ | 167/194 [00:35<00:06,  4.22it/s]"
     ]
    },
    {
     "name": "stdout",
     "output_type": "stream",
     "text": [
      "Data from refugees-residing-swe is already in ../data/raw/residing/\n",
      "Data from refugees-residing-swz is already in ../data/raw/residing/\n"
     ]
    },
    {
     "name": "stderr",
     "output_type": "stream",
     "text": [
      " 87%|████████▋ | 169/194 [00:35<00:04,  5.08it/s]"
     ]
    },
    {
     "name": "stdout",
     "output_type": "stream",
     "text": [
      "Data from refugees-residing-syr is already in ../data/raw/residing/\n",
      "Data from refugees-residing-tca is already in ../data/raw/residing/\n"
     ]
    },
    {
     "name": "stderr",
     "output_type": "stream",
     "text": [
      " 88%|████████▊ | 171/194 [00:36<00:04,  5.57it/s]"
     ]
    },
    {
     "name": "stdout",
     "output_type": "stream",
     "text": [
      "Data from refugees-residing-tcd is already in ../data/raw/residing/\n",
      "Data from refugees-residing-tgo is already in ../data/raw/residing/\n"
     ]
    },
    {
     "name": "stderr",
     "output_type": "stream",
     "text": [
      " 89%|████████▉ | 173/194 [00:36<00:03,  5.75it/s]"
     ]
    },
    {
     "name": "stdout",
     "output_type": "stream",
     "text": [
      "Data from refugees-residing-tha is already in ../data/raw/residing/\n",
      "Data from refugees-residing-tjk is already in ../data/raw/residing/\n"
     ]
    },
    {
     "name": "stderr",
     "output_type": "stream",
     "text": [
      " 90%|█████████ | 175/194 [00:36<00:03,  5.98it/s]"
     ]
    },
    {
     "name": "stdout",
     "output_type": "stream",
     "text": [
      "Data from refugees-residing-tkm is already in ../data/raw/residing/\n",
      "Data from refugees-residing-tls is already in ../data/raw/residing/\n"
     ]
    },
    {
     "name": "stderr",
     "output_type": "stream",
     "text": [
      " 91%|█████████ | 177/194 [00:37<00:02,  6.20it/s]"
     ]
    },
    {
     "name": "stdout",
     "output_type": "stream",
     "text": [
      "Data from refugees-residing-ton is already in ../data/raw/residing/\n",
      "Data from refugees-residing-tto is already in ../data/raw/residing/\n"
     ]
    },
    {
     "name": "stderr",
     "output_type": "stream",
     "text": [
      " 92%|█████████▏| 179/194 [00:37<00:02,  6.04it/s]"
     ]
    },
    {
     "name": "stdout",
     "output_type": "stream",
     "text": [
      "Data from refugees-residing-tun is already in ../data/raw/residing/\n",
      "Data from refugees-residing-tur is already in ../data/raw/residing/\n"
     ]
    },
    {
     "name": "stderr",
     "output_type": "stream",
     "text": [
      " 93%|█████████▎| 181/194 [00:37<00:02,  6.13it/s]"
     ]
    },
    {
     "name": "stdout",
     "output_type": "stream",
     "text": [
      "Data from refugees-residing-tza is already in ../data/raw/residing/\n",
      "Data from refugees-residing-uga is already in ../data/raw/residing/\n"
     ]
    },
    {
     "name": "stderr",
     "output_type": "stream",
     "text": [
      " 94%|█████████▍| 183/194 [00:37<00:01,  6.16it/s]"
     ]
    },
    {
     "name": "stdout",
     "output_type": "stream",
     "text": [
      "Data from refugees-residing-ukr is already in ../data/raw/residing/\n",
      "Data from refugees-residing-ury is already in ../data/raw/residing/\n"
     ]
    },
    {
     "name": "stderr",
     "output_type": "stream",
     "text": [
      " 95%|█████████▌| 185/194 [00:38<00:01,  6.06it/s]"
     ]
    },
    {
     "name": "stdout",
     "output_type": "stream",
     "text": [
      "Data from refugees-residing-usa is already in ../data/raw/residing/\n",
      "Data from refugees-residing-uzb is already in ../data/raw/residing/\n"
     ]
    },
    {
     "name": "stderr",
     "output_type": "stream",
     "text": [
      " 96%|█████████▋| 187/194 [00:38<00:01,  6.08it/s]"
     ]
    },
    {
     "name": "stdout",
     "output_type": "stream",
     "text": [
      "Data from refugees-residing-vct is already in ../data/raw/residing/\n",
      "Data from refugees-residing-ven is already in ../data/raw/residing/\n"
     ]
    },
    {
     "name": "stderr",
     "output_type": "stream",
     "text": [
      " 97%|█████████▋| 189/194 [00:39<00:00,  5.96it/s]"
     ]
    },
    {
     "name": "stdout",
     "output_type": "stream",
     "text": [
      "Data from refugees-residing-vgb is already in ../data/raw/residing/\n",
      "Data from refugees-residing-vnm is already in ../data/raw/residing/\n"
     ]
    },
    {
     "name": "stderr",
     "output_type": "stream",
     "text": [
      " 98%|█████████▊| 191/194 [00:39<00:00,  5.86it/s]"
     ]
    },
    {
     "name": "stdout",
     "output_type": "stream",
     "text": [
      "Data from refugees-residing-vut is already in ../data/raw/residing/\n",
      "Data from refugees-residing-yem is already in ../data/raw/residing/\n"
     ]
    },
    {
     "name": "stderr",
     "output_type": "stream",
     "text": [
      " 99%|█████████▉| 193/194 [00:39<00:00,  6.16it/s]"
     ]
    },
    {
     "name": "stdout",
     "output_type": "stream",
     "text": [
      "Data from refugees-residing-zaf is already in ../data/raw/residing/\n",
      "Data from refugees-residing-zmb is already in ../data/raw/residing/\n"
     ]
    },
    {
     "name": "stderr",
     "output_type": "stream",
     "text": [
      "100%|██████████| 194/194 [00:39<00:00,  6.22it/s]"
     ]
    },
    {
     "name": "stdout",
     "output_type": "stream",
     "text": [
      "Data from refugees-residing-zwe is already in ../data/raw/residing/\n"
     ]
    },
    {
     "name": "stderr",
     "output_type": "stream",
     "text": [
      "\n"
     ]
    }
   ],
   "source": [
    "download_data_from_HDX(\"../data/raw/residing/\", residing)"
   ]
  },
  {
   "cell_type": "markdown",
   "metadata": {},
   "source": [
    "#### People of concern Originating from a certain country"
   ]
  },
  {
   "cell_type": "markdown",
   "metadata": {},
   "source": [
    "Define a list with only those datasets that include in their name the string 'refugees-originating':"
   ]
  },
  {
   "cell_type": "code",
   "execution_count": 10,
   "metadata": {
    "scrolled": true
   },
   "outputs": [],
   "source": [
    "originating = [k for k in list_datasets if 'refugees-originating' in k ]"
   ]
  },
  {
   "cell_type": "code",
   "execution_count": 11,
   "metadata": {},
   "outputs": [
    {
     "data": {
      "text/plain": [
       "194"
      ]
     },
     "execution_count": 11,
     "metadata": {},
     "output_type": "execute_result"
    }
   ],
   "source": [
    "len(originating)"
   ]
  },
  {
   "cell_type": "code",
   "execution_count": 12,
   "metadata": {},
   "outputs": [
    {
     "data": {
      "text/plain": [
       "['refugees-originating-abw',\n",
       " 'refugees-originating-afg',\n",
       " 'refugees-originating-ago',\n",
       " 'refugees-originating-alb',\n",
       " 'refugees-originating-ant']"
      ]
     },
     "execution_count": 12,
     "metadata": {},
     "output_type": "execute_result"
    }
   ],
   "source": [
    "originating[0:5]"
   ]
  },
  {
   "cell_type": "code",
   "execution_count": 13,
   "metadata": {
    "scrolled": true
   },
   "outputs": [
    {
     "name": "stderr",
     "output_type": "stream",
     "text": [
      "  1%|          | 2/194 [00:00<00:30,  6.23it/s]"
     ]
    },
    {
     "name": "stdout",
     "output_type": "stream",
     "text": [
      "Data from refugees-originating-abw is already in ../data/raw/originating/\n",
      "Data from refugees-originating-afg is already in ../data/raw/originating/\n"
     ]
    },
    {
     "name": "stderr",
     "output_type": "stream",
     "text": [
      "  2%|▏         | 4/194 [00:00<00:30,  6.24it/s]"
     ]
    },
    {
     "name": "stdout",
     "output_type": "stream",
     "text": [
      "Data from refugees-originating-ago is already in ../data/raw/originating/\n",
      "Data from refugees-originating-alb is already in ../data/raw/originating/\n"
     ]
    },
    {
     "name": "stderr",
     "output_type": "stream",
     "text": [
      "  3%|▎         | 6/194 [00:00<00:29,  6.37it/s]"
     ]
    },
    {
     "name": "stdout",
     "output_type": "stream",
     "text": [
      "Data from refugees-originating-ant is already in ../data/raw/originating/\n",
      "Data from refugees-originating-are is already in ../data/raw/originating/\n"
     ]
    },
    {
     "name": "stderr",
     "output_type": "stream",
     "text": [
      "  4%|▍         | 8/194 [00:01<00:29,  6.26it/s]"
     ]
    },
    {
     "name": "stdout",
     "output_type": "stream",
     "text": [
      "Data from refugees-originating-arg is already in ../data/raw/originating/\n",
      "Data from refugees-originating-arm is already in ../data/raw/originating/\n"
     ]
    },
    {
     "name": "stderr",
     "output_type": "stream",
     "text": [
      "  5%|▌         | 10/194 [00:01<00:29,  6.18it/s]"
     ]
    },
    {
     "name": "stdout",
     "output_type": "stream",
     "text": [
      "Data from refugees-originating-atg is already in ../data/raw/originating/\n",
      "Data from refugees-originating-aus is already in ../data/raw/originating/\n"
     ]
    },
    {
     "name": "stderr",
     "output_type": "stream",
     "text": [
      "  6%|▌         | 12/194 [00:01<00:28,  6.35it/s]"
     ]
    },
    {
     "name": "stdout",
     "output_type": "stream",
     "text": [
      "Data from refugees-originating-aut is already in ../data/raw/originating/\n",
      "Data from refugees-originating-aze is already in ../data/raw/originating/\n"
     ]
    },
    {
     "name": "stderr",
     "output_type": "stream",
     "text": [
      "  7%|▋         | 14/194 [00:02<00:29,  6.18it/s]"
     ]
    },
    {
     "name": "stdout",
     "output_type": "stream",
     "text": [
      "Data from refugees-originating-bdi is already in ../data/raw/originating/\n",
      "Data from refugees-originating-bel is already in ../data/raw/originating/\n"
     ]
    },
    {
     "name": "stderr",
     "output_type": "stream",
     "text": [
      "  8%|▊         | 16/194 [00:02<00:29,  6.00it/s]"
     ]
    },
    {
     "name": "stdout",
     "output_type": "stream",
     "text": [
      "Data from refugees-originating-ben is already in ../data/raw/originating/\n",
      "Data from refugees-originating-bes is already in ../data/raw/originating/\n"
     ]
    },
    {
     "name": "stderr",
     "output_type": "stream",
     "text": [
      "  9%|▉         | 18/194 [00:02<00:29,  6.01it/s]"
     ]
    },
    {
     "name": "stdout",
     "output_type": "stream",
     "text": [
      "Data from refugees-originating-bfa is already in ../data/raw/originating/\n",
      "Data from refugees-originating-bgd is already in ../data/raw/originating/\n"
     ]
    },
    {
     "name": "stderr",
     "output_type": "stream",
     "text": [
      " 10%|█         | 20/194 [00:03<00:29,  5.90it/s]"
     ]
    },
    {
     "name": "stdout",
     "output_type": "stream",
     "text": [
      "Data from refugees-originating-bgr is already in ../data/raw/originating/\n",
      "Data from refugees-originating-bhr is already in ../data/raw/originating/\n"
     ]
    },
    {
     "name": "stderr",
     "output_type": "stream",
     "text": [
      " 11%|█▏        | 22/194 [00:03<00:29,  5.82it/s]"
     ]
    },
    {
     "name": "stdout",
     "output_type": "stream",
     "text": [
      "Data from refugees-originating-bhs is already in ../data/raw/originating/\n",
      "Data from refugees-originating-bih is already in ../data/raw/originating/\n"
     ]
    },
    {
     "name": "stderr",
     "output_type": "stream",
     "text": [
      " 12%|█▏        | 24/194 [00:03<00:28,  6.00it/s]"
     ]
    },
    {
     "name": "stdout",
     "output_type": "stream",
     "text": [
      "Data from refugees-originating-blr is already in ../data/raw/originating/\n",
      "Data from refugees-originating-blz is already in ../data/raw/originating/\n"
     ]
    },
    {
     "name": "stderr",
     "output_type": "stream",
     "text": [
      " 13%|█▎        | 25/194 [00:04<00:28,  5.98it/s]"
     ]
    },
    {
     "name": "stdout",
     "output_type": "stream",
     "text": [
      "Data from refugees-originating-bol is already in ../data/raw/originating/\n"
     ]
    },
    {
     "name": "stderr",
     "output_type": "stream",
     "text": [
      " 13%|█▎        | 26/194 [00:04<00:39,  4.22it/s]"
     ]
    },
    {
     "name": "stdout",
     "output_type": "stream",
     "text": [
      "Data from refugees-originating-bra is already in ../data/raw/originating/\n"
     ]
    },
    {
     "name": "stderr",
     "output_type": "stream",
     "text": [
      " 14%|█▍        | 27/194 [00:04<00:43,  3.82it/s]"
     ]
    },
    {
     "name": "stdout",
     "output_type": "stream",
     "text": [
      "Data from refugees-originating-brb is already in ../data/raw/originating/\n"
     ]
    },
    {
     "name": "stderr",
     "output_type": "stream",
     "text": [
      " 14%|█▍        | 28/194 [00:05<00:47,  3.47it/s]"
     ]
    },
    {
     "name": "stdout",
     "output_type": "stream",
     "text": [
      "Data from refugees-originating-brn is already in ../data/raw/originating/\n"
     ]
    },
    {
     "name": "stderr",
     "output_type": "stream",
     "text": [
      " 15%|█▍        | 29/194 [00:05<00:54,  3.01it/s]"
     ]
    },
    {
     "name": "stdout",
     "output_type": "stream",
     "text": [
      "Data from refugees-originating-btn is already in ../data/raw/originating/\n"
     ]
    },
    {
     "name": "stderr",
     "output_type": "stream",
     "text": [
      " 15%|█▌        | 30/194 [00:06<01:05,  2.49it/s]"
     ]
    },
    {
     "name": "stdout",
     "output_type": "stream",
     "text": [
      "Data from refugees-originating-bwa is already in ../data/raw/originating/\n"
     ]
    },
    {
     "name": "stderr",
     "output_type": "stream",
     "text": [
      " 16%|█▌        | 31/194 [00:06<01:01,  2.67it/s]"
     ]
    },
    {
     "name": "stdout",
     "output_type": "stream",
     "text": [
      "Data from refugees-originating-caf is already in ../data/raw/originating/\n"
     ]
    },
    {
     "name": "stderr",
     "output_type": "stream",
     "text": [
      " 16%|█▋        | 32/194 [00:06<00:56,  2.85it/s]"
     ]
    },
    {
     "name": "stdout",
     "output_type": "stream",
     "text": [
      "Data from refugees-originating-can is already in ../data/raw/originating/\n"
     ]
    },
    {
     "name": "stderr",
     "output_type": "stream",
     "text": [
      " 17%|█▋        | 33/194 [00:07<00:55,  2.91it/s]"
     ]
    },
    {
     "name": "stdout",
     "output_type": "stream",
     "text": [
      "Data from refugees-originating-che is already in ../data/raw/originating/\n"
     ]
    },
    {
     "name": "stderr",
     "output_type": "stream",
     "text": [
      " 18%|█▊        | 34/194 [00:07<00:50,  3.16it/s]"
     ]
    },
    {
     "name": "stdout",
     "output_type": "stream",
     "text": [
      "Data from refugees-originating-chl is already in ../data/raw/originating/\n"
     ]
    },
    {
     "name": "stderr",
     "output_type": "stream",
     "text": [
      " 19%|█▊        | 36/194 [00:07<00:41,  3.83it/s]"
     ]
    },
    {
     "name": "stdout",
     "output_type": "stream",
     "text": [
      "Data from refugees-originating-chn is already in ../data/raw/originating/\n",
      "Data from refugees-originating-civ is already in ../data/raw/originating/\n"
     ]
    },
    {
     "name": "stderr",
     "output_type": "stream",
     "text": [
      " 19%|█▉        | 37/194 [00:07<00:37,  4.13it/s]"
     ]
    },
    {
     "name": "stdout",
     "output_type": "stream",
     "text": [
      "Data from refugees-originating-cmr is already in ../data/raw/originating/\n"
     ]
    },
    {
     "name": "stderr",
     "output_type": "stream",
     "text": [
      " 20%|█▉        | 38/194 [00:08<00:37,  4.14it/s]"
     ]
    },
    {
     "name": "stdout",
     "output_type": "stream",
     "text": [
      "Data from refugees-originating-cod is already in ../data/raw/originating/\n"
     ]
    },
    {
     "name": "stderr",
     "output_type": "stream",
     "text": [
      " 20%|██        | 39/194 [00:09<01:13,  2.10it/s]"
     ]
    },
    {
     "name": "stdout",
     "output_type": "stream",
     "text": [
      "Data from refugees-originating-cog is already in ../data/raw/originating/\n"
     ]
    },
    {
     "name": "stderr",
     "output_type": "stream",
     "text": [
      " 21%|██        | 40/194 [00:09<01:04,  2.39it/s]"
     ]
    },
    {
     "name": "stdout",
     "output_type": "stream",
     "text": [
      "Data from refugees-originating-col is already in ../data/raw/originating/\n"
     ]
    },
    {
     "name": "stderr",
     "output_type": "stream",
     "text": [
      " 22%|██▏       | 42/194 [00:09<00:47,  3.19it/s]"
     ]
    },
    {
     "name": "stdout",
     "output_type": "stream",
     "text": [
      "Data from refugees-originating-com is already in ../data/raw/originating/\n",
      "Data from refugees-originating-cpv is already in ../data/raw/originating/\n"
     ]
    },
    {
     "name": "stderr",
     "output_type": "stream",
     "text": [
      " 23%|██▎       | 44/194 [00:11<00:57,  2.60it/s]"
     ]
    },
    {
     "name": "stdout",
     "output_type": "stream",
     "text": [
      "Data from refugees-originating-cri is already in ../data/raw/originating/\n",
      "Data from refugees-originating-cub is already in ../data/raw/originating/\n"
     ]
    },
    {
     "name": "stderr",
     "output_type": "stream",
     "text": [
      " 24%|██▎       | 46/194 [00:11<00:40,  3.69it/s]"
     ]
    },
    {
     "name": "stdout",
     "output_type": "stream",
     "text": [
      "Data from refugees-originating-cuw is already in ../data/raw/originating/\n",
      "Data from refugees-originating-cym is already in ../data/raw/originating/\n"
     ]
    },
    {
     "name": "stderr",
     "output_type": "stream",
     "text": [
      " 25%|██▍       | 48/194 [00:11<00:31,  4.66it/s]"
     ]
    },
    {
     "name": "stdout",
     "output_type": "stream",
     "text": [
      "Data from refugees-originating-cyp is already in ../data/raw/originating/\n",
      "Data from refugees-originating-cze is already in ../data/raw/originating/\n"
     ]
    },
    {
     "name": "stderr",
     "output_type": "stream",
     "text": [
      " 26%|██▌       | 50/194 [00:11<00:27,  5.23it/s]"
     ]
    },
    {
     "name": "stdout",
     "output_type": "stream",
     "text": [
      "Data from refugees-originating-deu is already in ../data/raw/originating/\n",
      "Data from refugees-originating-dji is already in ../data/raw/originating/\n"
     ]
    },
    {
     "name": "stderr",
     "output_type": "stream",
     "text": [
      " 26%|██▋       | 51/194 [00:12<00:25,  5.56it/s]"
     ]
    },
    {
     "name": "stdout",
     "output_type": "stream",
     "text": [
      "Data from refugees-originating-dnk is already in ../data/raw/originating/\n"
     ]
    },
    {
     "name": "stderr",
     "output_type": "stream",
     "text": [
      " 27%|██▋       | 53/194 [00:12<00:27,  5.12it/s]"
     ]
    },
    {
     "name": "stdout",
     "output_type": "stream",
     "text": [
      "Data from refugees-originating-dom is already in ../data/raw/originating/\n",
      "Data from refugees-originating-dza is already in ../data/raw/originating/\n"
     ]
    },
    {
     "name": "stderr",
     "output_type": "stream",
     "text": [
      " 28%|██▊       | 55/194 [00:12<00:24,  5.64it/s]"
     ]
    },
    {
     "name": "stdout",
     "output_type": "stream",
     "text": [
      "Data from refugees-originating-ecu is already in ../data/raw/originating/\n",
      "Data from refugees-originating-egy is already in ../data/raw/originating/\n"
     ]
    },
    {
     "name": "stderr",
     "output_type": "stream",
     "text": [
      " 29%|██▉       | 57/194 [00:13<00:23,  5.96it/s]"
     ]
    },
    {
     "name": "stdout",
     "output_type": "stream",
     "text": [
      "Data from refugees-originating-eri is already in ../data/raw/originating/\n",
      "Data from refugees-originating-esp is already in ../data/raw/originating/\n"
     ]
    },
    {
     "name": "stderr",
     "output_type": "stream",
     "text": [
      " 30%|███       | 59/194 [00:13<00:22,  5.97it/s]"
     ]
    },
    {
     "name": "stdout",
     "output_type": "stream",
     "text": [
      "Data from refugees-originating-est is already in ../data/raw/originating/\n",
      "Data from refugees-originating-eth is already in ../data/raw/originating/\n"
     ]
    },
    {
     "name": "stderr",
     "output_type": "stream",
     "text": [
      " 31%|███▏      | 61/194 [00:13<00:22,  5.86it/s]"
     ]
    },
    {
     "name": "stdout",
     "output_type": "stream",
     "text": [
      "Data from refugees-originating-fin is already in ../data/raw/originating/\n",
      "Data from refugees-originating-fji is already in ../data/raw/originating/\n"
     ]
    },
    {
     "name": "stderr",
     "output_type": "stream",
     "text": [
      " 32%|███▏      | 63/194 [00:14<00:21,  6.04it/s]"
     ]
    },
    {
     "name": "stdout",
     "output_type": "stream",
     "text": [
      "Data from refugees-originating-fra is already in ../data/raw/originating/\n",
      "Data from refugees-originating-fsm is already in ../data/raw/originating/\n"
     ]
    },
    {
     "name": "stderr",
     "output_type": "stream",
     "text": [
      " 34%|███▎      | 65/194 [00:14<00:20,  6.25it/s]"
     ]
    },
    {
     "name": "stdout",
     "output_type": "stream",
     "text": [
      "Data from refugees-originating-gab is already in ../data/raw/originating/\n",
      "Data from refugees-originating-gbr is already in ../data/raw/originating/\n"
     ]
    },
    {
     "name": "stderr",
     "output_type": "stream",
     "text": [
      " 35%|███▍      | 67/194 [00:14<00:20,  6.12it/s]"
     ]
    },
    {
     "name": "stdout",
     "output_type": "stream",
     "text": [
      "Data from refugees-originating-geo is already in ../data/raw/originating/\n",
      "Data from refugees-originating-gha is already in ../data/raw/originating/\n"
     ]
    },
    {
     "name": "stderr",
     "output_type": "stream",
     "text": [
      " 36%|███▌      | 69/194 [00:15<00:20,  5.99it/s]"
     ]
    },
    {
     "name": "stdout",
     "output_type": "stream",
     "text": [
      "Data from refugees-originating-gin is already in ../data/raw/originating/\n",
      "Data from refugees-originating-gmb is already in ../data/raw/originating/\n"
     ]
    },
    {
     "name": "stderr",
     "output_type": "stream",
     "text": [
      " 37%|███▋      | 71/194 [00:15<00:21,  5.74it/s]"
     ]
    },
    {
     "name": "stdout",
     "output_type": "stream",
     "text": [
      "Data from refugees-originating-gnb is already in ../data/raw/originating/\n",
      "Data from refugees-originating-gnq is already in ../data/raw/originating/\n"
     ]
    },
    {
     "name": "stderr",
     "output_type": "stream",
     "text": [
      " 38%|███▊      | 73/194 [00:15<00:20,  5.95it/s]"
     ]
    },
    {
     "name": "stdout",
     "output_type": "stream",
     "text": [
      "Data from refugees-originating-grc is already in ../data/raw/originating/\n",
      "Data from refugees-originating-grd is already in ../data/raw/originating/\n"
     ]
    },
    {
     "name": "stderr",
     "output_type": "stream",
     "text": [
      " 39%|███▊      | 75/194 [00:16<00:20,  5.95it/s]"
     ]
    },
    {
     "name": "stdout",
     "output_type": "stream",
     "text": [
      "Data from refugees-originating-gtm is already in ../data/raw/originating/\n",
      "Data from refugees-originating-guf is already in ../data/raw/originating/\n"
     ]
    },
    {
     "name": "stderr",
     "output_type": "stream",
     "text": [
      " 40%|███▉      | 77/194 [00:16<00:19,  5.93it/s]"
     ]
    },
    {
     "name": "stdout",
     "output_type": "stream",
     "text": [
      "Data from refugees-originating-guy is already in ../data/raw/originating/\n",
      "Data from refugees-originating-hkg is already in ../data/raw/originating/\n"
     ]
    },
    {
     "name": "stderr",
     "output_type": "stream",
     "text": [
      " 41%|████      | 79/194 [00:16<00:19,  5.95it/s]"
     ]
    },
    {
     "name": "stdout",
     "output_type": "stream",
     "text": [
      "Data from refugees-originating-hnd is already in ../data/raw/originating/\n",
      "Data from refugees-originating-hrv is already in ../data/raw/originating/\n"
     ]
    },
    {
     "name": "stderr",
     "output_type": "stream",
     "text": [
      " 41%|████      | 80/194 [00:17<00:20,  5.58it/s]"
     ]
    },
    {
     "name": "stdout",
     "output_type": "stream",
     "text": [
      "Data from refugees-originating-hti is already in ../data/raw/originating/\n"
     ]
    },
    {
     "name": "stderr",
     "output_type": "stream",
     "text": [
      " 42%|████▏     | 81/194 [00:17<00:28,  3.90it/s]"
     ]
    },
    {
     "name": "stdout",
     "output_type": "stream",
     "text": [
      "Data from refugees-originating-hun is already in ../data/raw/originating/\n"
     ]
    },
    {
     "name": "stderr",
     "output_type": "stream",
     "text": [
      " 43%|████▎     | 83/194 [00:17<00:25,  4.44it/s]"
     ]
    },
    {
     "name": "stdout",
     "output_type": "stream",
     "text": [
      "Data from refugees-originating-idn is already in ../data/raw/originating/\n",
      "Data from refugees-originating-ind is already in ../data/raw/originating/\n"
     ]
    },
    {
     "name": "stderr",
     "output_type": "stream",
     "text": [
      " 43%|████▎     | 84/194 [00:18<00:23,  4.69it/s]"
     ]
    },
    {
     "name": "stdout",
     "output_type": "stream",
     "text": [
      "Data from refugees-originating-irl is already in ../data/raw/originating/\n"
     ]
    },
    {
     "name": "stderr",
     "output_type": "stream",
     "text": [
      " 44%|████▍     | 85/194 [00:18<00:28,  3.76it/s]"
     ]
    },
    {
     "name": "stdout",
     "output_type": "stream",
     "text": [
      "Data from refugees-originating-irn is already in ../data/raw/originating/\n"
     ]
    },
    {
     "name": "stderr",
     "output_type": "stream",
     "text": [
      " 44%|████▍     | 86/194 [00:18<00:29,  3.65it/s]"
     ]
    },
    {
     "name": "stdout",
     "output_type": "stream",
     "text": [
      "Data from refugees-originating-irq is already in ../data/raw/originating/\n"
     ]
    },
    {
     "name": "stderr",
     "output_type": "stream",
     "text": [
      " 45%|████▌     | 88/194 [00:19<00:24,  4.29it/s]"
     ]
    },
    {
     "name": "stdout",
     "output_type": "stream",
     "text": [
      "Data from refugees-originating-isl is already in ../data/raw/originating/\n",
      "Data from refugees-originating-isr is already in ../data/raw/originating/\n"
     ]
    },
    {
     "name": "stderr",
     "output_type": "stream",
     "text": [
      " 46%|████▌     | 89/194 [00:19<00:24,  4.26it/s]"
     ]
    },
    {
     "name": "stdout",
     "output_type": "stream",
     "text": [
      "Data from refugees-originating-ita is already in ../data/raw/originating/\n"
     ]
    },
    {
     "name": "stderr",
     "output_type": "stream",
     "text": [
      " 46%|████▋     | 90/194 [00:19<00:26,  3.97it/s]"
     ]
    },
    {
     "name": "stdout",
     "output_type": "stream",
     "text": [
      "Data from refugees-originating-jam is already in ../data/raw/originating/\n"
     ]
    },
    {
     "name": "stderr",
     "output_type": "stream",
     "text": [
      " 47%|████▋     | 91/194 [00:20<00:28,  3.57it/s]"
     ]
    },
    {
     "name": "stdout",
     "output_type": "stream",
     "text": [
      "Data from refugees-originating-jor is already in ../data/raw/originating/\n"
     ]
    },
    {
     "name": "stderr",
     "output_type": "stream",
     "text": [
      " 47%|████▋     | 92/194 [00:20<00:36,  2.82it/s]"
     ]
    },
    {
     "name": "stdout",
     "output_type": "stream",
     "text": [
      "Data from refugees-originating-jpn is already in ../data/raw/originating/\n"
     ]
    },
    {
     "name": "stderr",
     "output_type": "stream",
     "text": [
      " 48%|████▊     | 94/194 [00:23<01:13,  1.36it/s]"
     ]
    },
    {
     "name": "stdout",
     "output_type": "stream",
     "text": [
      "Data from refugees-originating-kaz is already in ../data/raw/originating/\n",
      "Data from refugees-originating-ken is already in ../data/raw/originating/\n"
     ]
    },
    {
     "name": "stderr",
     "output_type": "stream",
     "text": [
      " 49%|████▉     | 96/194 [00:23<00:44,  2.23it/s]"
     ]
    },
    {
     "name": "stdout",
     "output_type": "stream",
     "text": [
      "Data from refugees-originating-kgz is already in ../data/raw/originating/\n",
      "Data from refugees-originating-khm is already in ../data/raw/originating/\n"
     ]
    },
    {
     "name": "stderr",
     "output_type": "stream",
     "text": [
      " 51%|█████     | 98/194 [00:23<00:29,  3.29it/s]"
     ]
    },
    {
     "name": "stdout",
     "output_type": "stream",
     "text": [
      "Data from refugees-originating-kna is already in ../data/raw/originating/\n",
      "Data from refugees-originating-kor is already in ../data/raw/originating/\n"
     ]
    },
    {
     "name": "stderr",
     "output_type": "stream",
     "text": [
      " 52%|█████▏    | 100/194 [00:24<00:21,  4.28it/s]"
     ]
    },
    {
     "name": "stdout",
     "output_type": "stream",
     "text": [
      "Data from refugees-originating-kwt is already in ../data/raw/originating/\n",
      "Data from refugees-originating-lao is already in ../data/raw/originating/\n"
     ]
    },
    {
     "name": "stderr",
     "output_type": "stream",
     "text": [
      " 53%|█████▎    | 102/194 [00:24<00:17,  5.13it/s]"
     ]
    },
    {
     "name": "stdout",
     "output_type": "stream",
     "text": [
      "Data from refugees-originating-lbn is already in ../data/raw/originating/\n",
      "Data from refugees-originating-lbr is already in ../data/raw/originating/\n"
     ]
    },
    {
     "name": "stderr",
     "output_type": "stream",
     "text": [
      " 54%|█████▎    | 104/194 [00:24<00:16,  5.54it/s]"
     ]
    },
    {
     "name": "stdout",
     "output_type": "stream",
     "text": [
      "Data from refugees-originating-lby is already in ../data/raw/originating/\n",
      "Data from refugees-originating-lca is already in ../data/raw/originating/\n"
     ]
    },
    {
     "name": "stderr",
     "output_type": "stream",
     "text": [
      " 55%|█████▍    | 106/194 [00:25<00:15,  5.65it/s]"
     ]
    },
    {
     "name": "stdout",
     "output_type": "stream",
     "text": [
      "Data from refugees-originating-lie is already in ../data/raw/originating/\n",
      "Data from refugees-originating-lka is already in ../data/raw/originating/\n"
     ]
    },
    {
     "name": "stderr",
     "output_type": "stream",
     "text": [
      " 56%|█████▌    | 108/194 [00:25<00:14,  5.95it/s]"
     ]
    },
    {
     "name": "stdout",
     "output_type": "stream",
     "text": [
      "Data from refugees-originating-lso is already in ../data/raw/originating/\n",
      "Data from refugees-originating-ltu is already in ../data/raw/originating/\n"
     ]
    },
    {
     "name": "stderr",
     "output_type": "stream",
     "text": [
      " 57%|█████▋    | 110/194 [00:25<00:14,  5.95it/s]"
     ]
    },
    {
     "name": "stdout",
     "output_type": "stream",
     "text": [
      "Data from refugees-originating-lux is already in ../data/raw/originating/\n",
      "Data from refugees-originating-lva is already in ../data/raw/originating/\n"
     ]
    },
    {
     "name": "stderr",
     "output_type": "stream",
     "text": [
      " 58%|█████▊    | 112/194 [00:26<00:13,  5.89it/s]"
     ]
    },
    {
     "name": "stdout",
     "output_type": "stream",
     "text": [
      "Data from refugees-originating-mac is already in ../data/raw/originating/\n",
      "Data from refugees-originating-mar is already in ../data/raw/originating/\n"
     ]
    },
    {
     "name": "stderr",
     "output_type": "stream",
     "text": [
      " 59%|█████▉    | 114/194 [00:26<00:13,  6.08it/s]"
     ]
    },
    {
     "name": "stdout",
     "output_type": "stream",
     "text": [
      "Data from refugees-originating-mco is already in ../data/raw/originating/\n",
      "Data from refugees-originating-mda is already in ../data/raw/originating/\n"
     ]
    },
    {
     "name": "stderr",
     "output_type": "stream",
     "text": [
      " 60%|█████▉    | 116/194 [00:26<00:13,  5.75it/s]"
     ]
    },
    {
     "name": "stdout",
     "output_type": "stream",
     "text": [
      "Data from refugees-originating-mdg is already in ../data/raw/originating/\n",
      "Data from refugees-originating-mex is already in ../data/raw/originating/\n"
     ]
    },
    {
     "name": "stderr",
     "output_type": "stream",
     "text": [
      " 61%|██████    | 118/194 [00:27<00:14,  5.10it/s]"
     ]
    },
    {
     "name": "stdout",
     "output_type": "stream",
     "text": [
      "Data from refugees-originating-mkd is already in ../data/raw/originating/\n",
      "Data from refugees-originating-mli is already in ../data/raw/originating/\n"
     ]
    },
    {
     "name": "stderr",
     "output_type": "stream",
     "text": [
      " 62%|██████▏   | 120/194 [00:27<00:13,  5.49it/s]"
     ]
    },
    {
     "name": "stdout",
     "output_type": "stream",
     "text": [
      "Data from refugees-originating-mlt is already in ../data/raw/originating/\n",
      "Data from refugees-originating-mmr is already in ../data/raw/originating/\n"
     ]
    },
    {
     "name": "stderr",
     "output_type": "stream",
     "text": [
      " 63%|██████▎   | 122/194 [00:28<00:12,  5.62it/s]"
     ]
    },
    {
     "name": "stdout",
     "output_type": "stream",
     "text": [
      "Data from refugees-originating-mne is already in ../data/raw/originating/\n",
      "Data from refugees-originating-mng is already in ../data/raw/originating/\n"
     ]
    },
    {
     "name": "stderr",
     "output_type": "stream",
     "text": [
      " 64%|██████▍   | 124/194 [00:28<00:11,  5.88it/s]"
     ]
    },
    {
     "name": "stdout",
     "output_type": "stream",
     "text": [
      "Data from refugees-originating-moz is already in ../data/raw/originating/\n",
      "Data from refugees-originating-mrt is already in ../data/raw/originating/\n"
     ]
    },
    {
     "name": "stderr",
     "output_type": "stream",
     "text": [
      " 65%|██████▍   | 126/194 [00:28<00:11,  5.94it/s]"
     ]
    },
    {
     "name": "stdout",
     "output_type": "stream",
     "text": [
      "Data from refugees-originating-msr is already in ../data/raw/originating/\n",
      "Data from refugees-originating-mus is already in ../data/raw/originating/\n"
     ]
    },
    {
     "name": "stderr",
     "output_type": "stream",
     "text": [
      " 66%|██████▌   | 128/194 [00:29<00:11,  5.95it/s]"
     ]
    },
    {
     "name": "stdout",
     "output_type": "stream",
     "text": [
      "Data from refugees-originating-mwi is already in ../data/raw/originating/\n",
      "Data from refugees-originating-mys is already in ../data/raw/originating/\n"
     ]
    },
    {
     "name": "stderr",
     "output_type": "stream",
     "text": [
      " 67%|██████▋   | 130/194 [00:29<00:10,  6.12it/s]"
     ]
    },
    {
     "name": "stdout",
     "output_type": "stream",
     "text": [
      "Data from refugees-originating-nam is already in ../data/raw/originating/\n",
      "Data from refugees-originating-ner is already in ../data/raw/originating/\n"
     ]
    },
    {
     "name": "stderr",
     "output_type": "stream",
     "text": [
      " 68%|██████▊   | 131/194 [00:29<00:10,  6.07it/s]"
     ]
    },
    {
     "name": "stdout",
     "output_type": "stream",
     "text": [
      "Data from refugees-originating-nga is already in ../data/raw/originating/\n"
     ]
    },
    {
     "name": "stderr",
     "output_type": "stream",
     "text": [
      " 69%|██████▊   | 133/194 [00:30<00:12,  4.98it/s]"
     ]
    },
    {
     "name": "stdout",
     "output_type": "stream",
     "text": [
      "Data from refugees-originating-nic is already in ../data/raw/originating/\n",
      "Data from refugees-originating-nld is already in ../data/raw/originating/\n"
     ]
    },
    {
     "name": "stderr",
     "output_type": "stream",
     "text": [
      " 69%|██████▉   | 134/194 [00:30<00:11,  5.35it/s]"
     ]
    },
    {
     "name": "stdout",
     "output_type": "stream",
     "text": [
      "Data from refugees-originating-nor is already in ../data/raw/originating/\n"
     ]
    },
    {
     "name": "stderr",
     "output_type": "stream",
     "text": [
      " 70%|██████▉   | 135/194 [00:30<00:13,  4.26it/s]"
     ]
    },
    {
     "name": "stdout",
     "output_type": "stream",
     "text": [
      "Data from refugees-originating-npl is already in ../data/raw/originating/\n"
     ]
    },
    {
     "name": "stderr",
     "output_type": "stream",
     "text": [
      " 71%|███████   | 137/194 [00:31<00:13,  4.11it/s]"
     ]
    },
    {
     "name": "stdout",
     "output_type": "stream",
     "text": [
      "Data from refugees-originating-nru is already in ../data/raw/originating/\n",
      "Data from refugees-originating-nzl is already in ../data/raw/originating/\n"
     ]
    },
    {
     "name": "stderr",
     "output_type": "stream",
     "text": [
      " 72%|███████▏  | 139/194 [00:31<00:10,  5.03it/s]"
     ]
    },
    {
     "name": "stdout",
     "output_type": "stream",
     "text": [
      "Data from refugees-originating-omn is already in ../data/raw/originating/\n",
      "Data from refugees-originating-pak is already in ../data/raw/originating/\n"
     ]
    },
    {
     "name": "stderr",
     "output_type": "stream",
     "text": [
      " 73%|███████▎  | 141/194 [00:31<00:09,  5.48it/s]"
     ]
    },
    {
     "name": "stdout",
     "output_type": "stream",
     "text": [
      "Data from refugees-originating-pan is already in ../data/raw/originating/\n",
      "Data from refugees-originating-per is already in ../data/raw/originating/\n"
     ]
    },
    {
     "name": "stderr",
     "output_type": "stream",
     "text": [
      " 74%|███████▎  | 143/194 [00:32<00:09,  5.59it/s]"
     ]
    },
    {
     "name": "stdout",
     "output_type": "stream",
     "text": [
      "Data from refugees-originating-phl is already in ../data/raw/originating/\n",
      "Data from refugees-originating-plw is already in ../data/raw/originating/\n"
     ]
    },
    {
     "name": "stderr",
     "output_type": "stream",
     "text": [
      " 75%|███████▍  | 145/194 [00:32<00:08,  5.97it/s]"
     ]
    },
    {
     "name": "stdout",
     "output_type": "stream",
     "text": [
      "Data from refugees-originating-png is already in ../data/raw/originating/\n",
      "Data from refugees-originating-pol is already in ../data/raw/originating/\n"
     ]
    },
    {
     "name": "stderr",
     "output_type": "stream",
     "text": [
      " 76%|███████▌  | 147/194 [00:32<00:08,  5.81it/s]"
     ]
    },
    {
     "name": "stdout",
     "output_type": "stream",
     "text": [
      "Data from refugees-originating-prt is already in ../data/raw/originating/\n",
      "Data from refugees-originating-pry is already in ../data/raw/originating/\n"
     ]
    },
    {
     "name": "stderr",
     "output_type": "stream",
     "text": [
      " 77%|███████▋  | 149/194 [00:33<00:07,  5.63it/s]"
     ]
    },
    {
     "name": "stdout",
     "output_type": "stream",
     "text": [
      "Data from refugees-originating-pse is already in ../data/raw/originating/\n",
      "Data from refugees-originating-qat is already in ../data/raw/originating/\n"
     ]
    },
    {
     "name": "stderr",
     "output_type": "stream",
     "text": [
      " 77%|███████▋  | 150/194 [00:33<00:07,  5.58it/s]"
     ]
    },
    {
     "name": "stdout",
     "output_type": "stream",
     "text": [
      "Data from refugees-originating-rou is already in ../data/raw/originating/\n"
     ]
    },
    {
     "name": "stderr",
     "output_type": "stream",
     "text": [
      " 78%|███████▊  | 152/194 [00:33<00:08,  4.78it/s]"
     ]
    },
    {
     "name": "stdout",
     "output_type": "stream",
     "text": [
      "Data from refugees-originating-rus is already in ../data/raw/originating/\n",
      "Data from refugees-originating-rwa is already in ../data/raw/originating/\n"
     ]
    },
    {
     "name": "stderr",
     "output_type": "stream",
     "text": [
      " 79%|███████▉  | 154/194 [00:34<00:07,  5.23it/s]"
     ]
    },
    {
     "name": "stdout",
     "output_type": "stream",
     "text": [
      "Data from refugees-originating-sau is already in ../data/raw/originating/\n",
      "Data from refugees-originating-sdn is already in ../data/raw/originating/\n"
     ]
    },
    {
     "name": "stderr",
     "output_type": "stream",
     "text": [
      " 80%|████████  | 156/194 [00:34<00:06,  5.73it/s]"
     ]
    },
    {
     "name": "stdout",
     "output_type": "stream",
     "text": [
      "Data from refugees-originating-sen is already in ../data/raw/originating/\n",
      "Data from refugees-originating-sgp is already in ../data/raw/originating/\n"
     ]
    },
    {
     "name": "stderr",
     "output_type": "stream",
     "text": [
      " 81%|████████▏ | 158/194 [00:34<00:05,  6.03it/s]"
     ]
    },
    {
     "name": "stdout",
     "output_type": "stream",
     "text": [
      "Data from refugees-originating-slb is already in ../data/raw/originating/\n",
      "Data from refugees-originating-sle is already in ../data/raw/originating/\n"
     ]
    },
    {
     "name": "stderr",
     "output_type": "stream",
     "text": [
      " 82%|████████▏ | 160/194 [00:35<00:05,  6.12it/s]"
     ]
    },
    {
     "name": "stdout",
     "output_type": "stream",
     "text": [
      "Data from refugees-originating-slv is already in ../data/raw/originating/\n",
      "Data from refugees-originating-som is already in ../data/raw/originating/\n"
     ]
    },
    {
     "name": "stderr",
     "output_type": "stream",
     "text": [
      " 84%|████████▎ | 162/194 [00:35<00:05,  6.00it/s]"
     ]
    },
    {
     "name": "stdout",
     "output_type": "stream",
     "text": [
      "Data from refugees-originating-srb is already in ../data/raw/originating/\n",
      "Data from refugees-originating-ssd is already in ../data/raw/originating/\n"
     ]
    },
    {
     "name": "stderr",
     "output_type": "stream",
     "text": [
      " 85%|████████▍ | 164/194 [00:35<00:05,  5.85it/s]"
     ]
    },
    {
     "name": "stdout",
     "output_type": "stream",
     "text": [
      "Data from refugees-originating-sur is already in ../data/raw/originating/\n",
      "Data from refugees-originating-svk is already in ../data/raw/originating/\n"
     ]
    },
    {
     "name": "stderr",
     "output_type": "stream",
     "text": [
      " 86%|████████▌ | 166/194 [00:36<00:04,  6.09it/s]"
     ]
    },
    {
     "name": "stdout",
     "output_type": "stream",
     "text": [
      "Data from refugees-originating-svn is already in ../data/raw/originating/\n",
      "Data from refugees-originating-swe is already in ../data/raw/originating/\n"
     ]
    },
    {
     "name": "stderr",
     "output_type": "stream",
     "text": [
      " 87%|████████▋ | 168/194 [00:36<00:04,  6.27it/s]"
     ]
    },
    {
     "name": "stdout",
     "output_type": "stream",
     "text": [
      "Data from refugees-originating-swz is already in ../data/raw/originating/\n",
      "Data from refugees-originating-syr is already in ../data/raw/originating/\n"
     ]
    },
    {
     "name": "stderr",
     "output_type": "stream",
     "text": [
      " 88%|████████▊ | 170/194 [00:36<00:03,  6.25it/s]"
     ]
    },
    {
     "name": "stdout",
     "output_type": "stream",
     "text": [
      "Data from refugees-originating-tca is already in ../data/raw/originating/\n",
      "Data from refugees-originating-tcd is already in ../data/raw/originating/\n"
     ]
    },
    {
     "name": "stderr",
     "output_type": "stream",
     "text": [
      " 89%|████████▊ | 172/194 [00:37<00:03,  6.32it/s]"
     ]
    },
    {
     "name": "stdout",
     "output_type": "stream",
     "text": [
      "Data from refugees-originating-tgo is already in ../data/raw/originating/\n",
      "Data from refugees-originating-tha is already in ../data/raw/originating/\n"
     ]
    },
    {
     "name": "stderr",
     "output_type": "stream",
     "text": [
      " 90%|████████▉ | 174/194 [00:37<00:04,  4.78it/s]"
     ]
    },
    {
     "name": "stdout",
     "output_type": "stream",
     "text": [
      "Data from refugees-originating-tjk is already in ../data/raw/originating/\n",
      "Data from refugees-originating-tkm is already in ../data/raw/originating/\n"
     ]
    },
    {
     "name": "stderr",
     "output_type": "stream",
     "text": [
      " 91%|█████████ | 176/194 [00:37<00:03,  5.30it/s]"
     ]
    },
    {
     "name": "stdout",
     "output_type": "stream",
     "text": [
      "Data from refugees-originating-tls is already in ../data/raw/originating/\n",
      "Data from refugees-originating-ton is already in ../data/raw/originating/\n"
     ]
    },
    {
     "name": "stderr",
     "output_type": "stream",
     "text": [
      " 92%|█████████▏| 178/194 [00:38<00:02,  5.81it/s]"
     ]
    },
    {
     "name": "stdout",
     "output_type": "stream",
     "text": [
      "Data from refugees-originating-tto is already in ../data/raw/originating/\n",
      "Data from refugees-originating-tun is already in ../data/raw/originating/\n"
     ]
    },
    {
     "name": "stderr",
     "output_type": "stream",
     "text": [
      " 93%|█████████▎| 180/194 [00:38<00:02,  5.94it/s]"
     ]
    },
    {
     "name": "stdout",
     "output_type": "stream",
     "text": [
      "Data from refugees-originating-tur is already in ../data/raw/originating/\n",
      "Data from refugees-originating-tza is already in ../data/raw/originating/\n"
     ]
    },
    {
     "name": "stderr",
     "output_type": "stream",
     "text": [
      " 94%|█████████▍| 182/194 [00:38<00:01,  6.18it/s]"
     ]
    },
    {
     "name": "stdout",
     "output_type": "stream",
     "text": [
      "Data from refugees-originating-uga is already in ../data/raw/originating/\n",
      "Data from refugees-originating-ukr is already in ../data/raw/originating/\n"
     ]
    },
    {
     "name": "stderr",
     "output_type": "stream",
     "text": [
      " 95%|█████████▍| 184/194 [00:39<00:01,  6.39it/s]"
     ]
    },
    {
     "name": "stdout",
     "output_type": "stream",
     "text": [
      "Data from refugees-originating-ury is already in ../data/raw/originating/\n",
      "Data from refugees-originating-usa is already in ../data/raw/originating/\n"
     ]
    },
    {
     "name": "stderr",
     "output_type": "stream",
     "text": [
      " 95%|█████████▌| 185/194 [00:39<00:01,  6.42it/s]"
     ]
    },
    {
     "name": "stdout",
     "output_type": "stream",
     "text": [
      "Data from refugees-originating-uzb is already in ../data/raw/originating/\n"
     ]
    },
    {
     "name": "stderr",
     "output_type": "stream",
     "text": [
      " 96%|█████████▌| 186/194 [00:39<00:01,  5.37it/s]"
     ]
    },
    {
     "name": "stdout",
     "output_type": "stream",
     "text": [
      "Data from refugees-originating-vct is already in ../data/raw/originating/\n"
     ]
    },
    {
     "name": "stderr",
     "output_type": "stream",
     "text": [
      " 97%|█████████▋| 188/194 [00:40<00:01,  4.59it/s]"
     ]
    },
    {
     "name": "stdout",
     "output_type": "stream",
     "text": [
      "Data from refugees-originating-ven is already in ../data/raw/originating/\n",
      "Data from refugees-originating-vgb is already in ../data/raw/originating/\n"
     ]
    },
    {
     "name": "stderr",
     "output_type": "stream",
     "text": [
      " 98%|█████████▊| 190/194 [00:40<00:00,  5.43it/s]"
     ]
    },
    {
     "name": "stdout",
     "output_type": "stream",
     "text": [
      "Data from refugees-originating-vnm is already in ../data/raw/originating/\n",
      "Data from refugees-originating-vut is already in ../data/raw/originating/\n"
     ]
    },
    {
     "name": "stderr",
     "output_type": "stream",
     "text": [
      " 99%|█████████▉| 192/194 [00:40<00:00,  5.77it/s]"
     ]
    },
    {
     "name": "stdout",
     "output_type": "stream",
     "text": [
      "Data from refugees-originating-yem is already in ../data/raw/originating/\n",
      "Data from refugees-originating-zaf is already in ../data/raw/originating/\n"
     ]
    },
    {
     "name": "stderr",
     "output_type": "stream",
     "text": [
      "100%|██████████| 194/194 [00:41<00:00,  6.01it/s]"
     ]
    },
    {
     "name": "stdout",
     "output_type": "stream",
     "text": [
      "Data from refugees-originating-zmb is already in ../data/raw/originating/\n",
      "Data from refugees-originating-zwe is already in ../data/raw/originating/\n"
     ]
    },
    {
     "name": "stderr",
     "output_type": "stream",
     "text": [
      "\n"
     ]
    }
   ],
   "source": [
    "download_data_from_HDX(\"../data/raw/originating/\", originating)"
   ]
  },
  {
   "cell_type": "markdown",
   "metadata": {},
   "source": [
    "#### World Bank social and economic indicators for all countries"
   ]
  },
  {
   "cell_type": "markdown",
   "metadata": {},
   "source": [
    "Define a list with only those datasets that include in their name the string 'world-bank-indicators-for':"
   ]
  },
  {
   "cell_type": "code",
   "execution_count": 14,
   "metadata": {
    "scrolled": true
   },
   "outputs": [],
   "source": [
    "indicators = [k for k in list_datasets if 'world-bank-indicators-for' in k]\n",
    "indicators = [k for k in indicators if 'showcase' not in k]"
   ]
  },
  {
   "cell_type": "code",
   "execution_count": 15,
   "metadata": {},
   "outputs": [
    {
     "data": {
      "text/plain": [
       "217"
      ]
     },
     "execution_count": 15,
     "metadata": {},
     "output_type": "execute_result"
    }
   ],
   "source": [
    "len(indicators)"
   ]
  },
  {
   "cell_type": "code",
   "execution_count": 16,
   "metadata": {},
   "outputs": [
    {
     "data": {
      "text/plain": [
       "['world-bank-indicators-for-afghanistan',\n",
       " 'world-bank-indicators-for-albania',\n",
       " 'world-bank-indicators-for-algeria',\n",
       " 'world-bank-indicators-for-american-samoa',\n",
       " 'world-bank-indicators-for-andorra']"
      ]
     },
     "execution_count": 16,
     "metadata": {},
     "output_type": "execute_result"
    }
   ],
   "source": [
    "indicators[0:5]"
   ]
  },
  {
   "cell_type": "code",
   "execution_count": 17,
   "metadata": {
    "scrolled": true
   },
   "outputs": [
    {
     "name": "stderr",
     "output_type": "stream",
     "text": [
      "  1%|          | 2/217 [00:00<00:34,  6.17it/s]"
     ]
    },
    {
     "name": "stdout",
     "output_type": "stream",
     "text": [
      "Data from world-bank-indicators-for-afghanistan is already in ../data/raw/indicators/\n",
      "Data from world-bank-indicators-for-albania is already in ../data/raw/indicators/\n"
     ]
    },
    {
     "name": "stderr",
     "output_type": "stream",
     "text": [
      "  2%|▏         | 4/217 [00:00<00:38,  5.53it/s]"
     ]
    },
    {
     "name": "stdout",
     "output_type": "stream",
     "text": [
      "Data from world-bank-indicators-for-algeria is already in ../data/raw/indicators/\n",
      "Data from world-bank-indicators-for-american-samoa is already in ../data/raw/indicators/\n"
     ]
    },
    {
     "name": "stderr",
     "output_type": "stream",
     "text": [
      "  3%|▎         | 6/217 [00:01<00:36,  5.73it/s]"
     ]
    },
    {
     "name": "stdout",
     "output_type": "stream",
     "text": [
      "Data from world-bank-indicators-for-andorra is already in ../data/raw/indicators/\n",
      "Data from world-bank-indicators-for-angola is already in ../data/raw/indicators/\n"
     ]
    },
    {
     "name": "stderr",
     "output_type": "stream",
     "text": [
      "  4%|▎         | 8/217 [00:01<00:35,  5.88it/s]"
     ]
    },
    {
     "name": "stdout",
     "output_type": "stream",
     "text": [
      "Data from world-bank-indicators-for-antigua-and-barbuda is already in ../data/raw/indicators/\n",
      "Data from world-bank-indicators-for-argentina is already in ../data/raw/indicators/\n"
     ]
    },
    {
     "name": "stderr",
     "output_type": "stream",
     "text": [
      "  5%|▍         | 10/217 [00:01<00:35,  5.81it/s]"
     ]
    },
    {
     "name": "stdout",
     "output_type": "stream",
     "text": [
      "Data from world-bank-indicators-for-armenia is already in ../data/raw/indicators/\n",
      "Data from world-bank-indicators-for-aruba is already in ../data/raw/indicators/\n"
     ]
    },
    {
     "name": "stderr",
     "output_type": "stream",
     "text": [
      "  6%|▌         | 12/217 [00:02<00:36,  5.61it/s]"
     ]
    },
    {
     "name": "stdout",
     "output_type": "stream",
     "text": [
      "Data from world-bank-indicators-for-australia is already in ../data/raw/indicators/\n",
      "Data from world-bank-indicators-for-austria is already in ../data/raw/indicators/\n"
     ]
    },
    {
     "name": "stderr",
     "output_type": "stream",
     "text": [
      "  6%|▋         | 14/217 [00:02<00:35,  5.70it/s]"
     ]
    },
    {
     "name": "stdout",
     "output_type": "stream",
     "text": [
      "Data from world-bank-indicators-for-azerbaijan is already in ../data/raw/indicators/\n",
      "Data from world-bank-indicators-for-bahamas-the is already in ../data/raw/indicators/\n"
     ]
    },
    {
     "name": "stderr",
     "output_type": "stream",
     "text": [
      "  7%|▋         | 16/217 [00:02<00:34,  5.81it/s]"
     ]
    },
    {
     "name": "stdout",
     "output_type": "stream",
     "text": [
      "Data from world-bank-indicators-for-bahrain is already in ../data/raw/indicators/\n",
      "Data from world-bank-indicators-for-bangladesh is already in ../data/raw/indicators/\n"
     ]
    },
    {
     "name": "stderr",
     "output_type": "stream",
     "text": [
      "  8%|▊         | 18/217 [00:03<00:33,  5.87it/s]"
     ]
    },
    {
     "name": "stdout",
     "output_type": "stream",
     "text": [
      "Data from world-bank-indicators-for-barbados is already in ../data/raw/indicators/\n",
      "Data from world-bank-indicators-for-belarus is already in ../data/raw/indicators/\n"
     ]
    },
    {
     "name": "stderr",
     "output_type": "stream",
     "text": [
      "  9%|▉         | 20/217 [00:03<00:33,  5.92it/s]"
     ]
    },
    {
     "name": "stdout",
     "output_type": "stream",
     "text": [
      "Data from world-bank-indicators-for-belgium is already in ../data/raw/indicators/\n",
      "Data from world-bank-indicators-for-belize is already in ../data/raw/indicators/\n"
     ]
    },
    {
     "name": "stderr",
     "output_type": "stream",
     "text": [
      " 10%|▉         | 21/217 [00:03<00:34,  5.73it/s]"
     ]
    },
    {
     "name": "stdout",
     "output_type": "stream",
     "text": [
      "Data from world-bank-indicators-for-benin is already in ../data/raw/indicators/\n"
     ]
    },
    {
     "name": "stderr",
     "output_type": "stream",
     "text": [
      " 11%|█         | 23/217 [00:04<00:40,  4.77it/s]"
     ]
    },
    {
     "name": "stdout",
     "output_type": "stream",
     "text": [
      "Data from world-bank-indicators-for-bermuda is already in ../data/raw/indicators/\n",
      "Data from world-bank-indicators-for-bhutan is already in ../data/raw/indicators/\n"
     ]
    },
    {
     "name": "stderr",
     "output_type": "stream",
     "text": [
      " 11%|█         | 24/217 [00:04<00:37,  5.14it/s]"
     ]
    },
    {
     "name": "stdout",
     "output_type": "stream",
     "text": [
      "Data from world-bank-indicators-for-bolivia is already in ../data/raw/indicators/\n"
     ]
    },
    {
     "name": "stderr",
     "output_type": "stream",
     "text": [
      " 12%|█▏        | 26/217 [00:04<00:41,  4.57it/s]"
     ]
    },
    {
     "name": "stdout",
     "output_type": "stream",
     "text": [
      "Data from world-bank-indicators-for-bosnia-and-herzegovina is already in ../data/raw/indicators/\n",
      "Data from world-bank-indicators-for-botswana is already in ../data/raw/indicators/\n"
     ]
    },
    {
     "name": "stderr",
     "output_type": "stream",
     "text": [
      " 13%|█▎        | 28/217 [00:05<00:35,  5.30it/s]"
     ]
    },
    {
     "name": "stdout",
     "output_type": "stream",
     "text": [
      "Data from world-bank-indicators-for-brazil is already in ../data/raw/indicators/\n",
      "Data from world-bank-indicators-for-british-virgin-islands is already in ../data/raw/indicators/\n"
     ]
    },
    {
     "name": "stderr",
     "output_type": "stream",
     "text": [
      " 14%|█▍        | 30/217 [00:05<00:32,  5.73it/s]"
     ]
    },
    {
     "name": "stdout",
     "output_type": "stream",
     "text": [
      "Data from world-bank-indicators-for-brunei-darussalam is already in ../data/raw/indicators/\n",
      "Data from world-bank-indicators-for-bulgaria is already in ../data/raw/indicators/\n"
     ]
    },
    {
     "name": "stderr",
     "output_type": "stream",
     "text": [
      " 15%|█▍        | 32/217 [00:05<00:31,  5.84it/s]"
     ]
    },
    {
     "name": "stdout",
     "output_type": "stream",
     "text": [
      "Data from world-bank-indicators-for-burkina-faso is already in ../data/raw/indicators/\n",
      "Data from world-bank-indicators-for-burundi is already in ../data/raw/indicators/\n"
     ]
    },
    {
     "name": "stderr",
     "output_type": "stream",
     "text": [
      " 16%|█▌        | 34/217 [00:06<00:32,  5.69it/s]"
     ]
    },
    {
     "name": "stdout",
     "output_type": "stream",
     "text": [
      "Data from world-bank-indicators-for-cabo-verde is already in ../data/raw/indicators/\n",
      "Data from world-bank-indicators-for-cambodia is already in ../data/raw/indicators/\n"
     ]
    },
    {
     "name": "stderr",
     "output_type": "stream",
     "text": [
      " 17%|█▋        | 36/217 [00:06<00:31,  5.78it/s]"
     ]
    },
    {
     "name": "stdout",
     "output_type": "stream",
     "text": [
      "Data from world-bank-indicators-for-cameroon is already in ../data/raw/indicators/\n",
      "Data from world-bank-indicators-for-canada is already in ../data/raw/indicators/\n"
     ]
    },
    {
     "name": "stderr",
     "output_type": "stream",
     "text": [
      " 18%|█▊        | 38/217 [00:06<00:31,  5.65it/s]"
     ]
    },
    {
     "name": "stdout",
     "output_type": "stream",
     "text": [
      "Data from world-bank-indicators-for-cayman-islands is already in ../data/raw/indicators/\n",
      "Data from world-bank-indicators-for-central-african-republic is already in ../data/raw/indicators/\n"
     ]
    },
    {
     "name": "stderr",
     "output_type": "stream",
     "text": [
      " 18%|█▊        | 40/217 [00:07<00:30,  5.74it/s]"
     ]
    },
    {
     "name": "stdout",
     "output_type": "stream",
     "text": [
      "Data from world-bank-indicators-for-chad is already in ../data/raw/indicators/\n",
      "Data from world-bank-indicators-for-channel-islands is already in ../data/raw/indicators/\n"
     ]
    },
    {
     "name": "stderr",
     "output_type": "stream",
     "text": [
      " 19%|█▉        | 42/217 [00:07<00:30,  5.79it/s]"
     ]
    },
    {
     "name": "stdout",
     "output_type": "stream",
     "text": [
      "Data from world-bank-indicators-for-chile is already in ../data/raw/indicators/\n",
      "Data from world-bank-indicators-for-china is already in ../data/raw/indicators/\n"
     ]
    },
    {
     "name": "stderr",
     "output_type": "stream",
     "text": [
      " 20%|██        | 44/217 [00:07<00:29,  5.79it/s]"
     ]
    },
    {
     "name": "stdout",
     "output_type": "stream",
     "text": [
      "Data from world-bank-indicators-for-colombia is already in ../data/raw/indicators/\n",
      "Data from world-bank-indicators-for-comoros is already in ../data/raw/indicators/\n"
     ]
    },
    {
     "name": "stderr",
     "output_type": "stream",
     "text": [
      " 21%|██        | 45/217 [00:08<00:39,  4.34it/s]"
     ]
    },
    {
     "name": "stdout",
     "output_type": "stream",
     "text": [
      "Data from world-bank-indicators-for-congo-dem-rep is already in ../data/raw/indicators/\n"
     ]
    },
    {
     "name": "stderr",
     "output_type": "stream",
     "text": [
      " 22%|██▏       | 47/217 [00:08<00:35,  4.77it/s]"
     ]
    },
    {
     "name": "stdout",
     "output_type": "stream",
     "text": [
      "Data from world-bank-indicators-for-congo-rep is already in ../data/raw/indicators/\n",
      "Data from world-bank-indicators-for-costa-rica is already in ../data/raw/indicators/\n"
     ]
    },
    {
     "name": "stderr",
     "output_type": "stream",
     "text": [
      " 23%|██▎       | 49/217 [00:09<00:33,  4.97it/s]"
     ]
    },
    {
     "name": "stdout",
     "output_type": "stream",
     "text": [
      "Data from world-bank-indicators-for-cote-divoire is already in ../data/raw/indicators/\n",
      "Data from world-bank-indicators-for-croatia is already in ../data/raw/indicators/\n"
     ]
    },
    {
     "name": "stderr",
     "output_type": "stream",
     "text": [
      " 24%|██▎       | 51/217 [00:09<00:38,  4.32it/s]"
     ]
    },
    {
     "name": "stdout",
     "output_type": "stream",
     "text": [
      "Data from world-bank-indicators-for-cuba is already in ../data/raw/indicators/\n",
      "Data from world-bank-indicators-for-curacao is already in ../data/raw/indicators/\n"
     ]
    },
    {
     "name": "stderr",
     "output_type": "stream",
     "text": [
      " 24%|██▍       | 53/217 [00:09<00:32,  5.03it/s]"
     ]
    },
    {
     "name": "stdout",
     "output_type": "stream",
     "text": [
      "Data from world-bank-indicators-for-cyprus is already in ../data/raw/indicators/\n",
      "Data from world-bank-indicators-for-czech-republic is already in ../data/raw/indicators/\n"
     ]
    },
    {
     "name": "stderr",
     "output_type": "stream",
     "text": [
      " 25%|██▍       | 54/217 [00:10<00:31,  5.25it/s]"
     ]
    },
    {
     "name": "stdout",
     "output_type": "stream",
     "text": [
      "Data from world-bank-indicators-for-denmark is already in ../data/raw/indicators/\n"
     ]
    },
    {
     "name": "stderr",
     "output_type": "stream",
     "text": [
      " 26%|██▌       | 56/217 [00:10<00:30,  5.24it/s]"
     ]
    },
    {
     "name": "stdout",
     "output_type": "stream",
     "text": [
      "Data from world-bank-indicators-for-djibouti is already in ../data/raw/indicators/\n",
      "Data from world-bank-indicators-for-dominica is already in ../data/raw/indicators/\n"
     ]
    },
    {
     "name": "stderr",
     "output_type": "stream",
     "text": [
      " 26%|██▋       | 57/217 [00:10<00:33,  4.83it/s]"
     ]
    },
    {
     "name": "stdout",
     "output_type": "stream",
     "text": [
      "Data from world-bank-indicators-for-dominican-republic is already in ../data/raw/indicators/\n"
     ]
    },
    {
     "name": "stderr",
     "output_type": "stream",
     "text": [
      " 27%|██▋       | 59/217 [00:11<00:32,  4.87it/s]"
     ]
    },
    {
     "name": "stdout",
     "output_type": "stream",
     "text": [
      "Data from world-bank-indicators-for-ecuador is already in ../data/raw/indicators/\n",
      "Data from world-bank-indicators-for-egypt-arab-rep is already in ../data/raw/indicators/\n"
     ]
    },
    {
     "name": "stderr",
     "output_type": "stream",
     "text": [
      " 28%|██▊       | 61/217 [00:11<00:30,  5.04it/s]"
     ]
    },
    {
     "name": "stdout",
     "output_type": "stream",
     "text": [
      "Data from world-bank-indicators-for-el-salvador is already in ../data/raw/indicators/\n",
      "Data from world-bank-indicators-for-equatorial-guinea is already in ../data/raw/indicators/\n"
     ]
    },
    {
     "name": "stderr",
     "output_type": "stream",
     "text": [
      " 29%|██▊       | 62/217 [00:12<00:44,  3.52it/s]"
     ]
    },
    {
     "name": "stdout",
     "output_type": "stream",
     "text": [
      "Data from world-bank-indicators-for-eritrea is already in ../data/raw/indicators/\n"
     ]
    },
    {
     "name": "stderr",
     "output_type": "stream",
     "text": [
      " 29%|██▉       | 63/217 [00:12<00:50,  3.03it/s]"
     ]
    },
    {
     "name": "stdout",
     "output_type": "stream",
     "text": [
      "Data from world-bank-indicators-for-estonia is already in ../data/raw/indicators/\n"
     ]
    },
    {
     "name": "stderr",
     "output_type": "stream",
     "text": [
      " 29%|██▉       | 64/217 [00:12<00:54,  2.79it/s]"
     ]
    },
    {
     "name": "stdout",
     "output_type": "stream",
     "text": [
      "Data from world-bank-indicators-for-eswatini is already in ../data/raw/indicators/\n"
     ]
    },
    {
     "name": "stderr",
     "output_type": "stream",
     "text": [
      " 30%|███       | 66/217 [00:13<00:46,  3.21it/s]"
     ]
    },
    {
     "name": "stdout",
     "output_type": "stream",
     "text": [
      "Data from world-bank-indicators-for-ethiopia is already in ../data/raw/indicators/\n",
      "Data from world-bank-indicators-for-faroe-islands is already in ../data/raw/indicators/\n"
     ]
    },
    {
     "name": "stderr",
     "output_type": "stream",
     "text": [
      " 31%|███▏      | 68/217 [00:13<00:34,  4.30it/s]"
     ]
    },
    {
     "name": "stdout",
     "output_type": "stream",
     "text": [
      "Data from world-bank-indicators-for-fiji is already in ../data/raw/indicators/\n",
      "Data from world-bank-indicators-for-finland is already in ../data/raw/indicators/\n"
     ]
    },
    {
     "name": "stderr",
     "output_type": "stream",
     "text": [
      " 32%|███▏      | 70/217 [00:14<00:29,  4.93it/s]"
     ]
    },
    {
     "name": "stdout",
     "output_type": "stream",
     "text": [
      "Data from world-bank-indicators-for-france is already in ../data/raw/indicators/\n",
      "Data from world-bank-indicators-for-french-polynesia is already in ../data/raw/indicators/\n"
     ]
    },
    {
     "name": "stderr",
     "output_type": "stream",
     "text": [
      " 33%|███▎      | 71/217 [00:14<00:28,  5.14it/s]"
     ]
    },
    {
     "name": "stdout",
     "output_type": "stream",
     "text": [
      "Data from world-bank-indicators-for-gabon is already in ../data/raw/indicators/\n"
     ]
    },
    {
     "name": "stderr",
     "output_type": "stream",
     "text": [
      " 34%|███▎      | 73/217 [00:14<00:31,  4.53it/s]"
     ]
    },
    {
     "name": "stdout",
     "output_type": "stream",
     "text": [
      "Data from world-bank-indicators-for-gambia-the is already in ../data/raw/indicators/\n",
      "Data from world-bank-indicators-for-georgia is already in ../data/raw/indicators/\n"
     ]
    },
    {
     "name": "stderr",
     "output_type": "stream",
     "text": [
      " 35%|███▍      | 75/217 [00:15<00:27,  5.08it/s]"
     ]
    },
    {
     "name": "stdout",
     "output_type": "stream",
     "text": [
      "Data from world-bank-indicators-for-germany is already in ../data/raw/indicators/\n",
      "Data from world-bank-indicators-for-ghana is already in ../data/raw/indicators/\n"
     ]
    },
    {
     "name": "stderr",
     "output_type": "stream",
     "text": [
      " 35%|███▌      | 77/217 [00:15<00:25,  5.48it/s]"
     ]
    },
    {
     "name": "stdout",
     "output_type": "stream",
     "text": [
      "Data from world-bank-indicators-for-gibraltar is already in ../data/raw/indicators/\n",
      "Data from world-bank-indicators-for-greece is already in ../data/raw/indicators/\n"
     ]
    },
    {
     "name": "stderr",
     "output_type": "stream",
     "text": [
      " 36%|███▋      | 79/217 [00:15<00:24,  5.60it/s]"
     ]
    },
    {
     "name": "stdout",
     "output_type": "stream",
     "text": [
      "Data from world-bank-indicators-for-greenland is already in ../data/raw/indicators/\n",
      "Data from world-bank-indicators-for-grenada is already in ../data/raw/indicators/\n"
     ]
    },
    {
     "name": "stderr",
     "output_type": "stream",
     "text": [
      " 37%|███▋      | 81/217 [00:16<00:25,  5.43it/s]"
     ]
    },
    {
     "name": "stdout",
     "output_type": "stream",
     "text": [
      "Data from world-bank-indicators-for-guam is already in ../data/raw/indicators/\n",
      "Data from world-bank-indicators-for-guatemala is already in ../data/raw/indicators/\n"
     ]
    },
    {
     "name": "stderr",
     "output_type": "stream",
     "text": [
      " 38%|███▊      | 82/217 [00:16<00:24,  5.50it/s]"
     ]
    },
    {
     "name": "stdout",
     "output_type": "stream",
     "text": [
      "Data from world-bank-indicators-for-guinea is already in ../data/raw/indicators/\n"
     ]
    },
    {
     "name": "stderr",
     "output_type": "stream",
     "text": [
      " 39%|███▊      | 84/217 [00:16<00:29,  4.48it/s]"
     ]
    },
    {
     "name": "stdout",
     "output_type": "stream",
     "text": [
      "Data from world-bank-indicators-for-guinea-bissau is already in ../data/raw/indicators/\n",
      "Data from world-bank-indicators-for-guyana is already in ../data/raw/indicators/\n"
     ]
    },
    {
     "name": "stderr",
     "output_type": "stream",
     "text": [
      " 40%|███▉      | 86/217 [00:17<00:25,  5.16it/s]"
     ]
    },
    {
     "name": "stdout",
     "output_type": "stream",
     "text": [
      "Data from world-bank-indicators-for-haiti is already in ../data/raw/indicators/\n",
      "Data from world-bank-indicators-for-honduras is already in ../data/raw/indicators/\n"
     ]
    },
    {
     "name": "stderr",
     "output_type": "stream",
     "text": [
      " 41%|████      | 88/217 [00:17<00:23,  5.52it/s]"
     ]
    },
    {
     "name": "stdout",
     "output_type": "stream",
     "text": [
      "Data from world-bank-indicators-for-hong-kong-sar-china is already in ../data/raw/indicators/\n",
      "Data from world-bank-indicators-for-hungary is already in ../data/raw/indicators/\n"
     ]
    },
    {
     "name": "stderr",
     "output_type": "stream",
     "text": [
      " 41%|████▏     | 90/217 [00:18<00:22,  5.75it/s]"
     ]
    },
    {
     "name": "stdout",
     "output_type": "stream",
     "text": [
      "Data from world-bank-indicators-for-iceland is already in ../data/raw/indicators/\n",
      "Data from world-bank-indicators-for-india is already in ../data/raw/indicators/\n"
     ]
    },
    {
     "name": "stderr",
     "output_type": "stream",
     "text": [
      " 42%|████▏     | 92/217 [00:18<00:21,  5.76it/s]"
     ]
    },
    {
     "name": "stdout",
     "output_type": "stream",
     "text": [
      "Data from world-bank-indicators-for-indonesia is already in ../data/raw/indicators/\n",
      "Data from world-bank-indicators-for-iran-islamic-rep is already in ../data/raw/indicators/\n"
     ]
    },
    {
     "name": "stderr",
     "output_type": "stream",
     "text": [
      " 43%|████▎     | 94/217 [00:18<00:21,  5.62it/s]"
     ]
    },
    {
     "name": "stdout",
     "output_type": "stream",
     "text": [
      "Data from world-bank-indicators-for-iraq is already in ../data/raw/indicators/\n",
      "Data from world-bank-indicators-for-ireland is already in ../data/raw/indicators/\n"
     ]
    },
    {
     "name": "stderr",
     "output_type": "stream",
     "text": [
      " 44%|████▍     | 96/217 [00:19<00:21,  5.67it/s]"
     ]
    },
    {
     "name": "stdout",
     "output_type": "stream",
     "text": [
      "Data from world-bank-indicators-for-israel is already in ../data/raw/indicators/\n",
      "Data from world-bank-indicators-for-italy is already in ../data/raw/indicators/\n"
     ]
    },
    {
     "name": "stderr",
     "output_type": "stream",
     "text": [
      " 45%|████▌     | 98/217 [00:19<00:20,  5.69it/s]"
     ]
    },
    {
     "name": "stdout",
     "output_type": "stream",
     "text": [
      "Data from world-bank-indicators-for-jamaica is already in ../data/raw/indicators/\n",
      "Data from world-bank-indicators-for-japan is already in ../data/raw/indicators/\n"
     ]
    },
    {
     "name": "stderr",
     "output_type": "stream",
     "text": [
      " 46%|████▌     | 100/217 [00:19<00:21,  5.50it/s]"
     ]
    },
    {
     "name": "stdout",
     "output_type": "stream",
     "text": [
      "Data from world-bank-indicators-for-jordan is already in ../data/raw/indicators/\n",
      "Data from world-bank-indicators-for-kazakhstan is already in ../data/raw/indicators/\n"
     ]
    },
    {
     "name": "stderr",
     "output_type": "stream",
     "text": [
      " 47%|████▋     | 102/217 [00:20<00:21,  5.33it/s]"
     ]
    },
    {
     "name": "stdout",
     "output_type": "stream",
     "text": [
      "Data from world-bank-indicators-for-kenya is already in ../data/raw/indicators/\n",
      "Data from world-bank-indicators-for-kiribati is already in ../data/raw/indicators/\n"
     ]
    },
    {
     "name": "stderr",
     "output_type": "stream",
     "text": [
      " 48%|████▊     | 104/217 [00:20<00:21,  5.22it/s]"
     ]
    },
    {
     "name": "stdout",
     "output_type": "stream",
     "text": [
      "Data from world-bank-indicators-for-korea-dem-peoples-rep is already in ../data/raw/indicators/\n",
      "Data from world-bank-indicators-for-korea-rep is already in ../data/raw/indicators/\n"
     ]
    },
    {
     "name": "stderr",
     "output_type": "stream",
     "text": [
      " 49%|████▉     | 106/217 [00:20<00:21,  5.15it/s]"
     ]
    },
    {
     "name": "stdout",
     "output_type": "stream",
     "text": [
      "Data from world-bank-indicators-for-kuwait is already in ../data/raw/indicators/\n",
      "Data from world-bank-indicators-for-kyrgyz-republic is already in ../data/raw/indicators/\n"
     ]
    },
    {
     "name": "stderr",
     "output_type": "stream",
     "text": [
      " 50%|████▉     | 108/217 [00:21<00:21,  5.03it/s]"
     ]
    },
    {
     "name": "stdout",
     "output_type": "stream",
     "text": [
      "Data from world-bank-indicators-for-lao-pdr is already in ../data/raw/indicators/\n",
      "Data from world-bank-indicators-for-latvia is already in ../data/raw/indicators/\n"
     ]
    },
    {
     "name": "stderr",
     "output_type": "stream",
     "text": [
      " 51%|█████     | 110/217 [00:21<00:22,  4.85it/s]"
     ]
    },
    {
     "name": "stdout",
     "output_type": "stream",
     "text": [
      "Data from world-bank-indicators-for-lebanon is already in ../data/raw/indicators/\n",
      "Data from world-bank-indicators-for-lesotho is already in ../data/raw/indicators/\n"
     ]
    },
    {
     "name": "stderr",
     "output_type": "stream",
     "text": [
      " 52%|█████▏    | 112/217 [00:22<00:21,  4.94it/s]"
     ]
    },
    {
     "name": "stdout",
     "output_type": "stream",
     "text": [
      "Data from world-bank-indicators-for-liberia is already in ../data/raw/indicators/\n",
      "Data from world-bank-indicators-for-libya is already in ../data/raw/indicators/\n"
     ]
    },
    {
     "name": "stderr",
     "output_type": "stream",
     "text": [
      " 52%|█████▏    | 113/217 [00:22<00:21,  4.92it/s]"
     ]
    },
    {
     "name": "stdout",
     "output_type": "stream",
     "text": [
      "Data from world-bank-indicators-for-liechtenstein is already in ../data/raw/indicators/\n"
     ]
    },
    {
     "name": "stderr",
     "output_type": "stream",
     "text": [
      " 53%|█████▎    | 115/217 [00:22<00:20,  4.90it/s]"
     ]
    },
    {
     "name": "stdout",
     "output_type": "stream",
     "text": [
      "Data from world-bank-indicators-for-lithuania is already in ../data/raw/indicators/\n",
      "Data from world-bank-indicators-for-luxembourg is already in ../data/raw/indicators/\n"
     ]
    },
    {
     "name": "stderr",
     "output_type": "stream",
     "text": [
      " 54%|█████▍    | 117/217 [00:23<00:20,  4.93it/s]"
     ]
    },
    {
     "name": "stdout",
     "output_type": "stream",
     "text": [
      "Data from world-bank-indicators-for-macao-sar-china is already in ../data/raw/indicators/\n",
      "Data from world-bank-indicators-for-macedonia-fyr is already in ../data/raw/indicators/\n"
     ]
    },
    {
     "name": "stderr",
     "output_type": "stream",
     "text": [
      " 54%|█████▍    | 118/217 [00:23<00:20,  4.88it/s]"
     ]
    },
    {
     "name": "stdout",
     "output_type": "stream",
     "text": [
      "Data from world-bank-indicators-for-madagascar is already in ../data/raw/indicators/\n"
     ]
    },
    {
     "name": "stderr",
     "output_type": "stream",
     "text": [
      " 55%|█████▌    | 120/217 [00:23<00:20,  4.75it/s]"
     ]
    },
    {
     "name": "stdout",
     "output_type": "stream",
     "text": [
      "Data from world-bank-indicators-for-malawi is already in ../data/raw/indicators/\n",
      "Data from world-bank-indicators-for-malaysia is already in ../data/raw/indicators/\n"
     ]
    },
    {
     "name": "stderr",
     "output_type": "stream",
     "text": [
      " 56%|█████▌    | 122/217 [00:24<00:29,  3.17it/s]"
     ]
    },
    {
     "name": "stdout",
     "output_type": "stream",
     "text": [
      "Data from world-bank-indicators-for-maldives is already in ../data/raw/indicators/\n",
      "Data from world-bank-indicators-for-mali is already in ../data/raw/indicators/\n"
     ]
    },
    {
     "name": "stderr",
     "output_type": "stream",
     "text": [
      " 57%|█████▋    | 123/217 [00:24<00:26,  3.60it/s]"
     ]
    },
    {
     "name": "stdout",
     "output_type": "stream",
     "text": [
      "Data from world-bank-indicators-for-malta is already in ../data/raw/indicators/\n"
     ]
    },
    {
     "name": "stderr",
     "output_type": "stream",
     "text": [
      " 58%|█████▊    | 125/217 [00:25<00:22,  4.18it/s]"
     ]
    },
    {
     "name": "stdout",
     "output_type": "stream",
     "text": [
      "Data from world-bank-indicators-for-marshall-islands is already in ../data/raw/indicators/\n",
      "Data from world-bank-indicators-for-mauritania is already in ../data/raw/indicators/\n"
     ]
    },
    {
     "name": "stderr",
     "output_type": "stream",
     "text": [
      " 59%|█████▊    | 127/217 [00:25<00:18,  4.74it/s]"
     ]
    },
    {
     "name": "stdout",
     "output_type": "stream",
     "text": [
      "Data from world-bank-indicators-for-mauritius is already in ../data/raw/indicators/\n",
      "Data from world-bank-indicators-for-mexico is already in ../data/raw/indicators/\n"
     ]
    },
    {
     "name": "stderr",
     "output_type": "stream",
     "text": [
      " 59%|█████▉    | 129/217 [00:26<00:17,  4.98it/s]"
     ]
    },
    {
     "name": "stdout",
     "output_type": "stream",
     "text": [
      "Data from world-bank-indicators-for-micronesia-fed-sts is already in ../data/raw/indicators/\n",
      "Data from world-bank-indicators-for-moldova is already in ../data/raw/indicators/\n"
     ]
    },
    {
     "name": "stderr",
     "output_type": "stream",
     "text": [
      " 60%|█████▉    | 130/217 [00:26<00:16,  5.16it/s]"
     ]
    },
    {
     "name": "stdout",
     "output_type": "stream",
     "text": [
      "Data from world-bank-indicators-for-monaco is already in ../data/raw/indicators/\n"
     ]
    },
    {
     "name": "stderr",
     "output_type": "stream",
     "text": [
      " 60%|██████    | 131/217 [00:26<00:17,  5.05it/s]"
     ]
    },
    {
     "name": "stdout",
     "output_type": "stream",
     "text": [
      "Data from world-bank-indicators-for-mongolia is already in ../data/raw/indicators/\n"
     ]
    },
    {
     "name": "stderr",
     "output_type": "stream",
     "text": [
      " 61%|██████▏   | 133/217 [00:26<00:16,  5.08it/s]"
     ]
    },
    {
     "name": "stdout",
     "output_type": "stream",
     "text": [
      "Data from world-bank-indicators-for-montenegro is already in ../data/raw/indicators/\n",
      "Data from world-bank-indicators-for-morocco is already in ../data/raw/indicators/\n"
     ]
    },
    {
     "name": "stderr",
     "output_type": "stream",
     "text": [
      " 62%|██████▏   | 134/217 [00:27<00:16,  4.98it/s]"
     ]
    },
    {
     "name": "stdout",
     "output_type": "stream",
     "text": [
      "Data from world-bank-indicators-for-mozambique is already in ../data/raw/indicators/\n"
     ]
    },
    {
     "name": "stderr",
     "output_type": "stream",
     "text": [
      " 63%|██████▎   | 136/217 [00:27<00:16,  4.98it/s]"
     ]
    },
    {
     "name": "stdout",
     "output_type": "stream",
     "text": [
      "Data from world-bank-indicators-for-myanmar is already in ../data/raw/indicators/\n",
      "Data from world-bank-indicators-for-namibia is already in ../data/raw/indicators/\n"
     ]
    },
    {
     "name": "stderr",
     "output_type": "stream",
     "text": [
      " 63%|██████▎   | 137/217 [00:27<00:16,  4.93it/s]"
     ]
    },
    {
     "name": "stdout",
     "output_type": "stream",
     "text": [
      "Data from world-bank-indicators-for-nauru is already in ../data/raw/indicators/\n"
     ]
    },
    {
     "name": "stderr",
     "output_type": "stream",
     "text": [
      " 64%|██████▎   | 138/217 [00:27<00:15,  4.94it/s]"
     ]
    },
    {
     "name": "stdout",
     "output_type": "stream",
     "text": [
      "Data from world-bank-indicators-for-nepal is already in ../data/raw/indicators/\n",
      "Data from world-bank-indicators-for-netherlands is already in ../data/raw/indicators/\n"
     ]
    },
    {
     "name": "stderr",
     "output_type": "stream",
     "text": [
      " 65%|██████▍   | 140/217 [00:28<00:15,  4.91it/s]"
     ]
    },
    {
     "name": "stdout",
     "output_type": "stream",
     "text": [
      "Data from world-bank-indicators-for-new-caledonia is already in ../data/raw/indicators/\n"
     ]
    },
    {
     "name": "stderr",
     "output_type": "stream",
     "text": [
      " 65%|██████▍   | 141/217 [00:28<00:16,  4.74it/s]"
     ]
    },
    {
     "name": "stdout",
     "output_type": "stream",
     "text": [
      "Data from world-bank-indicators-for-new-zealand is already in ../data/raw/indicators/\n"
     ]
    },
    {
     "name": "stderr",
     "output_type": "stream",
     "text": [
      " 66%|██████▌   | 143/217 [00:29<00:15,  4.84it/s]"
     ]
    },
    {
     "name": "stdout",
     "output_type": "stream",
     "text": [
      "Data from world-bank-indicators-for-nicaragua is already in ../data/raw/indicators/\n",
      "Data from world-bank-indicators-for-niger is already in ../data/raw/indicators/\n"
     ]
    },
    {
     "name": "stderr",
     "output_type": "stream",
     "text": [
      " 66%|██████▋   | 144/217 [00:29<00:15,  4.84it/s]"
     ]
    },
    {
     "name": "stdout",
     "output_type": "stream",
     "text": [
      "Data from world-bank-indicators-for-nigeria is already in ../data/raw/indicators/\n"
     ]
    },
    {
     "name": "stderr",
     "output_type": "stream",
     "text": [
      " 67%|██████▋   | 146/217 [00:29<00:14,  4.88it/s]"
     ]
    },
    {
     "name": "stdout",
     "output_type": "stream",
     "text": [
      "Data from world-bank-indicators-for-northern-mariana-islands is already in ../data/raw/indicators/\n",
      "Data from world-bank-indicators-for-norway is already in ../data/raw/indicators/\n"
     ]
    },
    {
     "name": "stderr",
     "output_type": "stream",
     "text": [
      " 68%|██████▊   | 147/217 [00:29<00:14,  4.85it/s]"
     ]
    },
    {
     "name": "stdout",
     "output_type": "stream",
     "text": [
      "Data from world-bank-indicators-for-oman is already in ../data/raw/indicators/\n"
     ]
    },
    {
     "name": "stderr",
     "output_type": "stream",
     "text": [
      " 68%|██████▊   | 148/217 [00:30<00:14,  4.89it/s]"
     ]
    },
    {
     "name": "stdout",
     "output_type": "stream",
     "text": [
      "Data from world-bank-indicators-for-pakistan is already in ../data/raw/indicators/\n"
     ]
    },
    {
     "name": "stderr",
     "output_type": "stream",
     "text": [
      " 69%|██████▉   | 150/217 [00:30<00:14,  4.52it/s]"
     ]
    },
    {
     "name": "stdout",
     "output_type": "stream",
     "text": [
      "Data from world-bank-indicators-for-palau is already in ../data/raw/indicators/\n",
      "Data from world-bank-indicators-for-panama is already in ../data/raw/indicators/\n"
     ]
    },
    {
     "name": "stderr",
     "output_type": "stream",
     "text": [
      " 70%|██████▉   | 151/217 [00:30<00:14,  4.68it/s]"
     ]
    },
    {
     "name": "stdout",
     "output_type": "stream",
     "text": [
      "Data from world-bank-indicators-for-papua-new-guinea is already in ../data/raw/indicators/\n"
     ]
    },
    {
     "name": "stderr",
     "output_type": "stream",
     "text": [
      " 71%|███████   | 153/217 [00:31<00:13,  4.79it/s]"
     ]
    },
    {
     "name": "stdout",
     "output_type": "stream",
     "text": [
      "Data from world-bank-indicators-for-paraguay is already in ../data/raw/indicators/\n",
      "Data from world-bank-indicators-for-peru is already in ../data/raw/indicators/\n"
     ]
    },
    {
     "name": "stderr",
     "output_type": "stream",
     "text": [
      " 71%|███████▏  | 155/217 [00:31<00:12,  4.89it/s]"
     ]
    },
    {
     "name": "stdout",
     "output_type": "stream",
     "text": [
      "Data from world-bank-indicators-for-philippines is already in ../data/raw/indicators/\n",
      "Data from world-bank-indicators-for-poland is already in ../data/raw/indicators/\n"
     ]
    },
    {
     "name": "stderr",
     "output_type": "stream",
     "text": [
      " 72%|███████▏  | 156/217 [00:31<00:12,  4.77it/s]"
     ]
    },
    {
     "name": "stdout",
     "output_type": "stream",
     "text": [
      "Data from world-bank-indicators-for-portugal is already in ../data/raw/indicators/\n"
     ]
    },
    {
     "name": "stderr",
     "output_type": "stream",
     "text": [
      " 72%|███████▏  | 157/217 [00:31<00:12,  4.74it/s]"
     ]
    },
    {
     "name": "stdout",
     "output_type": "stream",
     "text": [
      "Data from world-bank-indicators-for-puerto-rico is already in ../data/raw/indicators/\n"
     ]
    },
    {
     "name": "stderr",
     "output_type": "stream",
     "text": [
      " 73%|███████▎  | 159/217 [00:32<00:11,  4.89it/s]"
     ]
    },
    {
     "name": "stdout",
     "output_type": "stream",
     "text": [
      "Data from world-bank-indicators-for-qatar is already in ../data/raw/indicators/\n",
      "Data from world-bank-indicators-for-romania is already in ../data/raw/indicators/\n"
     ]
    },
    {
     "name": "stderr",
     "output_type": "stream",
     "text": [
      " 74%|███████▍  | 161/217 [00:32<00:11,  4.96it/s]"
     ]
    },
    {
     "name": "stdout",
     "output_type": "stream",
     "text": [
      "Data from world-bank-indicators-for-russian-federation is already in ../data/raw/indicators/\n",
      "Data from world-bank-indicators-for-rwanda is already in ../data/raw/indicators/\n"
     ]
    },
    {
     "name": "stderr",
     "output_type": "stream",
     "text": [
      " 75%|███████▍  | 162/217 [00:32<00:11,  4.93it/s]"
     ]
    },
    {
     "name": "stdout",
     "output_type": "stream",
     "text": [
      "Data from world-bank-indicators-for-samoa is already in ../data/raw/indicators/\n"
     ]
    },
    {
     "name": "stderr",
     "output_type": "stream",
     "text": [
      " 75%|███████▌  | 163/217 [00:33<00:11,  4.89it/s]"
     ]
    },
    {
     "name": "stdout",
     "output_type": "stream",
     "text": [
      "Data from world-bank-indicators-for-san-marino is already in ../data/raw/indicators/\n"
     ]
    },
    {
     "name": "stderr",
     "output_type": "stream",
     "text": [
      " 76%|███████▌  | 165/217 [00:33<00:10,  4.91it/s]"
     ]
    },
    {
     "name": "stdout",
     "output_type": "stream",
     "text": [
      "Data from world-bank-indicators-for-sao-tome-and-principe is already in ../data/raw/indicators/\n",
      "Data from world-bank-indicators-for-saudi-arabia is already in ../data/raw/indicators/\n"
     ]
    },
    {
     "name": "stderr",
     "output_type": "stream",
     "text": [
      " 76%|███████▋  | 166/217 [00:33<00:10,  4.89it/s]"
     ]
    },
    {
     "name": "stdout",
     "output_type": "stream",
     "text": [
      "Data from world-bank-indicators-for-senegal is already in ../data/raw/indicators/\n"
     ]
    },
    {
     "name": "stderr",
     "output_type": "stream",
     "text": [
      " 77%|███████▋  | 168/217 [00:34<00:09,  4.95it/s]"
     ]
    },
    {
     "name": "stdout",
     "output_type": "stream",
     "text": [
      "Data from world-bank-indicators-for-serbia is already in ../data/raw/indicators/\n",
      "Data from world-bank-indicators-for-seychelles is already in ../data/raw/indicators/\n"
     ]
    },
    {
     "name": "stderr",
     "output_type": "stream",
     "text": [
      " 78%|███████▊  | 169/217 [00:34<00:09,  4.93it/s]"
     ]
    },
    {
     "name": "stdout",
     "output_type": "stream",
     "text": [
      "Data from world-bank-indicators-for-sierra-leone is already in ../data/raw/indicators/\n"
     ]
    },
    {
     "name": "stderr",
     "output_type": "stream",
     "text": [
      " 79%|███████▉  | 171/217 [00:35<00:11,  4.04it/s]"
     ]
    },
    {
     "name": "stdout",
     "output_type": "stream",
     "text": [
      "Data from world-bank-indicators-for-singapore is already in ../data/raw/indicators/\n",
      "Data from world-bank-indicators-for-sint-maarten-dutch-part is already in ../data/raw/indicators/\n"
     ]
    },
    {
     "name": "stderr",
     "output_type": "stream",
     "text": [
      " 79%|███████▉  | 172/217 [00:35<00:10,  4.31it/s]"
     ]
    },
    {
     "name": "stdout",
     "output_type": "stream",
     "text": [
      "Data from world-bank-indicators-for-slovak-republic is already in ../data/raw/indicators/\n"
     ]
    },
    {
     "name": "stderr",
     "output_type": "stream",
     "text": [
      " 80%|███████▉  | 173/217 [00:35<00:10,  4.29it/s]"
     ]
    },
    {
     "name": "stdout",
     "output_type": "stream",
     "text": [
      "Data from world-bank-indicators-for-slovenia is already in ../data/raw/indicators/\n"
     ]
    },
    {
     "name": "stderr",
     "output_type": "stream",
     "text": [
      " 80%|████████  | 174/217 [00:35<00:09,  4.34it/s]"
     ]
    },
    {
     "name": "stdout",
     "output_type": "stream",
     "text": [
      "Data from world-bank-indicators-for-solomon-islands is already in ../data/raw/indicators/\n"
     ]
    },
    {
     "name": "stderr",
     "output_type": "stream",
     "text": [
      " 81%|████████  | 175/217 [00:35<00:09,  4.31it/s]"
     ]
    },
    {
     "name": "stdout",
     "output_type": "stream",
     "text": [
      "Data from world-bank-indicators-for-somalia is already in ../data/raw/indicators/\n"
     ]
    },
    {
     "name": "stderr",
     "output_type": "stream",
     "text": [
      " 82%|████████▏ | 177/217 [00:36<00:10,  3.79it/s]"
     ]
    },
    {
     "name": "stdout",
     "output_type": "stream",
     "text": [
      "Data from world-bank-indicators-for-south-africa is already in ../data/raw/indicators/\n",
      "Data from world-bank-indicators-for-south-sudan is already in ../data/raw/indicators/\n"
     ]
    },
    {
     "name": "stderr",
     "output_type": "stream",
     "text": [
      " 82%|████████▏ | 179/217 [00:36<00:08,  4.34it/s]"
     ]
    },
    {
     "name": "stdout",
     "output_type": "stream",
     "text": [
      "Data from world-bank-indicators-for-spain is already in ../data/raw/indicators/\n",
      "Data from world-bank-indicators-for-sri-lanka is already in ../data/raw/indicators/\n"
     ]
    },
    {
     "name": "stderr",
     "output_type": "stream",
     "text": [
      " 83%|████████▎ | 180/217 [00:37<00:08,  4.56it/s]"
     ]
    },
    {
     "name": "stdout",
     "output_type": "stream",
     "text": [
      "Data from world-bank-indicators-for-st-kitts-and-nevis is already in ../data/raw/indicators/\n"
     ]
    },
    {
     "name": "stderr",
     "output_type": "stream",
     "text": [
      " 84%|████████▍ | 182/217 [00:37<00:08,  4.34it/s]"
     ]
    },
    {
     "name": "stdout",
     "output_type": "stream",
     "text": [
      "Data from world-bank-indicators-for-st-lucia is already in ../data/raw/indicators/\n",
      "Data from world-bank-indicators-for-st-martin-french-part is already in ../data/raw/indicators/\n"
     ]
    },
    {
     "name": "stderr",
     "output_type": "stream",
     "text": [
      " 84%|████████▍ | 183/217 [00:37<00:07,  4.47it/s]"
     ]
    },
    {
     "name": "stdout",
     "output_type": "stream",
     "text": [
      "Data from world-bank-indicators-for-st-vincent-and-the-grenadines is already in ../data/raw/indicators/\n"
     ]
    },
    {
     "name": "stderr",
     "output_type": "stream",
     "text": [
      " 85%|████████▍ | 184/217 [00:38<00:07,  4.52it/s]"
     ]
    },
    {
     "name": "stdout",
     "output_type": "stream",
     "text": [
      "Data from world-bank-indicators-for-sudan is already in ../data/raw/indicators/\n"
     ]
    },
    {
     "name": "stderr",
     "output_type": "stream",
     "text": [
      " 85%|████████▌ | 185/217 [00:38<00:07,  4.46it/s]"
     ]
    },
    {
     "name": "stdout",
     "output_type": "stream",
     "text": [
      "Data from world-bank-indicators-for-suriname is already in ../data/raw/indicators/\n"
     ]
    },
    {
     "name": "stderr",
     "output_type": "stream",
     "text": [
      " 86%|████████▌ | 186/217 [00:38<00:07,  4.41it/s]"
     ]
    },
    {
     "name": "stdout",
     "output_type": "stream",
     "text": [
      "Data from world-bank-indicators-for-swaziland is already in ../data/raw/indicators/\n"
     ]
    },
    {
     "name": "stderr",
     "output_type": "stream",
     "text": [
      " 86%|████████▌ | 187/217 [00:38<00:06,  4.48it/s]"
     ]
    },
    {
     "name": "stdout",
     "output_type": "stream",
     "text": [
      "Data from world-bank-indicators-for-sweden is already in ../data/raw/indicators/\n"
     ]
    },
    {
     "name": "stderr",
     "output_type": "stream",
     "text": [
      " 87%|████████▋ | 188/217 [00:38<00:06,  4.54it/s]"
     ]
    },
    {
     "name": "stdout",
     "output_type": "stream",
     "text": [
      "Data from world-bank-indicators-for-switzerland is already in ../data/raw/indicators/\n"
     ]
    },
    {
     "name": "stderr",
     "output_type": "stream",
     "text": [
      " 87%|████████▋ | 189/217 [00:39<00:06,  4.59it/s]"
     ]
    },
    {
     "name": "stdout",
     "output_type": "stream",
     "text": [
      "Data from world-bank-indicators-for-syrian-arab-republic is already in ../data/raw/indicators/\n"
     ]
    },
    {
     "name": "stderr",
     "output_type": "stream",
     "text": [
      " 88%|████████▊ | 190/217 [00:39<00:05,  4.51it/s]"
     ]
    },
    {
     "name": "stdout",
     "output_type": "stream",
     "text": [
      "Data from world-bank-indicators-for-taiwan-china is already in ../data/raw/indicators/\n"
     ]
    },
    {
     "name": "stderr",
     "output_type": "stream",
     "text": [
      " 88%|████████▊ | 192/217 [00:39<00:05,  4.68it/s]"
     ]
    },
    {
     "name": "stdout",
     "output_type": "stream",
     "text": [
      "Data from world-bank-indicators-for-tajikistan is already in ../data/raw/indicators/\n",
      "Data from world-bank-indicators-for-tanzania is already in ../data/raw/indicators/\n"
     ]
    },
    {
     "name": "stderr",
     "output_type": "stream",
     "text": [
      " 89%|████████▉ | 193/217 [00:39<00:04,  4.83it/s]"
     ]
    },
    {
     "name": "stdout",
     "output_type": "stream",
     "text": [
      "Data from world-bank-indicators-for-thailand is already in ../data/raw/indicators/\n"
     ]
    },
    {
     "name": "stderr",
     "output_type": "stream",
     "text": [
      " 89%|████████▉ | 194/217 [00:40<00:05,  4.28it/s]"
     ]
    },
    {
     "name": "stdout",
     "output_type": "stream",
     "text": [
      "Data from world-bank-indicators-for-timor-leste is already in ../data/raw/indicators/\n"
     ]
    },
    {
     "name": "stderr",
     "output_type": "stream",
     "text": [
      " 90%|█████████ | 196/217 [00:40<00:04,  4.39it/s]"
     ]
    },
    {
     "name": "stdout",
     "output_type": "stream",
     "text": [
      "Data from world-bank-indicators-for-togo is already in ../data/raw/indicators/\n",
      "Data from world-bank-indicators-for-tonga is already in ../data/raw/indicators/\n"
     ]
    },
    {
     "name": "stderr",
     "output_type": "stream",
     "text": [
      " 91%|█████████ | 197/217 [00:40<00:04,  4.61it/s]"
     ]
    },
    {
     "name": "stdout",
     "output_type": "stream",
     "text": [
      "Data from world-bank-indicators-for-trinidad-and-tobago is already in ../data/raw/indicators/\n"
     ]
    },
    {
     "name": "stderr",
     "output_type": "stream",
     "text": [
      " 91%|█████████ | 198/217 [00:41<00:04,  4.37it/s]"
     ]
    },
    {
     "name": "stdout",
     "output_type": "stream",
     "text": [
      "Data from world-bank-indicators-for-tunisia is already in ../data/raw/indicators/\n"
     ]
    },
    {
     "name": "stderr",
     "output_type": "stream",
     "text": [
      " 92%|█████████▏| 199/217 [00:41<00:04,  4.21it/s]"
     ]
    },
    {
     "name": "stdout",
     "output_type": "stream",
     "text": [
      "Data from world-bank-indicators-for-turkey is already in ../data/raw/indicators/\n"
     ]
    },
    {
     "name": "stderr",
     "output_type": "stream",
     "text": [
      " 92%|█████████▏| 200/217 [00:42<00:06,  2.61it/s]"
     ]
    },
    {
     "name": "stdout",
     "output_type": "stream",
     "text": [
      "Data from world-bank-indicators-for-turkmenistan is already in ../data/raw/indicators/\n"
     ]
    },
    {
     "name": "stderr",
     "output_type": "stream",
     "text": [
      " 93%|█████████▎| 201/217 [00:42<00:06,  2.35it/s]"
     ]
    },
    {
     "name": "stdout",
     "output_type": "stream",
     "text": [
      "Data from world-bank-indicators-for-turks-and-caicos-islands is already in ../data/raw/indicators/\n"
     ]
    },
    {
     "name": "stderr",
     "output_type": "stream",
     "text": [
      " 93%|█████████▎| 202/217 [00:43<00:06,  2.32it/s]"
     ]
    },
    {
     "name": "stdout",
     "output_type": "stream",
     "text": [
      "Data from world-bank-indicators-for-tuvalu is already in ../data/raw/indicators/\n"
     ]
    },
    {
     "name": "stderr",
     "output_type": "stream",
     "text": [
      " 94%|█████████▎| 203/217 [00:43<00:06,  2.05it/s]"
     ]
    },
    {
     "name": "stdout",
     "output_type": "stream",
     "text": [
      "Data from world-bank-indicators-for-uganda is already in ../data/raw/indicators/\n"
     ]
    },
    {
     "name": "stderr",
     "output_type": "stream",
     "text": [
      " 94%|█████████▍| 204/217 [00:44<00:06,  2.03it/s]"
     ]
    },
    {
     "name": "stdout",
     "output_type": "stream",
     "text": [
      "Data from world-bank-indicators-for-ukraine is already in ../data/raw/indicators/\n"
     ]
    },
    {
     "name": "stderr",
     "output_type": "stream",
     "text": [
      " 95%|█████████▍| 206/217 [00:44<00:04,  2.74it/s]"
     ]
    },
    {
     "name": "stdout",
     "output_type": "stream",
     "text": [
      "Data from world-bank-indicators-for-united-arab-emirates is already in ../data/raw/indicators/\n",
      "Data from world-bank-indicators-for-united-kingdom is already in ../data/raw/indicators/\n"
     ]
    },
    {
     "name": "stderr",
     "output_type": "stream",
     "text": [
      " 95%|█████████▌| 207/217 [00:48<00:12,  1.27s/it]"
     ]
    },
    {
     "name": "stdout",
     "output_type": "stream",
     "text": [
      "Data from world-bank-indicators-for-united-states is already in ../data/raw/indicators/\n"
     ]
    },
    {
     "name": "stderr",
     "output_type": "stream",
     "text": [
      " 96%|█████████▌| 208/217 [00:48<00:09,  1.10s/it]"
     ]
    },
    {
     "name": "stdout",
     "output_type": "stream",
     "text": [
      "Data from world-bank-indicators-for-uruguay is already in ../data/raw/indicators/\n"
     ]
    },
    {
     "name": "stderr",
     "output_type": "stream",
     "text": [
      " 96%|█████████▋| 209/217 [00:49<00:07,  1.08it/s]"
     ]
    },
    {
     "name": "stdout",
     "output_type": "stream",
     "text": [
      "Data from world-bank-indicators-for-uzbekistan is already in ../data/raw/indicators/\n"
     ]
    },
    {
     "name": "stderr",
     "output_type": "stream",
     "text": [
      " 97%|█████████▋| 210/217 [00:49<00:05,  1.24it/s]"
     ]
    },
    {
     "name": "stdout",
     "output_type": "stream",
     "text": [
      "Data from world-bank-indicators-for-vanuatu is already in ../data/raw/indicators/\n"
     ]
    },
    {
     "name": "stderr",
     "output_type": "stream",
     "text": [
      " 97%|█████████▋| 211/217 [00:50<00:04,  1.50it/s]"
     ]
    },
    {
     "name": "stdout",
     "output_type": "stream",
     "text": [
      "Data from world-bank-indicators-for-venezuela-rb is already in ../data/raw/indicators/\n"
     ]
    },
    {
     "name": "stderr",
     "output_type": "stream",
     "text": [
      " 98%|█████████▊| 213/217 [00:50<00:01,  2.20it/s]"
     ]
    },
    {
     "name": "stdout",
     "output_type": "stream",
     "text": [
      "Data from world-bank-indicators-for-vietnam is already in ../data/raw/indicators/\n",
      "Data from world-bank-indicators-for-virgin-islands-u-s is already in ../data/raw/indicators/\n"
     ]
    },
    {
     "name": "stderr",
     "output_type": "stream",
     "text": [
      " 99%|█████████▉| 215/217 [00:51<00:00,  3.09it/s]"
     ]
    },
    {
     "name": "stdout",
     "output_type": "stream",
     "text": [
      "Data from world-bank-indicators-for-west-bank-and-gaza is already in ../data/raw/indicators/\n",
      "Data from world-bank-indicators-for-yemen-rep is already in ../data/raw/indicators/\n"
     ]
    },
    {
     "name": "stderr",
     "output_type": "stream",
     "text": [
      "100%|█████████▉| 216/217 [00:51<00:00,  3.33it/s]"
     ]
    },
    {
     "name": "stdout",
     "output_type": "stream",
     "text": [
      "Data from world-bank-indicators-for-zambia is already in ../data/raw/indicators/\n"
     ]
    },
    {
     "name": "stderr",
     "output_type": "stream",
     "text": [
      "100%|██████████| 217/217 [00:51<00:00,  3.65it/s]"
     ]
    },
    {
     "name": "stdout",
     "output_type": "stream",
     "text": [
      "Data from world-bank-indicators-for-zimbabwe is already in ../data/raw/indicators/\n"
     ]
    },
    {
     "name": "stderr",
     "output_type": "stream",
     "text": [
      "\n"
     ]
    }
   ],
   "source": [
    "download_data_from_HDX(\"../data/raw/indicators/\", indicators)"
   ]
  }
 ],
 "metadata": {
  "kernelspec": {
   "display_name": "Python 3",
   "language": "python",
   "name": "python3"
  },
  "language_info": {
   "codemirror_mode": {
    "name": "ipython",
    "version": 3
   },
   "file_extension": ".py",
   "mimetype": "text/x-python",
   "name": "python",
   "nbconvert_exporter": "python",
   "pygments_lexer": "ipython3",
   "version": "3.7.3"
  }
 },
 "nbformat": 4,
 "nbformat_minor": 2
}
