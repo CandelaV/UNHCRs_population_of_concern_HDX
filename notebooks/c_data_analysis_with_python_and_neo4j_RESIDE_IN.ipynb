{
 "cells": [
  {
   "cell_type": "markdown",
   "metadata": {},
   "source": [
    "# Data analysis with Neo4j and python for RESIDE_IN data"
   ]
  },
  {
   "cell_type": "markdown",
   "metadata": {},
   "source": [
    "## Imports"
   ]
  },
  {
   "cell_type": "code",
   "execution_count": null,
   "metadata": {
    "scrolled": true
   },
   "outputs": [],
   "source": [
    "from py2neo import Graph, Database"
   ]
  },
  {
   "cell_type": "code",
   "execution_count": null,
   "metadata": {
    "scrolled": true
   },
   "outputs": [],
   "source": [
    "from neo4j import GraphDatabase"
   ]
  },
  {
   "cell_type": "code",
   "execution_count": null,
   "metadata": {
    "scrolled": true
   },
   "outputs": [],
   "source": [
    "from tabulate import tabulate"
   ]
  },
  {
   "cell_type": "code",
   "execution_count": null,
   "metadata": {
    "scrolled": true
   },
   "outputs": [],
   "source": [
    "import matplotlib.pyplot as plt\n",
    "import matplotlib.ticker as ticker\n",
    "import matplotlib.dates as mdates"
   ]
  },
  {
   "cell_type": "code",
   "execution_count": null,
   "metadata": {},
   "outputs": [],
   "source": [
    "import seaborn as sns\n",
    "sns.set();\n",
    "sns.color_palette(\"colorblind\");"
   ]
  },
  {
   "cell_type": "code",
   "execution_count": null,
   "metadata": {
    "scrolled": true
   },
   "outputs": [],
   "source": [
    "%matplotlib inline"
   ]
  },
  {
   "cell_type": "code",
   "execution_count": null,
   "metadata": {},
   "outputs": [],
   "source": [
    "from scipy import stats"
   ]
  },
  {
   "cell_type": "markdown",
   "metadata": {},
   "source": [
    "## Conect to database:"
   ]
  },
  {
   "cell_type": "code",
   "execution_count": null,
   "metadata": {
    "scrolled": true
   },
   "outputs": [],
   "source": [
    "uri = 'bolt://neo4j-hdx:7687'"
   ]
  },
  {
   "cell_type": "markdown",
   "metadata": {},
   "source": [
    "## Py2neo"
   ]
  },
  {
   "cell_type": "code",
   "execution_count": null,
   "metadata": {
    "scrolled": true
   },
   "outputs": [],
   "source": [
    "default_db = Database(uri, auth=(\"neo4j\", \"test\"))"
   ]
  },
  {
   "cell_type": "code",
   "execution_count": null,
   "metadata": {},
   "outputs": [],
   "source": [
    "default_db.name"
   ]
  },
  {
   "cell_type": "markdown",
   "metadata": {},
   "source": [
    "Default graph in the database:"
   ]
  },
  {
   "cell_type": "code",
   "execution_count": null,
   "metadata": {},
   "outputs": [],
   "source": [
    "default_db.default_graph.name"
   ]
  },
  {
   "cell_type": "markdown",
   "metadata": {},
   "source": [
    "Instanciate a Graph object conecting to the default graph 'data' exposed in 'graphHDX.db':"
   ]
  },
  {
   "cell_type": "code",
   "execution_count": null,
   "metadata": {
    "scrolled": true
   },
   "outputs": [],
   "source": [
    "graph = Graph(uri, auth=(\"neo4j\", \"test\"))"
   ]
  },
  {
   "cell_type": "code",
   "execution_count": null,
   "metadata": {},
   "outputs": [],
   "source": [
    "graph.database.name"
   ]
  },
  {
   "cell_type": "markdown",
   "metadata": {},
   "source": [
    "Get the number of nodes in the graph:"
   ]
  },
  {
   "cell_type": "code",
   "execution_count": null,
   "metadata": {},
   "outputs": [],
   "source": [
    "len(graph.nodes)"
   ]
  },
  {
   "cell_type": "markdown",
   "metadata": {},
   "source": [
    "Get the number of relationship in the graph:"
   ]
  },
  {
   "cell_type": "code",
   "execution_count": null,
   "metadata": {},
   "outputs": [],
   "source": [
    "len(graph.relationships)"
   ]
  },
  {
   "cell_type": "markdown",
   "metadata": {},
   "source": [
    "Explore the Schema of the graph:"
   ]
  },
  {
   "cell_type": "markdown",
   "metadata": {},
   "source": [
    " - Nodes"
   ]
  },
  {
   "cell_type": "code",
   "execution_count": null,
   "metadata": {},
   "outputs": [],
   "source": [
    "graph.schema.node_labels"
   ]
  },
  {
   "cell_type": "markdown",
   "metadata": {},
   "source": [
    " - Relationships"
   ]
  },
  {
   "cell_type": "code",
   "execution_count": null,
   "metadata": {
    "scrolled": true
   },
   "outputs": [],
   "source": [
    "rel_types = graph.schema.relationship_types"
   ]
  },
  {
   "cell_type": "code",
   "execution_count": null,
   "metadata": {},
   "outputs": [],
   "source": [
    "len(rel_types)"
   ]
  },
  {
   "cell_type": "code",
   "execution_count": null,
   "metadata": {},
   "outputs": [],
   "source": [
    "list(rel_types)[0:5]"
   ]
  },
  {
   "cell_type": "markdown",
   "metadata": {},
   "source": [
    "Relationship between CountryYear nodes:"
   ]
  },
  {
   "cell_type": "code",
   "execution_count": null,
   "metadata": {},
   "outputs": [],
   "source": [
    "[rel for rel in graph.schema.relationship_types if not rel.isdigit()]"
   ]
  },
  {
   "cell_type": "markdown",
   "metadata": {},
   "source": [
    "Get all years with available data from the relationship_types:"
   ]
  },
  {
   "cell_type": "code",
   "execution_count": null,
   "metadata": {
    "scrolled": true
   },
   "outputs": [],
   "source": [
    "years_list = [rel for rel in graph.schema.relationship_types if rel.isdigit()]\n",
    "years_list.sort()"
   ]
  },
  {
   "cell_type": "code",
   "execution_count": null,
   "metadata": {},
   "outputs": [],
   "source": [
    "years_list[0:5]"
   ]
  },
  {
   "cell_type": "markdown",
   "metadata": {},
   "source": [
    "Get all possible countries with all years that have data available:"
   ]
  },
  {
   "cell_type": "code",
   "execution_count": null,
   "metadata": {
    "scrolled": true
   },
   "outputs": [],
   "source": [
    "nodes_country_year_list = list(graph.nodes.match(\"CountryYear\"))"
   ]
  },
  {
   "cell_type": "markdown",
   "metadata": {},
   "source": [
    "The total number of the combinations between countries and years with data available is:"
   ]
  },
  {
   "cell_type": "code",
   "execution_count": null,
   "metadata": {},
   "outputs": [],
   "source": [
    "len(nodes_country_year_list)"
   ]
  },
  {
   "cell_type": "markdown",
   "metadata": {},
   "source": [
    "Let's define a funtion to print in table format all countries with available World Bank Indicators for a given year:"
   ]
  },
  {
   "cell_type": "code",
   "execution_count": null,
   "metadata": {
    "scrolled": true
   },
   "outputs": [],
   "source": [
    "def print_table_country_indicators_given_year(year, nodes_country_year):\n",
    "    \n",
    "    print(tabulate([{ key : element[key] for key in [\"year\", \n",
    "                                                     \"country\",\n",
    "                                                     \"population\",\n",
    "                                                     \"pop_growth_percentage\", \n",
    "                                                     \"urban_pop_percentage\", \n",
    "                                                     \"int_migrant_stock\" ] } for element in nodes_country_year if element[\"year\"] == year], \n",
    "                       headers=\"keys\",\n",
    "                       stralign='center',\n",
    "                       floatfmt='.0f'))"
   ]
  },
  {
   "cell_type": "code",
   "execution_count": null,
   "metadata": {
    "scrolled": true
   },
   "outputs": [],
   "source": [
    "print_table_country_indicators_given_year(2017, nodes_country_year_list)"
   ]
  },
  {
   "cell_type": "code",
   "execution_count": null,
   "metadata": {
    "scrolled": true
   },
   "outputs": [],
   "source": [
    "print_table_country_indicators_given_year(2013, nodes_country_year_list)"
   ]
  },
  {
   "cell_type": "markdown",
   "metadata": {},
   "source": [
    "## Neo4j driver"
   ]
  },
  {
   "cell_type": "markdown",
   "metadata": {},
   "source": [
    "Conect to the database using the driver class GraphDatabase "
   ]
  },
  {
   "cell_type": "code",
   "execution_count": null,
   "metadata": {
    "scrolled": true
   },
   "outputs": [],
   "source": [
    "driver = GraphDatabase.driver(uri, auth=(\"neo4j\", \"test\"))"
   ]
  },
  {
   "cell_type": "markdown",
   "metadata": {},
   "source": [
    "### Yearly evolution of the total number of population of concern"
   ]
  },
  {
   "cell_type": "markdown",
   "metadata": {},
   "source": [
    "Define a query that calculates the sum of all population of concern in the world for a given year:"
   ]
  },
  {
   "cell_type": "code",
   "execution_count": null,
   "metadata": {},
   "outputs": [],
   "source": [
    "def total_pop_concern_given_year(tx, year):\n",
    "    return tx.run(\"MATCH (a:CountryYear)-[r:RESIDE_IN]->(b:CountryYear) \"\n",
    "                        \"WHERE a.year={0} AND b.year={0} \" \n",
    "                         \"RETURN a.year as year, sum(r.affected_total) as affectedTotal\".format(year)) "
   ]
  },
  {
   "cell_type": "markdown",
   "metadata": {},
   "source": [
    "Iterate t"
   ]
  },
  {
   "cell_type": "code",
   "execution_count": null,
   "metadata": {},
   "outputs": [],
   "source": [
    "with driver.session() as session:\n",
    "    out_total_pop = []\n",
    "    for year in years_list[0::1]:\n",
    "        [out_total_pop.append(element) for element in session.read_transaction(total_pop_concern_given_year, year).data()]"
   ]
  },
  {
   "cell_type": "code",
   "execution_count": null,
   "metadata": {},
   "outputs": [],
   "source": [
    "plt.figure(figsize=(16,4))\n",
    "ax = sns.barplot(x=[data['year'] for data in out_total_pop], \n",
    "                 y=[data['affectedTotal'] for data in out_total_pop],\n",
    "                 color='royalblue')\n",
    "ax.yaxis.set_major_formatter(ticker.EngFormatter())\n",
    "plt.xticks(rotation=45)\n",
    "plt.title(\"Yearly evolution of the total number of population of concern in the world\");"
   ]
  },
  {
   "cell_type": "markdown",
   "metadata": {},
   "source": [
    "### Countries with the highest/lowest accumulated total number of people of concern residing_in/originating_from through the years"
   ]
  },
  {
   "cell_type": "markdown",
   "metadata": {},
   "source": [
    "Define a query that creates a subgraph with data from a certain year and sums the property value affected_total of all relationships that exit/enter (originate_from/reside_in) a node, and orders by this value in descending mode returning the country, the total and total_affected summed value of the firstfive results:"
   ]
  },
  {
   "cell_type": "code",
   "execution_count": null,
   "metadata": {
    "scrolled": true
   },
   "outputs": [],
   "source": [
    "def top_total_reside_in(tx, year, top_number, desc_flag):\n",
    "    return tx.run(\"MATCH (a:CountryYear)<-[r:RESIDE_IN]-() \"\n",
    "                         \"WHERE a.year={0} \" \n",
    "                         \"RETURN a.country as country, a.year as year, sum(r.affected_total) as affectedTotal, sum(r.affected_refugees) as affectedRefugees \"\n",
    "                         \"ORDER BY affectedTotal {2} LIMIT {1} \".format(year, top_number, desc_flag)) "
   ]
  },
  {
   "cell_type": "code",
   "execution_count": null,
   "metadata": {
    "scrolled": true
   },
   "outputs": [],
   "source": [
    "def top_total_originate_from(tx, year, top_number, desc_flag):\n",
    "    return tx.run(\"MATCH (a:CountryYear)-[r:RESIDE_IN]->() \"\n",
    "                         \"WHERE a.year={0} \" \n",
    "                         \"RETURN a.country as country, a.year as year, sum(r.affected_total) as affectedTotal, sum(r.affected_refugees) as affectedRefugees \"\n",
    "                         \"ORDER BY affectedTotal {2} LIMIT {1} \".format(year, top_number, desc_flag))\n"
   ]
  },
  {
   "cell_type": "markdown",
   "metadata": {},
   "source": [
    "Execute queries on Neo4j and store results in python list:"
   ]
  },
  {
   "cell_type": "code",
   "execution_count": null,
   "metadata": {
    "scrolled": true
   },
   "outputs": [],
   "source": [
    "top_number_limit_C1 = 3\n",
    "top_number_limit_C2 = 1"
   ]
  },
  {
   "cell_type": "code",
   "execution_count": null,
   "metadata": {
    "scrolled": true
   },
   "outputs": [],
   "source": [
    "with driver.session() as session:\n",
    "    out_residing_highest = []\n",
    "    out_originating_highest = []\n",
    "    out_residing_lowest = []\n",
    "    out_originating_lowest = []\n",
    "    for year in years_list[0::1]:\n",
    "        [out_residing_highest.append(element) for element in session.read_transaction(top_total_reside_in, year, top_number_limit_C1, \"DESC\").data()]\n",
    "        [out_originating_highest.append(element) for element in session.read_transaction(top_total_originate_from, year, top_number_limit_C1, \"DESC\").data()]\n",
    "        [out_residing_lowest.append(element) for element in session.read_transaction(top_total_reside_in, year, top_number_limit_C2, \"\").data()]\n",
    "        [out_originating_lowest.append(element) for element in session.read_transaction(top_total_originate_from, year, top_number_limit_C2, \"\").data()]"
   ]
  },
  {
   "cell_type": "markdown",
   "metadata": {},
   "source": [
    "Define ploting functions:"
   ]
  },
  {
   "cell_type": "code",
   "execution_count": null,
   "metadata": {},
   "outputs": [],
   "source": [
    "def plot_top_total_countries(data_list, rel_type, top_number_limit ):\n",
    "    plt.figure(figsize=(14,9))\n",
    "    ax = sns.scatterplot(x=[data['year'] for data in data_list], \n",
    "                         y=[data['affectedTotal'] for data in data_list], \n",
    "                         hue=[data['country'] for data in data_list],\n",
    "                         size=[data['affectedRefugees'] for data in data_list],\n",
    "                         sizes=(30, 300), palette='hls')\n",
    "    ax.set_title(\"Top {0} countries where the highest number of population of concern have {1} through the years.\\n \" \n",
    "                 \"Size of bubble represents the number of refugees\".format(top_number_limit, rel_type))\n",
    "    ax.set_ylabel('Affected Total')\n",
    "    ax.set_xlabel('Year')\n",
    "    ax.yaxis.set_major_formatter(ticker.EngFormatter())"
   ]
  },
  {
   "cell_type": "code",
   "execution_count": null,
   "metadata": {},
   "outputs": [],
   "source": [
    "def plot_country_lowest_total(data_list, rel_type):\n",
    "    plt.figure(figsize=(16,4))\n",
    "    ax = sns.barplot(x=[data['country-year'] for data in data_list], \n",
    "                     y=[data['affectedTotal'] for data in data_list],\n",
    "                     color='darkturquoise')\n",
    "    ax.yaxis.set_major_formatter(ticker.EngFormatter())\n",
    "    ax.set(ylim=(0, 100))\n",
    "    plt.xticks(rotation=45, ha='right')\n",
    "    plt.title(\"Country with the least number of people of concern {0} it for every given year\".format(rel_type));"
   ]
  },
  {
   "cell_type": "markdown",
   "metadata": {},
   "source": [
    " - Countries with the highest number of population of concern Resisding in them:"
   ]
  },
  {
   "cell_type": "code",
   "execution_count": null,
   "metadata": {},
   "outputs": [],
   "source": [
    "plot_top_total_countries(out_residing_highest, \"resided in\", top_number_limit_C1 )"
   ]
  },
  {
   "cell_type": "markdown",
   "metadata": {},
   "source": [
    " - Countries with the highest number of population of concern Originating from them:"
   ]
  },
  {
   "cell_type": "code",
   "execution_count": null,
   "metadata": {},
   "outputs": [],
   "source": [
    "plot_top_total_countries(out_originating_highest, \"originated from\", top_number_limit_C1 )"
   ]
  },
  {
   "cell_type": "markdown",
   "metadata": {},
   "source": [
    " - Countries with the lowest number of population of concern Resisding in them:"
   ]
  },
  {
   "cell_type": "code",
   "execution_count": null,
   "metadata": {},
   "outputs": [],
   "source": [
    "out_residing_lowest_modified = [dict(data, **{'country-year':data['country'] + str(data['year'])}) for data in out_residing_lowest]"
   ]
  },
  {
   "cell_type": "code",
   "execution_count": null,
   "metadata": {},
   "outputs": [],
   "source": [
    "plot_country_lowest_total(out_residing_lowest_modified, \"residing in\")"
   ]
  },
  {
   "cell_type": "markdown",
   "metadata": {},
   "source": [
    " - Countries with the highest number of population of concern Originating from them:"
   ]
  },
  {
   "cell_type": "code",
   "execution_count": null,
   "metadata": {},
   "outputs": [],
   "source": [
    "out_originating_lowest_modified = [dict(data, **{'country-year':data['country'] + str(data['year'])}) for data in out_originating_lowest]"
   ]
  },
  {
   "cell_type": "code",
   "execution_count": null,
   "metadata": {},
   "outputs": [],
   "source": [
    "plot_country_lowest_total(out_originating_lowest_modified, \"originating from\")"
   ]
  },
  {
   "cell_type": "markdown",
   "metadata": {},
   "source": [
    "### Analyse refugees and asylum seekers figures for one particular country in a given a given year"
   ]
  },
  {
   "cell_type": "markdown",
   "metadata": {},
   "source": [
    " - Given year and country of residence, obtain the number of people that request asylum and their country of origin:"
   ]
  },
  {
   "cell_type": "code",
   "execution_count": null,
   "metadata": {
    "scrolled": true
   },
   "outputs": [],
   "source": [
    "def origin_countries_given_residence_and_year(tx,year,country_residence):\n",
    "    return tx.run(\"MATCH (a:CountryYear)<-[r:RESIDE_IN]-(b:CountryYear) \"\n",
    "                         \"WHERE a.year={0} AND a.country={1} \" \n",
    "                         \"RETURN b.country AS country, \"                         \n",
    "                         \"r.affected_refugees AS affectedRefugees, \"\n",
    "                         \"r.affected_asylum AS affectedAsylum, \"\n",
    "                         \"r.affected_total AS affectedTotal \"\n",
    "                         \"ORDER BY affectedTotal DESC\"\n",
    "                  .format(year,country_residence))"
   ]
  },
  {
   "cell_type": "markdown",
   "metadata": {},
   "source": [
    " - Given year and country of origin, obtain the number of people that request asylum and their country of residence:"
   ]
  },
  {
   "cell_type": "code",
   "execution_count": null,
   "metadata": {
    "scrolled": true
   },
   "outputs": [],
   "source": [
    "def origin_countries_given_origin_and_year(tx,year,country_origin):\n",
    "    return tx.run(\"MATCH (a:CountryYear)-[r:RESIDE_IN]->(b:CountryYear) \"\n",
    "                         \"WHERE a.year={0} AND a.country={1} \" \n",
    "                         \"RETURN b.country as country, \"\n",
    "                         \"r.affected_refugees AS affectedRefugees, \"\n",
    "                         \"r.affected_asylum AS affectedAsylum, \"\n",
    "                         \"r.affected_total AS affectedTotal \"\n",
    "                         \"ORDER BY affectedTotal DESC\".format(year,country_origin))"
   ]
  },
  {
   "cell_type": "markdown",
   "metadata": {},
   "source": [
    "Calling both previous functions and ploting results for a year/country:"
   ]
  },
  {
   "cell_type": "code",
   "execution_count": null,
   "metadata": {},
   "outputs": [],
   "source": [
    "country_C2 = '\"Spain\"'\n",
    "year_C2 = 2017\n",
    "limit_C2 = 10"
   ]
  },
  {
   "cell_type": "code",
   "execution_count": null,
   "metadata": {},
   "outputs": [],
   "source": [
    "with driver.session() as session:\n",
    "    countries_given_residence = session.read_transaction(origin_countries_given_residence_and_year, year_C2, country_C2).data()\n",
    "    countries_given_origin = session.read_transaction(origin_countries_given_origin_and_year, year_C2, country_C2).data()"
   ]
  },
  {
   "cell_type": "markdown",
   "metadata": {},
   "source": [
    "Remove None and turn into 0 for ploting:"
   ]
  },
  {
   "cell_type": "code",
   "execution_count": null,
   "metadata": {},
   "outputs": [],
   "source": [
    "def plot_country_difference_refugees_and_assylum_seekers(data_list, limit, country, year, rel_type):\n",
    "\n",
    "    fig, ax = plt.subplots()\n",
    "    fig.set_figheight(5)\n",
    "    fig.set_figwidth(11)\n",
    "    ax.stackplot([data['country'] for data in data_list][0:limit], \n",
    "                 [int(data['affectedAsylum'] or 0) for data in data_list][0:limit], \n",
    "                 [int(data['affectedRefugees'] or 0) for data in data_list][0:limit],\n",
    "                 colors=['royalblue','darkturquoise'])\n",
    "    plt.xticks(rotation=30, ha='right')\n",
    "    plt.legend(('affectedAsylum', 'affectedRefugees'))\n",
    "    plt.title(\"Countries of {2} with {0} as country of {3} for year {1}\".format(country, year, rel_type.split('/')[0], rel_type.split('/')[1]))\n",
    "    plt.show()"
   ]
  },
  {
   "cell_type": "code",
   "execution_count": null,
   "metadata": {},
   "outputs": [],
   "source": [
    "plot_country_difference_refugees_and_assylum_seekers(countries_given_residence, limit_C2, country_C2, year_C2, \"origin/residence\" )"
   ]
  },
  {
   "cell_type": "code",
   "execution_count": null,
   "metadata": {},
   "outputs": [],
   "source": [
    "plot_country_difference_refugees_and_assylum_seekers(countries_given_origin, limit_C2, country_C2, year_C2, \"residence/origin\" )"
   ]
  },
  {
   "cell_type": "markdown",
   "metadata": {},
   "source": [
    "## Difference between the number of refugees and the number of asylum seekers (accepted - pending)"
   ]
  },
  {
   "cell_type": "code",
   "execution_count": null,
   "metadata": {
    "scrolled": true
   },
   "outputs": [],
   "source": [
    "def diff_refugee_assylum_residence_countries_given_year(tx,year):\n",
    "    return tx.run(\"MATCH (a:CountryYear)<-[r:RESIDE_IN]->() \"\n",
    "                    \"WHERE a.year={0} \" \n",
    "                    \"RETURN a.country AS country, \" \n",
    "                    \"a.year as year, \" \n",
    "                    \"sum(r.affected_asylum) AS affectedAsylum, \"            \n",
    "                    \"sum(r.affected_refugees) AS affectedRefugees, \"\n",
    "                    \"sum(r.affected_refugees) - sum(r.affected_asylum) AS diffRefugeesAsylum \"\n",
    "                    \"ORDER BY diffRefugeesAsylum \".format(year))"
   ]
  },
  {
   "cell_type": "code",
   "execution_count": null,
   "metadata": {},
   "outputs": [],
   "source": [
    "with driver.session() as session:\n",
    "    diff_refugee_assylum = {}\n",
    "    for year in years_list:\n",
    "        diff_refugee_assylum[year] = session.read_transaction(diff_refugee_assylum_residence_countries_given_year, year).data()"
   ]
  },
  {
   "cell_type": "code",
   "execution_count": null,
   "metadata": {},
   "outputs": [],
   "source": [
    "mean_diff_refugeee_assylum ={}\n",
    "\n",
    "for key in diff_refugee_assylum.keys():\n",
    "    mean_diff_refugeee_assylum[key] = stats.describe([data['diffRefugeesAsylum'] for data in diff_refugee_assylum[key]]).mean"
   ]
  },
  {
   "cell_type": "code",
   "execution_count": null,
   "metadata": {},
   "outputs": [],
   "source": [
    "plt.figure(figsize=(16,4))\n",
    "ax = plt.plot(list(mean_diff_refugeee_assylum.keys()), \n",
    "              list(mean_diff_refugeee_assylum.values()),\n",
    "              color=\"royalblue\",linewidth=7.0);\n",
    "plt.xticks(rotation=45, ha='right');\n",
    "plt.title(\"Calculated Mean of the difference between the total number of refugees and the total number of asylum seekers through the years\");"
   ]
  },
  {
   "cell_type": "markdown",
   "metadata": {},
   "source": [
    "For the last four years, get the countries with the lowest (countries with more pending cases than accepted refugees) and highest (countries with more accepted refugees thatn pending cases) difference between the total number of refugees and the total number of asylum seekers  "
   ]
  },
  {
   "cell_type": "code",
   "execution_count": null,
   "metadata": {},
   "outputs": [],
   "source": [
    "def plot_lowest_highest_diff_refugee_assylum_given_year(year, limit_slice):    \n",
    "    f, (ax1, ax2) = plt.subplots(2, 1, figsize=(7, 5));\n",
    "    f.tight_layout()\n",
    "\n",
    "    diff_refugee_assylum_sliced_positive = diff_refugee_assylum[year][:limit_slice]\n",
    "    diff_refugee_assylum_sliced_negative = diff_refugee_assylum[year][-limit_slice:]\n",
    "\n",
    "    x1=[data['country'] for data in diff_refugee_assylum_sliced_positive]\n",
    "    y1=[data['diffRefugeesAsylum'] for data in diff_refugee_assylum_sliced_positive]\n",
    "    \n",
    "    x2=[data['country'] for data in diff_refugee_assylum_sliced_negative]\n",
    "    y2=[data['diffRefugeesAsylum'] for data in diff_refugee_assylum_sliced_negative]\n",
    "    \n",
    "    sns.barplot(x1, y1, color='darkturquoise', ax = ax1)\n",
    "    sns.barplot(x2, y2, color='royalblue', ax = ax2)\n",
    "    \n",
    "    ax1.yaxis.set_major_formatter(ticker.EngFormatter())\n",
    "    ax2.yaxis.set_major_formatter(ticker.EngFormatter())\n",
    "    \n",
    "    ax1.xaxis.tick_top()\n",
    "    \n",
    "    ax1.set_xticklabels(ax1.get_xticklabels(), rotation=30)\n",
    "    ax2.set_xticklabels(ax2.get_xticklabels(), rotation=30)\n",
    "    \n",
    "    ax1.set_title(\"Difference between num. of refugees \"\n",
    "                  \"and num. of asylum seekers in {0}\".format(year))"
   ]
  },
  {
   "cell_type": "code",
   "execution_count": null,
   "metadata": {},
   "outputs": [],
   "source": [
    "plot_lowest_highest_diff_refugee_assylum_given_year('2017', 5)"
   ]
  },
  {
   "cell_type": "code",
   "execution_count": null,
   "metadata": {},
   "outputs": [],
   "source": [
    "plot_lowest_highest_diff_refugee_assylum_given_year('2016', 5)"
   ]
  },
  {
   "cell_type": "code",
   "execution_count": null,
   "metadata": {},
   "outputs": [],
   "source": [
    "plot_lowest_highest_diff_refugee_assylum_given_year('2015', 5)"
   ]
  },
  {
   "cell_type": "code",
   "execution_count": null,
   "metadata": {},
   "outputs": [],
   "source": [
    "plot_lowest_highest_diff_refugee_assylum_given_year('2014', 5)"
   ]
  },
  {
   "cell_type": "markdown",
   "metadata": {},
   "source": [
    "## Countries with the highest number of Internally Displaced People"
   ]
  },
  {
   "cell_type": "code",
   "execution_count": null,
   "metadata": {},
   "outputs": [],
   "source": [
    "def top_countries_idps_given_year(tx, year, top_number):\n",
    "    return tx.run(\"MATCH (a:CountryYear)<-[r:RESIDE_IN]-() \"\n",
    "                         \"WHERE a.year={0} AND EXISTS(r.affected_idps) AND r.affected_idps <> 0 \" \n",
    "                         \"RETURN a.country as country, a.year as year, \"\n",
    "                         \"sum(r.affected_idps) as affectedIdps, \"\n",
    "                         \"sum(r.affected_total) as affectedTotal \"\n",
    "                         \"ORDER BY affectedIdps DESC LIMIT {1} \".format(year, top_number)) "
   ]
  },
  {
   "cell_type": "code",
   "execution_count": null,
   "metadata": {},
   "outputs": [],
   "source": [
    "top_number_limit_C4 = 3"
   ]
  },
  {
   "cell_type": "code",
   "execution_count": null,
   "metadata": {},
   "outputs": [],
   "source": [
    "with driver.session() as session:\n",
    "    top_countries_idps = []\n",
    "    for year in years_list[0::1]:\n",
    "        [top_countries_idps.append(element) for element in session.read_transaction(top_countries_idps_given_year, year, top_number_limit_C4).data()]"
   ]
  },
  {
   "cell_type": "code",
   "execution_count": null,
   "metadata": {},
   "outputs": [],
   "source": [
    "plt.figure(figsize=(14,9));\n",
    "ax = sns.lineplot(x=[data['year'] for data in top_countries_idps],\n",
    "            y=[data['affectedIdps'] for data in top_countries_idps], \n",
    "            hue=[data['country'] for data in top_countries_idps],\n",
    "            palette='hls', linewidth=4)\n",
    "ax.yaxis.set_major_formatter(ticker.EngFormatter())\n",
    "plt.title(\"Countries with the highest number of Internally Displaced People for every given year\");"
   ]
  },
  {
   "cell_type": "markdown",
   "metadata": {
    "toc-hr-collapsed": false
   },
   "source": [
    "## Testing how to Export a subgraph to different formats"
   ]
  },
  {
   "cell_type": "code",
   "execution_count": null,
   "metadata": {},
   "outputs": [],
   "source": [
    "def export_graph(tx,format_of_export, country, year):\n",
    "    return tx.run(\"CALL apoc.export.{0}.query( \"\n",
    "                  \"'MATCH p=()<-[r:RESIDE_IN]-(n) WHERE n.year={2} AND n.country={1} RETURN p', \" \n",
    "                  \"'../neo4j/import/prueba.{0}', {{}} )\".format(format_of_export, country, year))"
   ]
  },
  {
   "cell_type": "markdown",
   "metadata": {},
   "source": [
    "to graphml"
   ]
  },
  {
   "cell_type": "code",
   "execution_count": null,
   "metadata": {},
   "outputs": [],
   "source": [
    "with driver.session() as session:\n",
    "    session.read_transaction(export_graph, \"graphml\", '\"Spain\"', \"2017\")"
   ]
  },
  {
   "cell_type": "markdown",
   "metadata": {},
   "source": [
    "to json"
   ]
  },
  {
   "cell_type": "code",
   "execution_count": null,
   "metadata": {},
   "outputs": [],
   "source": [
    "with driver.session() as session:\n",
    "    session.read_transaction(export_graph, \"json\",'\"Spain\"', \"2017\")"
   ]
  }
 ],
 "metadata": {
  "kernelspec": {
   "display_name": "Python 3",
   "language": "python",
   "name": "python3"
  },
  "language_info": {
   "codemirror_mode": {
    "name": "ipython",
    "version": 3
   },
   "file_extension": ".py",
   "mimetype": "text/x-python",
   "name": "python",
   "nbconvert_exporter": "python",
   "pygments_lexer": "ipython3",
   "version": "3.7.3"
  },
  "toc-autonumbering": false
 },
 "nbformat": 4,
 "nbformat_minor": 2
}
