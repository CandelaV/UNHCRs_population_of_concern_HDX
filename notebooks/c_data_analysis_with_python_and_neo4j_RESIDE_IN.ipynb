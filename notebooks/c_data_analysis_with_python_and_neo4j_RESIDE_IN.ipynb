{
 "cells": [
  {
   "cell_type": "markdown",
   "metadata": {},
   "source": [
    "# Data analysis with Neo4j and python for RESIDE_IN data"
   ]
  },
  {
   "cell_type": "markdown",
   "metadata": {},
   "source": [
    "Imports:"
   ]
  },
  {
   "cell_type": "code",
   "execution_count": 1,
   "metadata": {},
   "outputs": [],
   "source": [
    "from py2neo import Graph, Database , NodeMatcher"
   ]
  },
  {
   "cell_type": "markdown",
   "metadata": {},
   "source": [
    "Conect to database:"
   ]
  },
  {
   "cell_type": "code",
   "execution_count": 2,
   "metadata": {},
   "outputs": [],
   "source": [
    "default_db = Database('bolt://neo4j-hdx:7687', auth=(\"neo4j\", \"test\"))"
   ]
  },
  {
   "cell_type": "code",
   "execution_count": 4,
   "metadata": {},
   "outputs": [
    {
     "data": {
      "text/plain": [
       "'graphHDX.db'"
      ]
     },
     "execution_count": 4,
     "metadata": {},
     "output_type": "execute_result"
    }
   ],
   "source": [
    "default_db.name"
   ]
  },
  {
   "cell_type": "markdown",
   "metadata": {},
   "source": [
    "Default graph in the database:"
   ]
  },
  {
   "cell_type": "code",
   "execution_count": 16,
   "metadata": {},
   "outputs": [
    {
     "data": {
      "text/plain": [
       "'data'"
      ]
     },
     "execution_count": 16,
     "metadata": {},
     "output_type": "execute_result"
    }
   ],
   "source": [
    "default_db.default_graph.name"
   ]
  },
  {
   "cell_type": "markdown",
   "metadata": {},
   "source": [
    "Instanciate a Graph object conecting to the gdefault graph 'data' exposed in 'graphHDX.db':"
   ]
  },
  {
   "cell_type": "code",
   "execution_count": 12,
   "metadata": {},
   "outputs": [],
   "source": [
    "graph = Graph('bolt://neo4j-hdx:7687', auth=(\"neo4j\", \"test\"))"
   ]
  },
  {
   "cell_type": "code",
   "execution_count": 13,
   "metadata": {},
   "outputs": [
    {
     "data": {
      "text/plain": [
       "'graphHDX.db'"
      ]
     },
     "execution_count": 13,
     "metadata": {},
     "output_type": "execute_result"
    }
   ],
   "source": [
    "graph.database.name"
   ]
  },
  {
   "cell_type": "markdown",
   "metadata": {},
   "source": [
    "Get the number of nodes in the graph:"
   ]
  },
  {
   "cell_type": "code",
   "execution_count": 20,
   "metadata": {},
   "outputs": [
    {
     "data": {
      "text/plain": [
       "7376"
      ]
     },
     "execution_count": 20,
     "metadata": {},
     "output_type": "execute_result"
    }
   ],
   "source": [
    "len(graph.nodes)"
   ]
  },
  {
   "cell_type": "markdown",
   "metadata": {},
   "source": [
    "Get the number of relationship in the graph:"
   ]
  },
  {
   "cell_type": "code",
   "execution_count": 19,
   "metadata": {},
   "outputs": [
    {
     "data": {
      "text/plain": [
       "124501"
      ]
     },
     "execution_count": 19,
     "metadata": {},
     "output_type": "execute_result"
    }
   ],
   "source": [
    "len(graph.relationships)"
   ]
  },
  {
   "cell_type": "markdown",
   "metadata": {},
   "source": [
    "Explore the Schema of the graph:"
   ]
  },
  {
   "cell_type": "code",
   "execution_count": 28,
   "metadata": {},
   "outputs": [
    {
     "data": {
      "text/plain": [
       "frozenset({'Country', 'CountryYear'})"
      ]
     },
     "execution_count": 28,
     "metadata": {},
     "output_type": "execute_result"
    }
   ],
   "source": [
    "graph.schema.node_labels"
   ]
  },
  {
   "cell_type": "code",
   "execution_count": 34,
   "metadata": {
    "scrolled": true
   },
   "outputs": [
    {
     "data": {
      "text/plain": [
       "frozenset({'1960',\n",
       "           '1961',\n",
       "           '1962',\n",
       "           '1963',\n",
       "           '1964',\n",
       "           '1965',\n",
       "           '1966',\n",
       "           '1967',\n",
       "           '1968',\n",
       "           '1969',\n",
       "           '1970',\n",
       "           '1971',\n",
       "           '1972',\n",
       "           '1973',\n",
       "           '1974',\n",
       "           '1975',\n",
       "           '1976',\n",
       "           '1977',\n",
       "           '1978',\n",
       "           '1979',\n",
       "           '1980',\n",
       "           '1981',\n",
       "           '1982',\n",
       "           '1983',\n",
       "           '1984',\n",
       "           '1985',\n",
       "           '1986',\n",
       "           '1987',\n",
       "           '1988',\n",
       "           '1989',\n",
       "           '1990',\n",
       "           '1991',\n",
       "           '1992',\n",
       "           '1993',\n",
       "           '1994',\n",
       "           '1995',\n",
       "           '1996',\n",
       "           '1997',\n",
       "           '1998',\n",
       "           '1999',\n",
       "           '2000',\n",
       "           '2001',\n",
       "           '2002',\n",
       "           '2003',\n",
       "           '2004',\n",
       "           '2005',\n",
       "           '2006',\n",
       "           '2007',\n",
       "           '2008',\n",
       "           '2009',\n",
       "           '2010',\n",
       "           '2011',\n",
       "           '2012',\n",
       "           '2013',\n",
       "           '2014',\n",
       "           '2015',\n",
       "           '2016',\n",
       "           '2017',\n",
       "           'RESIDE_IN'})"
      ]
     },
     "execution_count": 34,
     "metadata": {},
     "output_type": "execute_result"
    }
   ],
   "source": [
    "rel_types = graph.schema.relationship_types\n",
    "rel_types"
   ]
  },
  {
   "cell_type": "markdown",
   "metadata": {},
   "source": [
    "Get all years with available data from the relationship_types:"
   ]
  },
  {
   "cell_type": "code",
   "execution_count": 33,
   "metadata": {
    "scrolled": true
   },
   "outputs": [
    {
     "data": {
      "text/plain": [
       "['1960',\n",
       " '1964',\n",
       " '2015',\n",
       " '1995',\n",
       " '1982',\n",
       " '2017',\n",
       " '1985',\n",
       " '1973',\n",
       " '2006',\n",
       " '2004',\n",
       " '2000',\n",
       " '2014',\n",
       " '1997',\n",
       " '1962',\n",
       " '2010',\n",
       " '1990',\n",
       " '2002',\n",
       " '2008',\n",
       " '2011',\n",
       " '1996',\n",
       " '2003',\n",
       " '2012',\n",
       " '2007',\n",
       " '1988',\n",
       " '1989',\n",
       " '2016',\n",
       " '2009',\n",
       " '1966',\n",
       " '1969',\n",
       " '1983',\n",
       " '1968',\n",
       " '1999',\n",
       " '1976',\n",
       " '1971',\n",
       " '1998',\n",
       " '1974',\n",
       " '1972',\n",
       " '1992',\n",
       " '1979',\n",
       " '1961',\n",
       " '1981',\n",
       " '1993',\n",
       " '1970',\n",
       " '2013',\n",
       " '1975',\n",
       " '1978',\n",
       " '1994',\n",
       " '1965',\n",
       " '2001',\n",
       " '1991',\n",
       " '1987',\n",
       " '1963',\n",
       " '1984',\n",
       " '1980',\n",
       " '1977',\n",
       " '1967',\n",
       " '2005',\n",
       " '1986']"
      ]
     },
     "execution_count": 33,
     "metadata": {},
     "output_type": "execute_result"
    }
   ],
   "source": [
    "years_list = [rel for rel in graph.schema.relationship_types if rel.isdigit()]\n",
    "years_list"
   ]
  },
  {
   "cell_type": "code",
   "execution_count": null,
   "metadata": {},
   "outputs": [],
   "source": []
  },
  {
   "cell_type": "code",
   "execution_count": null,
   "metadata": {},
   "outputs": [],
   "source": []
  },
  {
   "cell_type": "code",
   "execution_count": null,
   "metadata": {},
   "outputs": [],
   "source": []
  },
  {
   "cell_type": "code",
   "execution_count": null,
   "metadata": {},
   "outputs": [],
   "source": []
  },
  {
   "cell_type": "code",
   "execution_count": 49,
   "metadata": {
    "scrolled": true
   },
   "outputs": [
    {
     "data": {
      "text/plain": [
       "[(_17:CountryYear {country: 'Netherlands', countryearId: 'Netherlands2009', pop_growth_percentage: 0.5142845511436462, population: 16530388.0, urban_pop_percentage: 86.28800201416016, year: 2009}),\n",
       " (_38:CountryYear {country: 'Antigua and Barbuda', countryearId: 'Antigua and Barbuda2009', pop_growth_percentage: 1.1856592893600464, population: 93581.0, urban_pop_percentage: 26.81800079345703, year: 2009}),\n",
       " (_69:CountryYear {country: 'Cabo Verde', countryearId: 'Cabo Verde2009', pop_growth_percentage: 1.0600026845932007, population: 496963.0, urban_pop_percentage: 61.01599884033203, year: 2009}),\n",
       " (_93:CountryYear {country: 'Mauritius', countryearId: 'Mauritius2009', pop_growth_percentage: 0.26553767919540405, population: 1247429.0, urban_pop_percentage: 41.66600036621094, year: 2009}),\n",
       " (_144:CountryYear {country: 'Ethiopia', countryearId: 'Ethiopia2009', pop_growth_percentage: 2.6470654010772705, population: 85416256.0, urban_pop_percentage: 16.90999984741211, year: 2009})]"
      ]
     },
     "execution_count": 49,
     "metadata": {},
     "output_type": "execute_result"
    }
   ],
   "source": [
    "list(graph.nodes.match(\"CountryYear\", year=2009))[0:5]"
   ]
  },
  {
   "cell_type": "code",
   "execution_count": null,
   "metadata": {},
   "outputs": [],
   "source": []
  },
  {
   "cell_type": "code",
   "execution_count": null,
   "metadata": {},
   "outputs": [],
   "source": []
  },
  {
   "cell_type": "code",
   "execution_count": null,
   "metadata": {},
   "outputs": [],
   "source": []
  },
  {
   "cell_type": "code",
   "execution_count": null,
   "metadata": {},
   "outputs": [],
   "source": []
  },
  {
   "cell_type": "code",
   "execution_count": 36,
   "metadata": {},
   "outputs": [],
   "source": [
    "matcher = NodeMatcher(graph)"
   ]
  },
  {
   "cell_type": "code",
   "execution_count": 41,
   "metadata": {},
   "outputs": [
    {
     "data": {
      "text/plain": [
       "(_17:CountryYear {country: 'Netherlands', countryearId: 'Netherlands2009', pop_growth_percentage: 0.5142845511436462, population: 16530388.0, urban_pop_percentage: 86.28800201416016, year: 2009})"
      ]
     },
     "execution_count": 41,
     "metadata": {},
     "output_type": "execute_result"
    }
   ],
   "source": [
    "matcher.match(\"CountryYear\", year=2009).first()"
   ]
  },
  {
   "cell_type": "code",
   "execution_count": null,
   "metadata": {},
   "outputs": [],
   "source": []
  },
  {
   "cell_type": "code",
   "execution_count": null,
   "metadata": {},
   "outputs": [],
   "source": []
  },
  {
   "cell_type": "code",
   "execution_count": null,
   "metadata": {},
   "outputs": [],
   "source": []
  },
  {
   "cell_type": "code",
   "execution_count": 43,
   "metadata": {},
   "outputs": [],
   "source": [
    "from pygments.lexers import get_lexer_by_name"
   ]
  },
  {
   "cell_type": "code",
   "execution_count": 44,
   "metadata": {},
   "outputs": [],
   "source": [
    "lexer = get_lexer_by_name(\"py2neo.cypher\")"
   ]
  },
  {
   "cell_type": "code",
   "execution_count": 48,
   "metadata": {},
   "outputs": [
    {
     "data": {
      "text/plain": [
       "['MATCH p=()-[r:2009]->() RETURN p LIMIT 25']"
      ]
     },
     "execution_count": 48,
     "metadata": {},
     "output_type": "execute_result"
    }
   ],
   "source": [
    "list(lexer.get_statements(\"MATCH p=()-[r:2009]->() RETURN p LIMIT 25\"))"
   ]
  },
  {
   "cell_type": "code",
   "execution_count": null,
   "metadata": {},
   "outputs": [],
   "source": []
  }
 ],
 "metadata": {
  "kernelspec": {
   "display_name": "Python 3",
   "language": "python",
   "name": "python3"
  },
  "language_info": {
   "codemirror_mode": {
    "name": "ipython",
    "version": 3
   },
   "file_extension": ".py",
   "mimetype": "text/x-python",
   "name": "python",
   "nbconvert_exporter": "python",
   "pygments_lexer": "ipython3",
   "version": "3.7.3"
  }
 },
 "nbformat": 4,
 "nbformat_minor": 2
}
