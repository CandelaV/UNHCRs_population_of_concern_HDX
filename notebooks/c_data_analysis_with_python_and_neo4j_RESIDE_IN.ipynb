{
 "cells": [
  {
   "cell_type": "markdown",
   "metadata": {},
   "source": [
    "# Data analysis with Neo4j and python for RESIDE_IN data"
   ]
  },
  {
   "cell_type": "markdown",
   "metadata": {},
   "source": [
    "Imports:"
   ]
  },
  {
   "cell_type": "code",
   "execution_count": 1,
   "metadata": {},
   "outputs": [],
   "source": [
    "from py2neo import Graph, Database , NodeMatcher, RelationshipMatcher"
   ]
  },
  {
   "cell_type": "code",
   "execution_count": 2,
   "metadata": {},
   "outputs": [],
   "source": [
    "from neo4j import GraphDatabase"
   ]
  },
  {
   "cell_type": "markdown",
   "metadata": {},
   "source": [
    "Conect to database:"
   ]
  },
  {
   "cell_type": "code",
   "execution_count": 3,
   "metadata": {},
   "outputs": [],
   "source": [
    "uri = 'bolt://neo4j-hdx:7687'"
   ]
  },
  {
   "cell_type": "markdown",
   "metadata": {},
   "source": [
    "### Py2neo"
   ]
  },
  {
   "cell_type": "code",
   "execution_count": 35,
   "metadata": {},
   "outputs": [],
   "source": [
    "default_db = Database(uri, auth=(\"neo4j\", \"test\"))"
   ]
  },
  {
   "cell_type": "code",
   "execution_count": 36,
   "metadata": {},
   "outputs": [
    {
     "data": {
      "text/plain": [
       "'graphHDX.db'"
      ]
     },
     "execution_count": 36,
     "metadata": {},
     "output_type": "execute_result"
    }
   ],
   "source": [
    "default_db.name"
   ]
  },
  {
   "cell_type": "markdown",
   "metadata": {},
   "source": [
    "Default graph in the database:"
   ]
  },
  {
   "cell_type": "code",
   "execution_count": 37,
   "metadata": {},
   "outputs": [
    {
     "data": {
      "text/plain": [
       "'data'"
      ]
     },
     "execution_count": 37,
     "metadata": {},
     "output_type": "execute_result"
    }
   ],
   "source": [
    "default_db.default_graph.name"
   ]
  },
  {
   "cell_type": "markdown",
   "metadata": {},
   "source": [
    "Instanciate a Graph object conecting to the gdefault graph 'data' exposed in 'graphHDX.db':"
   ]
  },
  {
   "cell_type": "code",
   "execution_count": 38,
   "metadata": {},
   "outputs": [],
   "source": [
    "graph = Graph(uri, auth=(\"neo4j\", \"test\"))"
   ]
  },
  {
   "cell_type": "code",
   "execution_count": 39,
   "metadata": {},
   "outputs": [
    {
     "data": {
      "text/plain": [
       "'graphHDX.db'"
      ]
     },
     "execution_count": 39,
     "metadata": {},
     "output_type": "execute_result"
    }
   ],
   "source": [
    "graph.database.name"
   ]
  },
  {
   "cell_type": "markdown",
   "metadata": {},
   "source": [
    "Get the number of nodes in the graph:"
   ]
  },
  {
   "cell_type": "code",
   "execution_count": 40,
   "metadata": {},
   "outputs": [
    {
     "data": {
      "text/plain": [
       "7376"
      ]
     },
     "execution_count": 40,
     "metadata": {},
     "output_type": "execute_result"
    }
   ],
   "source": [
    "len(graph.nodes)"
   ]
  },
  {
   "cell_type": "markdown",
   "metadata": {},
   "source": [
    "Get the number of relationship in the graph:"
   ]
  },
  {
   "cell_type": "code",
   "execution_count": 41,
   "metadata": {},
   "outputs": [
    {
     "data": {
      "text/plain": [
       "124501"
      ]
     },
     "execution_count": 41,
     "metadata": {},
     "output_type": "execute_result"
    }
   ],
   "source": [
    "len(graph.relationships)"
   ]
  },
  {
   "cell_type": "markdown",
   "metadata": {},
   "source": [
    "Explore the Schema of the graph:"
   ]
  },
  {
   "cell_type": "code",
   "execution_count": 42,
   "metadata": {},
   "outputs": [
    {
     "data": {
      "text/plain": [
       "frozenset({'Country', 'CountryYear'})"
      ]
     },
     "execution_count": 42,
     "metadata": {},
     "output_type": "execute_result"
    }
   ],
   "source": [
    "graph.schema.node_labels"
   ]
  },
  {
   "cell_type": "code",
   "execution_count": 43,
   "metadata": {
    "scrolled": true
   },
   "outputs": [
    {
     "data": {
      "text/plain": [
       "frozenset({'1960',\n",
       "           '1961',\n",
       "           '1962',\n",
       "           '1963',\n",
       "           '1964',\n",
       "           '1965',\n",
       "           '1966',\n",
       "           '1967',\n",
       "           '1968',\n",
       "           '1969',\n",
       "           '1970',\n",
       "           '1971',\n",
       "           '1972',\n",
       "           '1973',\n",
       "           '1974',\n",
       "           '1975',\n",
       "           '1976',\n",
       "           '1977',\n",
       "           '1978',\n",
       "           '1979',\n",
       "           '1980',\n",
       "           '1981',\n",
       "           '1982',\n",
       "           '1983',\n",
       "           '1984',\n",
       "           '1985',\n",
       "           '1986',\n",
       "           '1987',\n",
       "           '1988',\n",
       "           '1989',\n",
       "           '1990',\n",
       "           '1991',\n",
       "           '1992',\n",
       "           '1993',\n",
       "           '1994',\n",
       "           '1995',\n",
       "           '1996',\n",
       "           '1997',\n",
       "           '1998',\n",
       "           '1999',\n",
       "           '2000',\n",
       "           '2001',\n",
       "           '2002',\n",
       "           '2003',\n",
       "           '2004',\n",
       "           '2005',\n",
       "           '2006',\n",
       "           '2007',\n",
       "           '2008',\n",
       "           '2009',\n",
       "           '2010',\n",
       "           '2011',\n",
       "           '2012',\n",
       "           '2013',\n",
       "           '2014',\n",
       "           '2015',\n",
       "           '2016',\n",
       "           '2017',\n",
       "           'RESIDE_IN'})"
      ]
     },
     "execution_count": 43,
     "metadata": {},
     "output_type": "execute_result"
    }
   ],
   "source": [
    "rel_types = graph.schema.relationship_types\n",
    "rel_types"
   ]
  },
  {
   "cell_type": "markdown",
   "metadata": {},
   "source": [
    "Get all years with available data from the relationship_types:"
   ]
  },
  {
   "cell_type": "code",
   "execution_count": 48,
   "metadata": {
    "scrolled": true
   },
   "outputs": [
    {
     "data": {
      "text/plain": [
       "['1960',\n",
       " '1961',\n",
       " '1962',\n",
       " '1963',\n",
       " '1964',\n",
       " '1965',\n",
       " '1966',\n",
       " '1967',\n",
       " '1968',\n",
       " '1969',\n",
       " '1970',\n",
       " '1971',\n",
       " '1972',\n",
       " '1973',\n",
       " '1974',\n",
       " '1975',\n",
       " '1976',\n",
       " '1977',\n",
       " '1978',\n",
       " '1979',\n",
       " '1980',\n",
       " '1981',\n",
       " '1982',\n",
       " '1983',\n",
       " '1984',\n",
       " '1985',\n",
       " '1986',\n",
       " '1987',\n",
       " '1988',\n",
       " '1989',\n",
       " '1990',\n",
       " '1991',\n",
       " '1992',\n",
       " '1993',\n",
       " '1994',\n",
       " '1995',\n",
       " '1996',\n",
       " '1997',\n",
       " '1998',\n",
       " '1999',\n",
       " '2000',\n",
       " '2001',\n",
       " '2002',\n",
       " '2003',\n",
       " '2004',\n",
       " '2005',\n",
       " '2006',\n",
       " '2007',\n",
       " '2008',\n",
       " '2009',\n",
       " '2010',\n",
       " '2011',\n",
       " '2012',\n",
       " '2013',\n",
       " '2014',\n",
       " '2015',\n",
       " '2016',\n",
       " '2017']"
      ]
     },
     "execution_count": 48,
     "metadata": {},
     "output_type": "execute_result"
    }
   ],
   "source": [
    "years_list = [rel for rel in graph.schema.relationship_types if rel.isdigit()]\n",
    "years_list.sort()\n",
    "years_list"
   ]
  },
  {
   "cell_type": "markdown",
   "metadata": {},
   "source": [
    "Get all possible countries with all years that have data available:"
   ]
  },
  {
   "cell_type": "code",
   "execution_count": 61,
   "metadata": {
    "scrolled": true
   },
   "outputs": [
    {
     "data": {
      "text/plain": [
       "7154"
      ]
     },
     "execution_count": 61,
     "metadata": {},
     "output_type": "execute_result"
    }
   ],
   "source": [
    "nodes_country_year_list = list(graph.nodes.match(\"CountryYear\"))\n",
    "len(nodes_country_year_list)"
   ]
  },
  {
   "cell_type": "code",
   "execution_count": 67,
   "metadata": {},
   "outputs": [
    {
     "name": "stdout",
     "output_type": "stream",
     "text": [
      "Netherlands had a total population of 15184166.0 in 1992\n",
      "Netherlands had a total population of 15290368.0 in 1993\n",
      "Netherlands had a total population of 15382838.0 in 1994\n",
      "Netherlands had a total population of 15459006.0 in 1995\n",
      "Netherlands had a total population of 15530498.0 in 1996\n",
      "Netherlands had a total population of 15610650.0 in 1997\n",
      "Netherlands had a total population of 15707209.0 in 1998\n",
      "Netherlands had a total population of 15812088.0 in 1999\n",
      "Netherlands had a total population of 15925513.0 in 2000\n",
      "Netherlands had a total population of 16046180.0 in 2001\n",
      "Netherlands had a total population of 16148929.0 in 2002\n",
      "Netherlands had a total population of 16225302.0 in 2003\n",
      "Netherlands had a total population of 16281779.0 in 2004\n",
      "Netherlands had a total population of 16319868.0 in 2005\n",
      "Netherlands had a total population of 16346101.0 in 2006\n",
      "Netherlands had a total population of 16381696.0 in 2007\n",
      "Netherlands had a total population of 16445593.0 in 2008\n",
      "Netherlands had a total population of 16530388.0 in 2009\n",
      "Netherlands had a total population of 16615394.0 in 2010\n",
      "Netherlands had a total population of 16693074.0 in 2011\n",
      "Netherlands had a total population of 16754962.0 in 2012\n",
      "Netherlands had a total population of 16804432.0 in 2013\n",
      "Netherlands had a total population of 16865008.0 in 2014\n",
      "Netherlands had a total population of 16939924.0 in 2015\n",
      "Netherlands had a total population of 17030314.0 in 2016\n",
      "Netherlands had a total population of 17132854.0 in 2017\n",
      "Antigua and Barbuda had a total population of 77739.0 in 1997\n",
      "Antigua and Barbuda had a total population of 79851.0 in 1998\n",
      "Antigua and Barbuda had a total population of 81831.0 in 1999\n",
      "Antigua and Barbuda had a total population of 83584.0 in 2000\n",
      "Antigua and Barbuda had a total population of 85057.0 in 2001\n",
      "Antigua and Barbuda had a total population of 86266.0 in 2002\n",
      "Antigua and Barbuda had a total population of 87293.0 in 2003\n",
      "Antigua and Barbuda had a total population of 88257.0 in 2004\n",
      "Antigua and Barbuda had a total population of 89253.0 in 2005\n",
      "Antigua and Barbuda had a total population of 90301.0 in 2006\n",
      "Antigua and Barbuda had a total population of 91381.0 in 2007\n",
      "Antigua and Barbuda had a total population of 92478.0 in 2008\n",
      "Antigua and Barbuda had a total population of 93581.0 in 2009\n",
      "Antigua and Barbuda had a total population of 94661.0 in 2010\n",
      "Antigua and Barbuda had a total population of 95719.0 in 2011\n",
      "Antigua and Barbuda had a total population of 96777.0 in 2012\n",
      "Antigua and Barbuda had a total population of 97824.0 in 2013\n",
      "Antigua and Barbuda had a total population of 98875.0 in 2014\n",
      "Antigua and Barbuda had a total population of 99923.0 in 2015\n",
      "Antigua and Barbuda had a total population of 100963.0 in 2016\n",
      "Antigua and Barbuda had a total population of 102012.0 in 2017\n",
      "Cabo Verde had a total population of 239770.0 in 1966\n",
      "Cabo Verde had a total population of 248747.0 in 1967\n",
      "Cabo Verde had a total population of 257509.0 in 1968\n",
      "Cabo Verde had a total population of 264909.0 in 1969\n",
      "Cabo Verde had a total population of 270198.0 in 1970\n",
      "Cabo Verde had a total population of 359090.0 in 1992\n",
      "Cabo Verde had a total population of 369014.0 in 1993\n",
      "Cabo Verde had a total population of 379156.0 in 1994\n",
      "Cabo Verde had a total population of 389127.0 in 1995\n",
      "Cabo Verde had a total population of 398773.0 in 1996\n",
      "Cabo Verde had a total population of 408175.0 in 1997\n",
      "Cabo Verde had a total population of 417323.0 in 1998\n",
      "Cabo Verde had a total population of 426285.0 in 1999\n",
      "Cabo Verde had a total population of 435079.0 in 2000\n",
      "Cabo Verde had a total population of 443716.0 in 2001\n",
      "Cabo Verde had a total population of 452106.0 in 2002\n",
      "Cabo Verde had a total population of 460147.0 in 2003\n",
      "Cabo Verde had a total population of 467664.0 in 2004\n",
      "Cabo Verde had a total population of 474567.0 in 2005\n",
      "Cabo Verde had a total population of 480795.0 in 2006\n",
      "Cabo Verde had a total population of 486438.0 in 2007\n",
      "Cabo Verde had a total population of 491723.0 in 2008\n",
      "Cabo Verde had a total population of 496963.0 in 2009\n",
      "Cabo Verde had a total population of 502384.0 in 2010\n",
      "Cabo Verde had a total population of 508067.0 in 2011\n",
      "Cabo Verde had a total population of 513979.0 in 2012\n",
      "Cabo Verde had a total population of 520106.0 in 2013\n",
      "Cabo Verde had a total population of 526437.0 in 2014\n",
      "Cabo Verde had a total population of 532913.0 in 2015\n",
      "Cabo Verde had a total population of 539560.0 in 2016\n",
      "Cabo Verde had a total population of 546388.0 in 2017\n",
      "Mauritius had a total population of 1112846.0 in 1994\n",
      "Mauritius had a total population of 1122457.0 in 1995\n",
      "Mauritius had a total population of 1133996.0 in 1996\n",
      "Mauritius had a total population of 1148284.0 in 1997\n",
      "Mauritius had a total population of 1160421.0 in 1998\n",
      "Mauritius had a total population of 1175267.0 in 1999\n",
      "Mauritius had a total population of 1186873.0 in 2000\n",
      "Mauritius had a total population of 1196287.0 in 2001\n",
      "Mauritius had a total population of 1204621.0 in 2002\n",
      "Mauritius had a total population of 1213370.0 in 2003\n",
      "Mauritius had a total population of 1221003.0 in 2004\n",
      "Mauritius had a total population of 1228254.0 in 2005\n",
      "Mauritius had a total population of 1233996.0 in 2006\n",
      "Mauritius had a total population of 1239630.0 in 2007\n",
      "Mauritius had a total population of 1244121.0 in 2008\n",
      "Mauritius had a total population of 1247429.0 in 2009\n",
      "Mauritius had a total population of 1250400.0 in 2010\n",
      "Mauritius had a total population of 1252404.0 in 2011\n",
      "Mauritius had a total population of 1255882.0 in 2012\n",
      "Mauritius had a total population of 1258653.0 in 2013\n",
      "Mauritius had a total population of 1260934.0 in 2014\n",
      "Mauritius had a total population of 1262605.0 in 2015\n"
     ]
    }
   ],
   "source": [
    "for element in nodes_country_year_list[0:100]:\n",
    "    print(element[\"country\"] + \" had a total population of \" + str(element[\"population\"]) + \" in \" + str(element[\"year\"]))"
   ]
  },
  {
   "cell_type": "code",
   "execution_count": null,
   "metadata": {},
   "outputs": [],
   "source": []
  },
  {
   "cell_type": "markdown",
   "metadata": {},
   "source": [
    "Using NodeMatcher() class"
   ]
  },
  {
   "cell_type": "code",
   "execution_count": 68,
   "metadata": {},
   "outputs": [],
   "source": [
    "matcher_node = NodeMatcher(graph)"
   ]
  },
  {
   "cell_type": "code",
   "execution_count": 69,
   "metadata": {},
   "outputs": [
    {
     "data": {
      "text/plain": [
       "(_17:CountryYear {country: 'Netherlands', countryearId: 'Netherlands2009', pop_growth_percentage: 0.5142845511436462, population: 16530388.0, urban_pop_percentage: 86.28800201416016, year: 2009})"
      ]
     },
     "execution_count": 69,
     "metadata": {},
     "output_type": "execute_result"
    }
   ],
   "source": [
    "matcher_node.match(\"CountryYear\", year=2009).first()"
   ]
  },
  {
   "cell_type": "code",
   "execution_count": null,
   "metadata": {},
   "outputs": [],
   "source": []
  },
  {
   "cell_type": "markdown",
   "metadata": {},
   "source": [
    "Using RelationshipMatcher() class"
   ]
  },
  {
   "cell_type": "code",
   "execution_count": 73,
   "metadata": {},
   "outputs": [],
   "source": [
    "matcher_rel = RelationshipMatcher(graph)"
   ]
  },
  {
   "cell_type": "code",
   "execution_count": 77,
   "metadata": {},
   "outputs": [
    {
     "data": {
      "text/plain": [
       "(_2)-[:RESIDE_IN {affected_refugees: 75.0, affected_total: 75.0}]->(_4755)"
      ]
     },
     "execution_count": 77,
     "metadata": {},
     "output_type": "execute_result"
    }
   ],
   "source": [
    "matcher_rel.match(r_type=\"RESIDE_IN\").first()"
   ]
  },
  {
   "cell_type": "code",
   "execution_count": null,
   "metadata": {},
   "outputs": [],
   "source": []
  },
  {
   "cell_type": "markdown",
   "metadata": {},
   "source": [
    "### Neo4j driver"
   ]
  },
  {
   "cell_type": "markdown",
   "metadata": {},
   "source": [
    "Conect to the database using the driver class GraphDatabase "
   ]
  },
  {
   "cell_type": "code",
   "execution_count": 4,
   "metadata": {},
   "outputs": [],
   "source": [
    "driver = GraphDatabase.driver(uri, auth=(\"neo4j\", \"test\"))"
   ]
  },
  {
   "cell_type": "markdown",
   "metadata": {},
   "source": [
    "Define a query that creates a subgraph with data from a certain year and sums the property value affected_total of all relationships that exit a node, and orders by this value in descending mode returning the country and total_affected summed value of the firstfive results:"
   ]
  },
  {
   "cell_type": "code",
   "execution_count": 33,
   "metadata": {},
   "outputs": [],
   "source": [
    "def print_total_origin_from(tx):\n",
    "    for record in tx.run(\"MATCH (a:CountryYear)-[r:RESIDE_IN]->(b:CountryYear) \"\n",
    "                         \"WHERE a.year=2016 AND b.year=2016 \" \n",
    "                         \"RETURN a.country, sum(r.affected_total) as totalAffected, sum(r.affected_refugees) as refugeesAffected \"\n",
    "                         \"ORDER BY totalAffected DESC LIMIT 5 \"): \n",
    "        print(record)"
   ]
  },
  {
   "cell_type": "code",
   "execution_count": 34,
   "metadata": {},
   "outputs": [
    {
     "name": "stdout",
     "output_type": "stream",
     "text": [
      "<Record a.country='Syrian Arab Rep.' totalAffected=12643089.0 refugeesAffected=5524374.0>\n",
      "<Record a.country='Colombia' totalAffected=7734587.0 refugeesAffected=311027.0>\n",
      "<Record a.country='Iraq' totalAffected=5611595.0 refugeesAffected=316030.0>\n",
      "<Record a.country='Afghanistan' totalAffected=5166125.0 refugeesAffected=2501445.0>\n",
      "<Record a.country='South Sudan' totalAffected=4048612.0 refugeesAffected=1436719.0>\n"
     ]
    }
   ],
   "source": [
    "with driver.session() as session:\n",
    "    session.read_transaction(print_total_origin_from)"
   ]
  },
  {
   "cell_type": "markdown",
   "metadata": {},
   "source": [
    "Similar query as the previous one but now the year is a variable . When calling the driver session it will go through all values in the list year_list with all possible years and return the values accordingly: "
   ]
  },
  {
   "cell_type": "code",
   "execution_count": 46,
   "metadata": {},
   "outputs": [],
   "source": [
    "def print_total_reside_in(tx,year):\n",
    "    for record in tx.run(\"MATCH (a:CountryYear)-[r:RESIDE_IN]->(b:CountryYear) \"\n",
    "                         \"WHERE a.year={0} AND b.year={0} \" \n",
    "                         \"RETURN b.country, sum(r.affected_total) as totalAffected \"\n",
    "                         \"ORDER BY totalAffected DESC LIMIT 5 \".format(year)): \n",
    "        print(record)"
   ]
  },
  {
   "cell_type": "code",
   "execution_count": 49,
   "metadata": {},
   "outputs": [
    {
     "name": "stdout",
     "output_type": "stream",
     "text": [
      "1960\n",
      "<Record b.country='Dem. Rep. of the Congo' totalAffected=150000.0>\n",
      "1961\n",
      "<Record b.country='Dem. Rep. of the Congo' totalAffected=203000.0>\n",
      "<Record b.country='Uganda' totalAffected=52000.0>\n",
      "<Record b.country='Burundi' totalAffected=30000.0>\n",
      "<Record b.country='United Rep. of Tanzania' totalAffected=12000.0>\n",
      "<Record b.country='Togo' totalAffected=5000.0>\n",
      "1962\n",
      "<Record b.country='Dem. Rep. of the Congo' totalAffected=223000.0>\n",
      "<Record b.country='Uganda' totalAffected=52000.0>\n",
      "<Record b.country='Burundi' totalAffected=30000.0>\n",
      "<Record b.country='United Rep. of Tanzania' totalAffected=12000.0>\n",
      "<Record b.country='Togo' totalAffected=5000.0>\n",
      "1963\n",
      "<Record b.country='Dem. Rep. of the Congo' totalAffected=237000.0>\n",
      "<Record b.country='Uganda' totalAffected=59000.0>\n",
      "<Record b.country='Burundi' totalAffected=34000.0>\n",
      "<Record b.country='United Rep. of Tanzania' totalAffected=12000.0>\n",
      "<Record b.country='Senegal' totalAffected=6000.0>\n",
      "1964\n",
      "<Record b.country='China, Hong Kong SAR' totalAffected=1120000.0>\n",
      "<Record b.country='Dem. Rep. of the Congo' totalAffected=236000.0>\n",
      "<Record b.country='Uganda' totalAffected=113000.0>\n",
      "<Record b.country='China, Macao SAR' totalAffected=80000.0>\n",
      "<Record b.country='Burundi' totalAffected=78000.0>\n",
      "1965\n",
      "<Record b.country='China, Hong Kong SAR' totalAffected=1250000.0>\n",
      "<Record b.country='Dem. Rep. of the Congo' totalAffected=266300.0>\n",
      "<Record b.country='Uganda' totalAffected=154400.0>\n",
      "<Record b.country='Burundi' totalAffected=81500.0>\n",
      "<Record b.country='China, Macao SAR' totalAffected=80000.0>\n",
      "1966\n",
      "<Record b.country='China, Hong Kong SAR' totalAffected=1250040.0>\n",
      "<Record b.country='Dem. Rep. of the Congo' totalAffected=357100.0>\n",
      "<Record b.country='Uganda' totalAffected=157000.0>\n",
      "<Record b.country='Burundi' totalAffected=94700.0>\n",
      "<Record b.country='China, Macao SAR' totalAffected=73770.0>\n",
      "1967\n",
      "<Record b.country='Dem. Rep. of the Congo' totalAffected=414100.0>\n",
      "<Record b.country='Uganda' totalAffected=162760.0>\n",
      "<Record b.country='Burundi' totalAffected=79000.0>\n",
      "<Record b.country='China, Macao SAR' totalAffected=74000.0>\n",
      "<Record b.country='Senegal' totalAffected=61920.0>\n",
      "1968\n",
      "<Record b.country='Dem. Rep. of the Congo' totalAffected=475100.0>\n",
      "<Record b.country='Uganda' totalAffected=175730.0>\n",
      "<Record b.country='Burundi' totalAffected=77200.0>\n",
      "<Record b.country='China, Macao SAR' totalAffected=70000.0>\n",
      "<Record b.country='Senegal' totalAffected=61830.0>\n",
      "1969\n",
      "<Record b.country='Dem. Rep. of the Congo' totalAffected=496250.0>\n",
      "<Record b.country='Uganda' totalAffected=177650.0>\n",
      "<Record b.country='Burundi' totalAffected=72200.0>\n",
      "<Record b.country='Senegal' totalAffected=68250.0>\n",
      "<Record b.country='China, Macao SAR' totalAffected=65000.0>\n",
      "1970\n",
      "<Record b.country='Dem. Rep. of the Congo' totalAffected=492000.0>\n",
      "<Record b.country='Uganda' totalAffected=180300.0>\n",
      "<Record b.country='United Rep. of Tanzania' totalAffected=71250.0>\n",
      "<Record b.country='Senegal' totalAffected=68260.0>\n",
      "<Record b.country='China, Macao SAR' totalAffected=66000.0>\n",
      "1971\n",
      "<Record b.country='Dem. Rep. of the Congo' totalAffected=484250.0>\n",
      "<Record b.country='Uganda' totalAffected=182560.0>\n",
      "<Record b.country='Senegal' totalAffected=80000.0>\n",
      "<Record b.country='United Rep. of Tanzania' totalAffected=71080.0>\n",
      "<Record b.country='China, Macao SAR' totalAffected=70000.0>\n",
      "1972\n",
      "<Record b.country='Dem. Rep. of the Congo' totalAffected=510250.0>\n",
      "<Record b.country='Uganda' totalAffected=184900.0>\n",
      "<Record b.country='United Rep. of Tanzania' totalAffected=163650.0>\n",
      "<Record b.country='Senegal' totalAffected=82050.0>\n",
      "<Record b.country='China, Macao SAR' totalAffected=80000.0>\n",
      "1973\n",
      "<Record b.country='Dem. Rep. of the Congo' totalAffected=496060.0>\n",
      "<Record b.country='Uganda' totalAffected=168250.0>\n",
      "<Record b.country='United Rep. of Tanzania' totalAffected=167870.0>\n",
      "<Record b.country='Senegal' totalAffected=84000.0>\n",
      "<Record b.country='India' totalAffected=58840.0>\n",
      "1974\n",
      "<Record b.country='Dem. Rep. of the Congo' totalAffected=502300.0>\n",
      "<Record b.country='United Rep. of Tanzania' totalAffected=199820.0>\n",
      "<Record b.country='Uganda' totalAffected=118610.0>\n",
      "<Record b.country='Bangladesh' totalAffected=104320.0>\n",
      "<Record b.country='Senegal' totalAffected=90000.0>\n",
      "1975\n",
      "<Record b.country='Dem. Rep. of the Congo' totalAffected=509050.0>\n",
      "<Record b.country=\"Cote d'Ivoire\" totalAffected=300000.0>\n",
      "<Record b.country='United Rep. of Tanzania' totalAffected=207160.0>\n",
      "<Record b.country='Uganda' totalAffected=112570.0>\n",
      "<Record b.country='Sudan' totalAffected=95500.0>\n",
      "1976\n",
      "<Record b.country='Dem. Rep. of the Congo' totalAffected=514810.0>\n",
      "<Record b.country=\"Cote d'Ivoire\" totalAffected=500000.0>\n",
      "<Record b.country='United Rep. of Tanzania' totalAffected=156270.0>\n",
      "<Record b.country='Uganda' totalAffected=113070.0>\n",
      "<Record b.country='Sudan' totalAffected=110100.0>\n",
      "1977\n",
      "<Record b.country='Dem. Rep. of the Congo' totalAffected=529300.0>\n",
      "<Record b.country='Somalia' totalAffected=500000.0>\n",
      "<Record b.country='Angola' totalAffected=235000.0>\n",
      "<Record b.country='United Rep. of Tanzania' totalAffected=163690.0>\n",
      "<Record b.country='Sudan' totalAffected=151100.0>\n",
      "1978\n",
      "<Record b.country='Dem. Rep. of the Congo' totalAffected=713330.0>\n",
      "<Record b.country='Somalia' totalAffected=608880.0>\n",
      "<Record b.country='Sudan' totalAffected=270090.0>\n",
      "<Record b.country='Angola' totalAffected=249190.0>\n",
      "<Record b.country='Bangladesh' totalAffected=196000.0>\n",
      "1979\n",
      "<Record b.country='Somalia' totalAffected=1175000.0>\n",
      "<Record b.country='Dem. Rep. of the Congo' totalAffected=780480.0>\n",
      "<Record b.country='Pakistan' totalAffected=400000.0>\n",
      "<Record b.country='Sudan' totalAffected=372700.0>\n",
      "<Record b.country='China' totalAffected=250000.0>\n",
      "1980\n",
      "<Record b.country='Somalia' totalAffected=2000000.0>\n",
      "<Record b.country='Pakistan' totalAffected=1428230.0>\n",
      "<Record b.country='Dem. Rep. of the Congo' totalAffected=840910.0>\n",
      "<Record b.country='Sudan' totalAffected=494000.0>\n",
      "<Record b.country='Thailand' totalAffected=445360.0>\n",
      "1981\n",
      "<Record b.country='Pakistan' totalAffected=2375330.0>\n",
      "<Record b.country='Iran (Islamic Rep. of)' totalAffected=1565000.0>\n",
      "<Record b.country='Somalia' totalAffected=700000.0>\n",
      "<Record b.country='Dem. Rep. of the Congo' totalAffected=616540.0>\n",
      "<Record b.country='Sudan' totalAffected=561160.0>\n",
      "1982\n",
      "<Record b.country='Pakistan' totalAffected=2877480.0>\n",
      "<Record b.country='Iran (Islamic Rep. of)' totalAffected=1700060.0>\n",
      "<Record b.country='Somalia' totalAffected=700000.0>\n",
      "<Record b.country='Sudan' totalAffected=673000.0>\n",
      "<Record b.country='Dem. Rep. of the Congo' totalAffected=600800.0>\n",
      "1983\n",
      "<Record b.country='Pakistan' totalAffected=2901750.0>\n",
      "<Record b.country='Iran (Islamic Rep. of)' totalAffected=1900060.0>\n",
      "<Record b.country='Somalia' totalAffected=700000.0>\n",
      "<Record b.country='Sudan' totalAffected=690000.0>\n",
      "<Record b.country='Dem. Rep. of the Congo' totalAffected=306310.0>\n",
      "1984\n",
      "<Record b.country='Pakistan' totalAffected=2500000.0>\n",
      "<Record b.country='Iran (Islamic Rep. of)' totalAffected=2000000.0>\n",
      "<Record b.country='Sudan' totalAffected=1007910.0>\n",
      "<Record b.country='Somalia' totalAffected=701300.0>\n",
      "<Record b.country='Dem. Rep. of the Congo' totalAffected=351960.0>\n",
      "1985\n",
      "<Record b.country='Pakistan' totalAffected=2734790.0>\n",
      "<Record b.country='Iran (Islamic Rep. of)' totalAffected=2300000.0>\n",
      "<Record b.country='Sudan' totalAffected=1351170.0>\n",
      "<Record b.country='Somalia' totalAffected=812000.0>\n",
      "<Record b.country='Dem. Rep. of the Congo' totalAffected=298640.0>\n",
      "1986\n",
      "<Record b.country='Pakistan' totalAffected=2882100.0>\n",
      "<Record b.country='Iran (Islamic Rep. of)' totalAffected=2590000.0>\n",
      "<Record b.country='Sudan' totalAffected=1164000.0>\n",
      "<Record b.country='Somalia' totalAffected=804430.0>\n",
      "<Record b.country='Dem. Rep. of the Congo' totalAffected=299000.0>\n",
      "1987\n",
      "<Record b.country='Pakistan' totalAffected=3159000.0>\n",
      "<Record b.country='Iran (Islamic Rep. of)' totalAffected=2760000.0>\n",
      "<Record b.country='Sudan' totalAffected=902460.0>\n",
      "<Record b.country='Somalia' totalAffected=870330.0>\n",
      "<Record b.country='Malawi' totalAffected=443940.0>\n",
      "1988\n",
      "<Record b.country='Pakistan' totalAffected=3257927.0>\n",
      "<Record b.country='Iran (Islamic Rep. of)' totalAffected=2894000.0>\n",
      "<Record b.country='Somalia' totalAffected=835850.0>\n",
      "<Record b.country='Sudan' totalAffected=828500.0>\n",
      "<Record b.country='Ethiopia' totalAffected=680363.0>\n",
      "1989\n",
      "<Record b.country='Pakistan' totalAffected=3275705.0>\n",
      "<Record b.country='Iran (Islamic Rep. of)' totalAffected=2850000.0>\n",
      "<Record b.country='Malawi' totalAffected=826023.0>\n",
      "<Record b.country='Sudan' totalAffected=788119.0>\n",
      "<Record b.country='Somalia' totalAffected=774330.0>\n",
      "1990\n",
      "<Record b.country='Iran (Islamic Rep. of)' totalAffected=4174401.0>\n",
      "<Record b.country='Pakistan' totalAffected=3275065.0>\n",
      "<Record b.country='Sudan' totalAffected=1031050.0>\n",
      "<Record b.country='Malawi' totalAffected=927235.0>\n",
      "<Record b.country='Ethiopia' totalAffected=812215.0>\n",
      "1991\n",
      "<Record b.country='Iran (Islamic Rep. of)' totalAffected=5738855.0>\n",
      "<Record b.country='Pakistan' totalAffected=3275231.0>\n",
      "<Record b.country='Malawi' totalAffected=981812.0>\n",
      "<Record b.country='Ethiopia' totalAffected=899620.0>\n",
      "<Record b.country='Sudan' totalAffected=828450.0>\n",
      "1992\n",
      "<Record b.country='Iran (Islamic Rep. of)' totalAffected=4367323.0>\n",
      "<Record b.country='Pakistan' totalAffected=2989028.0>\n",
      "<Record b.country='Malawi' totalAffected=1058492.0>\n",
      "<Record b.country='Sudan' totalAffected=804100.0>\n",
      "<Record b.country='United States of America' totalAffected=579062.0>\n",
      "1993\n",
      "<Record b.country='Iran (Islamic Rep. of)' totalAffected=2495000.0>\n",
      "<Record b.country='Pakistan' totalAffected=1479228.0>\n",
      "<Record b.country='Bosnia and Herzegovina' totalAffected=1290000.0>\n",
      "<Record b.country='Malawi' totalAffected=1058684.0>\n",
      "<Record b.country='Azerbaijan' totalAffected=978000.0>\n",
      "1994\n",
      "<Record b.country='Iran (Islamic Rep. of)' totalAffected=2465290.0>\n",
      "<Record b.country='Dem. Rep. of the Congo' totalAffected=2179332.0>\n",
      "<Record b.country='United Rep. of Tanzania' totalAffected=1378283.0>\n",
      "<Record b.country='Bosnia and Herzegovina' totalAffected=1282600.0>\n",
      "<Record b.country='Pakistan' totalAffected=1158166.0>\n",
      "1995\n",
      "<Record b.country='Iran (Islamic Rep. of)' totalAffected=2236291.0>\n",
      "<Record b.country='Dem. Rep. of the Congo' totalAffected=1536283.0>\n",
      "<Record b.country='Pakistan' totalAffected=1355748.0>\n",
      "<Record b.country='Bosnia and Herzegovina' totalAffected=1097800.0>\n",
      "<Record b.country='United Rep. of Tanzania' totalAffected=843878.0>\n",
      "1996\n",
      "<Record b.country='Iran (Islamic Rep. of)' totalAffected=2089626.0>\n",
      "<Record b.country='Dem. Rep. of the Congo' totalAffected=1558507.0>\n",
      "<Record b.country='Pakistan' totalAffected=1343087.0>\n",
      "<Record b.country='Burundi' totalAffected=1031854.0>\n",
      "<Record b.country='United Rep. of Tanzania' totalAffected=1008750.0>\n",
      "1997\n",
      "<Record b.country='Iran (Islamic Rep. of)' totalAffected=1994991.0>\n",
      "<Record b.country='Russian Federation' totalAffected=1531717.0>\n",
      "<Record b.country='Pakistan' totalAffected=1287241.0>\n",
      "<Record b.country='Bosnia and Herzegovina' totalAffected=914360.0>\n",
      "<Record b.country='Azerbaijan' totalAffected=784792.0>\n",
      "1998\n",
      "<Record b.country='Iran (Islamic Rep. of)' totalAffected=1960934.0>\n",
      "<Record b.country='Pakistan' totalAffected=1295485.0>\n",
      "<Record b.country='Russian Federation' totalAffected=1108316.0>\n",
      "<Record b.country='Bosnia and Herzegovina' totalAffected=906117.0>\n",
      "<Record b.country='Serbia and Kosovo (S/RES/1244 (1999))' totalAffected=876906.0>\n",
      "1999\n",
      "<Record b.country='Iran (Islamic Rep. of)' totalAffected=2017375.0>\n",
      "<Record b.country='Russian Federation' totalAffected=1432338.0>\n",
      "<Record b.country='Pakistan' totalAffected=1293844.0>\n",
      "<Record b.country='Bosnia and Herzegovina' totalAffected=965353.0>\n",
      "<Record b.country='Serbia and Kosovo (S/RES/1244 (1999))' totalAffected=808684.0>\n",
      "2000\n",
      "<Record b.country='Iran (Islamic Rep. of)' totalAffected=2099434.0>\n",
      "<Record b.country='Pakistan' totalAffected=2078866.0>\n",
      "<Record b.country='Russian Federation' totalAffected=1329253.0>\n",
      "<Record b.country='Eritrea' totalAffected=1101999.0>\n",
      "<Record b.country='Serbia and Kosovo (S/RES/1244 (1999))' totalAffected=858334.0>\n",
      "2001\n",
      "<Record b.country='Pakistan' totalAffected=2207377.0>\n",
      "<Record b.country='Iran (Islamic Rep. of)' totalAffected=1887727.0>\n",
      "<Record b.country='Afghanistan' totalAffected=1200006.0>\n",
      "<Record b.country='Russian Federation' totalAffected=1122647.0>\n",
      "<Record b.country='United States of America' totalAffected=853462.0>\n",
      "2002\n",
      "<Record b.country='Pakistan' totalAffected=2798849.0>\n",
      "<Record b.country='Iran (Islamic Rep. of)' totalAffected=1683973.0>\n",
      "<Record b.country='Afghanistan' totalAffected=1418521.0>\n",
      "<Record b.country='Russian Federation' totalAffected=955808.0>\n",
      "<Record b.country='Colombia' totalAffected=950215.0>\n",
      "2003\n",
      "<Record b.country='Pakistan' totalAffected=1513549.0>\n",
      "<Record b.country='Iran (Islamic Rep. of)' totalAffected=1304811.0>\n",
      "<Record b.country='Colombia' totalAffected=1244388.0>\n",
      "<Record b.country='Germany' totalAffected=879357.0>\n",
      "<Record b.country='Russian Federation' totalAffected=788985.0>\n",
      "2004\n",
      "<Record b.country='Colombia' totalAffected=2000174.0>\n",
      "<Record b.country='Pakistan' totalAffected=1723621.0>\n",
      "<Record b.country='Iran (Islamic Rep. of)' totalAffected=1692219.0>\n",
      "<Record b.country='Sudan' totalAffected=850263.0>\n",
      "<Record b.country='Germany' totalAffected=777125.0>\n",
      "2005\n",
      "<Record b.country='Colombia' totalAffected=2000193.0>\n",
      "<Record b.country='Pakistan' totalAffected=1549243.0>\n",
      "<Record b.country='Iraq' totalAffected=1448229.0>\n",
      "<Record b.country='Iran (Islamic Rep. of)' totalAffected=1319356.0>\n",
      "<Record b.country='Sudan' totalAffected=1024457.0>\n",
      "2006\n",
      "<Record b.country='Colombia' totalAffected=3000223.0>\n",
      "<Record b.country='Uganda' totalAffected=2169910.0>\n",
      "<Record b.country='Iraq' totalAffected=2031064.0>\n",
      "<Record b.country='Dem. Rep. of the Congo' totalAffected=1821444.0>\n",
      "<Record b.country='Sudan' totalAffected=1538189.0>\n",
      "2007\n",
      "<Record b.country='Colombia' totalAffected=3000259.0>\n",
      "<Record b.country='Dem. Rep. of the Congo' totalAffected=2515691.0>\n",
      "<Record b.country='Iraq' totalAffected=2466825.0>\n",
      "<Record b.country='Pakistan' totalAffected=2403811.0>\n",
      "<Record b.country='Uganda' totalAffected=2126460.0>\n",
      "2008\n",
      "<Record b.country='Colombia' totalAffected=3000249.0>\n",
      "<Record b.country='Iraq' totalAffected=2884803.0>\n",
      "<Record b.country='Pakistan' totalAffected=2213896.0>\n",
      "<Record b.country='Uganda' totalAffected=1694211.0>\n",
      "<Record b.country='Dem. Rep. of the Congo' totalAffected=1636162.0>\n",
      "2009\n",
      "<Record b.country='Pakistan' totalAffected=4795384.0>\n",
      "<Record b.country='Colombia' totalAffected=3304288.0>\n",
      "<Record b.country='Dem. Rep. of the Congo' totalAffected=2332842.0>\n",
      "<Record b.country='Iraq' totalAffected=1758785.0>\n",
      "<Record b.country='Somalia' totalAffected=1576470.0>\n",
      "2010\n",
      "<Record b.country='Pakistan' totalAffected=4151024.0>\n",
      "<Record b.country='Colombia' totalAffected=3672430.0>\n",
      "<Record b.country='Dem. Rep. of the Congo' totalAffected=2363859.0>\n",
      "<Record b.country='Sudan' totalAffected=1951165.0>\n",
      "<Record b.country='Iraq' totalAffected=1676331.0>\n",
      "2011\n",
      "<Record b.country='Colombia' totalAffected=3888645.0>\n",
      "<Record b.country='Sudan' totalAffected=2847823.0>\n",
      "<Record b.country='Pakistan' totalAffected=2829714.0>\n",
      "<Record b.country='Dem. Rep. of the Congo' totalAffected=2699723.0>\n",
      "<Record b.country='Iraq' totalAffected=1565377.0>\n",
      "2012\n",
      "<Record b.country='Colombia' totalAffected=3943802.0>\n",
      "<Record b.country='Dem. Rep. of the Congo' totalAffected=3139243.0>\n",
      "<Record b.country='Syrian Arab Rep.' totalAffected=2552164.0>\n",
      "<Record b.country='Pakistan' totalAffected=2539353.0>\n",
      "<Record b.country='Sudan' totalAffected=2130193.0>\n",
      "2013\n",
      "<Record b.country='Syrian Arab Rep.' totalAffected=6718435.0>\n",
      "<Record b.country='Colombia' totalAffected=5368430.0>\n",
      "<Record b.country='Dem. Rep. of the Congo' totalAffected=3753776.0>\n",
      "<Record b.country='Pakistan' totalAffected=2491252.0>\n",
      "<Record b.country='Sudan' totalAffected=2070816.0>\n",
      "2014\n",
      "<Record b.country='Syrian Arab Rep.' totalAffected=7789612.0>\n",
      "<Record b.country='Colombia' totalAffected=6044531.0>\n",
      "<Record b.country='Iraq' totalAffected=3895955.0>\n",
      "<Record b.country='Dem. Rep. of the Congo' totalAffected=3610762.0>\n",
      "<Record b.country='Pakistan' totalAffected=2975772.0>\n",
      "2015\n",
      "<Record b.country='Colombia' totalAffected=6939406.0>\n",
      "<Record b.country='Syrian Arab Rep.' totalAffected=6594315.0>\n",
      "<Record b.country='Iraq' totalAffected=4690388.0>\n",
      "<Record b.country='Sudan' totalAffected=3693100.0>\n",
      "<Record b.country='Pakistan' totalAffected=3448561.0>\n",
      "2016\n",
      "<Record b.country='Colombia' totalAffected=7411458.0>\n",
      "<Record b.country='Syrian Arab Rep.' totalAffected=6971909.0>\n",
      "<Record b.country='Iraq' totalAffected=5277768.0>\n",
      "<Record b.country='Dem. Rep. of the Congo' totalAffected=3327664.0>\n",
      "<Record b.country='Yemen' totalAffected=3280276.0>\n",
      "2017\n",
      "<Record b.country='Colombia' totalAffected=7747317.0>\n",
      "<Record b.country='Syrian Arab Rep.' totalAffected=6873105.0>\n",
      "<Record b.country='Dem. Rep. of the Congo' totalAffected=5144920.0>\n",
      "<Record b.country='Iraq' totalAffected=4454140.0>\n",
      "<Record b.country='Turkey' totalAffected=3788913.0>\n"
     ]
    }
   ],
   "source": [
    "with driver.session() as session:\n",
    "    for year in years_list:\n",
    "        print(year)\n",
    "        session.read_transaction(print_total_reside_in,year)"
   ]
  },
  {
   "cell_type": "markdown",
   "metadata": {},
   "source": [
    "Given year and country of residence, obtain the number of people that request asylum and their country of origin:"
   ]
  },
  {
   "cell_type": "code",
   "execution_count": 80,
   "metadata": {},
   "outputs": [],
   "source": [
    "def print_origin_countries_given_residence_and_year(tx,year,country_residence):\n",
    "    for record in tx.run(\"MATCH (a:CountryYear)-[r:RESIDE_IN]->(b:CountryYear) \"\n",
    "                         \"WHERE a.year={0} AND b.year={0} AND b.country={1} \" \n",
    "                         \"RETURN a.country, r.affected_total, r.affected_refugees,  r.affected_asylum \"\n",
    "                         \"ORDER BY r.affected_total DESC\".format(year,country_residence)): print(record)"
   ]
  },
  {
   "cell_type": "code",
   "execution_count": 81,
   "metadata": {},
   "outputs": [
    {
     "name": "stdout",
     "output_type": "stream",
     "text": [
      "<Record a.country='Syrian Arab Rep.' r.affected_total=14007.0 r.affected_refugees=11752.0 r.affected_asylum=2255.0>\n",
      "<Record a.country='Venezuela (Bolivarian Republic of)' r.affected_total=12509.0 r.affected_refugees=44.0 r.affected_asylum=12465.0>\n",
      "<Record a.country='Ukraine' r.affected_total=4834.0 r.affected_refugees=368.0 r.affected_asylum=4466.0>\n",
      "<Record a.country='Colombia' r.affected_total=2662.0 r.affected_refugees=179.0 r.affected_asylum=2483.0>\n",
      "<Record a.country='Palestinian' r.affected_total=2177.0 r.affected_refugees=862.0 r.affected_asylum=1315.0>\n",
      "<Record a.country='El Salvador' r.affected_total=1508.0 r.affected_refugees=7.0 r.affected_asylum=1501.0>\n",
      "<Record a.country='Honduras' r.affected_total=1408.0 r.affected_refugees=35.0 r.affected_asylum=1373.0>\n",
      "<Record a.country='Cuba' r.affected_total=1085.0 r.affected_refugees=894.0 r.affected_asylum=191.0>\n",
      "<Record a.country='Cameroon' r.affected_total=886.0 r.affected_refugees=47.0 r.affected_asylum=839.0>\n",
      "<Record a.country='Somalia' r.affected_total=766.0 r.affected_refugees=601.0 r.affected_asylum=165.0>\n",
      "<Record a.country='Pakistan' r.affected_total=707.0 r.affected_refugees=365.0 r.affected_asylum=342.0>\n",
      "<Record a.country='Nigeria' r.affected_total=670.0 r.affected_refugees=47.0 r.affected_asylum=623.0>\n",
      "<Record a.country=\"Cote d'Ivoire\" r.affected_total=595.0 r.affected_refugees=193.0 r.affected_asylum=402.0>\n",
      "<Record a.country='Russian Federation' r.affected_total=585.0 r.affected_refugees=139.0 r.affected_asylum=446.0>\n",
      "<Record a.country='Algeria' r.affected_total=530.0 r.affected_refugees=46.0 r.affected_asylum=484.0>\n",
      "<Record a.country='Iraq' r.affected_total=516.0 r.affected_refugees=319.0 r.affected_asylum=197.0>\n",
      "<Record a.country='Morocco' r.affected_total=514.0 r.affected_refugees=112.0 r.affected_asylum=402.0>\n",
      "<Record a.country='Guinea' r.affected_total=475.0 r.affected_refugees=6.0 r.affected_asylum=469.0>\n",
      "<Record a.country='Afghanistan' r.affected_total=435.0 r.affected_refugees=287.0 r.affected_asylum=148.0>\n",
      "<Record a.country='China' r.affected_total=423.0 r.affected_refugees=21.0 r.affected_asylum=402.0>\n",
      "<Record a.country='Dem. Rep. of the Congo' r.affected_total=322.0 r.affected_refugees=74.0 r.affected_asylum=248.0>\n",
      "<Record a.country='Eritrea' r.affected_total=266.0 r.affected_refugees=213.0 r.affected_asylum=53.0>\n",
      "<Record a.country='Georgia' r.affected_total=261.0 r.affected_refugees=7.0 r.affected_asylum=254.0>\n",
      "<Record a.country='Mali' r.affected_total=241.0 r.affected_refugees=30.0 r.affected_asylum=211.0>\n",
      "<Record a.country='Yemen' r.affected_total=231.0 r.affected_refugees=21.0 r.affected_asylum=210.0>\n",
      "<Record a.country='Congo' r.affected_total=221.0 r.affected_refugees=10.0 r.affected_asylum=211.0>\n",
      "<Record a.country='Armenia' r.affected_total=196.0 r.affected_refugees=23.0 r.affected_asylum=173.0>\n",
      "<Record a.country='Central African Rep.' r.affected_total=190.0 r.affected_refugees=42.0 r.affected_asylum=148.0>\n",
      "<Record a.country='Bangladesh' r.affected_total=187.0 r.affected_refugees=20.0 r.affected_asylum=167.0>\n",
      "<Record a.country='Dominican Rep.' r.affected_total=185.0 r.affected_refugees=None r.affected_asylum=184.0>\n",
      "<Record a.country='Senegal' r.affected_total=161.0 r.affected_refugees=6.0 r.affected_asylum=155.0>\n",
      "<Record a.country='Gambia' r.affected_total=152.0 r.affected_refugees=12.0 r.affected_asylum=140.0>\n",
      "<Record a.country='Sri Lanka' r.affected_total=151.0 r.affected_refugees=100.0 r.affected_asylum=51.0>\n",
      "<Record a.country='Iran (Islamic Rep. of)' r.affected_total=151.0 r.affected_refugees=88.0 r.affected_asylum=63.0>\n",
      "<Record a.country='Western Sahara' r.affected_total=144.0 r.affected_refugees=17.0 r.affected_asylum=127.0>\n",
      "<Record a.country='Peru' r.affected_total=135.0 r.affected_refugees=None r.affected_asylum=133.0>\n",
      "<Record a.country='Lebanon' r.affected_total=134.0 r.affected_refugees=25.0 r.affected_asylum=109.0>\n",
      "<Record a.country='Sudan' r.affected_total=102.0 r.affected_refugees=54.0 r.affected_asylum=48.0>\n",
      "<Record a.country='Turkey' r.affected_total=101.0 r.affected_refugees=10.0 r.affected_asylum=91.0>\n",
      "<Record a.country='Guatemala' r.affected_total=99.0 r.affected_refugees=12.0 r.affected_asylum=87.0>\n",
      "<Record a.country='Libya' r.affected_total=74.0 r.affected_refugees=24.0 r.affected_asylum=50.0>\n",
      "<Record a.country='Equatorial Guinea' r.affected_total=74.0 r.affected_refugees=32.0 r.affected_asylum=42.0>\n",
      "<Record a.country='Mexico' r.affected_total=72.0 r.affected_refugees=16.0 r.affected_asylum=56.0>\n",
      "<Record a.country='Ethiopia' r.affected_total=72.0 r.affected_refugees=60.0 r.affected_asylum=12.0>\n",
      "<Record a.country='Azerbaijan' r.affected_total=68.0 r.affected_refugees=32.0 r.affected_asylum=36.0>\n",
      "<Record a.country='Nicaragua' r.affected_total=58.0 r.affected_refugees=11.0 r.affected_asylum=47.0>\n",
      "<Record a.country='Ghana' r.affected_total=52.0 r.affected_refugees=None r.affected_asylum=52.0>\n",
      "<Record a.country='Albania' r.affected_total=49.0 r.affected_refugees=None r.affected_asylum=47.0>\n",
      "<Record a.country='Brazil' r.affected_total=47.0 r.affected_refugees=None r.affected_asylum=47.0>\n",
      "<Record a.country='Sierra Leone' r.affected_total=46.0 r.affected_refugees=11.0 r.affected_asylum=35.0>\n",
      "<Record a.country='India' r.affected_total=46.0 r.affected_refugees=6.0 r.affected_asylum=40.0>\n",
      "<Record a.country='Jordan' r.affected_total=44.0 r.affected_refugees=29.0 r.affected_asylum=15.0>\n",
      "<Record a.country='Belarus' r.affected_total=40.0 r.affected_refugees=15.0 r.affected_asylum=25.0>\n",
      "<Record a.country='Mauritania' r.affected_total=37.0 r.affected_refugees=None r.affected_asylum=37.0>\n",
      "<Record a.country='Egypt' r.affected_total=35.0 r.affected_refugees=14.0 r.affected_asylum=21.0>\n",
      "<Record a.country='Viet Nam' r.affected_total=31.0 r.affected_refugees=None r.affected_asylum=30.0>\n",
      "<Record a.country='Angola' r.affected_total=31.0 r.affected_refugees=10.0 r.affected_asylum=21.0>\n",
      "<Record a.country='United States of America' r.affected_total=26.0 r.affected_refugees=None r.affected_asylum=26.0>\n",
      "<Record a.country='Togo' r.affected_total=24.0 r.affected_refugees=14.0 r.affected_asylum=10.0>\n",
      "<Record a.country='Haiti' r.affected_total=24.0 r.affected_refugees=21.0 r.affected_asylum=None>\n",
      "<Record a.country='Serbia and Kosovo (S/RES/1244 (1999))' r.affected_total=22.0 r.affected_refugees=None r.affected_asylum=20.0>\n",
      "<Record a.country='Liberia' r.affected_total=22.0 r.affected_refugees=6.0 r.affected_asylum=16.0>\n",
      "<Record a.country='Rep. of Moldova' r.affected_total=21.0 r.affected_refugees=None r.affected_asylum=21.0>\n",
      "<Record a.country='Paraguay' r.affected_total=21.0 r.affected_refugees=None r.affected_asylum=21.0>\n",
      "<Record a.country='Burkina Faso' r.affected_total=21.0 r.affected_refugees=None r.affected_asylum=20.0>\n",
      "<Record a.country='Kazakhstan' r.affected_total=20.0 r.affected_refugees=10.0 r.affected_asylum=10.0>\n",
      "<Record a.country='Ecuador' r.affected_total=20.0 r.affected_refugees=None r.affected_asylum=20.0>\n",
      "<Record a.country='Bolivia (Plurinational State of)' r.affected_total=20.0 r.affected_refugees=9.0 r.affected_asylum=11.0>\n",
      "<Record a.country='Uzbekistan' r.affected_total=19.0 r.affected_refugees=10.0 r.affected_asylum=9.0>\n",
      "<Record a.country='Guinea-Bissau' r.affected_total=18.0 r.affected_refugees=None r.affected_asylum=16.0>\n",
      "<Record a.country='Kyrgyzstan' r.affected_total=17.0 r.affected_refugees=6.0 r.affected_asylum=11.0>\n",
      "<Record a.country='Jamaica' r.affected_total=15.0 r.affected_refugees=None r.affected_asylum=15.0>\n",
      "<Record a.country='Tunisia' r.affected_total=14.0 r.affected_refugees=None r.affected_asylum=14.0>\n",
      "<Record a.country='Chile' r.affected_total=14.0 r.affected_refugees=None r.affected_asylum=14.0>\n",
      "<Record a.country='Uruguay' r.affected_total=13.0 r.affected_refugees=None r.affected_asylum=13.0>\n",
      "<Record a.country='Costa Rica' r.affected_total=13.0 r.affected_refugees=None r.affected_asylum=13.0>\n",
      "<Record a.country='Tibetan' r.affected_total=12.0 r.affected_refugees=5.0 r.affected_asylum=7.0>\n",
      "<Record a.country='Argentina' r.affected_total=11.0 r.affected_refugees=None r.affected_asylum=11.0>\n",
      "<Record a.country='The former Yugoslav Republic of Macedonia' r.affected_total=10.0 r.affected_refugees=None r.affected_asylum=8.0>\n",
      "<Record a.country='Benin' r.affected_total=10.0 r.affected_refugees=None r.affected_asylum=7.0>\n",
      "<Record a.country='Myanmar' r.affected_total=9.0 r.affected_refugees=5.0 r.affected_asylum=4.0>\n",
      "<Record a.country='Niger' r.affected_total=8.0 r.affected_refugees=None r.affected_asylum=8.0>\n",
      "<Record a.country='Mongolia' r.affected_total=8.0 r.affected_refugees=None r.affected_asylum=8.0>\n",
      "<Record a.country='Uganda' r.affected_total=7.0 r.affected_refugees=None r.affected_asylum=5.0>\n",
      "<Record a.country='Rwanda' r.affected_total=6.0 r.affected_refugees=None r.affected_asylum=4.0>\n",
      "<Record a.country='Panama' r.affected_total=6.0 r.affected_refugees=None r.affected_asylum=6.0>\n",
      "<Record a.country='Kenya' r.affected_total=6.0 r.affected_refugees=None r.affected_asylum=6.0>\n",
      "<Record a.country='Tajikistan' r.affected_total=5.0 r.affected_refugees=None r.affected_asylum=None>\n",
      "<Record a.country='South Africa' r.affected_total=5.0 r.affected_refugees=None r.affected_asylum=5.0>\n",
      "<Record a.country='Bosnia and Herzegovina' r.affected_total=5.0 r.affected_refugees=None r.affected_asylum=4.0>\n",
      "<Record a.country='Zimbabwe' r.affected_total=4.0 r.affected_refugees=None r.affected_asylum=None>\n",
      "<Record a.country='South Sudan' r.affected_total=4.0 r.affected_refugees=None r.affected_asylum=4.0>\n",
      "<Record a.country='Burundi' r.affected_total=4.0 r.affected_refugees=None r.affected_asylum=None>\n"
     ]
    }
   ],
   "source": [
    "year = 2017\n",
    "country_residence = '\"Spain\"'\n",
    "\n",
    "with driver.session() as session:\n",
    "    session.read_transaction(print_origin_countries_given_residence_and_year,year,country_residence)"
   ]
  },
  {
   "cell_type": "code",
   "execution_count": null,
   "metadata": {},
   "outputs": [],
   "source": []
  },
  {
   "cell_type": "markdown",
   "metadata": {},
   "source": [
    "Degree of centrality:\n",
    "https://neo4j.com/blog/graph-algorithms-neo4j-degree-centrality/"
   ]
  },
  {
   "cell_type": "code",
   "execution_count": 7,
   "metadata": {},
   "outputs": [],
   "source": [
    "def print_degree_centrality_given_year(tx,year):\n",
    "    for record in tx.run(\"MATCH (a:CountryYear) \"\n",
    "                         \"WHERE a.year={0} \" \n",
    "                         \"RETURN a.country as name, size((a)-[:RESIDE_IN]->()) AS originates_from, size((a)<-[:RESIDE_IN]-()) AS resides_in \".format(year)): \n",
    "        print(record)"
   ]
  },
  {
   "cell_type": "code",
   "execution_count": 8,
   "metadata": {},
   "outputs": [
    {
     "name": "stdout",
     "output_type": "stream",
     "text": [
      "<Record name='Netherlands' originates_from=4 resides_in=87>\n",
      "<Record name='Antigua and Barbuda' originates_from=3 resides_in=0>\n",
      "<Record name='Cabo Verde' originates_from=4 resides_in=0>\n",
      "<Record name='Mauritius' originates_from=8 resides_in=0>\n",
      "<Record name='Ethiopia' originates_from=79 resides_in=15>\n",
      "<Record name='Algeria' originates_from=49 resides_in=18>\n",
      "<Record name='Rwanda' originates_from=60 resides_in=9>\n",
      "<Record name='Mali' originates_from=55 resides_in=11>\n",
      "<Record name='Philippines' originates_from=29 resides_in=28>\n",
      "<Record name='India' originates_from=47 resides_in=26>\n",
      "<Record name='Armenia' originates_from=34 resides_in=12>\n",
      "<Record name='Barbados' originates_from=3 resides_in=0>\n",
      "<Record name='Ukraine' originates_from=57 resides_in=59>\n",
      "<Record name='Tunisia' originates_from=35 resides_in=11>\n",
      "<Record name='Palau' originates_from=1 resides_in=0>\n",
      "<Record name='Estonia' originates_from=4 resides_in=17>\n",
      "<Record name='Guinea' originates_from=51 resides_in=13>\n",
      "<Record name='Italy' originates_from=9 resides_in=119>\n",
      "<Record name='Nicaragua' originates_from=15 resides_in=5>\n",
      "<Record name='Zimbabwe' originates_from=38 resides_in=17>\n",
      "<Record name='New Zealand' originates_from=2 resides_in=44>\n",
      "<Record name='Togo' originates_from=45 resides_in=16>\n",
      "<Record name='Angola' originates_from=46 resides_in=20>\n",
      "<Record name='Botswana' originates_from=7 resides_in=12>\n",
      "<Record name='Namibia' originates_from=9 resides_in=14>\n",
      "<Record name='Nauru' originates_from=0 resides_in=14>\n",
      "<Record name='Chile' originates_from=16 resides_in=28>\n",
      "<Record name='Slovenia' originates_from=3 resides_in=21>\n",
      "<Record name='Jamaica' originates_from=14 resides_in=3>\n",
      "<Record name='El Salvador' originates_from=32 resides_in=6>\n",
      "<Record name='Zambia' originates_from=14 resides_in=16>\n",
      "<Record name='Turkmenistan' originates_from=18 resides_in=2>\n",
      "<Record name='Malta' originates_from=0 resides_in=39>\n",
      "<Record name='Japan' originates_from=4 resides_in=29>\n",
      "<Record name='Lesotho' originates_from=4 resides_in=5>\n",
      "<Record name='South Africa' originates_from=21 resides_in=30>\n",
      "<Record name='United Arab Emirates' originates_from=7 resides_in=13>\n",
      "<Record name='Niger' originates_from=24 resides_in=17>\n",
      "<Record name='Poland' originates_from=10 resides_in=44>\n",
      "<Record name='Hungary' originates_from=11 resides_in=43>\n",
      "<Record name='Uzbekistan' originates_from=40 resides_in=1>\n",
      "<Record name='Iceland' originates_from=0 resides_in=29>\n",
      "<Record name='Liberia' originates_from=52 resides_in=10>\n",
      "<Record name='Comoros' originates_from=8 resides_in=0>\n",
      "<Record name='Senegal' originates_from=40 resides_in=28>\n",
      "<Record name='Qatar' originates_from=3 resides_in=6>\n",
      "<Record name='Bulgaria' originates_from=13 resides_in=32>\n",
      "<Record name='Panama' originates_from=5 resides_in=31>\n",
      "<Record name='Pakistan' originates_from=83 resides_in=13>\n",
      "<Record name='Nigeria' originates_from=81 resides_in=22>\n",
      "<Record name='Indonesia' originates_from=18 resides_in=33>\n",
      "<Record name='Lithuania' originates_from=10 resides_in=20>\n",
      "<Record name='Ecuador' originates_from=23 resides_in=50>\n",
      "<Record name='Sri Lanka' originates_from=62 resides_in=10>\n",
      "<Record name='Turks and Caicos Islands' originates_from=2 resides_in=0>\n",
      "<Record name='Azerbaijan' originates_from=36 resides_in=10>\n",
      "<Record name='Fiji' originates_from=6 resides_in=2>\n",
      "<Record name='Mauritania' originates_from=25 resides_in=28>\n",
      "<Record name='Grenada' originates_from=3 resides_in=0>\n",
      "<Record name='Cyprus' originates_from=2 resides_in=51>\n",
      "<Record name='Sao Tome and Principe' originates_from=2 resides_in=0>\n",
      "<Record name='Thailand' originates_from=14 resides_in=31>\n",
      "<Record name='Burundi' originates_from=61 resides_in=10>\n",
      "<Record name='Greece' originates_from=5 resides_in=77>\n",
      "<Record name='Russian Federation' originates_from=59 resides_in=32>\n",
      "<Record name='Dominica' originates_from=5 resides_in=0>\n",
      "<Record name='Singapore' originates_from=5 resides_in=0>\n",
      "<Record name='Suriname' originates_from=6 resides_in=2>\n",
      "<Record name='Peru' originates_from=22 resides_in=34>\n",
      "<Record name='Belgium' originates_from=3 resides_in=104>\n",
      "<Record name='Brazil' originates_from=18 resides_in=116>\n",
      "<Record name='Spain' originates_from=8 resides_in=93>\n",
      "<Record name='Paraguay' originates_from=9 resides_in=10>\n",
      "<Record name='Mongolia' originates_from=23 resides_in=3>\n",
      "<Record name='Iraq' originates_from=99 resides_in=22>\n",
      "<Record name='Portugal' originates_from=5 resides_in=33>\n",
      "<Record name='Sweden' originates_from=4 resides_in=116>\n",
      "<Record name='Haiti' originates_from=22 resides_in=0>\n",
      "<Record name='Equatorial Guinea' originates_from=8 resides_in=0>\n",
      "<Record name='Bangladesh' originates_from=55 resides_in=3>\n",
      "<Record name=\"Cote d'Ivoire\" originates_from=71 resides_in=23>\n",
      "<Record name='Turkey' originates_from=86 resides_in=62>\n",
      "<Record name='Chad' originates_from=42 resides_in=20>\n",
      "<Record name='Luxembourg' originates_from=0 resides_in=51>\n",
      "<Record name='Sudan' originates_from=92 resides_in=20>\n",
      "<Record name='Maldives' originates_from=5 resides_in=0>\n",
      "<Record name='France' originates_from=5 resides_in=123>\n",
      "<Record name='Benin' originates_from=24 resides_in=17>\n",
      "<Record name='Kuwait' originates_from=25 resides_in=17>\n",
      "<Record name='Bahrain' originates_from=15 resides_in=3>\n",
      "<Record name='Brunei Darussalam' originates_from=1 resides_in=0>\n",
      "<Record name='Papua New Guinea' originates_from=1 resides_in=9>\n",
      "<Record name='Solomon Islands' originates_from=3 resides_in=0>\n",
      "<Record name='Somalia' originates_from=103 resides_in=14>\n",
      "<Record name='Nepal' originates_from=36 resides_in=11>\n",
      "<Record name='Austria' originates_from=3 resides_in=85>\n",
      "<Record name='Mozambique' originates_from=14 resides_in=12>\n",
      "<Record name='Uganda' originates_from=51 resides_in=18>\n",
      "<Record name='Cameroon' originates_from=71 resides_in=27>\n",
      "<Record name='Saudi Arabia' originates_from=24 resides_in=11>\n",
      "<Record name='Israel' originates_from=15 resides_in=44>\n",
      "<Record name='Latvia' originates_from=7 resides_in=18>\n",
      "<Record name='Cuba' originates_from=48 resides_in=9>\n",
      "<Record name='Myanmar' originates_from=42 resides_in=1>\n",
      "<Record name='Timor-Leste' originates_from=3 resides_in=0>\n",
      "<Record name='Seychelles' originates_from=3 resides_in=0>\n",
      "<Record name='Liechtenstein' originates_from=0 resides_in=13>\n",
      "<Record name='Montenegro' originates_from=12 resides_in=10>\n",
      "<Record name='Bhutan' originates_from=12 resides_in=0>\n",
      "<Record name='Madagascar' originates_from=10 resides_in=6>\n",
      "<Record name='Malaysia' originates_from=15 resides_in=41>\n",
      "<Record name='Germany' originates_from=8 resides_in=144>\n",
      "<Record name='Switzerland' originates_from=1 resides_in=101>\n",
      "<Record name='Tonga' originates_from=2 resides_in=0>\n",
      "<Record name='Guatemala' originates_from=22 resides_in=5>\n",
      "<Record name='Canada' originates_from=5 resides_in=166>\n",
      "<Record name='Guyana' originates_from=6 resides_in=3>\n",
      "<Record name='Gabon' originates_from=14 resides_in=8>\n",
      "<Record name='Costa Rica' originates_from=7 resides_in=37>\n",
      "<Record name='Argentina' originates_from=11 resides_in=62>\n",
      "<Record name='Libya' originates_from=52 resides_in=16>\n",
      "<Record name='Norway' originates_from=5 resides_in=79>\n",
      "<Record name='Mexico' originates_from=19 resides_in=48>\n",
      "<Record name='Uruguay' originates_from=7 resides_in=20>\n",
      "<Record name='Oman' originates_from=5 resides_in=3>\n",
      "<Record name='Cambodia' originates_from=16 resides_in=5>\n",
      "<Record name='Djibouti' originates_from=16 resides_in=9>\n",
      "<Record name='Belize' originates_from=3 resides_in=5>\n",
      "<Record name='Guinea-Bissau' originates_from=23 resides_in=9>\n",
      "<Record name='Finland' originates_from=2 resides_in=69>\n",
      "<Record name='Sierra Leone' originates_from=49 resides_in=3>\n",
      "<Record name='Ireland' originates_from=3 resides_in=91>\n",
      "<Record name='Kazakhstan' originates_from=31 resides_in=5>\n",
      "<Record name='Romania' originates_from=18 resides_in=38>\n",
      "<Record name='Morocco' originates_from=42 resides_in=32>\n",
      "<Record name='Colombia' originates_from=36 resides_in=19>\n",
      "<Record name='China' originates_from=51 resides_in=28>\n",
      "<Record name='South Sudan' originates_from=41 resides_in=8>\n",
      "<Record name='Malawi' originates_from=8 resides_in=9>\n",
      "<Record name='Vanuatu' originates_from=2 resides_in=0>\n",
      "<Record name='Jordan' originates_from=37 resides_in=34>\n",
      "<Record name='Kenya' originates_from=41 resides_in=27>\n",
      "<Record name='Afghanistan' originates_from=91 resides_in=5>\n",
      "<Record name='Marshall Islands' originates_from=1 resides_in=0>\n",
      "<Record name='Samoa' originates_from=1 resides_in=0>\n",
      "<Record name='Croatia' originates_from=17 resides_in=27>\n",
      "<Record name='Ghana' originates_from=49 resides_in=28>\n",
      "<Record name='Trinidad and Tobago' originates_from=5 resides_in=13>\n",
      "<Record name='Albania' originates_from=27 resides_in=9>\n",
      "<Record name='Honduras' originates_from=26 resides_in=4>\n",
      "<Record name='Tajikistan' originates_from=33 resides_in=1>\n",
      "<Record name='United Kingdom' originates_from=7 resides_in=134>\n",
      "<Record name='Cayman Islands' originates_from=1 resides_in=1>\n",
      "<Record name='Lebanon' originates_from=47 resides_in=37>\n",
      "<Record name='Burkina Faso' originates_from=24 resides_in=11>\n",
      "<Record name='Georgia' originates_from=39 resides_in=24>\n",
      "<Record name='Aruba' originates_from=0 resides_in=1>\n",
      "<Record name='Australia' originates_from=4 resides_in=132>\n",
      "<Record name='Bosnia and Herzegovina' originates_from=31 resides_in=14>\n",
      "<Record name='Eritrea' originates_from=84 resides_in=5>\n",
      "<Record name='Belarus' originates_from=31 resides_in=15>\n",
      "<Record name='Denmark' originates_from=3 resides_in=65>\n",
      "<Record name='Swaziland' originates_from=6 resides_in=11>\n",
      "<Record name='Guadeloupe' originates_from=1 resides_in=0>\n",
      "<Record name='Saint Vincent and the Grenadines' originates_from=3 resides_in=0>\n",
      "<Record name='Cura?' originates_from=1 resides_in=0>\n",
      "<Record name='French Guiana' originates_from=2 resides_in=0>\n",
      "<Record name='Viet Nam' originates_from=35 resides_in=0>\n",
      "<Record name='Syrian Arab Rep.' originates_from=114 resides_in=28>\n",
      "<Record name='Bahamas' originates_from=4 resides_in=2>\n",
      "<Record name='Slovakia' originates_from=6 resides_in=23>\n",
      "<Record name='Central African Rep.' originates_from=48 resides_in=16>\n",
      "<Record name='The former Yugoslav Republic of Macedonia' originates_from=22 resides_in=6>\n",
      "<Record name='Kyrgyzstan' originates_from=29 resides_in=6>\n",
      "<Record name='Gambia' originates_from=34 resides_in=9>\n",
      "<Record name='Niue' originates_from=1 resides_in=0>\n",
      "<Record name='Czech Rep.' originates_from=8 resides_in=50>\n",
      "<Record name='China, Macao SAR' originates_from=2 resides_in=0>\n",
      "<Record name='Serbia and Kosovo (S/RES/1244 (1999))' originates_from=40 resides_in=21>\n",
      "<Record name='China, Hong Kong SAR' originates_from=4 resides_in=6>\n",
      "<Record name='Iran (Islamic Rep. of)' originates_from=79 resides_in=7>\n",
      "<Record name='Rep. of Moldova' originates_from=26 resides_in=17>\n",
      "<Record name='Rep. of Korea' originates_from=8 resides_in=61>\n",
      "<Record name='Yemen' originates_from=77 resides_in=16>\n",
      "<Record name='Bolivia (Plurinational State of)' originates_from=18 resides_in=8>\n",
      "<Record name='Palestinian' originates_from=70 resides_in=0>\n",
      "<Record name='Congo' originates_from=70 resides_in=18>\n",
      "<Record name='Dominican Rep.' originates_from=16 resides_in=10>\n",
      "<Record name='Tibetan' originates_from=3 resides_in=0>\n",
      "<Record name=\"Lao People's Dem. Rep.\" originates_from=9 resides_in=0>\n",
      "<Record name='Dem. Rep. of the Congo' originates_from=95 resides_in=18>\n",
      "<Record name='Venezuela (Bolivarian Republic of)' originates_from=38 resides_in=13>\n",
      "<Record name='United Rep. of Tanzania' originates_from=28 resides_in=3>\n",
      "<Record name='Saint Kitts and Nevis' originates_from=3 resides_in=1>\n",
      "<Record name='United States of America' originates_from=20 resides_in=179>\n",
      "<Record name='Western Sahara' originates_from=12 resides_in=0>\n",
      "<Record name='Egypt' originates_from=58 resides_in=39>\n",
      "<Record name='Saint Lucia' originates_from=3 resides_in=0>\n",
      "<Record name=\"Dem. People's Rep. of Korea\" originates_from=14 resides_in=0>\n"
     ]
    }
   ],
   "source": [
    "year = 2017\n",
    "\n",
    "with driver.session() as session:\n",
    "    session.read_transaction(print_degree_centrality_given_year,year)"
   ]
  },
  {
   "cell_type": "code",
   "execution_count": null,
   "metadata": {},
   "outputs": [],
   "source": [
    "MATCH (u:User)\n",
    "RETURN u.id AS name,\n",
    "size((u)-[:FOLLOWS]->()) AS follows,\n",
    "size((u)<-[:FOLLOWS]-()) AS followers"
   ]
  }
 ],
 "metadata": {
  "kernelspec": {
   "display_name": "Python 3",
   "language": "python",
   "name": "python3"
  },
  "language_info": {
   "codemirror_mode": {
    "name": "ipython",
    "version": 3
   },
   "file_extension": ".py",
   "mimetype": "text/x-python",
   "name": "python",
   "nbconvert_exporter": "python",
   "pygments_lexer": "ipython3",
   "version": "3.7.3"
  }
 },
 "nbformat": 4,
 "nbformat_minor": 2
}
