{
 "cells": [
  {
   "cell_type": "markdown",
   "metadata": {},
   "source": [
    "# Data retrieval from HDX"
   ]
  },
  {
   "cell_type": "markdown",
   "metadata": {},
   "source": [
    "## Imports"
   ]
  },
  {
   "cell_type": "code",
   "execution_count": 1,
   "metadata": {
    "scrolled": true
   },
   "outputs": [],
   "source": [
    "from hdx.hdx_configuration import Configuration\n",
    "from hdx.data.dataset import Dataset\n",
    "from tqdm import tqdm"
   ]
  },
  {
   "cell_type": "markdown",
   "metadata": {},
   "source": [
    "### HDX API configuration"
   ]
  },
  {
   "cell_type": "code",
   "execution_count": 2,
   "metadata": {},
   "outputs": [
    {
     "data": {
      "text/plain": [
       "'https://data.humdata.org/'"
      ]
     },
     "execution_count": 2,
     "metadata": {},
     "output_type": "execute_result"
    }
   ],
   "source": [
    "Configuration.create(hdx_site='prod', user_agent='A_Quick_Example', hdx_read_only=True)"
   ]
  },
  {
   "cell_type": "markdown",
   "metadata": {},
   "source": [
    "Get a list of all datasets available in HDX:"
   ]
  },
  {
   "cell_type": "code",
   "execution_count": 3,
   "metadata": {
    "scrolled": true
   },
   "outputs": [],
   "source": [
    "list_datasets = Dataset.get_all_dataset_names()"
   ]
  },
  {
   "cell_type": "markdown",
   "metadata": {},
   "source": [
    "There are 12732 datasets"
   ]
  },
  {
   "cell_type": "code",
   "execution_count": 4,
   "metadata": {},
   "outputs": [
    {
     "data": {
      "text/plain": [
       "12732"
      ]
     },
     "execution_count": 4,
     "metadata": {},
     "output_type": "execute_result"
    }
   ],
   "source": [
    "len(list_datasets)"
   ]
  },
  {
   "cell_type": "markdown",
   "metadata": {},
   "source": [
    "Create a fuction that dowloads into a local file path all data files from a given list of dataset names of HDX:"
   ]
  },
  {
   "cell_type": "code",
   "execution_count": 5,
   "metadata": {
    "scrolled": true
   },
   "outputs": [],
   "source": [
    "def download_data_from_HDX(output_path, dataset_list):\n",
    "    \n",
    "    import os\n",
    "    \n",
    "    for element in tqdm(dataset_list):\n",
    "        \n",
    "        dst = Dataset.read_from_hdx(element)\n",
    "        rsc = dst.get_resources()\n",
    "        \n",
    "        file_path_name = output_path + element + '.' + rsc[0][\"format\"].lower()\n",
    "        \n",
    "        if os.path.exists(file_path_name):\n",
    "            print(\"Data from {0} is already in {1}\".format(element, output_path))\n",
    "            \n",
    "        else:\n",
    "            url_downloaded, path_to_downloaded_file = rsc[0].download(output_path)\n",
    "            os.rename(path_to_downloaded_file, file_path_name)\n",
    "            print(\"Data from {0} downloaded into {1}\".format(element, output_path))"
   ]
  },
  {
   "cell_type": "markdown",
   "metadata": {},
   "source": [
    "#### People of concern Resisding in a certain country"
   ]
  },
  {
   "cell_type": "markdown",
   "metadata": {},
   "source": [
    "Define a list with only those datasets that include in their name the string 'refugees-residing':"
   ]
  },
  {
   "cell_type": "code",
   "execution_count": 6,
   "metadata": {
    "scrolled": true
   },
   "outputs": [],
   "source": [
    "residing = [k for k in list_datasets if 'refugees-residing' in k]"
   ]
  },
  {
   "cell_type": "code",
   "execution_count": 7,
   "metadata": {},
   "outputs": [
    {
     "data": {
      "text/plain": [
       "194"
      ]
     },
     "execution_count": 7,
     "metadata": {},
     "output_type": "execute_result"
    }
   ],
   "source": [
    "len(residing)"
   ]
  },
  {
   "cell_type": "code",
   "execution_count": 8,
   "metadata": {},
   "outputs": [
    {
     "data": {
      "text/plain": [
       "['refugees-residing-abw',\n",
       " 'refugees-residing-afg',\n",
       " 'refugees-residing-ago',\n",
       " 'refugees-residing-alb',\n",
       " 'refugees-residing-ant']"
      ]
     },
     "execution_count": 8,
     "metadata": {},
     "output_type": "execute_result"
    }
   ],
   "source": [
    "residing[0:5]"
   ]
  },
  {
   "cell_type": "code",
   "execution_count": 9,
   "metadata": {
    "scrolled": true
   },
   "outputs": [
    {
     "name": "stderr",
     "output_type": "stream",
     "text": [
      "  1%|          | 2/194 [00:00<01:11,  2.69it/s]"
     ]
    },
    {
     "name": "stdout",
     "output_type": "stream",
     "text": [
      "Data from refugees-residing-abw is already in ../data/raw/residing/\n",
      "Data from refugees-residing-afg is already in ../data/raw/residing/\n"
     ]
    },
    {
     "name": "stderr",
     "output_type": "stream",
     "text": [
      "  2%|▏         | 4/194 [00:00<00:50,  3.77it/s]"
     ]
    },
    {
     "name": "stdout",
     "output_type": "stream",
     "text": [
      "Data from refugees-residing-ago is already in ../data/raw/residing/\n",
      "Data from refugees-residing-alb is already in ../data/raw/residing/\n"
     ]
    },
    {
     "name": "stderr",
     "output_type": "stream",
     "text": [
      "  3%|▎         | 6/194 [00:01<00:40,  4.69it/s]"
     ]
    },
    {
     "name": "stdout",
     "output_type": "stream",
     "text": [
      "Data from refugees-residing-ant is already in ../data/raw/residing/\n",
      "Data from refugees-residing-are is already in ../data/raw/residing/\n"
     ]
    },
    {
     "name": "stderr",
     "output_type": "stream",
     "text": [
      "  4%|▍         | 8/194 [00:01<00:34,  5.38it/s]"
     ]
    },
    {
     "name": "stdout",
     "output_type": "stream",
     "text": [
      "Data from refugees-residing-arg is already in ../data/raw/residing/\n",
      "Data from refugees-residing-arm is already in ../data/raw/residing/\n"
     ]
    },
    {
     "name": "stderr",
     "output_type": "stream",
     "text": [
      "  5%|▌         | 10/194 [00:01<00:32,  5.68it/s]"
     ]
    },
    {
     "name": "stdout",
     "output_type": "stream",
     "text": [
      "Data from refugees-residing-atg is already in ../data/raw/residing/\n",
      "Data from refugees-residing-aus is already in ../data/raw/residing/\n"
     ]
    },
    {
     "name": "stderr",
     "output_type": "stream",
     "text": [
      "  6%|▌         | 12/194 [00:02<00:31,  5.73it/s]"
     ]
    },
    {
     "name": "stdout",
     "output_type": "stream",
     "text": [
      "Data from refugees-residing-aut is already in ../data/raw/residing/\n",
      "Data from refugees-residing-aze is already in ../data/raw/residing/\n"
     ]
    },
    {
     "name": "stderr",
     "output_type": "stream",
     "text": [
      "  7%|▋         | 14/194 [00:02<00:30,  5.83it/s]"
     ]
    },
    {
     "name": "stdout",
     "output_type": "stream",
     "text": [
      "Data from refugees-residing-bdi is already in ../data/raw/residing/\n",
      "Data from refugees-residing-bel is already in ../data/raw/residing/\n"
     ]
    },
    {
     "name": "stderr",
     "output_type": "stream",
     "text": [
      "  8%|▊         | 16/194 [00:02<00:30,  5.91it/s]"
     ]
    },
    {
     "name": "stdout",
     "output_type": "stream",
     "text": [
      "Data from refugees-residing-ben is already in ../data/raw/residing/\n",
      "Data from refugees-residing-bes is already in ../data/raw/residing/\n"
     ]
    },
    {
     "name": "stderr",
     "output_type": "stream",
     "text": [
      "  9%|▉         | 18/194 [00:03<00:31,  5.61it/s]"
     ]
    },
    {
     "name": "stdout",
     "output_type": "stream",
     "text": [
      "Data from refugees-residing-bfa is already in ../data/raw/residing/\n",
      "Data from refugees-residing-bgd is already in ../data/raw/residing/\n"
     ]
    },
    {
     "name": "stderr",
     "output_type": "stream",
     "text": [
      " 10%|█         | 20/194 [00:03<00:31,  5.55it/s]"
     ]
    },
    {
     "name": "stdout",
     "output_type": "stream",
     "text": [
      "Data from refugees-residing-bgr is already in ../data/raw/residing/\n",
      "Data from refugees-residing-bhr is already in ../data/raw/residing/\n"
     ]
    },
    {
     "name": "stderr",
     "output_type": "stream",
     "text": [
      " 11%|█▏        | 22/194 [00:04<00:29,  5.93it/s]"
     ]
    },
    {
     "name": "stdout",
     "output_type": "stream",
     "text": [
      "Data from refugees-residing-bhs is already in ../data/raw/residing/\n",
      "Data from refugees-residing-bih is already in ../data/raw/residing/\n"
     ]
    },
    {
     "name": "stderr",
     "output_type": "stream",
     "text": [
      " 12%|█▏        | 24/194 [00:04<00:27,  6.22it/s]"
     ]
    },
    {
     "name": "stdout",
     "output_type": "stream",
     "text": [
      "Data from refugees-residing-blr is already in ../data/raw/residing/\n",
      "Data from refugees-residing-blz is already in ../data/raw/residing/\n"
     ]
    },
    {
     "name": "stderr",
     "output_type": "stream",
     "text": [
      " 13%|█▎        | 26/194 [00:04<00:26,  6.34it/s]"
     ]
    },
    {
     "name": "stdout",
     "output_type": "stream",
     "text": [
      "Data from refugees-residing-bol is already in ../data/raw/residing/\n",
      "Data from refugees-residing-bra is already in ../data/raw/residing/\n"
     ]
    },
    {
     "name": "stderr",
     "output_type": "stream",
     "text": [
      " 14%|█▍        | 28/194 [00:04<00:26,  6.21it/s]"
     ]
    },
    {
     "name": "stdout",
     "output_type": "stream",
     "text": [
      "Data from refugees-residing-brb is already in ../data/raw/residing/\n",
      "Data from refugees-residing-brn is already in ../data/raw/residing/\n"
     ]
    },
    {
     "name": "stderr",
     "output_type": "stream",
     "text": [
      " 15%|█▌        | 30/194 [00:05<00:25,  6.32it/s]"
     ]
    },
    {
     "name": "stdout",
     "output_type": "stream",
     "text": [
      "Data from refugees-residing-btn is already in ../data/raw/residing/\n",
      "Data from refugees-residing-bwa is already in ../data/raw/residing/\n"
     ]
    },
    {
     "name": "stderr",
     "output_type": "stream",
     "text": [
      " 16%|█▋        | 32/194 [00:05<00:25,  6.43it/s]"
     ]
    },
    {
     "name": "stdout",
     "output_type": "stream",
     "text": [
      "Data from refugees-residing-caf is already in ../data/raw/residing/\n",
      "Data from refugees-residing-can is already in ../data/raw/residing/\n"
     ]
    },
    {
     "name": "stderr",
     "output_type": "stream",
     "text": [
      " 18%|█▊        | 34/194 [00:05<00:24,  6.43it/s]"
     ]
    },
    {
     "name": "stdout",
     "output_type": "stream",
     "text": [
      "Data from refugees-residing-che is already in ../data/raw/residing/\n",
      "Data from refugees-residing-chl is already in ../data/raw/residing/\n"
     ]
    },
    {
     "name": "stderr",
     "output_type": "stream",
     "text": [
      " 19%|█▊        | 36/194 [00:06<00:24,  6.46it/s]"
     ]
    },
    {
     "name": "stdout",
     "output_type": "stream",
     "text": [
      "Data from refugees-residing-chn is already in ../data/raw/residing/\n",
      "Data from refugees-residing-civ is already in ../data/raw/residing/\n"
     ]
    },
    {
     "name": "stderr",
     "output_type": "stream",
     "text": [
      " 20%|█▉        | 38/194 [00:06<00:24,  6.46it/s]"
     ]
    },
    {
     "name": "stdout",
     "output_type": "stream",
     "text": [
      "Data from refugees-residing-cmr is already in ../data/raw/residing/\n",
      "Data from refugees-residing-cod is already in ../data/raw/residing/\n"
     ]
    },
    {
     "name": "stderr",
     "output_type": "stream",
     "text": [
      " 21%|██        | 40/194 [00:06<00:23,  6.50it/s]"
     ]
    },
    {
     "name": "stdout",
     "output_type": "stream",
     "text": [
      "Data from refugees-residing-cog is already in ../data/raw/residing/\n",
      "Data from refugees-residing-col is already in ../data/raw/residing/\n"
     ]
    },
    {
     "name": "stderr",
     "output_type": "stream",
     "text": [
      " 22%|██▏       | 42/194 [00:07<00:23,  6.46it/s]"
     ]
    },
    {
     "name": "stdout",
     "output_type": "stream",
     "text": [
      "Data from refugees-residing-com is already in ../data/raw/residing/\n",
      "Data from refugees-residing-cpv is already in ../data/raw/residing/\n"
     ]
    },
    {
     "name": "stderr",
     "output_type": "stream",
     "text": [
      " 23%|██▎       | 44/194 [00:07<00:23,  6.41it/s]"
     ]
    },
    {
     "name": "stdout",
     "output_type": "stream",
     "text": [
      "Data from refugees-residing-cri is already in ../data/raw/residing/\n",
      "Data from refugees-residing-cub is already in ../data/raw/residing/\n"
     ]
    },
    {
     "name": "stderr",
     "output_type": "stream",
     "text": [
      " 24%|██▎       | 46/194 [00:07<00:22,  6.48it/s]"
     ]
    },
    {
     "name": "stdout",
     "output_type": "stream",
     "text": [
      "Data from refugees-residing-cuw is already in ../data/raw/residing/\n",
      "Data from refugees-residing-cym is already in ../data/raw/residing/\n"
     ]
    },
    {
     "name": "stderr",
     "output_type": "stream",
     "text": [
      " 25%|██▍       | 48/194 [00:08<00:22,  6.42it/s]"
     ]
    },
    {
     "name": "stdout",
     "output_type": "stream",
     "text": [
      "Data from refugees-residing-cyp is already in ../data/raw/residing/\n",
      "Data from refugees-residing-cze is already in ../data/raw/residing/\n"
     ]
    },
    {
     "name": "stderr",
     "output_type": "stream",
     "text": [
      " 26%|██▌       | 50/194 [00:08<00:22,  6.39it/s]"
     ]
    },
    {
     "name": "stdout",
     "output_type": "stream",
     "text": [
      "Data from refugees-residing-deu is already in ../data/raw/residing/\n",
      "Data from refugees-residing-dji is already in ../data/raw/residing/\n"
     ]
    },
    {
     "name": "stderr",
     "output_type": "stream",
     "text": [
      " 27%|██▋       | 52/194 [00:08<00:22,  6.27it/s]"
     ]
    },
    {
     "name": "stdout",
     "output_type": "stream",
     "text": [
      "Data from refugees-residing-dnk is already in ../data/raw/residing/\n",
      "Data from refugees-residing-dom is already in ../data/raw/residing/\n"
     ]
    },
    {
     "name": "stderr",
     "output_type": "stream",
     "text": [
      " 28%|██▊       | 54/194 [00:09<00:22,  6.30it/s]"
     ]
    },
    {
     "name": "stdout",
     "output_type": "stream",
     "text": [
      "Data from refugees-residing-dza is already in ../data/raw/residing/\n",
      "Data from refugees-residing-ecu is already in ../data/raw/residing/\n"
     ]
    },
    {
     "name": "stderr",
     "output_type": "stream",
     "text": [
      " 29%|██▉       | 56/194 [00:09<00:21,  6.36it/s]"
     ]
    },
    {
     "name": "stdout",
     "output_type": "stream",
     "text": [
      "Data from refugees-residing-egy is already in ../data/raw/residing/\n",
      "Data from refugees-residing-eri is already in ../data/raw/residing/\n"
     ]
    },
    {
     "name": "stderr",
     "output_type": "stream",
     "text": [
      " 30%|██▉       | 58/194 [00:09<00:22,  6.07it/s]"
     ]
    },
    {
     "name": "stdout",
     "output_type": "stream",
     "text": [
      "Data from refugees-residing-esp is already in ../data/raw/residing/\n",
      "Data from refugees-residing-est is already in ../data/raw/residing/\n"
     ]
    },
    {
     "name": "stderr",
     "output_type": "stream",
     "text": [
      " 31%|███       | 60/194 [00:09<00:21,  6.13it/s]"
     ]
    },
    {
     "name": "stdout",
     "output_type": "stream",
     "text": [
      "Data from refugees-residing-eth is already in ../data/raw/residing/\n",
      "Data from refugees-residing-fin is already in ../data/raw/residing/\n"
     ]
    },
    {
     "name": "stderr",
     "output_type": "stream",
     "text": [
      " 32%|███▏      | 62/194 [00:10<00:21,  6.18it/s]"
     ]
    },
    {
     "name": "stdout",
     "output_type": "stream",
     "text": [
      "Data from refugees-residing-fji is already in ../data/raw/residing/\n",
      "Data from refugees-residing-fra is already in ../data/raw/residing/\n"
     ]
    },
    {
     "name": "stderr",
     "output_type": "stream",
     "text": [
      " 33%|███▎      | 64/194 [00:10<00:21,  6.15it/s]"
     ]
    },
    {
     "name": "stdout",
     "output_type": "stream",
     "text": [
      "Data from refugees-residing-fsm is already in ../data/raw/residing/\n",
      "Data from refugees-residing-gab is already in ../data/raw/residing/\n"
     ]
    },
    {
     "name": "stderr",
     "output_type": "stream",
     "text": [
      " 34%|███▍      | 66/194 [00:10<00:20,  6.10it/s]"
     ]
    },
    {
     "name": "stdout",
     "output_type": "stream",
     "text": [
      "Data from refugees-residing-gbr is already in ../data/raw/residing/\n",
      "Data from refugees-residing-geo is already in ../data/raw/residing/\n"
     ]
    },
    {
     "name": "stderr",
     "output_type": "stream",
     "text": [
      " 35%|███▌      | 68/194 [00:11<00:20,  6.18it/s]"
     ]
    },
    {
     "name": "stdout",
     "output_type": "stream",
     "text": [
      "Data from refugees-residing-gha is already in ../data/raw/residing/\n",
      "Data from refugees-residing-gin is already in ../data/raw/residing/\n"
     ]
    },
    {
     "name": "stderr",
     "output_type": "stream",
     "text": [
      " 36%|███▌      | 70/194 [00:11<00:20,  6.06it/s]"
     ]
    },
    {
     "name": "stdout",
     "output_type": "stream",
     "text": [
      "Data from refugees-residing-gmb is already in ../data/raw/residing/\n",
      "Data from refugees-residing-gnb is already in ../data/raw/residing/\n"
     ]
    },
    {
     "name": "stderr",
     "output_type": "stream",
     "text": [
      " 37%|███▋      | 72/194 [00:11<00:20,  6.03it/s]"
     ]
    },
    {
     "name": "stdout",
     "output_type": "stream",
     "text": [
      "Data from refugees-residing-gnq is already in ../data/raw/residing/\n",
      "Data from refugees-residing-grc is already in ../data/raw/residing/\n"
     ]
    },
    {
     "name": "stderr",
     "output_type": "stream",
     "text": [
      " 38%|███▊      | 74/194 [00:12<00:19,  6.00it/s]"
     ]
    },
    {
     "name": "stdout",
     "output_type": "stream",
     "text": [
      "Data from refugees-residing-grd is already in ../data/raw/residing/\n",
      "Data from refugees-residing-gtm is already in ../data/raw/residing/\n"
     ]
    },
    {
     "name": "stderr",
     "output_type": "stream",
     "text": [
      " 39%|███▉      | 76/194 [00:12<00:19,  6.18it/s]"
     ]
    },
    {
     "name": "stdout",
     "output_type": "stream",
     "text": [
      "Data from refugees-residing-guf is already in ../data/raw/residing/\n",
      "Data from refugees-residing-guy is already in ../data/raw/residing/\n"
     ]
    },
    {
     "name": "stderr",
     "output_type": "stream",
     "text": [
      " 40%|████      | 78/194 [00:12<00:19,  5.97it/s]"
     ]
    },
    {
     "name": "stdout",
     "output_type": "stream",
     "text": [
      "Data from refugees-residing-hkg is already in ../data/raw/residing/\n",
      "Data from refugees-residing-hnd is already in ../data/raw/residing/\n"
     ]
    },
    {
     "name": "stderr",
     "output_type": "stream",
     "text": [
      " 41%|████      | 80/194 [00:13<00:18,  6.13it/s]"
     ]
    },
    {
     "name": "stdout",
     "output_type": "stream",
     "text": [
      "Data from refugees-residing-hrv is already in ../data/raw/residing/\n",
      "Data from refugees-residing-hti is already in ../data/raw/residing/\n"
     ]
    },
    {
     "name": "stderr",
     "output_type": "stream",
     "text": [
      " 42%|████▏     | 82/194 [00:13<00:18,  6.20it/s]"
     ]
    },
    {
     "name": "stdout",
     "output_type": "stream",
     "text": [
      "Data from refugees-residing-hun is already in ../data/raw/residing/\n",
      "Data from refugees-residing-idn is already in ../data/raw/residing/\n"
     ]
    },
    {
     "name": "stderr",
     "output_type": "stream",
     "text": [
      " 43%|████▎     | 84/194 [00:13<00:17,  6.24it/s]"
     ]
    },
    {
     "name": "stdout",
     "output_type": "stream",
     "text": [
      "Data from refugees-residing-ind is already in ../data/raw/residing/\n",
      "Data from refugees-residing-irl is already in ../data/raw/residing/\n"
     ]
    },
    {
     "name": "stderr",
     "output_type": "stream",
     "text": [
      " 44%|████▍     | 86/194 [00:14<00:17,  6.29it/s]"
     ]
    },
    {
     "name": "stdout",
     "output_type": "stream",
     "text": [
      "Data from refugees-residing-irn is already in ../data/raw/residing/\n",
      "Data from refugees-residing-irq is already in ../data/raw/residing/\n"
     ]
    },
    {
     "name": "stderr",
     "output_type": "stream",
     "text": [
      " 45%|████▌     | 88/194 [00:14<00:17,  6.23it/s]"
     ]
    },
    {
     "name": "stdout",
     "output_type": "stream",
     "text": [
      "Data from refugees-residing-isl is already in ../data/raw/residing/\n",
      "Data from refugees-residing-isr is already in ../data/raw/residing/\n"
     ]
    },
    {
     "name": "stderr",
     "output_type": "stream",
     "text": [
      " 46%|████▋     | 90/194 [00:14<00:16,  6.25it/s]"
     ]
    },
    {
     "name": "stdout",
     "output_type": "stream",
     "text": [
      "Data from refugees-residing-ita is already in ../data/raw/residing/\n",
      "Data from refugees-residing-jam is already in ../data/raw/residing/\n"
     ]
    },
    {
     "name": "stderr",
     "output_type": "stream",
     "text": [
      " 47%|████▋     | 92/194 [00:15<00:16,  6.20it/s]"
     ]
    },
    {
     "name": "stdout",
     "output_type": "stream",
     "text": [
      "Data from refugees-residing-jor is already in ../data/raw/residing/\n",
      "Data from refugees-residing-jpn is already in ../data/raw/residing/\n"
     ]
    },
    {
     "name": "stderr",
     "output_type": "stream",
     "text": [
      " 48%|████▊     | 94/194 [00:15<00:16,  6.02it/s]"
     ]
    },
    {
     "name": "stdout",
     "output_type": "stream",
     "text": [
      "Data from refugees-residing-kaz is already in ../data/raw/residing/\n",
      "Data from refugees-residing-ken is already in ../data/raw/residing/\n"
     ]
    },
    {
     "name": "stderr",
     "output_type": "stream",
     "text": [
      " 49%|████▉     | 96/194 [00:15<00:17,  5.59it/s]"
     ]
    },
    {
     "name": "stdout",
     "output_type": "stream",
     "text": [
      "Data from refugees-residing-kgz is already in ../data/raw/residing/\n",
      "Data from refugees-residing-khm is already in ../data/raw/residing/\n"
     ]
    },
    {
     "name": "stderr",
     "output_type": "stream",
     "text": [
      " 51%|█████     | 98/194 [00:16<00:16,  5.91it/s]"
     ]
    },
    {
     "name": "stdout",
     "output_type": "stream",
     "text": [
      "Data from refugees-residing-kna is already in ../data/raw/residing/\n",
      "Data from refugees-residing-kor is already in ../data/raw/residing/\n"
     ]
    },
    {
     "name": "stderr",
     "output_type": "stream",
     "text": [
      " 52%|█████▏    | 100/194 [00:16<00:15,  6.15it/s]"
     ]
    },
    {
     "name": "stdout",
     "output_type": "stream",
     "text": [
      "Data from refugees-residing-kwt is already in ../data/raw/residing/\n",
      "Data from refugees-residing-lao is already in ../data/raw/residing/\n"
     ]
    },
    {
     "name": "stderr",
     "output_type": "stream",
     "text": [
      " 53%|█████▎    | 102/194 [00:16<00:14,  6.24it/s]"
     ]
    },
    {
     "name": "stdout",
     "output_type": "stream",
     "text": [
      "Data from refugees-residing-lbn is already in ../data/raw/residing/\n",
      "Data from refugees-residing-lbr is already in ../data/raw/residing/\n"
     ]
    },
    {
     "name": "stderr",
     "output_type": "stream",
     "text": [
      " 54%|█████▎    | 104/194 [00:17<00:14,  6.27it/s]"
     ]
    },
    {
     "name": "stdout",
     "output_type": "stream",
     "text": [
      "Data from refugees-residing-lby is already in ../data/raw/residing/\n",
      "Data from refugees-residing-lca is already in ../data/raw/residing/\n"
     ]
    },
    {
     "name": "stderr",
     "output_type": "stream",
     "text": [
      " 54%|█████▍    | 105/194 [00:17<00:14,  6.21it/s]"
     ]
    },
    {
     "name": "stdout",
     "output_type": "stream",
     "text": [
      "Data from refugees-residing-lie is already in ../data/raw/residing/\n"
     ]
    },
    {
     "name": "stderr",
     "output_type": "stream",
     "text": [
      " 55%|█████▌    | 107/194 [00:17<00:18,  4.69it/s]"
     ]
    },
    {
     "name": "stdout",
     "output_type": "stream",
     "text": [
      "Data from refugees-residing-lka is already in ../data/raw/residing/\n",
      "Data from refugees-residing-lso is already in ../data/raw/residing/\n"
     ]
    },
    {
     "name": "stderr",
     "output_type": "stream",
     "text": [
      " 56%|█████▌    | 109/194 [00:18<00:15,  5.39it/s]"
     ]
    },
    {
     "name": "stdout",
     "output_type": "stream",
     "text": [
      "Data from refugees-residing-ltu is already in ../data/raw/residing/\n",
      "Data from refugees-residing-lux is already in ../data/raw/residing/\n"
     ]
    },
    {
     "name": "stderr",
     "output_type": "stream",
     "text": [
      " 57%|█████▋    | 111/194 [00:18<00:14,  5.81it/s]"
     ]
    },
    {
     "name": "stdout",
     "output_type": "stream",
     "text": [
      "Data from refugees-residing-lva is already in ../data/raw/residing/\n",
      "Data from refugees-residing-mac is already in ../data/raw/residing/\n"
     ]
    },
    {
     "name": "stderr",
     "output_type": "stream",
     "text": [
      " 58%|█████▊    | 113/194 [00:18<00:13,  5.92it/s]"
     ]
    },
    {
     "name": "stdout",
     "output_type": "stream",
     "text": [
      "Data from refugees-residing-mar is already in ../data/raw/residing/\n",
      "Data from refugees-residing-mco is already in ../data/raw/residing/\n"
     ]
    },
    {
     "name": "stderr",
     "output_type": "stream",
     "text": [
      " 59%|█████▉    | 115/194 [00:19<00:12,  6.19it/s]"
     ]
    },
    {
     "name": "stdout",
     "output_type": "stream",
     "text": [
      "Data from refugees-residing-mda is already in ../data/raw/residing/\n",
      "Data from refugees-residing-mdg is already in ../data/raw/residing/\n"
     ]
    },
    {
     "name": "stderr",
     "output_type": "stream",
     "text": [
      " 60%|██████    | 117/194 [00:19<00:12,  6.29it/s]"
     ]
    },
    {
     "name": "stdout",
     "output_type": "stream",
     "text": [
      "Data from refugees-residing-mex is already in ../data/raw/residing/\n",
      "Data from refugees-residing-mkd is already in ../data/raw/residing/\n"
     ]
    },
    {
     "name": "stderr",
     "output_type": "stream",
     "text": [
      " 61%|██████▏   | 119/194 [00:19<00:12,  5.87it/s]"
     ]
    },
    {
     "name": "stdout",
     "output_type": "stream",
     "text": [
      "Data from refugees-residing-mli is already in ../data/raw/residing/\n",
      "Data from refugees-residing-mlt is already in ../data/raw/residing/\n"
     ]
    },
    {
     "name": "stderr",
     "output_type": "stream",
     "text": [
      " 62%|██████▏   | 121/194 [00:20<00:11,  6.09it/s]"
     ]
    },
    {
     "name": "stdout",
     "output_type": "stream",
     "text": [
      "Data from refugees-residing-mmr is already in ../data/raw/residing/\n",
      "Data from refugees-residing-mne is already in ../data/raw/residing/\n"
     ]
    },
    {
     "name": "stderr",
     "output_type": "stream",
     "text": [
      " 63%|██████▎   | 123/194 [00:20<00:11,  6.25it/s]"
     ]
    },
    {
     "name": "stdout",
     "output_type": "stream",
     "text": [
      "Data from refugees-residing-mng is already in ../data/raw/residing/\n",
      "Data from refugees-residing-moz is already in ../data/raw/residing/\n"
     ]
    },
    {
     "name": "stderr",
     "output_type": "stream",
     "text": [
      " 64%|██████▍   | 125/194 [00:20<00:10,  6.43it/s]"
     ]
    },
    {
     "name": "stdout",
     "output_type": "stream",
     "text": [
      "Data from refugees-residing-mrt is already in ../data/raw/residing/\n",
      "Data from refugees-residing-msr is already in ../data/raw/residing/\n"
     ]
    },
    {
     "name": "stderr",
     "output_type": "stream",
     "text": [
      " 65%|██████▌   | 127/194 [00:21<00:10,  6.43it/s]"
     ]
    },
    {
     "name": "stdout",
     "output_type": "stream",
     "text": [
      "Data from refugees-residing-mus is already in ../data/raw/residing/\n",
      "Data from refugees-residing-mwi is already in ../data/raw/residing/\n"
     ]
    },
    {
     "name": "stderr",
     "output_type": "stream",
     "text": [
      " 66%|██████▋   | 129/194 [00:21<00:09,  6.51it/s]"
     ]
    },
    {
     "name": "stdout",
     "output_type": "stream",
     "text": [
      "Data from refugees-residing-mys is already in ../data/raw/residing/\n",
      "Data from refugees-residing-nam is already in ../data/raw/residing/\n"
     ]
    },
    {
     "name": "stderr",
     "output_type": "stream",
     "text": [
      " 68%|██████▊   | 131/194 [00:21<00:09,  6.37it/s]"
     ]
    },
    {
     "name": "stdout",
     "output_type": "stream",
     "text": [
      "Data from refugees-residing-ner is already in ../data/raw/residing/\n",
      "Data from refugees-residing-nga is already in ../data/raw/residing/\n"
     ]
    },
    {
     "name": "stderr",
     "output_type": "stream",
     "text": [
      " 69%|██████▊   | 133/194 [00:22<00:09,  6.24it/s]"
     ]
    },
    {
     "name": "stdout",
     "output_type": "stream",
     "text": [
      "Data from refugees-residing-nic is already in ../data/raw/residing/\n",
      "Data from refugees-residing-nld is already in ../data/raw/residing/\n"
     ]
    },
    {
     "name": "stderr",
     "output_type": "stream",
     "text": [
      " 70%|██████▉   | 135/194 [00:22<00:09,  6.16it/s]"
     ]
    },
    {
     "name": "stdout",
     "output_type": "stream",
     "text": [
      "Data from refugees-residing-nor is already in ../data/raw/residing/\n",
      "Data from refugees-residing-npl is already in ../data/raw/residing/\n"
     ]
    },
    {
     "name": "stderr",
     "output_type": "stream",
     "text": [
      " 71%|███████   | 137/194 [00:22<00:09,  6.16it/s]"
     ]
    },
    {
     "name": "stdout",
     "output_type": "stream",
     "text": [
      "Data from refugees-residing-nru is already in ../data/raw/residing/\n",
      "Data from refugees-residing-nzl is already in ../data/raw/residing/\n"
     ]
    },
    {
     "name": "stderr",
     "output_type": "stream",
     "text": [
      " 72%|███████▏  | 139/194 [00:23<00:08,  6.24it/s]"
     ]
    },
    {
     "name": "stdout",
     "output_type": "stream",
     "text": [
      "Data from refugees-residing-omn is already in ../data/raw/residing/\n",
      "Data from refugees-residing-pak is already in ../data/raw/residing/\n"
     ]
    },
    {
     "name": "stderr",
     "output_type": "stream",
     "text": [
      " 73%|███████▎  | 141/194 [00:23<00:08,  6.30it/s]"
     ]
    },
    {
     "name": "stdout",
     "output_type": "stream",
     "text": [
      "Data from refugees-residing-pan is already in ../data/raw/residing/\n",
      "Data from refugees-residing-per is already in ../data/raw/residing/\n"
     ]
    },
    {
     "name": "stderr",
     "output_type": "stream",
     "text": [
      " 74%|███████▎  | 143/194 [00:23<00:08,  6.32it/s]"
     ]
    },
    {
     "name": "stdout",
     "output_type": "stream",
     "text": [
      "Data from refugees-residing-phl is already in ../data/raw/residing/\n",
      "Data from refugees-residing-plw is already in ../data/raw/residing/\n"
     ]
    },
    {
     "name": "stderr",
     "output_type": "stream",
     "text": [
      " 75%|███████▍  | 145/194 [00:23<00:07,  6.48it/s]"
     ]
    },
    {
     "name": "stdout",
     "output_type": "stream",
     "text": [
      "Data from refugees-residing-png is already in ../data/raw/residing/\n",
      "Data from refugees-residing-pol is already in ../data/raw/residing/\n"
     ]
    },
    {
     "name": "stderr",
     "output_type": "stream",
     "text": [
      " 76%|███████▌  | 147/194 [00:24<00:07,  6.49it/s]"
     ]
    },
    {
     "name": "stdout",
     "output_type": "stream",
     "text": [
      "Data from refugees-residing-prt is already in ../data/raw/residing/\n",
      "Data from refugees-residing-pry is already in ../data/raw/residing/\n"
     ]
    },
    {
     "name": "stderr",
     "output_type": "stream",
     "text": [
      " 77%|███████▋  | 149/194 [00:24<00:07,  6.42it/s]"
     ]
    },
    {
     "name": "stdout",
     "output_type": "stream",
     "text": [
      "Data from refugees-residing-pse is already in ../data/raw/residing/\n",
      "Data from refugees-residing-qat is already in ../data/raw/residing/\n"
     ]
    },
    {
     "name": "stderr",
     "output_type": "stream",
     "text": [
      " 78%|███████▊  | 151/194 [00:24<00:06,  6.47it/s]"
     ]
    },
    {
     "name": "stdout",
     "output_type": "stream",
     "text": [
      "Data from refugees-residing-rou is already in ../data/raw/residing/\n",
      "Data from refugees-residing-rus is already in ../data/raw/residing/\n"
     ]
    },
    {
     "name": "stderr",
     "output_type": "stream",
     "text": [
      " 79%|███████▉  | 153/194 [00:25<00:06,  6.58it/s]"
     ]
    },
    {
     "name": "stdout",
     "output_type": "stream",
     "text": [
      "Data from refugees-residing-rwa is already in ../data/raw/residing/\n",
      "Data from refugees-residing-sau is already in ../data/raw/residing/\n"
     ]
    },
    {
     "name": "stderr",
     "output_type": "stream",
     "text": [
      " 80%|███████▉  | 155/194 [00:25<00:06,  6.25it/s]"
     ]
    },
    {
     "name": "stdout",
     "output_type": "stream",
     "text": [
      "Data from refugees-residing-sdn is already in ../data/raw/residing/\n",
      "Data from refugees-residing-sen is already in ../data/raw/residing/\n"
     ]
    },
    {
     "name": "stderr",
     "output_type": "stream",
     "text": [
      " 81%|████████  | 157/194 [00:25<00:05,  6.18it/s]"
     ]
    },
    {
     "name": "stdout",
     "output_type": "stream",
     "text": [
      "Data from refugees-residing-sgp is already in ../data/raw/residing/\n",
      "Data from refugees-residing-slb is already in ../data/raw/residing/\n"
     ]
    },
    {
     "name": "stderr",
     "output_type": "stream",
     "text": [
      " 82%|████████▏ | 159/194 [00:26<00:05,  6.37it/s]"
     ]
    },
    {
     "name": "stdout",
     "output_type": "stream",
     "text": [
      "Data from refugees-residing-sle is already in ../data/raw/residing/\n",
      "Data from refugees-residing-slv is already in ../data/raw/residing/\n"
     ]
    },
    {
     "name": "stderr",
     "output_type": "stream",
     "text": [
      " 83%|████████▎ | 161/194 [00:26<00:05,  6.55it/s]"
     ]
    },
    {
     "name": "stdout",
     "output_type": "stream",
     "text": [
      "Data from refugees-residing-som is already in ../data/raw/residing/\n",
      "Data from refugees-residing-srb is already in ../data/raw/residing/\n"
     ]
    },
    {
     "name": "stderr",
     "output_type": "stream",
     "text": [
      " 84%|████████▍ | 163/194 [00:26<00:04,  6.64it/s]"
     ]
    },
    {
     "name": "stdout",
     "output_type": "stream",
     "text": [
      "Data from refugees-residing-ssd is already in ../data/raw/residing/\n",
      "Data from refugees-residing-sur is already in ../data/raw/residing/\n"
     ]
    },
    {
     "name": "stderr",
     "output_type": "stream",
     "text": [
      " 85%|████████▌ | 165/194 [00:27<00:04,  6.46it/s]"
     ]
    },
    {
     "name": "stdout",
     "output_type": "stream",
     "text": [
      "Data from refugees-residing-svk is already in ../data/raw/residing/\n",
      "Data from refugees-residing-svn is already in ../data/raw/residing/\n"
     ]
    },
    {
     "name": "stderr",
     "output_type": "stream",
     "text": [
      " 86%|████████▌ | 167/194 [00:27<00:04,  6.41it/s]"
     ]
    },
    {
     "name": "stdout",
     "output_type": "stream",
     "text": [
      "Data from refugees-residing-swe is already in ../data/raw/residing/\n",
      "Data from refugees-residing-swz is already in ../data/raw/residing/\n"
     ]
    },
    {
     "name": "stderr",
     "output_type": "stream",
     "text": [
      " 87%|████████▋ | 169/194 [00:27<00:03,  6.36it/s]"
     ]
    },
    {
     "name": "stdout",
     "output_type": "stream",
     "text": [
      "Data from refugees-residing-syr is already in ../data/raw/residing/\n",
      "Data from refugees-residing-tca is already in ../data/raw/residing/\n"
     ]
    },
    {
     "name": "stderr",
     "output_type": "stream",
     "text": [
      " 88%|████████▊ | 171/194 [00:28<00:03,  6.19it/s]"
     ]
    },
    {
     "name": "stdout",
     "output_type": "stream",
     "text": [
      "Data from refugees-residing-tcd is already in ../data/raw/residing/\n",
      "Data from refugees-residing-tgo is already in ../data/raw/residing/\n"
     ]
    },
    {
     "name": "stderr",
     "output_type": "stream",
     "text": [
      " 89%|████████▉ | 173/194 [00:28<00:03,  6.32it/s]"
     ]
    },
    {
     "name": "stdout",
     "output_type": "stream",
     "text": [
      "Data from refugees-residing-tha is already in ../data/raw/residing/\n",
      "Data from refugees-residing-tjk is already in ../data/raw/residing/\n"
     ]
    },
    {
     "name": "stderr",
     "output_type": "stream",
     "text": [
      " 90%|█████████ | 175/194 [00:28<00:02,  6.48it/s]"
     ]
    },
    {
     "name": "stdout",
     "output_type": "stream",
     "text": [
      "Data from refugees-residing-tkm is already in ../data/raw/residing/\n",
      "Data from refugees-residing-tls is already in ../data/raw/residing/\n"
     ]
    },
    {
     "name": "stderr",
     "output_type": "stream",
     "text": [
      " 91%|█████████ | 177/194 [00:28<00:02,  6.28it/s]"
     ]
    },
    {
     "name": "stdout",
     "output_type": "stream",
     "text": [
      "Data from refugees-residing-ton is already in ../data/raw/residing/\n",
      "Data from refugees-residing-tto is already in ../data/raw/residing/\n"
     ]
    },
    {
     "name": "stderr",
     "output_type": "stream",
     "text": [
      " 92%|█████████▏| 179/194 [00:29<00:02,  6.16it/s]"
     ]
    },
    {
     "name": "stdout",
     "output_type": "stream",
     "text": [
      "Data from refugees-residing-tun is already in ../data/raw/residing/\n",
      "Data from refugees-residing-tur is already in ../data/raw/residing/\n"
     ]
    },
    {
     "name": "stderr",
     "output_type": "stream",
     "text": [
      " 93%|█████████▎| 181/194 [00:29<00:02,  6.17it/s]"
     ]
    },
    {
     "name": "stdout",
     "output_type": "stream",
     "text": [
      "Data from refugees-residing-tza is already in ../data/raw/residing/\n",
      "Data from refugees-residing-uga is already in ../data/raw/residing/\n"
     ]
    },
    {
     "name": "stderr",
     "output_type": "stream",
     "text": [
      " 94%|█████████▍| 183/194 [00:29<00:01,  6.23it/s]"
     ]
    },
    {
     "name": "stdout",
     "output_type": "stream",
     "text": [
      "Data from refugees-residing-ukr is already in ../data/raw/residing/\n",
      "Data from refugees-residing-ury is already in ../data/raw/residing/\n"
     ]
    },
    {
     "name": "stderr",
     "output_type": "stream",
     "text": [
      " 95%|█████████▌| 185/194 [00:30<00:01,  6.03it/s]"
     ]
    },
    {
     "name": "stdout",
     "output_type": "stream",
     "text": [
      "Data from refugees-residing-usa is already in ../data/raw/residing/\n",
      "Data from refugees-residing-uzb is already in ../data/raw/residing/\n"
     ]
    },
    {
     "name": "stderr",
     "output_type": "stream",
     "text": [
      " 96%|█████████▋| 187/194 [00:30<00:01,  6.08it/s]"
     ]
    },
    {
     "name": "stdout",
     "output_type": "stream",
     "text": [
      "Data from refugees-residing-vct is already in ../data/raw/residing/\n",
      "Data from refugees-residing-ven is already in ../data/raw/residing/\n"
     ]
    },
    {
     "name": "stderr",
     "output_type": "stream",
     "text": [
      " 97%|█████████▋| 189/194 [00:30<00:00,  6.35it/s]"
     ]
    },
    {
     "name": "stdout",
     "output_type": "stream",
     "text": [
      "Data from refugees-residing-vgb is already in ../data/raw/residing/\n",
      "Data from refugees-residing-vnm is already in ../data/raw/residing/\n"
     ]
    },
    {
     "name": "stderr",
     "output_type": "stream",
     "text": [
      " 98%|█████████▊| 191/194 [00:31<00:00,  6.33it/s]"
     ]
    },
    {
     "name": "stdout",
     "output_type": "stream",
     "text": [
      "Data from refugees-residing-vut is already in ../data/raw/residing/\n",
      "Data from refugees-residing-yem is already in ../data/raw/residing/\n"
     ]
    },
    {
     "name": "stderr",
     "output_type": "stream",
     "text": [
      " 99%|█████████▉| 193/194 [00:31<00:00,  6.44it/s]"
     ]
    },
    {
     "name": "stdout",
     "output_type": "stream",
     "text": [
      "Data from refugees-residing-zaf is already in ../data/raw/residing/\n",
      "Data from refugees-residing-zmb is already in ../data/raw/residing/\n"
     ]
    },
    {
     "name": "stderr",
     "output_type": "stream",
     "text": [
      "100%|██████████| 194/194 [00:31<00:00,  6.43it/s]"
     ]
    },
    {
     "name": "stdout",
     "output_type": "stream",
     "text": [
      "Data from refugees-residing-zwe is already in ../data/raw/residing/\n"
     ]
    },
    {
     "name": "stderr",
     "output_type": "stream",
     "text": [
      "\n"
     ]
    }
   ],
   "source": [
    "download_data_from_HDX(\"../data/raw/residing/\", residing)"
   ]
  },
  {
   "cell_type": "markdown",
   "metadata": {},
   "source": [
    "#### People of concern Originating from a certain country"
   ]
  },
  {
   "cell_type": "markdown",
   "metadata": {},
   "source": [
    "Define a list with only those datasets that include in their name the string 'refugees-originating':"
   ]
  },
  {
   "cell_type": "code",
   "execution_count": null,
   "metadata": {
    "scrolled": true
   },
   "outputs": [],
   "source": [
    "originating = [k for k in list_datasets if 'refugees-originating' in k ]"
   ]
  },
  {
   "cell_type": "code",
   "execution_count": null,
   "metadata": {},
   "outputs": [],
   "source": [
    "len(originating)"
   ]
  },
  {
   "cell_type": "code",
   "execution_count": null,
   "metadata": {},
   "outputs": [],
   "source": [
    "originating[0:5]"
   ]
  },
  {
   "cell_type": "code",
   "execution_count": null,
   "metadata": {
    "scrolled": true
   },
   "outputs": [],
   "source": [
    "download_data_from_HDX(\"../data/raw/originating/\", originating)"
   ]
  },
  {
   "cell_type": "markdown",
   "metadata": {},
   "source": [
    "#### World Bank social and economic indicators for all countries"
   ]
  },
  {
   "cell_type": "markdown",
   "metadata": {},
   "source": [
    "Define a list with only those datasets that include in their name the string 'world-bank-indicators-for':"
   ]
  },
  {
   "cell_type": "code",
   "execution_count": null,
   "metadata": {
    "scrolled": true
   },
   "outputs": [],
   "source": [
    "indicators = [k for k in list_datasets if 'world-bank-indicators-for' in k]\n",
    "indicators = [k for k in indicators if 'showcase' not in k]"
   ]
  },
  {
   "cell_type": "code",
   "execution_count": null,
   "metadata": {},
   "outputs": [],
   "source": [
    "len(indicators)"
   ]
  },
  {
   "cell_type": "code",
   "execution_count": null,
   "metadata": {},
   "outputs": [],
   "source": [
    "indicators[0:5]"
   ]
  },
  {
   "cell_type": "code",
   "execution_count": null,
   "metadata": {
    "scrolled": true
   },
   "outputs": [],
   "source": [
    "download_data_from_HDX(\"../data/raw/indicators/\", indicators)"
   ]
  },
  {
   "cell_type": "code",
   "execution_count": null,
   "metadata": {},
   "outputs": [],
   "source": []
  },
  {
   "cell_type": "code",
   "execution_count": null,
   "metadata": {},
   "outputs": [],
   "source": []
  },
  {
   "cell_type": "code",
   "execution_count": null,
   "metadata": {},
   "outputs": [],
   "source": []
  }
 ],
 "metadata": {
  "kernelspec": {
   "display_name": "Python 3",
   "language": "python",
   "name": "python3"
  },
  "language_info": {
   "codemirror_mode": {
    "name": "ipython",
    "version": 3
   },
   "file_extension": ".py",
   "mimetype": "text/x-python",
   "name": "python",
   "nbconvert_exporter": "python",
   "pygments_lexer": "ipython3",
   "version": "3.7.3"
  }
 },
 "nbformat": 4,
 "nbformat_minor": 2
}
